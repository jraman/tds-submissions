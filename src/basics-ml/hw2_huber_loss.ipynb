{
 "cells": [
  {
   "cell_type": "markdown",
   "metadata": {},
   "source": [
    "# Gradient Descent--Huber Loss\n",
    "### Author: Jayanth Raman\n",
    "\n",
    "**Date: 10 Dec 2019**\n",
    "\n",
    "HomeWork2 of Neural Network Basics, Tokyo DataScience"
   ]
  },
  {
   "cell_type": "markdown",
   "metadata": {},
   "source": [
    "# Huber Loss\n",
    "Point-wise Huber loss is defined piecewise by:\n",
    "$$\n",
    "L_\\gamma (e_i) = \n",
    "\\begin{cases}\n",
    " e_i^2                   & \\text{for } |e_i| \\le \\gamma, \\quad \\gamma > 0\\\\\n",
    " \\gamma (2 |e_i| - \\gamma), & \\text{otherwise.}\n",
    "\\end{cases}\n",
    "$$\n",
    "where, $\\gamma > 0$ is a threshold and it defines the point where the Huber loss changes from a quadratic to a linear function or vice versa.  And $e_i$ are the individual data points.\n",
    "\n",
    "The overall Huber loss is the average:\n",
    "$$\n",
    "L_\\gamma (e) = \\frac{1}{M} \\sum_{i=1}^{M} L_\\gamma (e_i)\n",
    "$$\n",
    "for $M$ points of $e_i$.\n",
    "\n",
    "When $e$ is the error, $e = \\hat{y} - y$, then the point-wise loss is\n",
    "$$\n",
    "L_\\gamma (y_i, \\hat{y_i}) = \n",
    "\\begin{cases}\n",
    " (\\hat{y_i} - y_i)^2                   & \\text{for } |\\hat{y_i} - y_i| \\le \\gamma, \\quad \\gamma > 0\\\\\n",
    " \\gamma (2 |\\hat{y_i} - y_i| - \\gamma), & \\text{otherwise.}\n",
    "\\end{cases}\n",
    "$$\n",
    "where, $\\hat{y}$ is the prediction of $y$.\n",
    "\n",
    "And the overall Huber loss is the average\n",
    "$$\n",
    "L_\\gamma (y, \\hat{y}) = \\frac{1}{M} \\sum_{i=1}^{M} L_\\gamma (y_i, \\hat{y_i})\n",
    "$$\n",
    "\n",
    "[From [Wikipedia](https://en.wikipedia.org/wiki/Huber_loss)]"
   ]
  },
  {
   "cell_type": "markdown",
   "metadata": {},
   "source": [
    "# Summary\n",
    "We generated synthetic data with a few outliers.  Then, we fit two models:\n",
    " * One with a MSE-loss function\n",
    " * Another with a Huber-loss function\n",
    "\n",
    "The Huber-loss model outperformed the MSE-loss model.  We calculated the MSE-loss for the resulting models.  The loss for the Huber-loss model was 0.1342 and the loss for the MSE-loss model was 0.2467.\n",
    "\n",
    "We also ran the model on the same synthetic data, but suppressing the outliers.  Both models were similar and both had an MSE-loss of approximately 0.1170.\n"
   ]
  },
  {
   "cell_type": "markdown",
   "metadata": {},
   "source": [
    "# Calculations and Observations"
   ]
  },
  {
   "cell_type": "code",
   "execution_count": 1,
   "metadata": {},
   "outputs": [
    {
     "data": {
      "text/html": [
       "\n",
       "    <div class=\"bk-root\">\n",
       "        <a href=\"https://bokeh.org\" target=\"_blank\" class=\"bk-logo bk-logo-small bk-logo-notebook\"></a>\n",
       "        <span id=\"1001\">Loading BokehJS ...</span>\n",
       "    </div>"
      ]
     },
     "metadata": {},
     "output_type": "display_data"
    },
    {
     "data": {
      "application/javascript": [
       "\n",
       "(function(root) {\n",
       "  function now() {\n",
       "    return new Date();\n",
       "  }\n",
       "\n",
       "  var force = true;\n",
       "\n",
       "  if (typeof root._bokeh_onload_callbacks === \"undefined\" || force === true) {\n",
       "    root._bokeh_onload_callbacks = [];\n",
       "    root._bokeh_is_loading = undefined;\n",
       "  }\n",
       "\n",
       "  var JS_MIME_TYPE = 'application/javascript';\n",
       "  var HTML_MIME_TYPE = 'text/html';\n",
       "  var EXEC_MIME_TYPE = 'application/vnd.bokehjs_exec.v0+json';\n",
       "  var CLASS_NAME = 'output_bokeh rendered_html';\n",
       "\n",
       "  /**\n",
       "   * Render data to the DOM node\n",
       "   */\n",
       "  function render(props, node) {\n",
       "    var script = document.createElement(\"script\");\n",
       "    node.appendChild(script);\n",
       "  }\n",
       "\n",
       "  /**\n",
       "   * Handle when an output is cleared or removed\n",
       "   */\n",
       "  function handleClearOutput(event, handle) {\n",
       "    var cell = handle.cell;\n",
       "\n",
       "    var id = cell.output_area._bokeh_element_id;\n",
       "    var server_id = cell.output_area._bokeh_server_id;\n",
       "    // Clean up Bokeh references\n",
       "    if (id != null && id in Bokeh.index) {\n",
       "      Bokeh.index[id].model.document.clear();\n",
       "      delete Bokeh.index[id];\n",
       "    }\n",
       "\n",
       "    if (server_id !== undefined) {\n",
       "      // Clean up Bokeh references\n",
       "      var cmd = \"from bokeh.io.state import curstate; print(curstate().uuid_to_server['\" + server_id + \"'].get_sessions()[0].document.roots[0]._id)\";\n",
       "      cell.notebook.kernel.execute(cmd, {\n",
       "        iopub: {\n",
       "          output: function(msg) {\n",
       "            var id = msg.content.text.trim();\n",
       "            if (id in Bokeh.index) {\n",
       "              Bokeh.index[id].model.document.clear();\n",
       "              delete Bokeh.index[id];\n",
       "            }\n",
       "          }\n",
       "        }\n",
       "      });\n",
       "      // Destroy server and session\n",
       "      var cmd = \"import bokeh.io.notebook as ion; ion.destroy_server('\" + server_id + \"')\";\n",
       "      cell.notebook.kernel.execute(cmd);\n",
       "    }\n",
       "  }\n",
       "\n",
       "  /**\n",
       "   * Handle when a new output is added\n",
       "   */\n",
       "  function handleAddOutput(event, handle) {\n",
       "    var output_area = handle.output_area;\n",
       "    var output = handle.output;\n",
       "\n",
       "    // limit handleAddOutput to display_data with EXEC_MIME_TYPE content only\n",
       "    if ((output.output_type != \"display_data\") || (!output.data.hasOwnProperty(EXEC_MIME_TYPE))) {\n",
       "      return\n",
       "    }\n",
       "\n",
       "    var toinsert = output_area.element.find(\".\" + CLASS_NAME.split(' ')[0]);\n",
       "\n",
       "    if (output.metadata[EXEC_MIME_TYPE][\"id\"] !== undefined) {\n",
       "      toinsert[toinsert.length - 1].firstChild.textContent = output.data[JS_MIME_TYPE];\n",
       "      // store reference to embed id on output_area\n",
       "      output_area._bokeh_element_id = output.metadata[EXEC_MIME_TYPE][\"id\"];\n",
       "    }\n",
       "    if (output.metadata[EXEC_MIME_TYPE][\"server_id\"] !== undefined) {\n",
       "      var bk_div = document.createElement(\"div\");\n",
       "      bk_div.innerHTML = output.data[HTML_MIME_TYPE];\n",
       "      var script_attrs = bk_div.children[0].attributes;\n",
       "      for (var i = 0; i < script_attrs.length; i++) {\n",
       "        toinsert[toinsert.length - 1].firstChild.setAttribute(script_attrs[i].name, script_attrs[i].value);\n",
       "      }\n",
       "      // store reference to server id on output_area\n",
       "      output_area._bokeh_server_id = output.metadata[EXEC_MIME_TYPE][\"server_id\"];\n",
       "    }\n",
       "  }\n",
       "\n",
       "  function register_renderer(events, OutputArea) {\n",
       "\n",
       "    function append_mime(data, metadata, element) {\n",
       "      // create a DOM node to render to\n",
       "      var toinsert = this.create_output_subarea(\n",
       "        metadata,\n",
       "        CLASS_NAME,\n",
       "        EXEC_MIME_TYPE\n",
       "      );\n",
       "      this.keyboard_manager.register_events(toinsert);\n",
       "      // Render to node\n",
       "      var props = {data: data, metadata: metadata[EXEC_MIME_TYPE]};\n",
       "      render(props, toinsert[toinsert.length - 1]);\n",
       "      element.append(toinsert);\n",
       "      return toinsert\n",
       "    }\n",
       "\n",
       "    /* Handle when an output is cleared or removed */\n",
       "    events.on('clear_output.CodeCell', handleClearOutput);\n",
       "    events.on('delete.Cell', handleClearOutput);\n",
       "\n",
       "    /* Handle when a new output is added */\n",
       "    events.on('output_added.OutputArea', handleAddOutput);\n",
       "\n",
       "    /**\n",
       "     * Register the mime type and append_mime function with output_area\n",
       "     */\n",
       "    OutputArea.prototype.register_mime_type(EXEC_MIME_TYPE, append_mime, {\n",
       "      /* Is output safe? */\n",
       "      safe: true,\n",
       "      /* Index of renderer in `output_area.display_order` */\n",
       "      index: 0\n",
       "    });\n",
       "  }\n",
       "\n",
       "  // register the mime type if in Jupyter Notebook environment and previously unregistered\n",
       "  if (root.Jupyter !== undefined) {\n",
       "    var events = require('base/js/events');\n",
       "    var OutputArea = require('notebook/js/outputarea').OutputArea;\n",
       "\n",
       "    if (OutputArea.prototype.mime_types().indexOf(EXEC_MIME_TYPE) == -1) {\n",
       "      register_renderer(events, OutputArea);\n",
       "    }\n",
       "  }\n",
       "\n",
       "  \n",
       "  if (typeof (root._bokeh_timeout) === \"undefined\" || force === true) {\n",
       "    root._bokeh_timeout = Date.now() + 5000;\n",
       "    root._bokeh_failed_load = false;\n",
       "  }\n",
       "\n",
       "  var NB_LOAD_WARNING = {'data': {'text/html':\n",
       "     \"<div style='background-color: #fdd'>\\n\"+\n",
       "     \"<p>\\n\"+\n",
       "     \"BokehJS does not appear to have successfully loaded. If loading BokehJS from CDN, this \\n\"+\n",
       "     \"may be due to a slow or bad network connection. Possible fixes:\\n\"+\n",
       "     \"</p>\\n\"+\n",
       "     \"<ul>\\n\"+\n",
       "     \"<li>re-rerun `output_notebook()` to attempt to load from CDN again, or</li>\\n\"+\n",
       "     \"<li>use INLINE resources instead, as so:</li>\\n\"+\n",
       "     \"</ul>\\n\"+\n",
       "     \"<code>\\n\"+\n",
       "     \"from bokeh.resources import INLINE\\n\"+\n",
       "     \"output_notebook(resources=INLINE)\\n\"+\n",
       "     \"</code>\\n\"+\n",
       "     \"</div>\"}};\n",
       "\n",
       "  function display_loaded() {\n",
       "    var el = document.getElementById(\"1001\");\n",
       "    if (el != null) {\n",
       "      el.textContent = \"BokehJS is loading...\";\n",
       "    }\n",
       "    if (root.Bokeh !== undefined) {\n",
       "      if (el != null) {\n",
       "        el.textContent = \"BokehJS \" + root.Bokeh.version + \" successfully loaded.\";\n",
       "      }\n",
       "    } else if (Date.now() < root._bokeh_timeout) {\n",
       "      setTimeout(display_loaded, 100)\n",
       "    }\n",
       "  }\n",
       "\n",
       "\n",
       "  function run_callbacks() {\n",
       "    try {\n",
       "      root._bokeh_onload_callbacks.forEach(function(callback) {\n",
       "        if (callback != null)\n",
       "          callback();\n",
       "      });\n",
       "    } finally {\n",
       "      delete root._bokeh_onload_callbacks\n",
       "    }\n",
       "    console.debug(\"Bokeh: all callbacks have finished\");\n",
       "  }\n",
       "\n",
       "  function load_libs(css_urls, js_urls, callback) {\n",
       "    if (css_urls == null) css_urls = [];\n",
       "    if (js_urls == null) js_urls = [];\n",
       "\n",
       "    root._bokeh_onload_callbacks.push(callback);\n",
       "    if (root._bokeh_is_loading > 0) {\n",
       "      console.debug(\"Bokeh: BokehJS is being loaded, scheduling callback at\", now());\n",
       "      return null;\n",
       "    }\n",
       "    if (js_urls == null || js_urls.length === 0) {\n",
       "      run_callbacks();\n",
       "      return null;\n",
       "    }\n",
       "    console.debug(\"Bokeh: BokehJS not loaded, scheduling load and callback at\", now());\n",
       "    root._bokeh_is_loading = css_urls.length + js_urls.length;\n",
       "\n",
       "    function on_load() {\n",
       "      root._bokeh_is_loading--;\n",
       "      if (root._bokeh_is_loading === 0) {\n",
       "        console.debug(\"Bokeh: all BokehJS libraries/stylesheets loaded\");\n",
       "        run_callbacks()\n",
       "      }\n",
       "    }\n",
       "\n",
       "    function on_error() {\n",
       "      console.error(\"failed to load \" + url);\n",
       "    }\n",
       "\n",
       "    for (var i = 0; i < css_urls.length; i++) {\n",
       "      var url = css_urls[i];\n",
       "      const element = document.createElement(\"link\");\n",
       "      element.onload = on_load;\n",
       "      element.onerror = on_error;\n",
       "      element.rel = \"stylesheet\";\n",
       "      element.type = \"text/css\";\n",
       "      element.href = url;\n",
       "      console.debug(\"Bokeh: injecting link tag for BokehJS stylesheet: \", url);\n",
       "      document.body.appendChild(element);\n",
       "    }\n",
       "\n",
       "    for (var i = 0; i < js_urls.length; i++) {\n",
       "      var url = js_urls[i];\n",
       "      var element = document.createElement('script');\n",
       "      element.onload = on_load;\n",
       "      element.onerror = on_error;\n",
       "      element.async = false;\n",
       "      element.src = url;\n",
       "      console.debug(\"Bokeh: injecting script tag for BokehJS library: \", url);\n",
       "      document.head.appendChild(element);\n",
       "    }\n",
       "  };var element = document.getElementById(\"1001\");\n",
       "  if (element == null) {\n",
       "    console.error(\"Bokeh: ERROR: autoload.js configured with elementid '1001' but no matching script tag was found. \")\n",
       "    return false;\n",
       "  }\n",
       "\n",
       "  function inject_raw_css(css) {\n",
       "    const element = document.createElement(\"style\");\n",
       "    element.appendChild(document.createTextNode(css));\n",
       "    document.body.appendChild(element);\n",
       "  }\n",
       "\n",
       "  \n",
       "  var js_urls = [\"https://cdn.pydata.org/bokeh/release/bokeh-1.4.0.min.js\", \"https://cdn.pydata.org/bokeh/release/bokeh-widgets-1.4.0.min.js\", \"https://cdn.pydata.org/bokeh/release/bokeh-tables-1.4.0.min.js\", \"https://cdn.pydata.org/bokeh/release/bokeh-gl-1.4.0.min.js\"];\n",
       "  var css_urls = [];\n",
       "  \n",
       "\n",
       "  var inline_js = [\n",
       "    function(Bokeh) {\n",
       "      Bokeh.set_log_level(\"info\");\n",
       "    },\n",
       "    function(Bokeh) {\n",
       "    \n",
       "    \n",
       "    }\n",
       "  ];\n",
       "\n",
       "  function run_inline_js() {\n",
       "    \n",
       "    if (root.Bokeh !== undefined || force === true) {\n",
       "      \n",
       "    for (var i = 0; i < inline_js.length; i++) {\n",
       "      inline_js[i].call(root, root.Bokeh);\n",
       "    }\n",
       "    if (force === true) {\n",
       "        display_loaded();\n",
       "      }} else if (Date.now() < root._bokeh_timeout) {\n",
       "      setTimeout(run_inline_js, 100);\n",
       "    } else if (!root._bokeh_failed_load) {\n",
       "      console.log(\"Bokeh: BokehJS failed to load within specified timeout.\");\n",
       "      root._bokeh_failed_load = true;\n",
       "    } else if (force !== true) {\n",
       "      var cell = $(document.getElementById(\"1001\")).parents('.cell').data().cell;\n",
       "      cell.output_area.append_execute_result(NB_LOAD_WARNING)\n",
       "    }\n",
       "\n",
       "  }\n",
       "\n",
       "  if (root._bokeh_is_loading === 0) {\n",
       "    console.debug(\"Bokeh: BokehJS loaded, going straight to plotting\");\n",
       "    run_inline_js();\n",
       "  } else {\n",
       "    load_libs(css_urls, js_urls, function() {\n",
       "      console.debug(\"Bokeh: BokehJS plotting callback run at\", now());\n",
       "      run_inline_js();\n",
       "    });\n",
       "  }\n",
       "}(window));"
      ],
      "application/vnd.bokehjs_load.v0+json": "\n(function(root) {\n  function now() {\n    return new Date();\n  }\n\n  var force = true;\n\n  if (typeof root._bokeh_onload_callbacks === \"undefined\" || force === true) {\n    root._bokeh_onload_callbacks = [];\n    root._bokeh_is_loading = undefined;\n  }\n\n  \n\n  \n  if (typeof (root._bokeh_timeout) === \"undefined\" || force === true) {\n    root._bokeh_timeout = Date.now() + 5000;\n    root._bokeh_failed_load = false;\n  }\n\n  var NB_LOAD_WARNING = {'data': {'text/html':\n     \"<div style='background-color: #fdd'>\\n\"+\n     \"<p>\\n\"+\n     \"BokehJS does not appear to have successfully loaded. If loading BokehJS from CDN, this \\n\"+\n     \"may be due to a slow or bad network connection. Possible fixes:\\n\"+\n     \"</p>\\n\"+\n     \"<ul>\\n\"+\n     \"<li>re-rerun `output_notebook()` to attempt to load from CDN again, or</li>\\n\"+\n     \"<li>use INLINE resources instead, as so:</li>\\n\"+\n     \"</ul>\\n\"+\n     \"<code>\\n\"+\n     \"from bokeh.resources import INLINE\\n\"+\n     \"output_notebook(resources=INLINE)\\n\"+\n     \"</code>\\n\"+\n     \"</div>\"}};\n\n  function display_loaded() {\n    var el = document.getElementById(\"1001\");\n    if (el != null) {\n      el.textContent = \"BokehJS is loading...\";\n    }\n    if (root.Bokeh !== undefined) {\n      if (el != null) {\n        el.textContent = \"BokehJS \" + root.Bokeh.version + \" successfully loaded.\";\n      }\n    } else if (Date.now() < root._bokeh_timeout) {\n      setTimeout(display_loaded, 100)\n    }\n  }\n\n\n  function run_callbacks() {\n    try {\n      root._bokeh_onload_callbacks.forEach(function(callback) {\n        if (callback != null)\n          callback();\n      });\n    } finally {\n      delete root._bokeh_onload_callbacks\n    }\n    console.debug(\"Bokeh: all callbacks have finished\");\n  }\n\n  function load_libs(css_urls, js_urls, callback) {\n    if (css_urls == null) css_urls = [];\n    if (js_urls == null) js_urls = [];\n\n    root._bokeh_onload_callbacks.push(callback);\n    if (root._bokeh_is_loading > 0) {\n      console.debug(\"Bokeh: BokehJS is being loaded, scheduling callback at\", now());\n      return null;\n    }\n    if (js_urls == null || js_urls.length === 0) {\n      run_callbacks();\n      return null;\n    }\n    console.debug(\"Bokeh: BokehJS not loaded, scheduling load and callback at\", now());\n    root._bokeh_is_loading = css_urls.length + js_urls.length;\n\n    function on_load() {\n      root._bokeh_is_loading--;\n      if (root._bokeh_is_loading === 0) {\n        console.debug(\"Bokeh: all BokehJS libraries/stylesheets loaded\");\n        run_callbacks()\n      }\n    }\n\n    function on_error() {\n      console.error(\"failed to load \" + url);\n    }\n\n    for (var i = 0; i < css_urls.length; i++) {\n      var url = css_urls[i];\n      const element = document.createElement(\"link\");\n      element.onload = on_load;\n      element.onerror = on_error;\n      element.rel = \"stylesheet\";\n      element.type = \"text/css\";\n      element.href = url;\n      console.debug(\"Bokeh: injecting link tag for BokehJS stylesheet: \", url);\n      document.body.appendChild(element);\n    }\n\n    for (var i = 0; i < js_urls.length; i++) {\n      var url = js_urls[i];\n      var element = document.createElement('script');\n      element.onload = on_load;\n      element.onerror = on_error;\n      element.async = false;\n      element.src = url;\n      console.debug(\"Bokeh: injecting script tag for BokehJS library: \", url);\n      document.head.appendChild(element);\n    }\n  };var element = document.getElementById(\"1001\");\n  if (element == null) {\n    console.error(\"Bokeh: ERROR: autoload.js configured with elementid '1001' but no matching script tag was found. \")\n    return false;\n  }\n\n  function inject_raw_css(css) {\n    const element = document.createElement(\"style\");\n    element.appendChild(document.createTextNode(css));\n    document.body.appendChild(element);\n  }\n\n  \n  var js_urls = [\"https://cdn.pydata.org/bokeh/release/bokeh-1.4.0.min.js\", \"https://cdn.pydata.org/bokeh/release/bokeh-widgets-1.4.0.min.js\", \"https://cdn.pydata.org/bokeh/release/bokeh-tables-1.4.0.min.js\", \"https://cdn.pydata.org/bokeh/release/bokeh-gl-1.4.0.min.js\"];\n  var css_urls = [];\n  \n\n  var inline_js = [\n    function(Bokeh) {\n      Bokeh.set_log_level(\"info\");\n    },\n    function(Bokeh) {\n    \n    \n    }\n  ];\n\n  function run_inline_js() {\n    \n    if (root.Bokeh !== undefined || force === true) {\n      \n    for (var i = 0; i < inline_js.length; i++) {\n      inline_js[i].call(root, root.Bokeh);\n    }\n    if (force === true) {\n        display_loaded();\n      }} else if (Date.now() < root._bokeh_timeout) {\n      setTimeout(run_inline_js, 100);\n    } else if (!root._bokeh_failed_load) {\n      console.log(\"Bokeh: BokehJS failed to load within specified timeout.\");\n      root._bokeh_failed_load = true;\n    } else if (force !== true) {\n      var cell = $(document.getElementById(\"1001\")).parents('.cell').data().cell;\n      cell.output_area.append_execute_result(NB_LOAD_WARNING)\n    }\n\n  }\n\n  if (root._bokeh_is_loading === 0) {\n    console.debug(\"Bokeh: BokehJS loaded, going straight to plotting\");\n    run_inline_js();\n  } else {\n    load_libs(css_urls, js_urls, function() {\n      console.debug(\"Bokeh: BokehJS plotting callback run at\", now());\n      run_inline_js();\n    });\n  }\n}(window));"
     },
     "metadata": {},
     "output_type": "display_data"
    }
   ],
   "source": [
    "# Imports\n",
    "import bokeh.plotting as bkp\n",
    "import functools\n",
    "import numpy as np\n",
    "import pandas as pd   # for summary statistics\n",
    "#\n",
    "bkp.reset_output()\n",
    "bkp.output_notebook()"
   ]
  },
  {
   "cell_type": "code",
   "execution_count": 2,
   "metadata": {},
   "outputs": [],
   "source": [
    "# Function to generate `y` given `x` and a set of weights.\n",
    "def linear_function(weights, x):\n",
    "    '''\n",
    "    weights = [a0, a1, a2, ...]\n",
    "    output = a0 + a1 * x + a2 * x ** 2 + ...\n",
    "    '''\n",
    "    if isinstance(x, list):\n",
    "        x = np.array(x)\n",
    "    out = weights[0]\n",
    "    xn = x\n",
    "    for w in weights[1:]:\n",
    "        out = out + w * xn\n",
    "        xn = xn * x\n",
    "    return out\n",
    "\n",
    "def test_linear_function():\n",
    "    x1 = 3.1415\n",
    "    tmp1 = 4 + 3.2 * x1 + 2.1 * x1 * x1 + 8.53 * x1 * x1 * x1\n",
    "    assert linear_function([6.24, 4.14], x1) == 6.24 + 4.14 * x1\n",
    "    assert linear_function([4, 3.2, 2.1, 8.53], x1) == tmp1\n",
    "    assert all(linear_function([4, 3.2, 2.1, 8.53], [x1, x1]) == np.array([tmp1, tmp1]))\n",
    "test_linear_function()"
   ]
  },
  {
   "cell_type": "code",
   "execution_count": 3,
   "metadata": {},
   "outputs": [],
   "source": [
    "def gen_training_data(wt_true, npoints=50, gauss_noise_sd=0.4, binomp={'p': 0.03, 'mag': 6.0}, seed=414243):\n",
    "    '''Generate (simulate) training data'''\n",
    "    np.random.seed(seed)\n",
    "    xtrain = np.random.random(npoints)\n",
    "    # e.g. 6 * binomial(1, 0.03, size=n) - 6 * binomial(1, 0.03, size=n)\n",
    "    binomial = np.random.binomial\n",
    "    ntrials = 1\n",
    "    outlier_noise = binomial(ntrials, binomp['p'], size=npoints) - binomial(ntrials, binomp['p'], size=npoints)\n",
    "    outlier_noise = outlier_noise * binomp['mag']\n",
    "    ytrain = linear_function(wt_true, xtrain) + gauss_noise_sd * np.random.randn(npoints)\n",
    "    return xtrain, ytrain, outlier_noise"
   ]
  },
  {
   "cell_type": "code",
   "execution_count": 4,
   "metadata": {},
   "outputs": [],
   "source": [
    "def update_weights_mse(weights, x, y, learning_rate):\n",
    "    y_predicted = linear_function(weights, x)\n",
    "    derivative_of_loss = 2 * (y_predicted - y)\n",
    "    weights[0] -= learning_rate * derivative_of_loss.mean()\n",
    "    m1 = derivative_of_loss.mean()\n",
    "    for ii in range(1, len(weights)):\n",
    "        derivative_of_loss = x * derivative_of_loss\n",
    "        weights[ii] -= learning_rate * derivative_of_loss.mean()\n",
    "    return None\n",
    "\n",
    "def update_weights_huber(weights, x, y, learning_rate, gamma):\n",
    "    y_predicted = linear_function(weights, x)\n",
    "    err = y_predicted - y\n",
    "    derivative_of_loss = 2.0 * np.sign(err) * np.minimum(gamma, np.abs(err))\n",
    "    weights[0] -= learning_rate * derivative_of_loss.mean()\n",
    "    m1 = derivative_of_loss.mean()\n",
    "    for ii in range(1, len(weights)):\n",
    "        derivative_of_loss = x * derivative_of_loss\n",
    "        weights[ii] -= learning_rate * derivative_of_loss.mean()\n",
    "    return None"
   ]
  },
  {
   "cell_type": "code",
   "execution_count": 5,
   "metadata": {},
   "outputs": [
    {
     "name": "stdout",
     "output_type": "stream",
     "text": [
      "2.1804075712825233 2.1804075712825233\n",
      "2.1804075712825233 2.1804075712825233\n",
      "1.252087574809613 1.252087574809613\n"
     ]
    }
   ],
   "source": [
    "def mse_loss(y, yhat):\n",
    "    return np.mean((y - yhat) ** 2)\n",
    "\n",
    "def huber_loss(y, yhat, gamma):\n",
    "    errabs = np.abs(y - yhat)\n",
    "    loss = np.where(errabs <= gamma, (errabs ** 2), gamma * (2.0 * errabs - gamma))\n",
    "    return np.mean(loss)\n",
    "\n",
    "# test\n",
    "def test():\n",
    "    wt_true = [3.0, 6.0]\n",
    "    xtrain, ytrain, outlier_noise = gen_training_data(wt_true, npoints=70)\n",
    "    _ytrue = linear_function(wt_true, xtrain)\n",
    "    ytrain = ytrain + outlier_noise\n",
    "    print(mse_loss(_ytrue, ytrain), mse_loss(ytrain, _ytrue))\n",
    "    print(huber_loss(_ytrue, ytrain, np.inf), huber_loss(ytrain, _ytrue, np.inf))\n",
    "    assert huber_loss(_ytrue, ytrain, np.inf) == mse_loss(_ytrue, ytrain)\n",
    "    print(huber_loss(_ytrue, ytrain, np.std(ytrain)), huber_loss(ytrain, _ytrue, np.std(ytrain)))\n",
    "test()"
   ]
  },
  {
   "cell_type": "code",
   "execution_count": 6,
   "metadata": {},
   "outputs": [],
   "source": [
    "# Train\n",
    "def train(xtrain, ytrain, nweights, update_func, niter, learning_rate=0.02,\n",
    "          loss_func=None, init_weights=None, loss_iter=20):\n",
    "    # initialize weights\n",
    "    if init_weights is None:\n",
    "        weights = np.random.randn(nweights)\n",
    "    else:\n",
    "        weights = init_weights\n",
    "    loss_values = []\n",
    "    for ii in range(niter):\n",
    "        update_func(weights, xtrain, ytrain, learning_rate)\n",
    "        if loss_func and ii % loss_iter == (loss_iter - 1):\n",
    "            loss_values.append(loss_func(linear_function(weights, xtrain), ytrain))\n",
    "    return weights, loss_values"
   ]
  },
  {
   "cell_type": "code",
   "execution_count": 7,
   "metadata": {},
   "outputs": [
    {
     "name": "stdout",
     "output_type": "stream",
     "text": [
      "Number of outliers: 4\n"
     ]
    }
   ],
   "source": [
    "wt_true = [3.0, 6.0]\n",
    "xtrain, ytrain, outlier_noise = gen_training_data(wt_true, npoints=70)\n",
    "print('Number of outliers:', sum(np.where(outlier_noise, 1, 0)))"
   ]
  },
  {
   "cell_type": "code",
   "execution_count": 8,
   "metadata": {},
   "outputs": [
    {
     "name": "stdout",
     "output_type": "stream",
     "text": [
      "ytrain summary stats -- no outliers:\n",
      "count    70.000000\n",
      "mean      5.993224\n",
      "std       1.806728\n",
      "min       2.545869\n",
      "25%       4.440494\n",
      "50%       6.017799\n",
      "75%       7.658137\n",
      "max       8.887732\n",
      "dtype: float64\n",
      "\n",
      "ytrain with outliers summary stats:\n",
      "count    70.000000\n",
      "mean      5.993224\n",
      "std       1.997503\n",
      "min       0.680286\n",
      "25%       4.440494\n",
      "50%       6.017799\n",
      "75%       7.735788\n",
      "max       9.859972\n",
      "dtype: float64\n"
     ]
    }
   ],
   "source": [
    "print('ytrain summary stats -- no outliers:')\n",
    "print(pd.Series(ytrain).describe())\n",
    "print()\n",
    "print('ytrain with outliers summary stats:')\n",
    "print(pd.Series(ytrain + outlier_noise).describe())"
   ]
  },
  {
   "cell_type": "code",
   "execution_count": 9,
   "metadata": {},
   "outputs": [
    {
     "data": {
      "text/html": [
       "\n",
       "\n",
       "\n",
       "\n",
       "\n",
       "\n",
       "  <div class=\"bk-root\" id=\"20a8af7f-1cbf-468f-818b-53113b3cccf2\" data-root-id=\"1002\"></div>\n"
      ]
     },
     "metadata": {},
     "output_type": "display_data"
    },
    {
     "data": {
      "application/javascript": [
       "(function(root) {\n",
       "  function embed_document(root) {\n",
       "    \n",
       "  var docs_json = {\"9ad80bcd-7ba0-4558-8c9a-db2239e3462c\":{\"roots\":{\"references\":[{\"attributes\":{\"below\":[{\"id\":\"1013\",\"type\":\"LinearAxis\"}],\"center\":[{\"id\":\"1017\",\"type\":\"Grid\"},{\"id\":\"1022\",\"type\":\"Grid\"},{\"id\":\"1047\",\"type\":\"Legend\"}],\"left\":[{\"id\":\"1018\",\"type\":\"LinearAxis\"}],\"plot_height\":400,\"renderers\":[{\"id\":\"1039\",\"type\":\"GlyphRenderer\"},{\"id\":\"1052\",\"type\":\"GlyphRenderer\"}],\"title\":{\"id\":\"1003\",\"type\":\"Title\"},\"toolbar\":{\"id\":\"1029\",\"type\":\"Toolbar\"},\"x_range\":{\"id\":\"1005\",\"type\":\"DataRange1d\"},\"x_scale\":{\"id\":\"1009\",\"type\":\"LinearScale\"},\"y_range\":{\"id\":\"1007\",\"type\":\"Range1d\"},\"y_scale\":{\"id\":\"1011\",\"type\":\"LinearScale\"}},\"id\":\"1002\",\"subtype\":\"Figure\",\"type\":\"Plot\"},{\"attributes\":{},\"id\":\"1028\",\"type\":\"HelpTool\"},{\"attributes\":{},\"id\":\"1011\",\"type\":\"LinearScale\"},{\"attributes\":{\"fill_alpha\":{\"value\":0.1},\"fill_color\":{\"value\":\"#1f77b4\"},\"line_alpha\":{\"value\":0.1},\"line_color\":{\"value\":\"#1f77b4\"},\"radius\":{\"units\":\"data\",\"value\":0.01},\"x\":{\"field\":\"x\"},\"y\":{\"field\":\"y\"}},\"id\":\"1051\",\"type\":\"Circle\"},{\"attributes\":{},\"id\":\"1014\",\"type\":\"BasicTicker\"},{\"attributes\":{\"data_source\":{\"id\":\"1049\",\"type\":\"ColumnDataSource\"},\"glyph\":{\"id\":\"1050\",\"type\":\"Circle\"},\"hover_glyph\":null,\"muted_glyph\":null,\"nonselection_glyph\":{\"id\":\"1051\",\"type\":\"Circle\"},\"selection_glyph\":null,\"view\":{\"id\":\"1053\",\"type\":\"CDSView\"}},\"id\":\"1052\",\"type\":\"GlyphRenderer\"},{\"attributes\":{\"ticker\":{\"id\":\"1014\",\"type\":\"BasicTicker\"}},\"id\":\"1017\",\"type\":\"Grid\"},{\"attributes\":{},\"id\":\"1043\",\"type\":\"BasicTickFormatter\"},{\"attributes\":{\"label\":{\"value\":\"normal data\"},\"renderers\":[{\"id\":\"1039\",\"type\":\"GlyphRenderer\"}]},\"id\":\"1048\",\"type\":\"LegendItem\"},{\"attributes\":{},\"id\":\"1019\",\"type\":\"BasicTicker\"},{\"attributes\":{\"fill_alpha\":{\"value\":0.1},\"fill_color\":{\"value\":\"#1f77b4\"},\"line_alpha\":{\"value\":0.1},\"line_color\":{\"value\":\"#1f77b4\"},\"radius\":{\"units\":\"data\",\"value\":0.01},\"x\":{\"field\":\"x\"},\"y\":{\"field\":\"y\"}},\"id\":\"1038\",\"type\":\"Circle\"},{\"attributes\":{\"source\":{\"id\":\"1049\",\"type\":\"ColumnDataSource\"}},\"id\":\"1053\",\"type\":\"CDSView\"},{\"attributes\":{\"text\":\"Training Data With Outliers\"},\"id\":\"1003\",\"type\":\"Title\"},{\"attributes\":{\"active_drag\":\"auto\",\"active_inspect\":\"auto\",\"active_multi\":null,\"active_scroll\":\"auto\",\"active_tap\":\"auto\",\"tools\":[{\"id\":\"1023\",\"type\":\"PanTool\"},{\"id\":\"1024\",\"type\":\"WheelZoomTool\"},{\"id\":\"1025\",\"type\":\"BoxZoomTool\"},{\"id\":\"1026\",\"type\":\"SaveTool\"},{\"id\":\"1027\",\"type\":\"ResetTool\"},{\"id\":\"1028\",\"type\":\"HelpTool\"}]},\"id\":\"1029\",\"type\":\"Toolbar\"},{\"attributes\":{\"callback\":null,\"end\":11,\"start\":-1},\"id\":\"1007\",\"type\":\"Range1d\"},{\"attributes\":{},\"id\":\"1059\",\"type\":\"UnionRenderers\"},{\"attributes\":{\"dimension\":1,\"ticker\":{\"id\":\"1019\",\"type\":\"BasicTicker\"}},\"id\":\"1022\",\"type\":\"Grid\"},{\"attributes\":{},\"id\":\"1009\",\"type\":\"LinearScale\"},{\"attributes\":{},\"id\":\"1060\",\"type\":\"Selection\"},{\"attributes\":{\"label\":{\"value\":\"outliers\"},\"renderers\":[{\"id\":\"1052\",\"type\":\"GlyphRenderer\"}]},\"id\":\"1062\",\"type\":\"LegendItem\"},{\"attributes\":{},\"id\":\"1070\",\"type\":\"UnionRenderers\"},{\"attributes\":{\"bottom_units\":\"screen\",\"fill_alpha\":{\"value\":0.5},\"fill_color\":{\"value\":\"lightgrey\"},\"left_units\":\"screen\",\"level\":\"overlay\",\"line_alpha\":{\"value\":1.0},\"line_color\":{\"value\":\"black\"},\"line_dash\":[4,4],\"line_width\":{\"value\":2},\"render_mode\":\"css\",\"right_units\":\"screen\",\"top_units\":\"screen\"},\"id\":\"1046\",\"type\":\"BoxAnnotation\"},{\"attributes\":{},\"id\":\"1071\",\"type\":\"Selection\"},{\"attributes\":{\"formatter\":{\"id\":\"1045\",\"type\":\"BasicTickFormatter\"},\"ticker\":{\"id\":\"1014\",\"type\":\"BasicTicker\"}},\"id\":\"1013\",\"type\":\"LinearAxis\"},{\"attributes\":{\"formatter\":{\"id\":\"1043\",\"type\":\"BasicTickFormatter\"},\"ticker\":{\"id\":\"1019\",\"type\":\"BasicTicker\"}},\"id\":\"1018\",\"type\":\"LinearAxis\"},{\"attributes\":{},\"id\":\"1023\",\"type\":\"PanTool\"},{\"attributes\":{},\"id\":\"1045\",\"type\":\"BasicTickFormatter\"},{\"attributes\":{\"border_line_alpha\":{\"value\":0.4},\"border_line_color\":{\"value\":\"black\"},\"items\":[{\"id\":\"1048\",\"type\":\"LegendItem\"},{\"id\":\"1062\",\"type\":\"LegendItem\"}],\"location\":\"bottom_left\"},\"id\":\"1047\",\"type\":\"Legend\"},{\"attributes\":{\"callback\":null,\"data\":{\"x\":{\"__ndarray__\":\"x3M0x3Z25D8xky+Q/pXrP2B0AF7mQbU/uBVrK5fSvD8=\",\"dtype\":\"float64\",\"shape\":[4]},\"y\":{\"__ndarray__\":\"YPY/gObE5T8MwOQp0JkFQIdnhK4TYyNA5+AKNU64I0A=\",\"dtype\":\"float64\",\"shape\":[4]}},\"selected\":{\"id\":\"1071\",\"type\":\"Selection\"},\"selection_policy\":{\"id\":\"1070\",\"type\":\"UnionRenderers\"}},\"id\":\"1049\",\"type\":\"ColumnDataSource\"},{\"attributes\":{},\"id\":\"1024\",\"type\":\"WheelZoomTool\"},{\"attributes\":{\"data_source\":{\"id\":\"1036\",\"type\":\"ColumnDataSource\"},\"glyph\":{\"id\":\"1037\",\"type\":\"Circle\"},\"hover_glyph\":null,\"muted_glyph\":null,\"nonselection_glyph\":{\"id\":\"1038\",\"type\":\"Circle\"},\"selection_glyph\":null,\"view\":{\"id\":\"1040\",\"type\":\"CDSView\"}},\"id\":\"1039\",\"type\":\"GlyphRenderer\"},{\"attributes\":{\"fill_color\":{\"value\":\"#1f77b4\"},\"line_color\":{\"value\":\"#1f77b4\"},\"radius\":{\"units\":\"data\",\"value\":0.01},\"x\":{\"field\":\"x\"},\"y\":{\"field\":\"y\"}},\"id\":\"1037\",\"type\":\"Circle\"},{\"attributes\":{\"callback\":null,\"data\":{\"x\":{\"__ndarray__\":\"GcKryYGD7z88rlgroD/oP4QZL9uewMo/u32AG4at5j/utv4yt4/mP1vj1pwIg+s/bpkK6Liv0D+xtICj4bvqP1R10GgGd9A/6hURloyr1z8RnSfrRn3rP7yrDlySWOA/HNZGzkyb1T8Q/9gNiuOsP3ACCOd2Y8k/6OVXvYxM2T+EFDweDNHDP0CQt/sZHYw/IHd3xz6srT+NQPrmBkHsP+hHy5J9fek/2A7tyMf83T+jiVCwSvHvP3hknh7lLOo/rAOMuR996D/oeSSQhRW0P67at8OYf9Y/K0+bTRjy6z8bPhnnif7pP35qWOQVQtI/tWCfaY157D/SiwZiZMfcP4jvusH17b4/HOAw9T/Y6z8p1dI5cfDmP+D+6Ngz3JM/0ApHLRC71z/0I1x2eljrP7B2eE8kUqo/dg1RYV8E1j/9fD3qWtDpP1qLbLk1t+Q/Kk6S4V9C3j/YpZFvwfrpP3/NmIiQXOE/JLiDFKMwxz+ch7SACsLdP5qO9s9G8dE/7BYhBZyM7T+oEx4Mr0rpP0+nmjAbvOk/gN7S++F9ez+paDdYWRPkP+WRbTjTZuw/VkAtD58Z0D/Y6Ifwje/MP3oI3OxhzdQ/m7H2YsGu6T9U7SENtFPCPw6Y3yocyeA/a4dHjpke4j+0TywrwcLEP4KfeqBJw9E/RNT92N7Kxz/wXDnAZvHqP1LRqdIWt+Q/\",\"dtype\":\"float64\",\"shape\":[66]},\"y\":{\"__ndarray__\":\"RkoRqnhzIUCe9aeudUkcQFwLm+DgKQ9AceZ/9/wvHEDiLzLlUEEbQDUAySSgZCBAoTOCKgW/EUCkA92mn50fQPMthXAHNBRAdHFgmNwUFUCeuGrK6wkfQLFsz12prRdAnq2R8tXpFEDGM/povrMIQPRR4hkSJBBAbX0kiWlHFkCUvCufp6gLQLZYv7vwXQRAP+CNuaUeCUChqTTvfjogQFIBaQMGqB5AIBqSpyVKFEBDPCe5KI8hQHGmIktVjhxA3sS2E5lqHUDsqtqrr5oMQIn/1kKsdxRAgw/Xd1YOIEDsTEAc9rwdQMUDgkB2RBNA+NoeDIp6H0Ci7ectJBQYQGZnKm1IWA1AyTi3afnoH0DaMouVvsQcQK7MUrG5MwxAWZPWU4yJFEC9zDcjNx4gQC6yQBSyqwpAu0fGCi/WE0DhR9cVSo8fQF6WiwiliB5AzwmeCYwuGEBKMjkqFKAfQKTIDydHdRdA6nkmPxPkEUBbVxZvTxAYQAWTeoRTGBJA/PD11YTGIUASOx/gH1weQI6JpM0QcB1Ai3u/um5BC0BivV6fAj8bQGQPpUxefB9ArIHvARmIEUCGcTrVyr0RQPPvU2x2qhNAbGz3aaHRIEAZS9tb2q4NQETKXoRNsRhA/cUe1KiPHkAq4S9Tz2USQCtdTPozzxFASjskl42vEUCF1LEozJogQEKKc9o1hRtA\",\"dtype\":\"float64\",\"shape\":[66]}},\"selected\":{\"id\":\"1060\",\"type\":\"Selection\"},\"selection_policy\":{\"id\":\"1059\",\"type\":\"UnionRenderers\"}},\"id\":\"1036\",\"type\":\"ColumnDataSource\"},{\"attributes\":{\"overlay\":{\"id\":\"1046\",\"type\":\"BoxAnnotation\"}},\"id\":\"1025\",\"type\":\"BoxZoomTool\"},{\"attributes\":{\"fill_color\":{\"value\":\"darkorange\"},\"line_color\":{\"value\":\"darkorange\"},\"radius\":{\"units\":\"data\",\"value\":0.01},\"x\":{\"field\":\"x\"},\"y\":{\"field\":\"y\"}},\"id\":\"1050\",\"type\":\"Circle\"},{\"attributes\":{},\"id\":\"1026\",\"type\":\"SaveTool\"},{\"attributes\":{},\"id\":\"1027\",\"type\":\"ResetTool\"},{\"attributes\":{\"callback\":null},\"id\":\"1005\",\"type\":\"DataRange1d\"},{\"attributes\":{\"source\":{\"id\":\"1036\",\"type\":\"ColumnDataSource\"}},\"id\":\"1040\",\"type\":\"CDSView\"}],\"root_ids\":[\"1002\"]},\"title\":\"Bokeh Application\",\"version\":\"1.4.0\"}};\n",
       "  var render_items = [{\"docid\":\"9ad80bcd-7ba0-4558-8c9a-db2239e3462c\",\"roots\":{\"1002\":\"20a8af7f-1cbf-468f-818b-53113b3cccf2\"}}];\n",
       "  root.Bokeh.embed.embed_items_notebook(docs_json, render_items);\n",
       "\n",
       "  }\n",
       "  if (root.Bokeh !== undefined) {\n",
       "    embed_document(root);\n",
       "  } else {\n",
       "    var attempts = 0;\n",
       "    var timer = setInterval(function(root) {\n",
       "      if (root.Bokeh !== undefined) {\n",
       "        clearInterval(timer);\n",
       "        embed_document(root);\n",
       "      } else {\n",
       "        attempts++;\n",
       "        if (attempts > 100) {\n",
       "          clearInterval(timer);\n",
       "          console.log(\"Bokeh: ERROR: Unable to run BokehJS code because BokehJS library is missing\");\n",
       "        }\n",
       "      }\n",
       "    }, 10, root)\n",
       "  }\n",
       "})(window);"
      ],
      "application/vnd.bokehjs_exec.v0+json": ""
     },
     "metadata": {
      "application/vnd.bokehjs_exec.v0+json": {
       "id": "1002"
      }
     },
     "output_type": "display_data"
    }
   ],
   "source": [
    "p = bkp.figure(title='Training Data With Outliers', y_range=[-1, 11], width=600, height=400)\n",
    "xin, xout = xtrain[outlier_noise == 0], xtrain[outlier_noise != 0]\n",
    "yin, yout = ytrain[outlier_noise == 0], (ytrain + outlier_noise)[outlier_noise != 0]\n",
    "p.circle(xin, yin, radius=0.01, legend_label='normal data')\n",
    "p.circle(xout, yout, radius=0.01, color='darkorange', legend_label='outliers')\n",
    "p.legend.location = 'bottom_left'\n",
    "p.legend.border_line_alpha = 0.4\n",
    "p.legend.border_line_color = 'black'\n",
    "bkp.show(p)"
   ]
  },
  {
   "cell_type": "markdown",
   "metadata": {},
   "source": [
    "## Predictions Without Outliers\n",
    "First, we compare predictions using the MSE and Huber loss using data without outliers i.e. we do not yet add the noise that will move some of the points and make them outliers."
   ]
  },
  {
   "cell_type": "code",
   "execution_count": 10,
   "metadata": {},
   "outputs": [],
   "source": [
    "# No outliers - Predict using MSE Loss\n",
    "np.random.seed(424242)\n",
    "weights_mse, loss_values_mse = train(xtrain, ytrain, nweights=2, update_func=update_weights_mse,\n",
    "                                     loss_func=mse_loss, niter=250 * 20)"
   ]
  },
  {
   "cell_type": "code",
   "execution_count": 11,
   "metadata": {},
   "outputs": [
    {
     "name": "stdout",
     "output_type": "stream",
     "text": [
      "loss values (last few): [0.1170278207989682, 0.11702782079886256, 0.11702782079876847, 0.11702782079868472, 0.11702782079861017, 0.11702782079854383, 0.11702782079848476, 0.11702782079843213, 0.11702782079838533, 0.11702782079834366]\n",
      "True weights: [3.0, 6.0]\n",
      "Predicted weights: [3.07659014 5.79207763]\n",
      "MSE loss: 0.11702782079834366\n"
     ]
    }
   ],
   "source": [
    "print('loss values (last few):', loss_values_mse[-10:])\n",
    "print('True weights:', wt_true)\n",
    "print('Predicted weights:', weights_mse)\n",
    "yhat = linear_function(weights_mse, xtrain)\n",
    "print('MSE loss:', mse_loss(yhat, ytrain))"
   ]
  },
  {
   "cell_type": "code",
   "execution_count": 12,
   "metadata": {},
   "outputs": [
    {
     "name": "stdout",
     "output_type": "stream",
     "text": [
      "1.9831842254929397\n"
     ]
    }
   ],
   "source": [
    "# No outliers - Predict using Huber Loss\n",
    "np.random.seed(424242)\n",
    "gamma = np.std(ytrain + outlier_noise)\n",
    "print(gamma)\n",
    "update_func = functools.partial(update_weights_huber, gamma=gamma)\n",
    "loss_func = functools.partial(huber_loss, gamma=gamma)\n",
    "weights_huber, loss_values_huber = train(xtrain, ytrain, nweights=2, update_func=update_func,\n",
    "                                         loss_func=loss_func, niter=250 * 20)"
   ]
  },
  {
   "cell_type": "code",
   "execution_count": 13,
   "metadata": {},
   "outputs": [
    {
     "name": "stdout",
     "output_type": "stream",
     "text": [
      "gamma: 1.9831842254929397\n",
      "loss values (last few): [0.11702782079915823, 0.11702782079903169, 0.11702782079891905, 0.11702782079881884, 0.11702782079872952, 0.11702782079865007, 0.11702782079857933, 0.11702782079851635, 0.11702782079846025, 0.11702782079841041]\n",
      "True weights: [3.0, 6.0]\n",
      "Predicted weights: [3.07659024 5.79207745]\n",
      "MSE loss: 0.11702782079841041\n"
     ]
    }
   ],
   "source": [
    "print('gamma:', gamma)\n",
    "print('loss values (last few):', loss_values_huber[-10:])\n",
    "print('True weights:', wt_true)\n",
    "print('Predicted weights:', weights_huber)\n",
    "yhat = linear_function(weights_huber, xtrain)\n",
    "print('MSE loss:', mse_loss(yhat, ytrain))"
   ]
  },
  {
   "cell_type": "code",
   "execution_count": 14,
   "metadata": {},
   "outputs": [
    {
     "data": {
      "text/html": [
       "\n",
       "\n",
       "\n",
       "\n",
       "\n",
       "\n",
       "  <div class=\"bk-root\" id=\"5747dec0-5eaa-4f71-aa92-3a49e38dcc0e\" data-root-id=\"1133\"></div>\n"
      ]
     },
     "metadata": {},
     "output_type": "display_data"
    },
    {
     "data": {
      "application/javascript": [
       "(function(root) {\n",
       "  function embed_document(root) {\n",
       "    \n",
       "  var docs_json = {\"e0fe56d0-ee10-41c0-99cb-7833ef811f27\":{\"roots\":{\"references\":[{\"attributes\":{\"below\":[{\"id\":\"1144\",\"type\":\"LinearAxis\"}],\"center\":[{\"id\":\"1148\",\"type\":\"Grid\"},{\"id\":\"1153\",\"type\":\"Grid\"},{\"id\":\"1185\",\"type\":\"Legend\"}],\"left\":[{\"id\":\"1149\",\"type\":\"LinearAxis\"}],\"plot_height\":400,\"renderers\":[{\"id\":\"1170\",\"type\":\"GlyphRenderer\"},{\"id\":\"1175\",\"type\":\"GlyphRenderer\"},{\"id\":\"1190\",\"type\":\"GlyphRenderer\"},{\"id\":\"1206\",\"type\":\"GlyphRenderer\"}],\"title\":{\"id\":\"1134\",\"type\":\"Title\"},\"toolbar\":{\"id\":\"1160\",\"type\":\"Toolbar\"},\"x_range\":{\"id\":\"1136\",\"type\":\"DataRange1d\"},\"x_scale\":{\"id\":\"1140\",\"type\":\"LinearScale\"},\"y_range\":{\"id\":\"1138\",\"type\":\"Range1d\"},\"y_scale\":{\"id\":\"1142\",\"type\":\"LinearScale\"}},\"id\":\"1133\",\"subtype\":\"Figure\",\"type\":\"Plot\"},{\"attributes\":{\"callback\":null},\"id\":\"1136\",\"type\":\"DataRange1d\"},{\"attributes\":{\"line_color\":\"blue\",\"line_width\":3,\"x\":{\"field\":\"x\"},\"y\":{\"field\":\"y\"}},\"id\":\"1188\",\"type\":\"Line\"},{\"attributes\":{\"label\":{\"value\":\"MSE\"},\"renderers\":[{\"id\":\"1190\",\"type\":\"GlyphRenderer\"}]},\"id\":\"1202\",\"type\":\"LegendItem\"},{\"attributes\":{\"label\":{\"value\":\"Huber\"},\"renderers\":[{\"id\":\"1206\",\"type\":\"GlyphRenderer\"}]},\"id\":\"1220\",\"type\":\"LegendItem\"},{\"attributes\":{\"callback\":null,\"data\":{\"x\":{\"__ndarray__\":\"GcKryYGD7z88rlgroD/oP4QZL9uewMo/u32AG4at5j/utv4yt4/mP1vj1pwIg+s/bpkK6Liv0D+xtICj4bvqP8dzNMd2duQ/VHXQaAZ30D/qFRGWjKvXPxGdJ+tGfes/vKsOXJJY4D8c1kbOTJvVPxD/2A2K46w/cAII53ZjyT/o5Ve9jEzZP4QUPB4M0cM/QJC3+xkdjD8gd3fHPqytP41A+uYGQew/MZMvkP6V6z/oR8uSfX3pP9gO7cjH/N0/o4lQsErx7z94ZJ4e5SzqP6wDjLkffeg/6HkkkIUVtD+u2rfDmH/WPytPm00Y8us/Gz4Z54n+6T9+aljkFULSP7Vgn2mNeew/0osGYmTH3D+I77rB9e2+PxzgMPU/2Os/KdXSOXHw5j/g/ujYM9yTP9AKRy0Qu9c/9CNcdnpY6z+wdnhPJFKqP3YNUWFfBNY//Xw96lrQ6T9ai2y5NbfkPypOkuFfQt4/2KWRb8H66T9/zZiIkFzhPyS4gxSjMMc/nIe0gArC3T+ajvbPRvHRP2B0AF7mQbU/7BYhBZyM7T+oEx4Mr0rpP0+nmjAbvOk/gN7S++F9ez+paDdYWRPkP+WRbTjTZuw/VkAtD58Z0D/Y6Ifwje/MP3oI3OxhzdQ/m7H2YsGu6T9U7SENtFPCPw6Y3yocyeA/a4dHjpke4j+0TywrwcLEP4KfeqBJw9E/uBVrK5fSvD9E1P3Y3srHP/BcOcBm8eo/UtGp0ha35D8=\",\"dtype\":\"float64\",\"shape\":[70]},\"y\":{\"__ndarray__\":\"RkoRqnhzIUCe9aeudUkcQFwLm+DgKQ9AceZ/9/wvHEDiLzLlUEEbQDUAySSgZCBAoTOCKgW/EUCkA92mn50fQMz+B9CcuBpA8y2FcAc0FEB0cWCY3BQVQJ64asrrCR9AsWzPXamtF0CerZHy1ekUQMYz+mi+swhA9FHiGRIkEEBtfSSJaUcWQJS8K5+nqAtAtli/u/BdBEA/4I25pR4JQKGpNO9+OiBAAzB5CnRmIUBSAWkDBqgeQCAakqclShRAQzwnuSiPIUBxpiJLVY4cQN7EthOZah1A7Kraq6+aDECJ/9ZCrHcUQIMP13dWDiBA7ExAHPa8HUDFA4JAdkQTQPjaHgyKeh9Aou3nLSQUGEBmZyptSFgNQMk4t2n56B9A2jKLlb7EHECuzFKxuTMMQFmT1lOMiRRAvcw3IzceIEAuskAUsqsKQLtHxgov1hNA4UfXFUqPH0BelosIpYgeQM8JngmMLhhASjI5KhSgH0CkyA8nR3UXQOp5Jj8T5BFAW1cWb08QGEAFk3qEUxgSQBueEbpOjA1A/PD11YTGIUASOx/gH1weQI6JpM0QcB1Ai3u/um5BC0BivV6fAj8bQGQPpUxefB9ArIHvARmIEUCGcTrVyr0RQPPvU2x2qhNAbGz3aaHRIEAZS9tb2q4NQETKXoRNsRhA/cUe1KiPHkAq4S9Tz2USQCtdTPozzxFAnIMr1DjhDkBKOySXja8RQIXUsSjMmiBAQopz2jWFG0A=\",\"dtype\":\"float64\",\"shape\":[70]}},\"selected\":{\"id\":\"1183\",\"type\":\"Selection\"},\"selection_policy\":{\"id\":\"1182\",\"type\":\"UnionRenderers\"}},\"id\":\"1167\",\"type\":\"ColumnDataSource\"},{\"attributes\":{\"line_color\":\"darkorange\",\"line_width\":3,\"x\":{\"field\":\"x\"},\"y\":{\"field\":\"y\"}},\"id\":\"1204\",\"type\":\"Line\"},{\"attributes\":{\"active_drag\":\"auto\",\"active_inspect\":\"auto\",\"active_multi\":null,\"active_scroll\":\"auto\",\"active_tap\":\"auto\",\"tools\":[{\"id\":\"1154\",\"type\":\"PanTool\"},{\"id\":\"1155\",\"type\":\"WheelZoomTool\"},{\"id\":\"1156\",\"type\":\"BoxZoomTool\"},{\"id\":\"1157\",\"type\":\"SaveTool\"},{\"id\":\"1158\",\"type\":\"ResetTool\"},{\"id\":\"1159\",\"type\":\"HelpTool\"}]},\"id\":\"1160\",\"type\":\"Toolbar\"},{\"attributes\":{\"items\":[{\"id\":\"1186\",\"type\":\"LegendItem\"},{\"id\":\"1202\",\"type\":\"LegendItem\"},{\"id\":\"1220\",\"type\":\"LegendItem\"}],\"location\":\"bottom_right\"},\"id\":\"1185\",\"type\":\"Legend\"},{\"attributes\":{\"fill_color\":{\"value\":\"#1f77b4\"},\"line_color\":{\"value\":\"#1f77b4\"},\"radius\":{\"units\":\"data\",\"value\":0.01},\"x\":{\"field\":\"x\"},\"y\":{\"field\":\"y\"}},\"id\":\"1168\",\"type\":\"Circle\"},{\"attributes\":{\"line_alpha\":0.1,\"line_color\":\"#1f77b4\",\"line_width\":3,\"x\":{\"field\":\"x\"},\"y\":{\"field\":\"y\"}},\"id\":\"1205\",\"type\":\"Line\"},{\"attributes\":{},\"id\":\"1183\",\"type\":\"Selection\"},{\"attributes\":{\"line_color\":\"gray\",\"line_width\":3,\"x\":{\"field\":\"x\"},\"y\":{\"field\":\"y\"}},\"id\":\"1173\",\"type\":\"Line\"},{\"attributes\":{},\"id\":\"1154\",\"type\":\"PanTool\"},{\"attributes\":{\"text\":\"Predictions -- Data Without Outliers\"},\"id\":\"1134\",\"type\":\"Title\"},{\"attributes\":{\"data_source\":{\"id\":\"1203\",\"type\":\"ColumnDataSource\"},\"glyph\":{\"id\":\"1204\",\"type\":\"Line\"},\"hover_glyph\":null,\"muted_glyph\":null,\"nonselection_glyph\":{\"id\":\"1205\",\"type\":\"Line\"},\"selection_glyph\":null,\"view\":{\"id\":\"1207\",\"type\":\"CDSView\"}},\"id\":\"1206\",\"type\":\"GlyphRenderer\"},{\"attributes\":{\"callback\":null,\"end\":11,\"start\":-1},\"id\":\"1138\",\"type\":\"Range1d\"},{\"attributes\":{},\"id\":\"1140\",\"type\":\"LinearScale\"},{\"attributes\":{},\"id\":\"1155\",\"type\":\"WheelZoomTool\"},{\"attributes\":{\"overlay\":{\"id\":\"1184\",\"type\":\"BoxAnnotation\"}},\"id\":\"1156\",\"type\":\"BoxZoomTool\"},{\"attributes\":{},\"id\":\"1200\",\"type\":\"Selection\"},{\"attributes\":{\"source\":{\"id\":\"1172\",\"type\":\"ColumnDataSource\"}},\"id\":\"1176\",\"type\":\"CDSView\"},{\"attributes\":{},\"id\":\"1157\",\"type\":\"SaveTool\"},{\"attributes\":{},\"id\":\"1199\",\"type\":\"UnionRenderers\"},{\"attributes\":{},\"id\":\"1242\",\"type\":\"UnionRenderers\"},{\"attributes\":{\"source\":{\"id\":\"1187\",\"type\":\"ColumnDataSource\"}},\"id\":\"1191\",\"type\":\"CDSView\"},{\"attributes\":{},\"id\":\"1142\",\"type\":\"LinearScale\"},{\"attributes\":{\"source\":{\"id\":\"1203\",\"type\":\"ColumnDataSource\"}},\"id\":\"1207\",\"type\":\"CDSView\"},{\"attributes\":{},\"id\":\"1158\",\"type\":\"ResetTool\"},{\"attributes\":{},\"id\":\"1182\",\"type\":\"UnionRenderers\"},{\"attributes\":{},\"id\":\"1243\",\"type\":\"Selection\"},{\"attributes\":{},\"id\":\"1181\",\"type\":\"BasicTickFormatter\"},{\"attributes\":{\"formatter\":{\"id\":\"1181\",\"type\":\"BasicTickFormatter\"},\"ticker\":{\"id\":\"1145\",\"type\":\"BasicTicker\"}},\"id\":\"1144\",\"type\":\"LinearAxis\"},{\"attributes\":{},\"id\":\"1159\",\"type\":\"HelpTool\"},{\"attributes\":{\"data_source\":{\"id\":\"1167\",\"type\":\"ColumnDataSource\"},\"glyph\":{\"id\":\"1168\",\"type\":\"Circle\"},\"hover_glyph\":null,\"muted_glyph\":null,\"nonselection_glyph\":{\"id\":\"1169\",\"type\":\"Circle\"},\"selection_glyph\":null,\"view\":{\"id\":\"1171\",\"type\":\"CDSView\"}},\"id\":\"1170\",\"type\":\"GlyphRenderer\"},{\"attributes\":{\"line_alpha\":0.1,\"line_color\":\"#1f77b4\",\"line_width\":3,\"x\":{\"field\":\"x\"},\"y\":{\"field\":\"y\"}},\"id\":\"1174\",\"type\":\"Line\"},{\"attributes\":{\"callback\":null,\"data\":{\"x\":{\"__ndarray__\":\"AAAAAAAAAAA5BS+n4OWUPzkFL6fg5aQ/1ofG+tBYrz85BS+n4OW0P4fG+tBYH7o/1ofG+tBYvz+SJEmSJEnCPzkFL6fg5cQ/4OUUvJyCxz+HxvrQWB/KPy6n4OUUvMw/1ofG+tBYzz8+NNaHxvrQP5IkSZIkSdI/5RS8nIKX0z85BS+n4OXUP431obE+NNY/4OUUvJyC1z801ofG+tDYP4fG+tBYH9o/27Zt27Zt2z8up+DlFLzcP4KXU/ByCt4/1ofG+tBY3z8VvJyCl1PgPz401ofG+uA/aKwPjfWh4T+SJEmSJEniP7ycgpdT8OI/5RS8nIKX4z8PjfWhsT7kPzkFL6fg5eQ/Y31orA+N5T+N9aGxPjTmP7Zt27Zt2+Y/4OUUvJyC5z8KXk7ByynoPzTWh8b60Og/XU7Byyl46T+HxvrQWB/qP7E+NNaHxuo/27Zt27Zt6z8FL6fg5RTsPy6n4OUUvOw/WB8a60Nj7T+Cl1PwcgruP6wPjfWhse4/1ofG+tBY7z8AAAAAAADwPw==\",\"dtype\":\"float64\",\"shape\":[50]},\"y\":{\"__ndarray__\":\"AAAAAAAACEA/NNaHxvoIQH1orA+N9QlAvJyCl1PwCkD70FgfGusLQDkFL6fg5QxAeDkFL6fgDUC3bdu2bdsOQPahsT401g9AGutDY31oEEA5BS+n4OUQQFgfGutDYxFAeDkFL6fgEUCXU/ByCl4SQLdt27Zt2xJA1ofG+tBYE0D2obE+NNYTQBW8nIKXUxRANNaHxvrQFEBU8HIKXk4VQHIKXk7ByxVAkiRJkiRJFkCxPjTWh8YWQNFYHxrrQxdA8HIKXk7BF0AQjfWhsT4YQC6n4OUUvBhATsHLKXg5GUBu27Zt27YZQI31obE+NBpArA+N9aGxGkDLKXg5BS8bQOtDY31orBtACl5OwcspHEAqeDkFL6ccQEiSJEmSJB1AaKwPjfWhHUCIxvrQWB8eQKfg5RS8nB5AxvrQWB8aH0DlFLycgpcfQIKXU/ByCiBAkiRJkiRJIECisT401ocgQLE+NNaHxiBAwcspeDkFIUDRWB8a60MhQODlFLycgiFA8HIKXk7BIUAAAAAAAAAiQA==\",\"dtype\":\"float64\",\"shape\":[50]}},\"selected\":{\"id\":\"1200\",\"type\":\"Selection\"},\"selection_policy\":{\"id\":\"1199\",\"type\":\"UnionRenderers\"}},\"id\":\"1172\",\"type\":\"ColumnDataSource\"},{\"attributes\":{\"callback\":null,\"data\":{\"x\":{\"__ndarray__\":\"AAAAAAAAAAA5BS+n4OWUPzkFL6fg5aQ/1ofG+tBYrz85BS+n4OW0P4fG+tBYH7o/1ofG+tBYvz+SJEmSJEnCPzkFL6fg5cQ/4OUUvJyCxz+HxvrQWB/KPy6n4OUUvMw/1ofG+tBYzz8+NNaHxvrQP5IkSZIkSdI/5RS8nIKX0z85BS+n4OXUP431obE+NNY/4OUUvJyC1z801ofG+tDYP4fG+tBYH9o/27Zt27Zt2z8up+DlFLzcP4KXU/ByCt4/1ofG+tBY3z8VvJyCl1PgPz401ofG+uA/aKwPjfWh4T+SJEmSJEniP7ycgpdT8OI/5RS8nIKX4z8PjfWhsT7kPzkFL6fg5eQ/Y31orA+N5T+N9aGxPjTmP7Zt27Zt2+Y/4OUUvJyC5z8KXk7ByynoPzTWh8b60Og/XU7Byyl46T+HxvrQWB/qP7E+NNaHxuo/27Zt27Zt6z8FL6fg5RTsPy6n4OUUvOw/WB8a60Nj7T+Cl1PwcgruP6wPjfWhse4/1ofG+tBY7z8AAAAAAADwPw==\",\"dtype\":\"float64\",\"shape\":[50]},\"y\":{\"__ndarray__\":\"rujUStucCEAbO7wa8Y4JQIiNo+oGgQpA9d+KuhxzC0BiMnKKMmUMQM6EWVpIVw1AO9dAKl5JDkCoKSj6czsPQAq+B+XEFhBAQWf7zM+PEEB3EO+02ggRQK654pzlgRFA5GLWhPD6EUAaDMps+3MSQFG1vVQG7RJAiF6xPBFmE0C+B6UkHN8TQPSwmAwnWBRAK1qM9DHRFEBiA4DcPEoVQJisc8RHwxVAzlVnrFI8FkAE/1qUXbUWQDuoTnxoLhdAclFCZHOnF0Co+jVMfiAYQN6jKTSJmRhAFU0dHJQSGUBM9hAEn4sZQIKfBOypBBpAuEj407R9GkDu8eu7v/YaQCWb36PKbxtAXETTi9XoG0CS7cZz4GEcQMiWulvr2hxA/z+uQ/ZTHUA16aErAc0dQGySlRMMRh5AojuJ+xa/HkDY5HzjITgfQA+OcMsssR9Aoxuy2RsVIEA+8KtNoVEgQNnEpcEmjiBAdJmfNazKIEAQbpmpMQchQKtCkx23QyFARheNkTyAIUDi64YFwrwhQA==\",\"dtype\":\"float64\",\"shape\":[50]}},\"selected\":{\"id\":\"1218\",\"type\":\"Selection\"},\"selection_policy\":{\"id\":\"1217\",\"type\":\"UnionRenderers\"}},\"id\":\"1187\",\"type\":\"ColumnDataSource\"},{\"attributes\":{\"data_source\":{\"id\":\"1172\",\"type\":\"ColumnDataSource\"},\"glyph\":{\"id\":\"1173\",\"type\":\"Line\"},\"hover_glyph\":null,\"muted_glyph\":null,\"nonselection_glyph\":{\"id\":\"1174\",\"type\":\"Line\"},\"selection_glyph\":null,\"view\":{\"id\":\"1176\",\"type\":\"CDSView\"}},\"id\":\"1175\",\"type\":\"GlyphRenderer\"},{\"attributes\":{},\"id\":\"1218\",\"type\":\"Selection\"},{\"attributes\":{\"bottom_units\":\"screen\",\"fill_alpha\":{\"value\":0.5},\"fill_color\":{\"value\":\"lightgrey\"},\"left_units\":\"screen\",\"level\":\"overlay\",\"line_alpha\":{\"value\":1.0},\"line_color\":{\"value\":\"black\"},\"line_dash\":[4,4],\"line_width\":{\"value\":2},\"render_mode\":\"css\",\"right_units\":\"screen\",\"top_units\":\"screen\"},\"id\":\"1184\",\"type\":\"BoxAnnotation\"},{\"attributes\":{},\"id\":\"1145\",\"type\":\"BasicTicker\"},{\"attributes\":{},\"id\":\"1179\",\"type\":\"BasicTickFormatter\"},{\"attributes\":{},\"id\":\"1217\",\"type\":\"UnionRenderers\"},{\"attributes\":{},\"id\":\"1150\",\"type\":\"BasicTicker\"},{\"attributes\":{\"ticker\":{\"id\":\"1145\",\"type\":\"BasicTicker\"}},\"id\":\"1148\",\"type\":\"Grid\"},{\"attributes\":{\"data_source\":{\"id\":\"1187\",\"type\":\"ColumnDataSource\"},\"glyph\":{\"id\":\"1188\",\"type\":\"Line\"},\"hover_glyph\":null,\"muted_glyph\":null,\"nonselection_glyph\":{\"id\":\"1189\",\"type\":\"Line\"},\"selection_glyph\":null,\"view\":{\"id\":\"1191\",\"type\":\"CDSView\"}},\"id\":\"1190\",\"type\":\"GlyphRenderer\"},{\"attributes\":{\"dimension\":1,\"ticker\":{\"id\":\"1150\",\"type\":\"BasicTicker\"}},\"id\":\"1153\",\"type\":\"Grid\"},{\"attributes\":{\"formatter\":{\"id\":\"1179\",\"type\":\"BasicTickFormatter\"},\"ticker\":{\"id\":\"1150\",\"type\":\"BasicTicker\"}},\"id\":\"1149\",\"type\":\"LinearAxis\"},{\"attributes\":{\"label\":{\"value\":\"true weight\"},\"renderers\":[{\"id\":\"1175\",\"type\":\"GlyphRenderer\"}]},\"id\":\"1186\",\"type\":\"LegendItem\"},{\"attributes\":{\"fill_alpha\":{\"value\":0.1},\"fill_color\":{\"value\":\"#1f77b4\"},\"line_alpha\":{\"value\":0.1},\"line_color\":{\"value\":\"#1f77b4\"},\"radius\":{\"units\":\"data\",\"value\":0.01},\"x\":{\"field\":\"x\"},\"y\":{\"field\":\"y\"}},\"id\":\"1169\",\"type\":\"Circle\"},{\"attributes\":{\"line_alpha\":0.1,\"line_color\":\"#1f77b4\",\"line_width\":3,\"x\":{\"field\":\"x\"},\"y\":{\"field\":\"y\"}},\"id\":\"1189\",\"type\":\"Line\"},{\"attributes\":{\"source\":{\"id\":\"1167\",\"type\":\"ColumnDataSource\"}},\"id\":\"1171\",\"type\":\"CDSView\"},{\"attributes\":{\"callback\":null,\"data\":{\"x\":{\"__ndarray__\":\"AAAAAAAAAAA5BS+n4OWUPzkFL6fg5aQ/1ofG+tBYrz85BS+n4OW0P4fG+tBYH7o/1ofG+tBYvz+SJEmSJEnCPzkFL6fg5cQ/4OUUvJyCxz+HxvrQWB/KPy6n4OUUvMw/1ofG+tBYzz8+NNaHxvrQP5IkSZIkSdI/5RS8nIKX0z85BS+n4OXUP431obE+NNY/4OUUvJyC1z801ofG+tDYP4fG+tBYH9o/27Zt27Zt2z8up+DlFLzcP4KXU/ByCt4/1ofG+tBY3z8VvJyCl1PgPz401ofG+uA/aKwPjfWh4T+SJEmSJEniP7ycgpdT8OI/5RS8nIKX4z8PjfWhsT7kPzkFL6fg5eQ/Y31orA+N5T+N9aGxPjTmP7Zt27Zt2+Y/4OUUvJyC5z8KXk7ByynoPzTWh8b60Og/XU7Byyl46T+HxvrQWB/qP7E+NNaHxuo/27Zt27Zt6z8FL6fg5RTsPy6n4OUUvOw/WB8a60Nj7T+Cl1PwcgruP6wPjfWhse4/1ofG+tBY7z8AAAAAAADwPw==\",\"dtype\":\"float64\",\"shape\":[50]},\"y\":{\"__ndarray__\":\"RSrbV9ucCEDiKUUn8Y4JQH8pr/YGgQpAHCkZxhxzC0C5KIOVMmUMQFYo7WRIVw1A8idXNF5JDkCQJ8EDdDsPQJaTlenEFhBAZJNK0c+PEEAzk/+42ggRQAKTtKDlgRFA0JJpiPD6EUCekh5w+3MSQG2S01cG7RJAO5KIPxFmE0AKkj0nHN8TQNiR8g4nWBRAppGn9jHRFEB2kVzePEoVQESREcZHwxVAEpHGrVI8FkDgkHuVXbUWQK+QMH1oLhdAfpDlZHOnF0BMkJpMfiAYQBqQTzSJmRhA6Y8EHJQSGUC4j7kDn4sZQIaPbuupBBpAVI8j07R9GkAij9i6v/YaQPGOjaLKbxtAwI5CitXoG0COjvdx4GEcQFyOrFnr2hxAKo5hQfZTHUD6jRYpAc0dQMiNyxAMRh5Alo2A+Ba/HkBkjTXgITgfQDSN6scssR9AgcbP1xsVIEBoRqpLoVEgQE/GhL8mjiBAN0ZfM6zKIEAexjmnMQchQAVGFBu3QyFA7MXujjyAIUDURckCwrwhQA==\",\"dtype\":\"float64\",\"shape\":[50]}},\"selected\":{\"id\":\"1243\",\"type\":\"Selection\"},\"selection_policy\":{\"id\":\"1242\",\"type\":\"UnionRenderers\"}},\"id\":\"1203\",\"type\":\"ColumnDataSource\"}],\"root_ids\":[\"1133\"]},\"title\":\"Bokeh Application\",\"version\":\"1.4.0\"}};\n",
       "  var render_items = [{\"docid\":\"e0fe56d0-ee10-41c0-99cb-7833ef811f27\",\"roots\":{\"1133\":\"5747dec0-5eaa-4f71-aa92-3a49e38dcc0e\"}}];\n",
       "  root.Bokeh.embed.embed_items_notebook(docs_json, render_items);\n",
       "\n",
       "  }\n",
       "  if (root.Bokeh !== undefined) {\n",
       "    embed_document(root);\n",
       "  } else {\n",
       "    var attempts = 0;\n",
       "    var timer = setInterval(function(root) {\n",
       "      if (root.Bokeh !== undefined) {\n",
       "        clearInterval(timer);\n",
       "        embed_document(root);\n",
       "      } else {\n",
       "        attempts++;\n",
       "        if (attempts > 100) {\n",
       "          clearInterval(timer);\n",
       "          console.log(\"Bokeh: ERROR: Unable to run BokehJS code because BokehJS library is missing\");\n",
       "        }\n",
       "      }\n",
       "    }, 10, root)\n",
       "  }\n",
       "})(window);"
      ],
      "application/vnd.bokehjs_exec.v0+json": ""
     },
     "metadata": {
      "application/vnd.bokehjs_exec.v0+json": {
       "id": "1133"
      }
     },
     "output_type": "display_data"
    }
   ],
   "source": [
    "p = bkp.figure(title='Predictions -- Data Without Outliers', y_range=[-1, 11], width=600, height=400)\n",
    "p.circle(xtrain, ytrain, radius=0.01)\n",
    "xtmp = np.linspace(0, 1)\n",
    "ytrue = linear_function(wt_true, xtmp)\n",
    "ymse = linear_function(weights_mse, xtmp)\n",
    "yhuber = linear_function(weights_huber, xtmp)\n",
    "p.line(xtmp, ytrue, color='gray', line_width=3, legend_label='true weight')\n",
    "p.line(xtmp, ymse, color='blue', line_width=3, legend_label='MSE')\n",
    "p.line(xtmp, yhuber, color='darkorange', line_width=3, legend_label='Huber')\n",
    "p.legend.location = 'bottom_right'\n",
    "bkp.show(p)"
   ]
  },
  {
   "cell_type": "markdown",
   "metadata": {},
   "source": [
    "From the above figure, the three predictions are practically indistinguishable.\n",
    "\n",
    "Both of the loss functions yielded the same **MSE loss of 0.1170**.  In fact, the Huber loss is also approximately the same.\n",
    "\n",
    "Note that the Huber loss parameter, $\\gamma$, was set to one standard deviation of $y$, the training data.\n",
    "\n",
    "The true weights and the weights from the predictions are below:"
   ]
  },
  {
   "cell_type": "code",
   "execution_count": 15,
   "metadata": {},
   "outputs": [
    {
     "name": "stdout",
     "output_type": "stream",
     "text": [
      "True weights      : [3.0, 6.0]\n",
      "MSE-loss weights  : [3.07659014 5.79207763]\n",
      "Huber-loss weights: [3.07659024 5.79207745]\n"
     ]
    }
   ],
   "source": [
    "print(f'True weights      : {wt_true}')\n",
    "print(f'MSE-loss weights  : {weights_mse}')\n",
    "print(f'Huber-loss weights: {weights_huber}')"
   ]
  },
  {
   "cell_type": "markdown",
   "metadata": {},
   "source": [
    "### Training Loss\n",
    "For completeness, we plot the training loss against the training iterations for both MSE and Huber losses.  The training loss decreases with the number of steps as expected."
   ]
  },
  {
   "cell_type": "code",
   "execution_count": 16,
   "metadata": {
    "scrolled": false
   },
   "outputs": [
    {
     "data": {
      "text/html": [
       "\n",
       "\n",
       "\n",
       "\n",
       "\n",
       "\n",
       "  <div class=\"bk-root\" id=\"78cd1e9b-ab85-4eb2-b173-748ea10e664f\" data-root-id=\"1329\"></div>\n"
      ]
     },
     "metadata": {},
     "output_type": "display_data"
    },
    {
     "data": {
      "application/javascript": [
       "(function(root) {\n",
       "  function embed_document(root) {\n",
       "    \n",
       "  var docs_json = {\"370ba45d-7dbb-4f43-9f84-fe2fae657d89\":{\"roots\":{\"references\":[{\"attributes\":{\"below\":[{\"id\":\"1340\",\"type\":\"LinearAxis\"}],\"center\":[{\"id\":\"1344\",\"type\":\"Grid\"},{\"id\":\"1349\",\"type\":\"Grid\"},{\"id\":\"1374\",\"type\":\"Legend\"}],\"left\":[{\"id\":\"1345\",\"type\":\"LinearAxis\"}],\"plot_height\":400,\"renderers\":[{\"id\":\"1366\",\"type\":\"GlyphRenderer\"},{\"id\":\"1379\",\"type\":\"GlyphRenderer\"}],\"title\":{\"id\":\"1330\",\"type\":\"Title\"},\"toolbar\":{\"id\":\"1356\",\"type\":\"Toolbar\"},\"x_range\":{\"id\":\"1332\",\"type\":\"DataRange1d\"},\"x_scale\":{\"id\":\"1336\",\"type\":\"LinearScale\"},\"y_range\":{\"id\":\"1334\",\"type\":\"DataRange1d\"},\"y_scale\":{\"id\":\"1338\",\"type\":\"LinearScale\"}},\"id\":\"1329\",\"subtype\":\"Figure\",\"type\":\"Plot\"},{\"attributes\":{\"axis_label\":\"Training Steps\",\"formatter\":{\"id\":\"1372\",\"type\":\"BasicTickFormatter\"},\"ticker\":{\"id\":\"1341\",\"type\":\"BasicTicker\"}},\"id\":\"1340\",\"type\":\"LinearAxis\"},{\"attributes\":{\"text\":\"Training Loss vs Iterations (no outliers)\"},\"id\":\"1330\",\"type\":\"Title\"},{\"attributes\":{\"active_drag\":\"auto\",\"active_inspect\":\"auto\",\"active_multi\":null,\"active_scroll\":\"auto\",\"active_tap\":\"auto\",\"tools\":[{\"id\":\"1350\",\"type\":\"PanTool\"},{\"id\":\"1351\",\"type\":\"WheelZoomTool\"},{\"id\":\"1352\",\"type\":\"BoxZoomTool\"},{\"id\":\"1353\",\"type\":\"SaveTool\"},{\"id\":\"1354\",\"type\":\"ResetTool\"},{\"id\":\"1355\",\"type\":\"HelpTool\"}]},\"id\":\"1356\",\"type\":\"Toolbar\"},{\"attributes\":{\"callback\":null,\"data\":{\"x\":[0,20,40,60,80,100,120,140,160,180,200,220,240,260,280,300,320,340,360,380,400,420,440,460,480,500,520,540,560,580,600,620,640,660,680,700,720,740,760,780,800,820,840,860,880,900,920,940,960,980,1000,1020,1040,1060,1080,1100,1120,1140,1160,1180,1200,1220,1240,1260,1280,1300,1320,1340,1360,1380,1400,1420,1440,1460,1480,1500,1520,1540,1560,1580,1600,1620,1640,1660,1680,1700,1720,1740,1760,1780,1800,1820,1840,1860,1880,1900,1920,1940,1960,1980,2000,2020,2040,2060,2080,2100,2120,2140,2160,2180,2200,2220,2240,2260,2280,2300,2320,2340,2360,2380,2400,2420,2440,2460,2480,2500,2520,2540,2560,2580,2600,2620,2640,2660,2680,2700,2720,2740,2760,2780,2800,2820,2840,2860,2880,2900,2920,2940,2960,2980,3000,3020,3040,3060,3080,3100,3120,3140,3160,3180,3200,3220,3240,3260,3280,3300,3320,3340,3360,3380,3400,3420,3440,3460,3480,3500,3520,3540,3560,3580,3600,3620,3640,3660,3680,3700,3720,3740,3760,3780,3800,3820,3840,3860,3880,3900,3920,3940,3960,3980,4000,4020,4040,4060,4080,4100,4120,4140,4160,4180,4200,4220,4240,4260,4280,4300,4320,4340,4360,4380,4400,4420,4440,4460,4480,4500,4520,4540,4560,4580,4600,4620,4640,4660,4680,4700,4720,4740,4760,4780,4800,4820,4840,4860,4880,4900,4920,4940,4960,4980],\"y\":[6.694937512508296,3.0051669070072053,1.594850773292282,1.2245227357685844,1.0760264965412392,0.9684009676994234,0.8752868978275218,0.7923794933189235,0.7182865560550019,0.6522759414250173,0.5935125998671652,0.5412007329167253,0.4946320346300183,0.45317597722919284,0.4162712586235946,0.3834182006642586,0.3541719834272207,0.3281366224648054,0.30495960729901395,0.2843271285417202,0.26595982901565746,0.24960902134739058,0.23505332081965125,0.2220956478929244,0.21056055981138125,0.20029187516396213,0.19115055923791724,0.18301284153317066,0.1757685399492525,0.16931956895482334,0.16357861154088704,0.1584679369763551,0.15391834835875864,0.14986824571027163,0.14626279193367386,0.1430531703355545,0.14019592366386519,0.1376523657105966,0.1353880575128689,0.13337234106036616,0.1315779241956625,0.12998051108711972,0.12855847327108205,0.12729255680938123,0.1261656215971584,0.1251624092913152,0.12426933671741813,0.12347431195785159,0.12276657063111292,0.12213653014552227,0.12157565995399001,0.1210763660531313,0.12063188816288428,0.12023620819447556,0.11988396876741898,0.11957040067229378,0.1192912582971709,0.11904276214338305,0.11882154765231842,0.11862461965037127,0.11844931179524733,0.11829325047453974,0.11815432266777517,0.1180306473367904,0.11792054995707649,0.11782253984525093,0.11773528997568065,0.11765761901297882,0.11758847531709987,0.11752692270446975,0.11747212777235863,0.1174233486148742,0.11737992477779269,0.11734126831621917,0.11730685583400169,0.11727622139711415,0.11724895022505848,0.11722467307486889,0.11720306124168019,0.11718382210816886,0.11716669518260722,0.11715144857188982,0.11713787584177336,0.1171257932218241,0.11711503711722437,0.1171054618937506,0.11709693790593317,0.11708934974169742,0.11708259465972162,0.11707658119835168,0.11707122793723997,0.11706646239493944,0.11706222004752863,0.1170584434549773,0.11705508148342787,0.11705208861285839,0.11704942432075673,0.11704705253345803,0.11704494113771931,0.11704306154591622,0.11704138830897547,0.11703989877180306,0.11703857276654096,0.11703739233950132,0.11703634150807861,0.11703540604435074,0.11703457328243752,0.11703383194700834,0.11703317200061815,0.11703258450780356,0.117032061514099,0.11703159593833697,0.11703118147677014,0.11703081251772127,0.1170304840656023,0.11703019167327672,0.11702993138184559,0.11702969966704599,0.11702949339153353,0.11702930976240371,0.11702914629337653,0.1170290007711336,0.11702887122535033,0.11702875590201796,0.11702865323969551,0.11702856184836788,0.11702848049062547,0.1170284080649107,0.11702834359060248,0.11702828619473912,0.11702823510019891,0.11702818961517814,0.11702814912382427,0.11702811307789722,0.11702808098934647,0.11702805242370355,0.11702802699419865,0.11702800435652433,0.11702798420417382,0.11702796626429068,0.11702795029397457,0.11702793607699254,0.11702792342085126,0.11702791215419049,0.11702790212446335,0.11702789319587047,0.11702788524752163,0.11702787817179863,0.11702787187289847,0.11702786626553599,0.11702786127378939,0.11702785683007194,0.11702785287421731,0.1170278493526643,0.11702784621773221,0.11702784342697507,0.11702784094260699,0.11702783873099043,0.11702783676218068,0.11702783500952084,0.11702783344928037,0.11702783206033411,0.11702783082387612,0.11702782972316526,0.1170278287432983,0.11702782787100785,0.11702782709448381,0.11702782640321192,0.11702782578783279,0.11702782524001437,0.1170278247523393,0.11702782431820459,0.11702782393173232,0.11702782358768966,0.11702782328141843,0.11702782300877188,0.11702782276605829,0.11702782254999167,0.11702782235764626,0.11702782218641788,0.11702782203398827,0.11702782189829328,0.11702782177749589,0.1170278216699606,0.11702782157423124,0.11702782148901174,0.11702782141314817,0.1170278213456135,0.11702782128549322,0.11702782123197336,0.11702782118432942,0.11702782114191602,0.11702782110415913,0.11702782107054746,0.11702782104062592,0.11702782101398927,0.11702782099027717,0.1170278209691682,0.11702782095037677,0.11702782093364839,0.11702782091875658,0.11702782090549972,0.11702782089369833,0.11702782088319247,0.11702782087384005,0.11702782086551444,0.11702782085810287,0.11702782085150493,0.1170278208456314,0.11702782084040275,0.1170278208357481,0.11702782083160447,0.11702782082791571,0.11702782082463195,0.1170278208217088,0.11702782081910654,0.11702782081678996,0.11702782081472764,0.1170278208128918,0.11702782081125747,0.11702782080980272,0.11702782080850753,0.11702782080735454,0.11702782080632822,0.11702782080541445,0.11702782080460111,0.11702782080387691,0.11702782080323237,0.11702782080265854,0.11702782080214773,0.11702782080169301,0.11702782080128818,0.11702782080092781,0.117027820800607,0.11702782080032144,0.11702782080006711,0.11702782079984085,0.11702782079963939,0.11702782079946006,0.11702782079930031,0.11702782079915823,0.11702782079903169,0.11702782079891905,0.11702782079881884,0.11702782079872952,0.11702782079865007,0.11702782079857933,0.11702782079851635,0.11702782079846025,0.11702782079841041]},\"selected\":{\"id\":\"1422\",\"type\":\"Selection\"},\"selection_policy\":{\"id\":\"1421\",\"type\":\"UnionRenderers\"}},\"id\":\"1376\",\"type\":\"ColumnDataSource\"},{\"attributes\":{\"line_color\":\"darkorange\",\"line_width\":2,\"x\":{\"field\":\"x\"},\"y\":{\"field\":\"y\"}},\"id\":\"1377\",\"type\":\"Line\"},{\"attributes\":{\"line_alpha\":0.1,\"line_color\":\"#1f77b4\",\"line_width\":2,\"x\":{\"field\":\"x\"},\"y\":{\"field\":\"y\"}},\"id\":\"1378\",\"type\":\"Line\"},{\"attributes\":{},\"id\":\"1422\",\"type\":\"Selection\"},{\"attributes\":{},\"id\":\"1350\",\"type\":\"PanTool\"},{\"attributes\":{\"data_source\":{\"id\":\"1376\",\"type\":\"ColumnDataSource\"},\"glyph\":{\"id\":\"1377\",\"type\":\"Line\"},\"hover_glyph\":null,\"muted_glyph\":null,\"nonselection_glyph\":{\"id\":\"1378\",\"type\":\"Line\"},\"selection_glyph\":null,\"view\":{\"id\":\"1380\",\"type\":\"CDSView\"}},\"id\":\"1379\",\"type\":\"GlyphRenderer\"},{\"attributes\":{\"callback\":null},\"id\":\"1334\",\"type\":\"DataRange1d\"},{\"attributes\":{},\"id\":\"1341\",\"type\":\"BasicTicker\"},{\"attributes\":{},\"id\":\"1351\",\"type\":\"WheelZoomTool\"},{\"attributes\":{},\"id\":\"1386\",\"type\":\"UnionRenderers\"},{\"attributes\":{},\"id\":\"1387\",\"type\":\"Selection\"},{\"attributes\":{},\"id\":\"1336\",\"type\":\"LinearScale\"},{\"attributes\":{\"source\":{\"id\":\"1376\",\"type\":\"ColumnDataSource\"}},\"id\":\"1380\",\"type\":\"CDSView\"},{\"attributes\":{\"overlay\":{\"id\":\"1373\",\"type\":\"BoxAnnotation\"}},\"id\":\"1352\",\"type\":\"BoxZoomTool\"},{\"attributes\":{\"label\":{\"value\":\"MSE\"},\"renderers\":[{\"id\":\"1366\",\"type\":\"GlyphRenderer\"}]},\"id\":\"1375\",\"type\":\"LegendItem\"},{\"attributes\":{},\"id\":\"1353\",\"type\":\"SaveTool\"},{\"attributes\":{\"callback\":null},\"id\":\"1332\",\"type\":\"DataRange1d\"},{\"attributes\":{},\"id\":\"1354\",\"type\":\"ResetTool\"},{\"attributes\":{},\"id\":\"1421\",\"type\":\"UnionRenderers\"},{\"attributes\":{\"bottom_units\":\"screen\",\"fill_alpha\":{\"value\":0.5},\"fill_color\":{\"value\":\"lightgrey\"},\"left_units\":\"screen\",\"level\":\"overlay\",\"line_alpha\":{\"value\":1.0},\"line_color\":{\"value\":\"black\"},\"line_dash\":[4,4],\"line_width\":{\"value\":2},\"render_mode\":\"css\",\"right_units\":\"screen\",\"top_units\":\"screen\"},\"id\":\"1373\",\"type\":\"BoxAnnotation\"},{\"attributes\":{\"data_source\":{\"id\":\"1363\",\"type\":\"ColumnDataSource\"},\"glyph\":{\"id\":\"1364\",\"type\":\"Line\"},\"hover_glyph\":null,\"muted_glyph\":null,\"nonselection_glyph\":{\"id\":\"1365\",\"type\":\"Line\"},\"selection_glyph\":null,\"view\":{\"id\":\"1367\",\"type\":\"CDSView\"}},\"id\":\"1366\",\"type\":\"GlyphRenderer\"},{\"attributes\":{\"line_alpha\":0.1,\"line_color\":\"#1f77b4\",\"line_width\":2,\"x\":{\"field\":\"x\"},\"y\":{\"field\":\"y\"}},\"id\":\"1365\",\"type\":\"Line\"},{\"attributes\":{},\"id\":\"1355\",\"type\":\"HelpTool\"},{\"attributes\":{},\"id\":\"1346\",\"type\":\"BasicTicker\"},{\"attributes\":{\"line_color\":\"#1f77b4\",\"line_width\":2,\"x\":{\"field\":\"x\"},\"y\":{\"field\":\"y\"}},\"id\":\"1364\",\"type\":\"Line\"},{\"attributes\":{\"label\":{\"value\":\"Huber\"},\"renderers\":[{\"id\":\"1379\",\"type\":\"GlyphRenderer\"}]},\"id\":\"1389\",\"type\":\"LegendItem\"},{\"attributes\":{\"callback\":null,\"data\":{\"x\":[0,20,40,60,80,100,120,140,160,180,200,220,240,260,280,300,320,340,360,380,400,420,440,460,480,500,520,540,560,580,600,620,640,660,680,700,720,740,760,780,800,820,840,860,880,900,920,940,960,980,1000,1020,1040,1060,1080,1100,1120,1140,1160,1180,1200,1220,1240,1260,1280,1300,1320,1340,1360,1380,1400,1420,1440,1460,1480,1500,1520,1540,1560,1580,1600,1620,1640,1660,1680,1700,1720,1740,1760,1780,1800,1820,1840,1860,1880,1900,1920,1940,1960,1980,2000,2020,2040,2060,2080,2100,2120,2140,2160,2180,2200,2220,2240,2260,2280,2300,2320,2340,2360,2380,2400,2420,2440,2460,2480,2500,2520,2540,2560,2580,2600,2620,2640,2660,2680,2700,2720,2740,2760,2780,2800,2820,2840,2860,2880,2900,2920,2940,2960,2980,3000,3020,3040,3060,3080,3100,3120,3140,3160,3180,3200,3220,3240,3260,3280,3300,3320,3340,3360,3380,3400,3420,3440,3460,3480,3500,3520,3540,3560,3580,3600,3620,3640,3660,3680,3700,3720,3740,3760,3780,3800,3820,3840,3860,3880,3900,3920,3940,3960,3980,4000,4020,4040,4060,4080,4100,4120,4140,4160,4180,4200,4220,4240,4260,4280,4300,4320,4340,4360,4380,4400,4420,4440,4460,4480,4500,4520,4540,4560,4580,4600,4620,4640,4660,4680,4700,4720,4740,4760,4780,4800,4820,4840,4860,4880,4900,4920,4940,4960,4980],\"y\":[3.916966229026443,1.5625688407620395,1.1645419136373418,1.0199719465547792,0.9171876927019244,0.8288892364518409,0.75068031442053,0.681106581396435,0.6191771804975815,0.5640475723329212,0.5149705740249483,0.47128160657063084,0.43238912391521284,0.3977665328507423,0.366945054370755,0.33950737547222587,0.31508199873729004,0.2933382123602864,0.27398161241342534,0.2567501167113158,0.2414104163017942,0.22775481653716767,0.2155984249549756,0.20477664789305508,0.1951429619438913,0.18656693007444047,0.17893243555033578,0.17213610975236326,0.16608593259834853,0.16069998662061422,0.15590534782961243,0.1516370983463808,0.1478374474351801,0.14445494903537787,0.1414438051982064,0.13876324599715356,0.1363769775161707,0.1342526904416319,0.13236162260454004,0.13067816954993836,0.12917953786076225,0.1278454365422467,0.12665780228833406,0.12560055491027403,0.12465937961600121,0.12382153319241868,0.12307567146636027,0.1224116957081059,0.12182061589780473,0.12129442900347581,0.12082601062250868,0.12040901851952664,0.1200378067545434,0.11970734923873798,0.11941317168281566,0.11915129101655975,0.11891816145933168,0.11871062651133261,0.11852587621560406,0.11836140911210699,0.1182149983687518,0.1180846616308024,0.11796863418042527,0.1178653450429741,0.11777339571649371,0.11769154123645022,0.1176186733193089,0.11755380535672814,0.11749605905719804,0.11744465255425351,0.11739888982025161,0.11735815124237974,0.11732188523329563,0.1172896007628111,0.1172608607094997,0.1172352759422126,0.11721250005136602,0.11719222465866734,0.11717417524177055,0.11715810741733154,0.11714380363213556,0.11713107021749639,0.11711973476704383,0.11710964380239657,0.11710066069511395,0.11709266381679043,0.11708554489224586,0.1170792075335139,0.11707356593478,0.1170685437105979,0.11706407286165518,0.11706009285408389,0.11705654979985192,0.11705339572713573,0.11705058793079741,0.11704808839417066,0.11704586327432727,0.11704388244385491,0.11704211908294102,0.11704054931624176,0.11703915188961678,0.11703790788235595,0.11703680045099768,0.11703581460127498,0.11703493698509726,0.11703415571982156,0.11703346022736534,0.11703284109098273,0.11703228992776474,0.11703179927513742,0.11703136248982064,0.11703097365788062,0.11703062751465705,0.11703031937348113,0.11703004506221963,0.11702980086678576,0.11702958348085125,0.11702938996107971,0.11702921768727559,0.11702906432690628,0.11702892780352127,0.11702880626863778,0.1170286980767121,0.11702860176286004,0.11702851602302294,0.11702843969631065,0.11702837174928385,0.11702831126196152,0.11702825741536456,0.11702820948042744,0.11702816680812617,0.11702812882069158,0.11702809500378573,0.11702806489953867,0.11702803810034848,0.11702801424336262,0.11702799300556523,0.11702797409940306,0.11702795726889302,0.11702794228615528,0.11702792894832816,0.11702791707482199,0.11702790650487316,0.11702789709536798,0.11702788871890468,0.11702788126206869,0.11702787462389683,0.11702786871451039,0.11702786345389818,0.11702785877083302,0.11702785460190786,0.11702785089067673,0.11702784758689076,0.11702784464581775,0.11702784202763652,0.1170278396968977,0.11702783762204391,0.11702783577498216,0.11702783413070397,0.11702783266694615,0.1170278313638901,0.11702783020389264,0.11702782917124796,0.11702782825197432,0.11702782743362497,0.11702782670511987,0.11702782605659512,0.11702782547927001,0.11702782496532789,0.11702782450780974,0.11702782410052125,0.1170278237379478,0.11702782341518017,0.11702782312784828,0.1170278228720617,0.1170278226443572,0.11702782244165168,0.11702782226120062,0.11702782210056077,0.11702782195755707,0.11702782183025331,0.11702782171692586,0.11702782161604033,0.11702782152623073,0.11702782144628106,0.11702782137510877,0.11702782131175032,0.11702782125534777,0.11702782120513758,0.11702782116043979,0.1170278211206492,0.1170278210852271,0.11702782105369385,0.1170278210256226,0.11702782100063325,0.11702782097838735,0.11702782095858381,0.11702782094095439,0.11702782092526058,0.1170278209112895,0.11702782089885244,0.11702782088778074,0.11702782087792468,0.11702782086915059,0.11702782086133982,0.11702782085438655,0.11702782084819667,0.11702782084268638,0.11702782083778092,0.1170278208334142,0.11702782082952683,0.1170278208260662,0.11702782082298557,0.11702782082024307,0.11702782081780168,0.1170278208156283,0.11702782081369355,0.11702782081197129,0.11702782081043799,0.11702782080907312,0.11702782080785809,0.11702782080677644,0.11702782080581348,0.1170278208049563,0.11702782080419313,0.11702782080351393,0.11702782080290919,0.11702782080237087,0.11702782080189165,0.11702782080146498,0.11702782080108516,0.11702782080074718,0.11702782080044613,0.1170278208001782,0.11702782079993974,0.11702782079972734,0.11702782079953837,0.11702782079937009,0.11702782079922032,0.11702782079908697,0.1170278207989682,0.11702782079886256,0.11702782079876847,0.11702782079868472,0.11702782079861017,0.11702782079854383,0.11702782079848476,0.11702782079843213,0.11702782079838533,0.11702782079834366]},\"selected\":{\"id\":\"1387\",\"type\":\"Selection\"},\"selection_policy\":{\"id\":\"1386\",\"type\":\"UnionRenderers\"}},\"id\":\"1363\",\"type\":\"ColumnDataSource\"},{\"attributes\":{\"items\":[{\"id\":\"1375\",\"type\":\"LegendItem\"},{\"id\":\"1389\",\"type\":\"LegendItem\"}]},\"id\":\"1374\",\"type\":\"Legend\"},{\"attributes\":{},\"id\":\"1370\",\"type\":\"BasicTickFormatter\"},{\"attributes\":{\"ticker\":{\"id\":\"1341\",\"type\":\"BasicTicker\"}},\"id\":\"1344\",\"type\":\"Grid\"},{\"attributes\":{\"source\":{\"id\":\"1363\",\"type\":\"ColumnDataSource\"}},\"id\":\"1367\",\"type\":\"CDSView\"},{\"attributes\":{\"dimension\":1,\"ticker\":{\"id\":\"1346\",\"type\":\"BasicTicker\"}},\"id\":\"1349\",\"type\":\"Grid\"},{\"attributes\":{},\"id\":\"1372\",\"type\":\"BasicTickFormatter\"},{\"attributes\":{},\"id\":\"1338\",\"type\":\"LinearScale\"},{\"attributes\":{\"axis_label\":\"Loss\",\"formatter\":{\"id\":\"1370\",\"type\":\"BasicTickFormatter\"},\"ticker\":{\"id\":\"1346\",\"type\":\"BasicTicker\"}},\"id\":\"1345\",\"type\":\"LinearAxis\"}],\"root_ids\":[\"1329\"]},\"title\":\"Bokeh Application\",\"version\":\"1.4.0\"}};\n",
       "  var render_items = [{\"docid\":\"370ba45d-7dbb-4f43-9f84-fe2fae657d89\",\"roots\":{\"1329\":\"78cd1e9b-ab85-4eb2-b173-748ea10e664f\"}}];\n",
       "  root.Bokeh.embed.embed_items_notebook(docs_json, render_items);\n",
       "\n",
       "  }\n",
       "  if (root.Bokeh !== undefined) {\n",
       "    embed_document(root);\n",
       "  } else {\n",
       "    var attempts = 0;\n",
       "    var timer = setInterval(function(root) {\n",
       "      if (root.Bokeh !== undefined) {\n",
       "        clearInterval(timer);\n",
       "        embed_document(root);\n",
       "      } else {\n",
       "        attempts++;\n",
       "        if (attempts > 100) {\n",
       "          clearInterval(timer);\n",
       "          console.log(\"Bokeh: ERROR: Unable to run BokehJS code because BokehJS library is missing\");\n",
       "        }\n",
       "      }\n",
       "    }, 10, root)\n",
       "  }\n",
       "})(window);"
      ],
      "application/vnd.bokehjs_exec.v0+json": ""
     },
     "metadata": {
      "application/vnd.bokehjs_exec.v0+json": {
       "id": "1329"
      }
     },
     "output_type": "display_data"
    }
   ],
   "source": [
    "p = bkp.figure(title='Training Loss vs Iterations (no outliers)', width=600, height=400)\n",
    "p.line(np.arange(len(loss_values_mse)) * 20, loss_values_mse, line_width=2, legend_label='MSE')\n",
    "p.line(np.arange(len(loss_values_huber)) * 20, loss_values_huber, line_width=2,\n",
    "       color='darkorange', legend_label='Huber')\n",
    "p.xaxis.axis_label = 'Training Steps'\n",
    "p.yaxis.axis_label = 'Loss'\n",
    "bkp.show(p)"
   ]
  },
  {
   "cell_type": "markdown",
   "metadata": {},
   "source": [
    "## Predictions With Outliers\n",
    "We now add the outlier noise, thus creating the outliers, and then train the linear model using both MSE loss and Huber loss."
   ]
  },
  {
   "cell_type": "code",
   "execution_count": 17,
   "metadata": {},
   "outputs": [
    {
     "name": "stdout",
     "output_type": "stream",
     "text": [
      "[1.99351065913857, 1.9935106591385188, 1.9935106591384735, 1.993510659138434, 1.993510659138397, 1.9935106591383653, 1.9935106591383374, 1.993510659138311, 1.993510659138289, 1.9935106591382687]\n",
      "[3.0, 6.0] [3.68645222 4.58096621]\n"
     ]
    }
   ],
   "source": [
    "# With outliers - Predict using MSE Loss\n",
    "np.random.seed(424242)\n",
    "weights_mse_ol, loss_values_mse_ol = train(xtrain, ytrain + outlier_noise, nweights=2, update_func=update_weights_mse,\n",
    "                             loss_func=mse_loss, niter=250 * 20)\n",
    "print(loss_values_mse_ol[-10:])\n",
    "print(wt_true, weights_mse_ol)"
   ]
  },
  {
   "cell_type": "code",
   "execution_count": 18,
   "metadata": {},
   "outputs": [
    {
     "name": "stdout",
     "output_type": "stream",
     "text": [
      "loss values (last few): [1.9935106591383374, 1.993510659138311, 1.993510659138289, 1.9935106591382687]\n",
      "True weights: [3.0, 6.0]\n",
      "Predicted weights: [3.68645222 4.58096621]\n",
      "MSE loss (all data): 1.9935106591382687\n",
      "MSE loss (unaffected data): 0.24677995511981501\n"
     ]
    }
   ],
   "source": [
    "print('loss values (last few):', loss_values_mse_ol[-4:])\n",
    "print('True weights:', wt_true)\n",
    "print('Predicted weights:', weights_mse_ol)\n",
    "yhat = linear_function(weights_mse_ol, xtrain)\n",
    "print('MSE loss (all data):', mse_loss(yhat, ytrain + outlier_noise))\n",
    "yhat = linear_function(weights_mse_ol, xtrain[outlier_noise == 0])\n",
    "print('MSE loss (unaffected data):', mse_loss(yhat, ytrain[outlier_noise == 0]))"
   ]
  },
  {
   "cell_type": "code",
   "execution_count": 19,
   "metadata": {},
   "outputs": [
    {
     "name": "stdout",
     "output_type": "stream",
     "text": [
      "gamma: 1.9831842254929397\n",
      "[1.2135555810637617, 1.2135555810630088, 1.2135555810623326, 1.2135555810617251, 1.2135555810611796, 1.213555581060689, 1.213555581060249, 1.2135555810598533, 1.2135555810594978, 1.213555581059179]\n",
      "[3.0, 6.0] [3.29274357 5.34311077]\n"
     ]
    }
   ],
   "source": [
    "# With outliers - Predict using Huber Loss\n",
    "np.random.seed(424242)\n",
    "gamma = np.std(ytrain + outlier_noise)\n",
    "update_func = functools.partial(update_weights_huber, gamma=gamma)\n",
    "loss_func = functools.partial(huber_loss, gamma=gamma)\n",
    "weights_huber_ol, loss_values_huber_ol = train(xtrain, ytrain + outlier_noise, nweights=2, update_func=update_func,\n",
    "                                               loss_func=loss_func, niter=250 * 20)\n",
    "print('gamma:', gamma)\n",
    "print(loss_values_huber_ol[-10:])\n",
    "print(wt_true, weights_huber_ol)"
   ]
  },
  {
   "cell_type": "code",
   "execution_count": 20,
   "metadata": {},
   "outputs": [
    {
     "name": "stdout",
     "output_type": "stream",
     "text": [
      "gamma: 1.9831842254929397\n",
      "loss values (last few): [1.2135555810637617, 1.2135555810630088, 1.2135555810623326, 1.2135555810617251, 1.2135555810611796, 1.213555581060689, 1.213555581060249, 1.2135555810598533, 1.2135555810594978, 1.213555581059179]\n",
      "True weights: [3.0, 6.0]\n",
      "Predicted weights: [3.29274357 5.34311077]\n",
      "MSE loss (all data): 2.047293898186882\n",
      "MSE loss (unaffected data): 0.13419719922409176\n"
     ]
    }
   ],
   "source": [
    "print('gamma:', gamma)\n",
    "print('loss values (last few):', loss_values_huber_ol[-10:])\n",
    "print('True weights:', wt_true)\n",
    "print('Predicted weights:', weights_huber_ol)\n",
    "yhat = linear_function(weights_huber_ol, xtrain)\n",
    "print('MSE loss (all data):', mse_loss(yhat, ytrain + outlier_noise))\n",
    "yhat = linear_function(weights_huber_ol, xtrain[outlier_noise == 0])\n",
    "print('MSE loss (unaffected data):', mse_loss(yhat, ytrain[outlier_noise == 0]))"
   ]
  },
  {
   "cell_type": "code",
   "execution_count": 21,
   "metadata": {},
   "outputs": [
    {
     "data": {
      "text/html": [
       "\n",
       "\n",
       "\n",
       "\n",
       "\n",
       "\n",
       "  <div class=\"bk-root\" id=\"589e15c6-152d-4f6f-bbd3-716fdf58a2cb\" data-root-id=\"1484\"></div>\n"
      ]
     },
     "metadata": {},
     "output_type": "display_data"
    },
    {
     "data": {
      "application/javascript": [
       "(function(root) {\n",
       "  function embed_document(root) {\n",
       "    \n",
       "  var docs_json = {\"edd0df10-51d3-47f3-a9c6-c0fd6b76bed7\":{\"roots\":{\"references\":[{\"attributes\":{\"below\":[{\"id\":\"1495\",\"type\":\"LinearAxis\"}],\"center\":[{\"id\":\"1499\",\"type\":\"Grid\"},{\"id\":\"1504\",\"type\":\"Grid\"},{\"id\":\"1536\",\"type\":\"Legend\"}],\"left\":[{\"id\":\"1500\",\"type\":\"LinearAxis\"}],\"plot_height\":400,\"renderers\":[{\"id\":\"1521\",\"type\":\"GlyphRenderer\"},{\"id\":\"1526\",\"type\":\"GlyphRenderer\"},{\"id\":\"1541\",\"type\":\"GlyphRenderer\"},{\"id\":\"1557\",\"type\":\"GlyphRenderer\"}],\"title\":{\"id\":\"1485\",\"type\":\"Title\"},\"toolbar\":{\"id\":\"1511\",\"type\":\"Toolbar\"},\"x_range\":{\"id\":\"1487\",\"type\":\"DataRange1d\"},\"x_scale\":{\"id\":\"1491\",\"type\":\"LinearScale\"},\"y_range\":{\"id\":\"1489\",\"type\":\"Range1d\"},\"y_scale\":{\"id\":\"1493\",\"type\":\"LinearScale\"}},\"id\":\"1484\",\"subtype\":\"Figure\",\"type\":\"Plot\"},{\"attributes\":{\"source\":{\"id\":\"1554\",\"type\":\"ColumnDataSource\"}},\"id\":\"1558\",\"type\":\"CDSView\"},{\"attributes\":{\"line_color\":\"gray\",\"line_width\":3,\"x\":{\"field\":\"x\"},\"y\":{\"field\":\"y\"}},\"id\":\"1524\",\"type\":\"Line\"},{\"attributes\":{},\"id\":\"1509\",\"type\":\"ResetTool\"},{\"attributes\":{},\"id\":\"1510\",\"type\":\"HelpTool\"},{\"attributes\":{},\"id\":\"1618\",\"type\":\"Selection\"},{\"attributes\":{\"line_alpha\":0.1,\"line_color\":\"#1f77b4\",\"line_width\":3,\"x\":{\"field\":\"x\"},\"y\":{\"field\":\"y\"}},\"id\":\"1540\",\"type\":\"Line\"},{\"attributes\":{},\"id\":\"1569\",\"type\":\"Selection\"},{\"attributes\":{\"line_color\":\"blue\",\"line_width\":3,\"x\":{\"field\":\"x\"},\"y\":{\"field\":\"y\"}},\"id\":\"1539\",\"type\":\"Line\"},{\"attributes\":{},\"id\":\"1530\",\"type\":\"BasicTickFormatter\"},{\"attributes\":{\"label\":{\"value\":\"Huber\"},\"renderers\":[{\"id\":\"1557\",\"type\":\"GlyphRenderer\"}]},\"id\":\"1571\",\"type\":\"LegendItem\"},{\"attributes\":{},\"id\":\"1550\",\"type\":\"UnionRenderers\"},{\"attributes\":{},\"id\":\"1505\",\"type\":\"PanTool\"},{\"attributes\":{},\"id\":\"1534\",\"type\":\"Selection\"},{\"attributes\":{},\"id\":\"1617\",\"type\":\"UnionRenderers\"},{\"attributes\":{\"callback\":null,\"data\":{\"x\":{\"__ndarray__\":\"GcKryYGD7z88rlgroD/oP4QZL9uewMo/u32AG4at5j/utv4yt4/mP1vj1pwIg+s/bpkK6Liv0D+xtICj4bvqP8dzNMd2duQ/VHXQaAZ30D/qFRGWjKvXPxGdJ+tGfes/vKsOXJJY4D8c1kbOTJvVPxD/2A2K46w/cAII53ZjyT/o5Ve9jEzZP4QUPB4M0cM/QJC3+xkdjD8gd3fHPqytP41A+uYGQew/MZMvkP6V6z/oR8uSfX3pP9gO7cjH/N0/o4lQsErx7z94ZJ4e5SzqP6wDjLkffeg/6HkkkIUVtD+u2rfDmH/WPytPm00Y8us/Gz4Z54n+6T9+aljkFULSP7Vgn2mNeew/0osGYmTH3D+I77rB9e2+PxzgMPU/2Os/KdXSOXHw5j/g/ujYM9yTP9AKRy0Qu9c/9CNcdnpY6z+wdnhPJFKqP3YNUWFfBNY//Xw96lrQ6T9ai2y5NbfkPypOkuFfQt4/2KWRb8H66T9/zZiIkFzhPyS4gxSjMMc/nIe0gArC3T+ajvbPRvHRP2B0AF7mQbU/7BYhBZyM7T+oEx4Mr0rpP0+nmjAbvOk/gN7S++F9ez+paDdYWRPkP+WRbTjTZuw/VkAtD58Z0D/Y6Ifwje/MP3oI3OxhzdQ/m7H2YsGu6T9U7SENtFPCPw6Y3yocyeA/a4dHjpke4j+0TywrwcLEP4KfeqBJw9E/uBVrK5fSvD9E1P3Y3srHP/BcOcBm8eo/UtGp0ha35D8=\",\"dtype\":\"float64\",\"shape\":[70]},\"y\":{\"__ndarray__\":\"RkoRqnhzIUCe9aeudUkcQFwLm+DgKQ9AceZ/9/wvHEDiLzLlUEEbQDUAySSgZCBAoTOCKgW/EUCkA92mn50fQGD2P4DmxOU/8y2FcAc0FEB0cWCY3BQVQJ64asrrCR9AsWzPXamtF0CerZHy1ekUQMYz+mi+swhA9FHiGRIkEEBtfSSJaUcWQJS8K5+nqAtAtli/u/BdBEA/4I25pR4JQKGpNO9+OiBADMDkKdCZBUBSAWkDBqgeQCAakqclShRAQzwnuSiPIUBxpiJLVY4cQN7EthOZah1A7Kraq6+aDECJ/9ZCrHcUQIMP13dWDiBA7ExAHPa8HUDFA4JAdkQTQPjaHgyKeh9Aou3nLSQUGEBmZyptSFgNQMk4t2n56B9A2jKLlb7EHECuzFKxuTMMQFmT1lOMiRRAvcw3IzceIEAuskAUsqsKQLtHxgov1hNA4UfXFUqPH0BelosIpYgeQM8JngmMLhhASjI5KhSgH0CkyA8nR3UXQOp5Jj8T5BFAW1cWb08QGEAFk3qEUxgSQIdnhK4TYyNA/PD11YTGIUASOx/gH1weQI6JpM0QcB1Ai3u/um5BC0BivV6fAj8bQGQPpUxefB9ArIHvARmIEUCGcTrVyr0RQPPvU2x2qhNAbGz3aaHRIEAZS9tb2q4NQETKXoRNsRhA/cUe1KiPHkAq4S9Tz2USQCtdTPozzxFA5+AKNU64I0BKOySXja8RQIXUsSjMmiBAQopz2jWFG0A=\",\"dtype\":\"float64\",\"shape\":[70]}},\"selected\":{\"id\":\"1534\",\"type\":\"Selection\"},\"selection_policy\":{\"id\":\"1533\",\"type\":\"UnionRenderers\"}},\"id\":\"1518\",\"type\":\"ColumnDataSource\"},{\"attributes\":{},\"id\":\"1506\",\"type\":\"WheelZoomTool\"},{\"attributes\":{\"text\":\"Predictions -- Data Without Outliers\"},\"id\":\"1485\",\"type\":\"Title\"},{\"attributes\":{\"label\":{\"value\":\"true weight\"},\"renderers\":[{\"id\":\"1526\",\"type\":\"GlyphRenderer\"}]},\"id\":\"1537\",\"type\":\"LegendItem\"},{\"attributes\":{\"active_drag\":\"auto\",\"active_inspect\":\"auto\",\"active_multi\":null,\"active_scroll\":\"auto\",\"active_tap\":\"auto\",\"tools\":[{\"id\":\"1505\",\"type\":\"PanTool\"},{\"id\":\"1506\",\"type\":\"WheelZoomTool\"},{\"id\":\"1507\",\"type\":\"BoxZoomTool\"},{\"id\":\"1508\",\"type\":\"SaveTool\"},{\"id\":\"1509\",\"type\":\"ResetTool\"},{\"id\":\"1510\",\"type\":\"HelpTool\"}]},\"id\":\"1511\",\"type\":\"Toolbar\"},{\"attributes\":{\"line_color\":\"darkorange\",\"line_width\":3,\"x\":{\"field\":\"x\"},\"y\":{\"field\":\"y\"}},\"id\":\"1555\",\"type\":\"Line\"},{\"attributes\":{},\"id\":\"1533\",\"type\":\"UnionRenderers\"},{\"attributes\":{\"callback\":null},\"id\":\"1487\",\"type\":\"DataRange1d\"},{\"attributes\":{\"callback\":null,\"data\":{\"x\":{\"__ndarray__\":\"AAAAAAAAAAA5BS+n4OWUPzkFL6fg5aQ/1ofG+tBYrz85BS+n4OW0P4fG+tBYH7o/1ofG+tBYvz+SJEmSJEnCPzkFL6fg5cQ/4OUUvJyCxz+HxvrQWB/KPy6n4OUUvMw/1ofG+tBYzz8+NNaHxvrQP5IkSZIkSdI/5RS8nIKX0z85BS+n4OXUP431obE+NNY/4OUUvJyC1z801ofG+tDYP4fG+tBYH9o/27Zt27Zt2z8up+DlFLzcP4KXU/ByCt4/1ofG+tBY3z8VvJyCl1PgPz401ofG+uA/aKwPjfWh4T+SJEmSJEniP7ycgpdT8OI/5RS8nIKX4z8PjfWhsT7kPzkFL6fg5eQ/Y31orA+N5T+N9aGxPjTmP7Zt27Zt2+Y/4OUUvJyC5z8KXk7ByynoPzTWh8b60Og/XU7Byyl46T+HxvrQWB/qP7E+NNaHxuo/27Zt27Zt6z8FL6fg5RTsPy6n4OUUvOw/WB8a60Nj7T+Cl1PwcgruP6wPjfWhse4/1ofG+tBY7z8AAAAAAADwPw==\",\"dtype\":\"float64\",\"shape\":[50]},\"y\":{\"__ndarray__\":\"SJveqdp9DUA9SE/hUT0OQDH1vxjJ/A5AJqIwUEC8D0CNp9DD2z0QQAf+iF+XnRBAglRB+1L9EED8qvmWDl0RQHYBsjLKvBFA8FdqzoUcEkBrriJqQXwSQOUE2wX92xJAYFuTobg7E0DasUs9dJsTQFQIBNkv+xNAzl68dOtaFEBItXQQp7oUQMMLLaxiGhVAPWLlRx56FUC3uJ3j2dkVQDIPVn+VORZArGUOG1GZFkAmvMa2DPkWQKASf1LIWBdAG2k37oO4F0CVv++JPxgYQA8WqCX7dxhAimxgwbbXGEAEwxhdcjcZQH4Z0fgtlxlA+G+JlOn2GUByxkEwpVYaQO0c+stgthpAaHOyZxwWG0DiyWoD2HUbQFwgI5+T1RtA1nbbOk81HEBQzZPWCpUcQMojTHLG9BxARHoEDoJUHUC/0LypPbQdQDondUX5Ex5AtH0t4bRzHkAu1OV8cNMeQKgqnhgsMx9AIoFWtOeSH0Cd1w5Qo/IfQAyX43UvKSBAScK/Qw1ZIECG7ZsR64ggQA==\",\"dtype\":\"float64\",\"shape\":[50]}},\"selected\":{\"id\":\"1569\",\"type\":\"Selection\"},\"selection_policy\":{\"id\":\"1568\",\"type\":\"UnionRenderers\"}},\"id\":\"1538\",\"type\":\"ColumnDataSource\"},{\"attributes\":{\"bottom_units\":\"screen\",\"fill_alpha\":{\"value\":0.5},\"fill_color\":{\"value\":\"lightgrey\"},\"left_units\":\"screen\",\"level\":\"overlay\",\"line_alpha\":{\"value\":1.0},\"line_color\":{\"value\":\"black\"},\"line_dash\":[4,4],\"line_width\":{\"value\":2},\"render_mode\":\"css\",\"right_units\":\"screen\",\"top_units\":\"screen\"},\"id\":\"1535\",\"type\":\"BoxAnnotation\"},{\"attributes\":{},\"id\":\"1501\",\"type\":\"BasicTicker\"},{\"attributes\":{\"data_source\":{\"id\":\"1538\",\"type\":\"ColumnDataSource\"},\"glyph\":{\"id\":\"1539\",\"type\":\"Line\"},\"hover_glyph\":null,\"muted_glyph\":null,\"nonselection_glyph\":{\"id\":\"1540\",\"type\":\"Line\"},\"selection_glyph\":null,\"view\":{\"id\":\"1542\",\"type\":\"CDSView\"}},\"id\":\"1541\",\"type\":\"GlyphRenderer\"},{\"attributes\":{\"data_source\":{\"id\":\"1523\",\"type\":\"ColumnDataSource\"},\"glyph\":{\"id\":\"1524\",\"type\":\"Line\"},\"hover_glyph\":null,\"muted_glyph\":null,\"nonselection_glyph\":{\"id\":\"1525\",\"type\":\"Line\"},\"selection_glyph\":null,\"view\":{\"id\":\"1527\",\"type\":\"CDSView\"}},\"id\":\"1526\",\"type\":\"GlyphRenderer\"},{\"attributes\":{\"callback\":null,\"end\":11,\"start\":-1},\"id\":\"1489\",\"type\":\"Range1d\"},{\"attributes\":{\"formatter\":{\"id\":\"1530\",\"type\":\"BasicTickFormatter\"},\"ticker\":{\"id\":\"1501\",\"type\":\"BasicTicker\"}},\"id\":\"1500\",\"type\":\"LinearAxis\"},{\"attributes\":{\"fill_color\":{\"value\":\"#1f77b4\"},\"line_color\":{\"value\":\"#1f77b4\"},\"radius\":{\"units\":\"data\",\"value\":0.01},\"x\":{\"field\":\"x\"},\"y\":{\"field\":\"y\"}},\"id\":\"1519\",\"type\":\"Circle\"},{\"attributes\":{\"line_alpha\":0.1,\"line_color\":\"#1f77b4\",\"line_width\":3,\"x\":{\"field\":\"x\"},\"y\":{\"field\":\"y\"}},\"id\":\"1525\",\"type\":\"Line\"},{\"attributes\":{\"label\":{\"value\":\"MSE\"},\"renderers\":[{\"id\":\"1541\",\"type\":\"GlyphRenderer\"}]},\"id\":\"1553\",\"type\":\"LegendItem\"},{\"attributes\":{},\"id\":\"1493\",\"type\":\"LinearScale\"},{\"attributes\":{\"dimension\":1,\"ticker\":{\"id\":\"1501\",\"type\":\"BasicTicker\"}},\"id\":\"1504\",\"type\":\"Grid\"},{\"attributes\":{\"source\":{\"id\":\"1523\",\"type\":\"ColumnDataSource\"}},\"id\":\"1527\",\"type\":\"CDSView\"},{\"attributes\":{\"data_source\":{\"id\":\"1554\",\"type\":\"ColumnDataSource\"},\"glyph\":{\"id\":\"1555\",\"type\":\"Line\"},\"hover_glyph\":null,\"muted_glyph\":null,\"nonselection_glyph\":{\"id\":\"1556\",\"type\":\"Line\"},\"selection_glyph\":null,\"view\":{\"id\":\"1558\",\"type\":\"CDSView\"}},\"id\":\"1557\",\"type\":\"GlyphRenderer\"},{\"attributes\":{},\"id\":\"1532\",\"type\":\"BasicTickFormatter\"},{\"attributes\":{\"line_alpha\":0.1,\"line_color\":\"#1f77b4\",\"line_width\":3,\"x\":{\"field\":\"x\"},\"y\":{\"field\":\"y\"}},\"id\":\"1556\",\"type\":\"Line\"},{\"attributes\":{\"data_source\":{\"id\":\"1518\",\"type\":\"ColumnDataSource\"},\"glyph\":{\"id\":\"1519\",\"type\":\"Circle\"},\"hover_glyph\":null,\"muted_glyph\":null,\"nonselection_glyph\":{\"id\":\"1520\",\"type\":\"Circle\"},\"selection_glyph\":null,\"view\":{\"id\":\"1522\",\"type\":\"CDSView\"}},\"id\":\"1521\",\"type\":\"GlyphRenderer\"},{\"attributes\":{\"source\":{\"id\":\"1538\",\"type\":\"ColumnDataSource\"}},\"id\":\"1542\",\"type\":\"CDSView\"},{\"attributes\":{\"callback\":null,\"data\":{\"x\":{\"__ndarray__\":\"AAAAAAAAAAA5BS+n4OWUPzkFL6fg5aQ/1ofG+tBYrz85BS+n4OW0P4fG+tBYH7o/1ofG+tBYvz+SJEmSJEnCPzkFL6fg5cQ/4OUUvJyCxz+HxvrQWB/KPy6n4OUUvMw/1ofG+tBYzz8+NNaHxvrQP5IkSZIkSdI/5RS8nIKX0z85BS+n4OXUP431obE+NNY/4OUUvJyC1z801ofG+tDYP4fG+tBYH9o/27Zt27Zt2z8up+DlFLzcP4KXU/ByCt4/1ofG+tBY3z8VvJyCl1PgPz401ofG+uA/aKwPjfWh4T+SJEmSJEniP7ycgpdT8OI/5RS8nIKX4z8PjfWhsT7kPzkFL6fg5eQ/Y31orA+N5T+N9aGxPjTmP7Zt27Zt2+Y/4OUUvJyC5z8KXk7ByynoPzTWh8b60Og/XU7Byyl46T+HxvrQWB/qP7E+NNaHxuo/27Zt27Zt6z8FL6fg5RTsPy6n4OUUvOw/WB8a60Nj7T+Cl1PwcgruP6wPjfWhse4/1ofG+tBY7z8AAAAAAADwPw==\",\"dtype\":\"float64\",\"shape\":[50]},\"y\":{\"__ndarray__\":\"6A/q8IlXCkBJKfbq2zYLQKpCAuUtFgxAC1wO33/1DEBsdRrZ0dQNQM2OJtMjtA5ALqgyzXWTD0DIYJ/jYzkQQHhtpeAMqRBAKXqr3bUYEUDZhrHaXogRQIqTt9cH+BFAOqC91LBnEkDrrMPRWdcSQJy5yc4CRxNATMbPy6u2E0D90tXIVCYUQK3f28X9lRRAXuzhwqYFFUAO+ee/T3UVQL4F7rz45BVAcBL0uaFUFkAgH/q2SsQWQNArALTzMxdAgTgGsZyjF0AyRQyuRRMYQOJREqvughhAkl4YqJfyGEBDax6lQGIZQPR3JKLp0RlApIQqn5JBGkBUkTCcO7EaQAaeNpnkIBtAtqo8lo2QG0Bmt0KTNgAcQBbESJDfbxxAyNBOjYjfHEB43VSKMU8dQCnqWofavh1A2fZghIMuHkCJA2eBLJ4eQDoQbX7VDR9A6xxze359H0CcKXl4J+0fQCabvzpoLiBAfqFCuTxmIEDWp8U3EZ4gQC+uSLbl1SBAh7TLNLoNIUDguk6zjkUhQA==\",\"dtype\":\"float64\",\"shape\":[50]}},\"selected\":{\"id\":\"1618\",\"type\":\"Selection\"},\"selection_policy\":{\"id\":\"1617\",\"type\":\"UnionRenderers\"}},\"id\":\"1554\",\"type\":\"ColumnDataSource\"},{\"attributes\":{\"formatter\":{\"id\":\"1532\",\"type\":\"BasicTickFormatter\"},\"ticker\":{\"id\":\"1496\",\"type\":\"BasicTicker\"}},\"id\":\"1495\",\"type\":\"LinearAxis\"},{\"attributes\":{},\"id\":\"1491\",\"type\":\"LinearScale\"},{\"attributes\":{},\"id\":\"1551\",\"type\":\"Selection\"},{\"attributes\":{\"ticker\":{\"id\":\"1496\",\"type\":\"BasicTicker\"}},\"id\":\"1499\",\"type\":\"Grid\"},{\"attributes\":{\"items\":[{\"id\":\"1537\",\"type\":\"LegendItem\"},{\"id\":\"1553\",\"type\":\"LegendItem\"},{\"id\":\"1571\",\"type\":\"LegendItem\"}],\"location\":\"bottom_right\"},\"id\":\"1536\",\"type\":\"Legend\"},{\"attributes\":{\"overlay\":{\"id\":\"1535\",\"type\":\"BoxAnnotation\"}},\"id\":\"1507\",\"type\":\"BoxZoomTool\"},{\"attributes\":{},\"id\":\"1568\",\"type\":\"UnionRenderers\"},{\"attributes\":{\"fill_alpha\":{\"value\":0.1},\"fill_color\":{\"value\":\"#1f77b4\"},\"line_alpha\":{\"value\":0.1},\"line_color\":{\"value\":\"#1f77b4\"},\"radius\":{\"units\":\"data\",\"value\":0.01},\"x\":{\"field\":\"x\"},\"y\":{\"field\":\"y\"}},\"id\":\"1520\",\"type\":\"Circle\"},{\"attributes\":{\"callback\":null,\"data\":{\"x\":{\"__ndarray__\":\"AAAAAAAAAAA5BS+n4OWUPzkFL6fg5aQ/1ofG+tBYrz85BS+n4OW0P4fG+tBYH7o/1ofG+tBYvz+SJEmSJEnCPzkFL6fg5cQ/4OUUvJyCxz+HxvrQWB/KPy6n4OUUvMw/1ofG+tBYzz8+NNaHxvrQP5IkSZIkSdI/5RS8nIKX0z85BS+n4OXUP431obE+NNY/4OUUvJyC1z801ofG+tDYP4fG+tBYH9o/27Zt27Zt2z8up+DlFLzcP4KXU/ByCt4/1ofG+tBY3z8VvJyCl1PgPz401ofG+uA/aKwPjfWh4T+SJEmSJEniP7ycgpdT8OI/5RS8nIKX4z8PjfWhsT7kPzkFL6fg5eQ/Y31orA+N5T+N9aGxPjTmP7Zt27Zt2+Y/4OUUvJyC5z8KXk7ByynoPzTWh8b60Og/XU7Byyl46T+HxvrQWB/qP7E+NNaHxuo/27Zt27Zt6z8FL6fg5RTsPy6n4OUUvOw/WB8a60Nj7T+Cl1PwcgruP6wPjfWhse4/1ofG+tBY7z8AAAAAAADwPw==\",\"dtype\":\"float64\",\"shape\":[50]},\"y\":{\"__ndarray__\":\"AAAAAAAACEA/NNaHxvoIQH1orA+N9QlAvJyCl1PwCkD70FgfGusLQDkFL6fg5QxAeDkFL6fgDUC3bdu2bdsOQPahsT401g9AGutDY31oEEA5BS+n4OUQQFgfGutDYxFAeDkFL6fgEUCXU/ByCl4SQLdt27Zt2xJA1ofG+tBYE0D2obE+NNYTQBW8nIKXUxRANNaHxvrQFEBU8HIKXk4VQHIKXk7ByxVAkiRJkiRJFkCxPjTWh8YWQNFYHxrrQxdA8HIKXk7BF0AQjfWhsT4YQC6n4OUUvBhATsHLKXg5GUBu27Zt27YZQI31obE+NBpArA+N9aGxGkDLKXg5BS8bQOtDY31orBtACl5OwcspHEAqeDkFL6ccQEiSJEmSJB1AaKwPjfWhHUCIxvrQWB8eQKfg5RS8nB5AxvrQWB8aH0DlFLycgpcfQIKXU/ByCiBAkiRJkiRJIECisT401ocgQLE+NNaHxiBAwcspeDkFIUDRWB8a60MhQODlFLycgiFA8HIKXk7BIUAAAAAAAAAiQA==\",\"dtype\":\"float64\",\"shape\":[50]}},\"selected\":{\"id\":\"1551\",\"type\":\"Selection\"},\"selection_policy\":{\"id\":\"1550\",\"type\":\"UnionRenderers\"}},\"id\":\"1523\",\"type\":\"ColumnDataSource\"},{\"attributes\":{},\"id\":\"1508\",\"type\":\"SaveTool\"},{\"attributes\":{\"source\":{\"id\":\"1518\",\"type\":\"ColumnDataSource\"}},\"id\":\"1522\",\"type\":\"CDSView\"},{\"attributes\":{},\"id\":\"1496\",\"type\":\"BasicTicker\"}],\"root_ids\":[\"1484\"]},\"title\":\"Bokeh Application\",\"version\":\"1.4.0\"}};\n",
       "  var render_items = [{\"docid\":\"edd0df10-51d3-47f3-a9c6-c0fd6b76bed7\",\"roots\":{\"1484\":\"589e15c6-152d-4f6f-bbd3-716fdf58a2cb\"}}];\n",
       "  root.Bokeh.embed.embed_items_notebook(docs_json, render_items);\n",
       "\n",
       "  }\n",
       "  if (root.Bokeh !== undefined) {\n",
       "    embed_document(root);\n",
       "  } else {\n",
       "    var attempts = 0;\n",
       "    var timer = setInterval(function(root) {\n",
       "      if (root.Bokeh !== undefined) {\n",
       "        clearInterval(timer);\n",
       "        embed_document(root);\n",
       "      } else {\n",
       "        attempts++;\n",
       "        if (attempts > 100) {\n",
       "          clearInterval(timer);\n",
       "          console.log(\"Bokeh: ERROR: Unable to run BokehJS code because BokehJS library is missing\");\n",
       "        }\n",
       "      }\n",
       "    }, 10, root)\n",
       "  }\n",
       "})(window);"
      ],
      "application/vnd.bokehjs_exec.v0+json": ""
     },
     "metadata": {
      "application/vnd.bokehjs_exec.v0+json": {
       "id": "1484"
      }
     },
     "output_type": "display_data"
    }
   ],
   "source": [
    "p = bkp.figure(title='Predictions -- Data Without Outliers', y_range=[-1, 11], width=600, height=400)\n",
    "p.circle(xtrain, ytrain + outlier_noise, radius=0.01)\n",
    "xtmp = np.linspace(0, 1)\n",
    "ytrue = linear_function(wt_true, xtmp)\n",
    "ymse = linear_function(weights_mse_ol, xtmp)\n",
    "yhuber = linear_function(weights_huber_ol, xtmp)\n",
    "p.line(xtmp, ytrue, color='gray', line_width=3, legend_label='true weight')\n",
    "p.line(xtmp, ymse, color='blue', line_width=3, legend_label='MSE')\n",
    "p.line(xtmp, yhuber, color='darkorange', line_width=3, legend_label='Huber')\n",
    "p.legend.location = 'bottom_right'\n",
    "bkp.show(p)"
   ]
  },
  {
   "cell_type": "markdown",
   "metadata": {},
   "source": [
    "### Training Loss\n",
    "For completeness, we plot the training loss against the training iterations for both MSE and Huber losses.  The training loss decreases with the number of steps as expected.  We can also observe that the training loss for the MSE-loss model is higher than that of the Huber-loss model."
   ]
  },
  {
   "cell_type": "code",
   "execution_count": 22,
   "metadata": {},
   "outputs": [
    {
     "data": {
      "text/html": [
       "\n",
       "\n",
       "\n",
       "\n",
       "\n",
       "\n",
       "  <div class=\"bk-root\" id=\"17c52092-5a94-4aa6-8baf-be6abb689529\" data-root-id=\"1704\"></div>\n"
      ]
     },
     "metadata": {},
     "output_type": "display_data"
    },
    {
     "data": {
      "application/javascript": [
       "(function(root) {\n",
       "  function embed_document(root) {\n",
       "    \n",
       "  var docs_json = {\"75c24684-ddd5-4f5a-86ea-062c60f78d8f\":{\"roots\":{\"references\":[{\"attributes\":{\"below\":[{\"id\":\"1715\",\"type\":\"LinearAxis\"}],\"center\":[{\"id\":\"1719\",\"type\":\"Grid\"},{\"id\":\"1724\",\"type\":\"Grid\"},{\"id\":\"1749\",\"type\":\"Legend\"}],\"left\":[{\"id\":\"1720\",\"type\":\"LinearAxis\"}],\"plot_height\":400,\"renderers\":[{\"id\":\"1741\",\"type\":\"GlyphRenderer\"},{\"id\":\"1754\",\"type\":\"GlyphRenderer\"}],\"title\":{\"id\":\"1705\",\"type\":\"Title\"},\"toolbar\":{\"id\":\"1731\",\"type\":\"Toolbar\"},\"x_range\":{\"id\":\"1707\",\"type\":\"DataRange1d\"},\"x_scale\":{\"id\":\"1711\",\"type\":\"LinearScale\"},\"y_range\":{\"id\":\"1709\",\"type\":\"DataRange1d\"},\"y_scale\":{\"id\":\"1713\",\"type\":\"LinearScale\"}},\"id\":\"1704\",\"subtype\":\"Figure\",\"type\":\"Plot\"},{\"attributes\":{\"line_color\":\"darkorange\",\"line_width\":2,\"x\":{\"field\":\"x\"},\"y\":{\"field\":\"y\"}},\"id\":\"1752\",\"type\":\"Line\"},{\"attributes\":{\"active_drag\":\"auto\",\"active_inspect\":\"auto\",\"active_multi\":null,\"active_scroll\":\"auto\",\"active_tap\":\"auto\",\"tools\":[{\"id\":\"1725\",\"type\":\"PanTool\"},{\"id\":\"1726\",\"type\":\"WheelZoomTool\"},{\"id\":\"1727\",\"type\":\"BoxZoomTool\"},{\"id\":\"1728\",\"type\":\"SaveTool\"},{\"id\":\"1729\",\"type\":\"ResetTool\"},{\"id\":\"1730\",\"type\":\"HelpTool\"}]},\"id\":\"1731\",\"type\":\"Toolbar\"},{\"attributes\":{},\"id\":\"1725\",\"type\":\"PanTool\"},{\"attributes\":{},\"id\":\"1820\",\"type\":\"UnionRenderers\"},{\"attributes\":{},\"id\":\"1726\",\"type\":\"WheelZoomTool\"},{\"attributes\":{},\"id\":\"1761\",\"type\":\"UnionRenderers\"},{\"attributes\":{\"text\":\"Training Loss vs Iterations (data with outliers)\"},\"id\":\"1705\",\"type\":\"Title\"},{\"attributes\":{\"callback\":null,\"data\":{\"x\":[0,20,40,60,80,100,120,140,160,180,200,220,240,260,280,300,320,340,360,380,400,420,440,460,480,500,520,540,560,580,600,620,640,660,680,700,720,740,760,780,800,820,840,860,880,900,920,940,960,980,1000,1020,1040,1060,1080,1100,1120,1140,1160,1180,1200,1220,1240,1260,1280,1300,1320,1340,1360,1380,1400,1420,1440,1460,1480,1500,1520,1540,1560,1580,1600,1620,1640,1660,1680,1700,1720,1740,1760,1780,1800,1820,1840,1860,1880,1900,1920,1940,1960,1980,2000,2020,2040,2060,2080,2100,2120,2140,2160,2180,2200,2220,2240,2260,2280,2300,2320,2340,2360,2380,2400,2420,2440,2460,2480,2500,2520,2540,2560,2580,2600,2620,2640,2660,2680,2700,2720,2740,2760,2780,2800,2820,2840,2860,2880,2900,2920,2940,2960,2980,3000,3020,3040,3060,3080,3100,3120,3140,3160,3180,3200,3220,3240,3260,3280,3300,3320,3340,3360,3380,3400,3420,3440,3460,3480,3500,3520,3540,3560,3580,3600,3620,3640,3660,3680,3700,3720,3740,3760,3780,3800,3820,3840,3860,3880,3900,3920,3940,3960,3980,4000,4020,4040,4060,4080,4100,4120,4140,4160,4180,4200,4220,4240,4260,4280,4300,4320,4340,4360,4380,4400,4420,4440,4460,4480,4500,4520,4540,4560,4580,4600,4620,4640,4660,4680,4700,4720,4740,4760,4780,4800,4820,4840,4860,4880,4900,4920,4940,4960,4980],\"y\":[7.306877405147762,3.8704422583556877,2.4581351234863367,2.0756511205495087,1.9495563577531154,1.8703157827416854,1.8037029588661464,1.7442584406708308,1.6906880861219216,1.6423367467754406,1.5987299151419174,1.559546287692463,1.5243488117643875,1.492731961296136,1.464331478615242,1.438820163809307,1.415904103136833,1.3953192826021743,1.3768285462353258,1.3602188638329584,1.3452988766548146,1.331896692795823,1.31985790683404,1.3090438209388973,1.2993298469452765,1.2906040709838413,1.2827659641308509,1.275725224222972,1.2694007354937207,1.26371963404561,1.258616468391372,1.2540324453929357,1.2499147529106733,1.2462159513592272,1.2428934271600764,1.2399089017941158,1.2372279907980916,1.2348198076241181,1.2326566077983827,1.2307134692794233,1.2289680053333984,1.227400106618437,1.2259917095066097,1.2247265879744125,1.223590166664123,1.2225693529623471,1.2216523861611275,1.220828701963829,1.2200888107747723,1.2194241883704109,1.218827177692472,1.2182909006316418,1.2178091787854506,1.2173764622774228,1.2169877658174215,1.2166386112665442,1.2163249760448653,1.2160432467876343,1.2157901777160072,1.2155628532427027,1.2153586543817727,1.2151752285754833,1.2150104625906988,1.2148624581725023,1.214729510174564,1.2146100869142904,1.2145028125264423,1.2144064511119097,1.21431989249902,1.2142421394533447,1.2141722961886492,1.2141095580466135,1.214053202226431,1.2140025794574836,1.2139571065191508,1.2139162595215718,1.2138795678699565,1.2138466088429034,1.2138170027222608,1.2137904084184277,1.2137665195406881,1.213745060867311,1.2137257851747425,1.213708470389366,1.2136929170290087,1.213678945904729,1.2136663960563892,1.2136551228982522,1.2136449965532219,1.2136359003565362,1.213627729511686,1.213620389883062,1.213613796911426,1.2136078746397112,1.213602554837929,1.2135977762170949,1.2135934837231233,1.2135896279025566,1.2135861643328132,1.2135830531104004,1.2135802583911885,1.2135777479774557,1.2135754929469373,1.21357346731962,1.213571647758422,1.2135700133003338,1.2135685451149028,1.2135672262872894,1.213566041623392,1.2135649774747996,1.2135640215815453,1.213563162930865,1.2135623916303167,1.213561698793813,1.2135610764392424,1.2135605173965116,1.2135600152249364,1.2135595641390404,1.2135591589419021,1.2135587949652789,1.2135584680158273,1.213558174326791,1.2135579105146024,1.213557673539905,1.2135574606725323,1.2135572694600583,1.2135570976995391,1.2135569434121378,1.2135568048203218,1.2135566803273867,1.2135565684990586,1.213556468046975,1.2135563778138343,1.2135562967600688,1.2135562239518656,1.2135561585504064,1.2135560998022072,1.2135560470304347,1.2135559996271101,1.2135559570461034,1.2135559187968432,1.2135558844386614,1.213555853575722,1.2135558258524548,1.2135558009494627,1.2135557785798399,1.2135557584858687,1.213555740436048,1.213555724222427,1.2135557096582101,1.2135556965756038,1.2135556848238853,1.2135556742676634,1.2135556647853214,1.2135556562676137,1.2135556486164076,1.2135556417435558,1.2135556355698758,1.2135556300242416,1.2135556250427617,1.2135556205680458,1.2135556165485408,1.2135556129379375,1.2135556096946398,1.213555606781281,1.2135556041642968,1.2135556018135372,1.2135555997019198,1.2135555978051156,1.2135555961012725,1.2135555945707606,1.213555593195947,1.213555591960993,1.213555590851669,1.2135555898551975,1.213555588960096,1.2135555881560527,1.213555587433804,1.2135555867850296,1.2135555862022551,1.2135555856787659,1.2135555852085302,1.2135555847861326,1.213555584406704,1.2135555840658756,1.2135555837597187,1.2135555834847076,1.2135555832376728,1.2135555830157696,1.2135555828164395,1.2135555826373874,1.2135555824765505,1.213555582332075,1.213555582202297,1.2135555820857216,1.2135555819810055,1.2135555818869417,1.2135555818024468,1.2135555817265478,1.21355558165837,1.213555581597128,1.213555581542116,1.2135555814927002,1.2135555814483117,1.2135555814084389,1.213555581372622,1.2135555813404486,1.2135555813115486,1.2135555812855887,1.213555581262269,1.2135555812413223,1.2135555812225063,1.2135555812056043,1.2135555811904217,1.2135555811767835,1.2135555811645333,1.2135555811535292,1.213555581143644,1.213555581134765,1.2135555811267889,1.213555581119624,1.2135555811131882,1.2135555811074072,1.2135555811022143,1.2135555810975498,1.2135555810933596,1.213555581089596,1.2135555810862144,1.2135555810831777,1.2135555810804493,1.213555581077999,1.2135555810757974,1.2135555810738206,1.2135555810720444,1.2135555810704486,1.2135555810690153,1.2135555810677283,1.2135555810665721,1.213555581065533,1.2135555810646002,1.2135555810637617,1.2135555810630088,1.2135555810623326,1.2135555810617251,1.2135555810611796,1.213555581060689,1.213555581060249,1.2135555810598533,1.2135555810594978,1.213555581059179]},\"selected\":{\"id\":\"1821\",\"type\":\"Selection\"},\"selection_policy\":{\"id\":\"1820\",\"type\":\"UnionRenderers\"}},\"id\":\"1751\",\"type\":\"ColumnDataSource\"},{\"attributes\":{\"overlay\":{\"id\":\"1748\",\"type\":\"BoxAnnotation\"}},\"id\":\"1727\",\"type\":\"BoxZoomTool\"},{\"attributes\":{\"source\":{\"id\":\"1738\",\"type\":\"ColumnDataSource\"}},\"id\":\"1742\",\"type\":\"CDSView\"},{\"attributes\":{},\"id\":\"1762\",\"type\":\"Selection\"},{\"attributes\":{},\"id\":\"1821\",\"type\":\"Selection\"},{\"attributes\":{\"callback\":null},\"id\":\"1707\",\"type\":\"DataRange1d\"},{\"attributes\":{\"callback\":null},\"id\":\"1709\",\"type\":\"DataRange1d\"},{\"attributes\":{\"line_alpha\":0.1,\"line_color\":\"#1f77b4\",\"line_width\":2,\"x\":{\"field\":\"x\"},\"y\":{\"field\":\"y\"}},\"id\":\"1740\",\"type\":\"Line\"},{\"attributes\":{},\"id\":\"1747\",\"type\":\"BasicTickFormatter\"},{\"attributes\":{\"dimension\":1,\"ticker\":{\"id\":\"1721\",\"type\":\"BasicTicker\"}},\"id\":\"1724\",\"type\":\"Grid\"},{\"attributes\":{\"items\":[{\"id\":\"1750\",\"type\":\"LegendItem\"},{\"id\":\"1764\",\"type\":\"LegendItem\"}]},\"id\":\"1749\",\"type\":\"Legend\"},{\"attributes\":{\"line_alpha\":0.1,\"line_color\":\"#1f77b4\",\"line_width\":2,\"x\":{\"field\":\"x\"},\"y\":{\"field\":\"y\"}},\"id\":\"1753\",\"type\":\"Line\"},{\"attributes\":{\"label\":{\"value\":\"MSE\"},\"renderers\":[{\"id\":\"1741\",\"type\":\"GlyphRenderer\"}]},\"id\":\"1750\",\"type\":\"LegendItem\"},{\"attributes\":{\"axis_label\":\"Loss\",\"formatter\":{\"id\":\"1745\",\"type\":\"BasicTickFormatter\"},\"ticker\":{\"id\":\"1721\",\"type\":\"BasicTicker\"}},\"id\":\"1720\",\"type\":\"LinearAxis\"},{\"attributes\":{\"data_source\":{\"id\":\"1751\",\"type\":\"ColumnDataSource\"},\"glyph\":{\"id\":\"1752\",\"type\":\"Line\"},\"hover_glyph\":null,\"muted_glyph\":null,\"nonselection_glyph\":{\"id\":\"1753\",\"type\":\"Line\"},\"selection_glyph\":null,\"view\":{\"id\":\"1755\",\"type\":\"CDSView\"}},\"id\":\"1754\",\"type\":\"GlyphRenderer\"},{\"attributes\":{},\"id\":\"1730\",\"type\":\"HelpTool\"},{\"attributes\":{\"ticker\":{\"id\":\"1716\",\"type\":\"BasicTicker\"}},\"id\":\"1719\",\"type\":\"Grid\"},{\"attributes\":{},\"id\":\"1745\",\"type\":\"BasicTickFormatter\"},{\"attributes\":{\"callback\":null,\"data\":{\"x\":[0,20,40,60,80,100,120,140,160,180,200,220,240,260,280,300,320,340,360,380,400,420,440,460,480,500,520,540,560,580,600,620,640,660,680,700,720,740,760,780,800,820,840,860,880,900,920,940,960,980,1000,1020,1040,1060,1080,1100,1120,1140,1160,1180,1200,1220,1240,1260,1280,1300,1320,1340,1360,1380,1400,1420,1440,1460,1480,1500,1520,1540,1560,1580,1600,1620,1640,1660,1680,1700,1720,1740,1760,1780,1800,1820,1840,1860,1880,1900,1920,1940,1960,1980,2000,2020,2040,2060,2080,2100,2120,2140,2160,2180,2200,2220,2240,2260,2280,2300,2320,2340,2360,2380,2400,2420,2440,2460,2480,2500,2520,2540,2560,2580,2600,2620,2640,2660,2680,2700,2720,2740,2760,2780,2800,2820,2840,2860,2880,2900,2920,2940,2960,2980,3000,3020,3040,3060,3080,3100,3120,3140,3160,3180,3200,3220,3240,3260,3280,3300,3320,3340,3360,3380,3400,3420,3440,3460,3480,3500,3520,3540,3560,3580,3600,3620,3640,3660,3680,3700,3720,3740,3760,3780,3800,3820,3840,3860,3880,3900,3920,3940,3960,3980,4000,4020,4040,4060,4080,4100,4120,4140,4160,4180,4200,4220,4240,4260,4280,4300,4320,4340,4360,4380,4400,4420,4440,4460,4480,4500,4520,4540,4560,4580,4600,4620,4640,4660,4680,4700,4720,4740,4760,4780,4800,4820,4840,4860,4880,4900,4920,4940,4960,4980],\"y\":[5.082074141896499,2.8461127364572163,2.5181660099477092,2.431614794589538,2.3799400128132198,2.3370732106734877,2.2992998997722487,2.2657214535418566,2.2358353969543447,2.2092311729344503,2.185547838726025,2.16446463935113,2.1456961038768334,2.128988110946483,2.114114439498305,2.1008737047469945,2.0890866313673637,2.0785936261475246,2.069252617145729,2.0609371300813852,2.0535345759136314,2.046944726421651,2.0410783571465543,2.0358560393206804,2.0312070644274316,2.0270684868305318,2.0233842715101975,2.0201045353668525,2.0171848718198837,2.014585749556711,2.012271977291435,2.0102122272860496,2.0083786111828794,2.0067463024051055,2.0052932000128503,2.0039996294634963,2.002848076224666,2.001822948633036,2.0009103667881982,2.0000979746232366,1.9993747726075208,1.9987309688165782,1.9981578463525556,1.9976476453202106,1.9971934577604016,1.9967891341185273,1.9964291999815236,1.9961087819560517,1.9958235416843118,1.9955696171040627,1.9953435701575306,1.9951423402412063,1.9949632027662467,1.9948037322684156,1.9946617695680686,1.9945353925355518,1.994422890066181,1.9943227389124263,1.9942335830596303,1.9941542153660021,1.9940835612183008,1.9940206639819174,1.9939646720483437,1.993914827304671,1.9938704548689794,1.99383095395265,1.9937957897258831,1.993764486076272,1.9937366191623924,1.9937118116751231,1.9936897277290049,1.9936700683144555,1.9936525672492766,1.9936369875746318,1.993623118346697,1.9936107717805542,1.993599780707638,1.9935899963123294,1.9935812861170383,1.9935735321885009,1.9935666295409984,1.9935604847148876,1.9935550145111842,1.9935501448650752,1.9935458098431078,1.993541950750467,1.9935385153362708,1.9935354570861064,1.9935327345922442,1.993530310992984,1.9935281534735683,1.9935262328218701,1.99352452303288,1.9935230009566003,1.9935216459846044,1.9935204397710027,1.9935193659840496,1.9935184100850112,1.9935175591313201,1.9935168016013347,1.9935161272383422,1.99351552691168,1.9935149924931193,1.9935145167468027,1.993514093231276,1.9935137162122756,1.9935133805850824,1.993513081805414,1.9935128158278868,1.9935125790512518,1.9935123682696274,1.993512180629099,1.993512013589072,1.9935118648878796,1.9935117325121536,1.9935116146695704,1.9935115097645775,1.9935114163767966,1.9935113332417853,1.9935112592339226,1.9935111933511653,1.9935111347014831,1.9935110824907774,1.993511036012131,1.9935109946362384,1.993510957802884,1.993510925013356,1.993510895823693,1.993510869838678,1.993510846706481,1.9935108261138992,1.993510807782118,1.9935107914629286,1.9935107769353748,1.993510764002759,1.9935107524899767,1.9935107422411493,1.9935107331175097,1.9935107249955288,1.993510717765236,1.9935107113287351,1.9935107055988794,1.9935107004980872,1.9935106959572968,1.993510691915025,1.9935106883165445,1.9935106851131292,1.9935106822614075,1.9935106797227677,1.9935106774628386,1.9935106754510201,1.9935106736600736,1.993510672065749,1.9935106706464605,1.9935106693829916,1.9935106682582366,1.9935106672569642,1.9935106663656184,1.9935106655721309,1.9935106648657581,1.9935106642369367,1.9935106636771505,1.993510663178822,1.9935106627352037,1.993510662340289,1.9935106619887304,1.9935106616757683,1.993510661397166,1.9935106611491509,1.993510660928364,1.9935106607318172,1.9935106605568478,1.993510660401088,1.993510660262429,1.9935106601389931,1.9935106600291086,1.993510659931288,1.9935106598442067,1.9935106597666865,1.9935106596976757,1.9935106596362426,1.9935106595815533,1.9935106595328689,1.9935106594895287,1.9935106594509466,1.9935106594166012,1.9935106593860261,1.993510659358807,1.993510659334577,1.993510659313007,1.9935106592938052,1.9935106592767118,1.9935106592614946,1.9935106592479477,1.9935106592358889,1.9935106592251535,1.993510659215596,1.993510659207089,1.9935106591995155,1.9935106591927734,1.9935106591867715,1.9935106591814282,1.9935106591766723,1.993510659172438,1.9935106591686687,1.9935106591653136,1.9935106591623264,1.993510659159667,1.9935106591573,1.9935106591551925,1.9935106591533172,1.993510659151647,1.99351065915016,1.9935106591488372,1.9935106591476586,1.9935106591466096,1.9935106591456762,1.9935106591448455,1.9935106591441054,1.9935106591434464,1.9935106591428604,1.9935106591423384,1.9935106591418734,1.9935106591414602,1.9935106591410918,1.9935106591407639,1.9935106591404723,1.993510659140212,1.993510659139981,1.993510659139775,1.9935106591395915,1.9935106591394283,1.993510659139283,1.9935106591391538,1.993510659139039,1.9935106591389367,1.9935106591388454,1.9935106591387641,1.9935106591386922,1.993510659138628,1.99351065913857,1.9935106591385188,1.9935106591384735,1.993510659138434,1.993510659138397,1.9935106591383653,1.9935106591383374,1.993510659138311,1.993510659138289,1.9935106591382687]},\"selected\":{\"id\":\"1762\",\"type\":\"Selection\"},\"selection_policy\":{\"id\":\"1761\",\"type\":\"UnionRenderers\"}},\"id\":\"1738\",\"type\":\"ColumnDataSource\"},{\"attributes\":{\"source\":{\"id\":\"1751\",\"type\":\"ColumnDataSource\"}},\"id\":\"1755\",\"type\":\"CDSView\"},{\"attributes\":{\"data_source\":{\"id\":\"1738\",\"type\":\"ColumnDataSource\"},\"glyph\":{\"id\":\"1739\",\"type\":\"Line\"},\"hover_glyph\":null,\"muted_glyph\":null,\"nonselection_glyph\":{\"id\":\"1740\",\"type\":\"Line\"},\"selection_glyph\":null,\"view\":{\"id\":\"1742\",\"type\":\"CDSView\"}},\"id\":\"1741\",\"type\":\"GlyphRenderer\"},{\"attributes\":{},\"id\":\"1711\",\"type\":\"LinearScale\"},{\"attributes\":{},\"id\":\"1716\",\"type\":\"BasicTicker\"},{\"attributes\":{\"label\":{\"value\":\"Huber\"},\"renderers\":[{\"id\":\"1754\",\"type\":\"GlyphRenderer\"}]},\"id\":\"1764\",\"type\":\"LegendItem\"},{\"attributes\":{},\"id\":\"1721\",\"type\":\"BasicTicker\"},{\"attributes\":{\"bottom_units\":\"screen\",\"fill_alpha\":{\"value\":0.5},\"fill_color\":{\"value\":\"lightgrey\"},\"left_units\":\"screen\",\"level\":\"overlay\",\"line_alpha\":{\"value\":1.0},\"line_color\":{\"value\":\"black\"},\"line_dash\":[4,4],\"line_width\":{\"value\":2},\"render_mode\":\"css\",\"right_units\":\"screen\",\"top_units\":\"screen\"},\"id\":\"1748\",\"type\":\"BoxAnnotation\"},{\"attributes\":{\"axis_label\":\"Training Steps\",\"formatter\":{\"id\":\"1747\",\"type\":\"BasicTickFormatter\"},\"ticker\":{\"id\":\"1716\",\"type\":\"BasicTicker\"}},\"id\":\"1715\",\"type\":\"LinearAxis\"},{\"attributes\":{},\"id\":\"1713\",\"type\":\"LinearScale\"},{\"attributes\":{},\"id\":\"1728\",\"type\":\"SaveTool\"},{\"attributes\":{\"line_color\":\"#1f77b4\",\"line_width\":2,\"x\":{\"field\":\"x\"},\"y\":{\"field\":\"y\"}},\"id\":\"1739\",\"type\":\"Line\"},{\"attributes\":{},\"id\":\"1729\",\"type\":\"ResetTool\"}],\"root_ids\":[\"1704\"]},\"title\":\"Bokeh Application\",\"version\":\"1.4.0\"}};\n",
       "  var render_items = [{\"docid\":\"75c24684-ddd5-4f5a-86ea-062c60f78d8f\",\"roots\":{\"1704\":\"17c52092-5a94-4aa6-8baf-be6abb689529\"}}];\n",
       "  root.Bokeh.embed.embed_items_notebook(docs_json, render_items);\n",
       "\n",
       "  }\n",
       "  if (root.Bokeh !== undefined) {\n",
       "    embed_document(root);\n",
       "  } else {\n",
       "    var attempts = 0;\n",
       "    var timer = setInterval(function(root) {\n",
       "      if (root.Bokeh !== undefined) {\n",
       "        clearInterval(timer);\n",
       "        embed_document(root);\n",
       "      } else {\n",
       "        attempts++;\n",
       "        if (attempts > 100) {\n",
       "          clearInterval(timer);\n",
       "          console.log(\"Bokeh: ERROR: Unable to run BokehJS code because BokehJS library is missing\");\n",
       "        }\n",
       "      }\n",
       "    }, 10, root)\n",
       "  }\n",
       "})(window);"
      ],
      "application/vnd.bokehjs_exec.v0+json": ""
     },
     "metadata": {
      "application/vnd.bokehjs_exec.v0+json": {
       "id": "1704"
      }
     },
     "output_type": "display_data"
    }
   ],
   "source": [
    "p = bkp.figure(title='Training Loss vs Iterations (data with outliers)', width=600, height=400)\n",
    "p.line(np.arange(len(loss_values_mse_ol)) * 20, loss_values_mse_ol, line_width=2, legend_label='MSE')\n",
    "p.line(np.arange(len(loss_values_huber_ol)) * 20, loss_values_huber_ol, line_width=2,\n",
    "       color='darkorange', legend_label='Huber')\n",
    "p.xaxis.axis_label = 'Training Steps'\n",
    "p.yaxis.axis_label = 'Loss'\n",
    "bkp.show(p)"
   ]
  },
  {
   "cell_type": "markdown",
   "metadata": {},
   "source": [
    "## Comparison of MSE Loss\n",
    "The MSE loss using the weights of the model using MSE-loss and the model using Huber loss is shown below.\n",
    "\n",
    "| Model      | Loss (unaffected data) | Loss (no outliers) |\n",
    "|------------|-----------------------:|-------------------:|\n",
    "| MSE Loss   |                 0.2467 |             0.1170 |\n",
    "| Huber Loss |                 0.1342 |             0.1170 |"
   ]
  },
  {
   "cell_type": "markdown",
   "metadata": {},
   "source": [
    "# Appendix"
   ]
  },
  {
   "cell_type": "code",
   "execution_count": 23,
   "metadata": {},
   "outputs": [
    {
     "name": "stdout",
     "output_type": "stream",
     "text": [
      "[1.9935106591385687, 1.993510659138518, 1.993510659138473, 1.9935106591384324, 1.993510659138397, 1.993510659138365, 1.9935106591383362, 1.993510659138311, 1.9935106591382883, 1.9935106591382683]\n",
      "[3.0, 6.0]\n",
      "[3.68645222 4.58096621]\n"
     ]
    }
   ],
   "source": [
    "# different gamma\n",
    "np.random.seed(424242)\n",
    "gamma = 6.0\n",
    "update_func = functools.partial(update_weights_huber, gamma=gamma)\n",
    "loss_func = functools.partial(huber_loss, gamma=gamma)\n",
    "weights, loss_values = train(xtrain, ytrain + outlier_noise, nweights=2, update_func=update_func,\n",
    "                             loss_func=loss_func, niter=250 * 20)\n",
    "print(loss_values[-10:])\n",
    "print(wt_true)\n",
    "print(weights)"
   ]
  },
  {
   "cell_type": "code",
   "execution_count": null,
   "metadata": {},
   "outputs": [],
   "source": []
  }
 ],
 "metadata": {
  "kernelspec": {
   "display_name": "Python 3",
   "language": "python",
   "name": "python3"
  },
  "language_info": {
   "codemirror_mode": {
    "name": "ipython",
    "version": 3
   },
   "file_extension": ".py",
   "mimetype": "text/x-python",
   "name": "python",
   "nbconvert_exporter": "python",
   "pygments_lexer": "ipython3",
   "version": "3.7.4"
  }
 },
 "nbformat": 4,
 "nbformat_minor": 2
}
