{
 "cells": [
  {
   "cell_type": "markdown",
   "metadata": {},
   "source": [
    "# Gradient Descent--Huber Loss\n",
    "### Author: Jayanth Raman\n",
    "\n",
    "**Date: 10 Dec 2019** v2\n",
    "\n",
    "HomeWork2 of Machine Learning Basics, Tokyo DataScience"
   ]
  },
  {
   "cell_type": "markdown",
   "metadata": {},
   "source": [
    "# Huber Loss\n",
    "Point-wise Huber loss is defined piecewise as:\n",
    "$$\n",
    "L_\\gamma (e_i) = \n",
    "\\begin{cases}\n",
    " e_i^2                   & \\text{for } |e_i| \\le \\gamma, \\quad \\gamma > 0\\\\\n",
    " \\gamma (2 |e_i| - \\gamma), & \\text{otherwise.}\n",
    "\\end{cases}\n",
    "$$\n",
    "where, $\\gamma > 0$ is a threshold and it defines the point where the Huber loss changes from a quadratic to a linear function or vice versa.  And $e_i$ are the individual data points.\n",
    "\n",
    "The overall Huber loss of $M$ data points is the average:\n",
    "$$\n",
    "L_\\gamma (e) = \\frac{1}{M} \\sum_{i=1}^{M} L_\\gamma (e_i)\n",
    "$$\n",
    "for the $M$ points of $e_i$.\n",
    "\n",
    "When $e$ is the error, $e = \\hat{y} - y$, then the point-wise loss is\n",
    "$$\n",
    "L_\\gamma (y_i, \\hat{y_i}) = \n",
    "\\begin{cases}\n",
    " (\\hat{y_i} - y_i)^2                   & \\text{for } |\\hat{y_i} - y_i| \\le \\gamma, \\quad \\gamma > 0\\\\\n",
    " \\gamma (2 |\\hat{y_i} - y_i| - \\gamma), & \\text{otherwise.}\n",
    "\\end{cases}\n",
    "$$\n",
    "where, $\\hat{y}$ is the prediction of $y$.\n",
    "\n",
    "And the overall Huber loss is the average\n",
    "$$\n",
    "L_\\gamma (y, \\hat{y}) = \\frac{1}{M} \\sum_{i=1}^{M} L_\\gamma (y_i, \\hat{y_i})\n",
    "$$\n",
    "\n",
    "[From [Wikipedia](https://en.wikipedia.org/wiki/Huber_loss)]\n",
    "\n",
    "For a derivation of the linear term so that it is continuous with the quadratic term, see [Appendix A](#Appendix-A----Huber-Loss-Derivation)."
   ]
  },
  {
   "cell_type": "markdown",
   "metadata": {},
   "source": [
    "## Gradients\n",
    "A polynomial model is defined as\n",
    "$$\n",
    "\\hat{y}_i = \\sum_{d=0}^{N} w_d x^d_i\n",
    "$$\n",
    "where $\\hat{y}_i$ is the predicted value of $y_i$ at $x_i$ and $w_d$ are the weights.\n",
    "\n",
    "For the Huber-loss model, the first gradient component (in the $w_0$ direction) is\n",
    "$$\n",
    "\\frac{\\partial L_\\gamma}{\\partial w_0} = \n",
    "\\begin{cases}\n",
    "\\frac{2}{M} \\sum_{i=1}^{M} (\\hat{y_i} - y_i)  & |\\hat{y_i} - y_i| < \\gamma \\\\\n",
    "\\frac{2\\gamma}{M} \\sum_{i=1}^{M} \\text{sgn}(\\hat{y_i} - y_i) & \\text{otherwise}\n",
    "\\end{cases}\n",
    "$$\n",
    "where $\\text{sgn}$ is the signum or sign function.\n",
    "\n",
    "Let $e_i = \\hat{y_i} - y_i$.  Notice that, when $e_i < \\gamma$, then each term in\n",
    "the summation is $\\text{sgn}(e_i)\\,|e_i|$.  And, when $e_i \\ge \\gamma$, then each term is\n",
    "$\\text{sgn}(e_i)\\,\\gamma$.  Hence, each term in the summation is $\\text{sgn}(e_i)\\,\\min(|e_i|, \\gamma)$.\n",
    "\n",
    "Hence the first component of the gradient can be simplified to:\n",
    "$$\n",
    "\\frac{\\partial L_\\gamma}{\\partial w_0} =\n",
    "\\frac{2}{M} \\sum_{i=1}^{M} \\text{sgn}(e_i) \\, \\min \\left( |e_i|, \\gamma \\right)\n",
    "$$\n",
    "where $e_i = \\hat{y_i} - y_i$.  And the above expression can be computed as an average.\n",
    "\n",
    "The other gradient components are defined recursively as\n",
    "$$\n",
    "\\frac{\\partial L_\\gamma}{\\partial w_d} = x \\frac{\\partial L_\\gamma}{\\partial w_{d - 1}} \\quad d=1, 2, ..., N\n",
    "$$\n",
    "\n",
    "For a derivation of the above, please see [Appendix B](#Appendix-B----Gradient-for-Huber-Loss)."
   ]
  },
  {
   "cell_type": "markdown",
   "metadata": {},
   "source": [
    "# Summary of Findings\n",
    "Synthetic data was generated with a few outliers.  The data, $(x_i, y_i)$, is linear:\n",
    "$$\n",
    "y_i = w_0 + w_1 x_i\n",
    "$$\n",
    "\n",
    "Then, two models were fit:\n",
    " * One with an MSE-loss function.\n",
    " * Another with a Huber-loss function.  The parameter, $\\gamma$, was chosen to be\n",
    "   twice the standard deviation of the error in the MSE-loss model.\n",
    "\n",
    "The models were compared using MSE loss (which may be an advantage to the MSE-loss model when\n",
    "all of the data is considered).  MSE loss was computed for all of the data and also\n",
    "just for the unaffected data (i.e. data without the outliers).\n",
    "\n",
    "With all of the data in consideration, both models performed about the same with the MSE-loss model slightly outperforming the Huber-loss model.\n",
    "\n",
    "But, when only the unaffected data was considered, the Huber-loss model outperformed the MSE-loss model.  The MSE-loss for the two models is shown in the table below.  The MSE loss for the Huber-loss model is about 38% lower than that for the MSE-loss model, when only the unaffected data is considered.  For more details, see [here](#Comparison-of-MSE-Loss).\n",
    "\n",
    "The models were also trained on the same synthetic data, but with the outliers suppressed.  Both models were similar and both had an MSE-loss of approximately 0.1170.\n",
    "\n",
    "| Model            | Loss (unaffected data) | Loss (all data) | Loss (no outliers) |\n",
    "|------------------|-----------------------:|----------------:|-------------------:|\n",
    "| MSE-loss Model   |                 0.2468 |          1.9935 |             0.1170 |\n",
    "| Huber-loss Model |                 0.1516 |          2.0246 |             0.1171 |\n",
    "\n",
    "The code below is easily applicable to quadratic data or any higher degree polynomials."
   ]
  },
  {
   "cell_type": "markdown",
   "metadata": {},
   "source": [
    "# Calculations and Observations"
   ]
  },
  {
   "cell_type": "markdown",
   "metadata": {},
   "source": [
    "What follows is the source code for performing the calculations and the comparisons."
   ]
  },
  {
   "cell_type": "code",
   "execution_count": 1,
   "metadata": {},
   "outputs": [
    {
     "data": {
      "text/html": [
       "\n",
       "    <div class=\"bk-root\">\n",
       "        <a href=\"https://bokeh.org\" target=\"_blank\" class=\"bk-logo bk-logo-small bk-logo-notebook\"></a>\n",
       "        <span id=\"1001\">Loading BokehJS ...</span>\n",
       "    </div>"
      ]
     },
     "metadata": {},
     "output_type": "display_data"
    },
    {
     "data": {
      "application/javascript": [
       "\n",
       "(function(root) {\n",
       "  function now() {\n",
       "    return new Date();\n",
       "  }\n",
       "\n",
       "  var force = true;\n",
       "\n",
       "  if (typeof root._bokeh_onload_callbacks === \"undefined\" || force === true) {\n",
       "    root._bokeh_onload_callbacks = [];\n",
       "    root._bokeh_is_loading = undefined;\n",
       "  }\n",
       "\n",
       "  var JS_MIME_TYPE = 'application/javascript';\n",
       "  var HTML_MIME_TYPE = 'text/html';\n",
       "  var EXEC_MIME_TYPE = 'application/vnd.bokehjs_exec.v0+json';\n",
       "  var CLASS_NAME = 'output_bokeh rendered_html';\n",
       "\n",
       "  /**\n",
       "   * Render data to the DOM node\n",
       "   */\n",
       "  function render(props, node) {\n",
       "    var script = document.createElement(\"script\");\n",
       "    node.appendChild(script);\n",
       "  }\n",
       "\n",
       "  /**\n",
       "   * Handle when an output is cleared or removed\n",
       "   */\n",
       "  function handleClearOutput(event, handle) {\n",
       "    var cell = handle.cell;\n",
       "\n",
       "    var id = cell.output_area._bokeh_element_id;\n",
       "    var server_id = cell.output_area._bokeh_server_id;\n",
       "    // Clean up Bokeh references\n",
       "    if (id != null && id in Bokeh.index) {\n",
       "      Bokeh.index[id].model.document.clear();\n",
       "      delete Bokeh.index[id];\n",
       "    }\n",
       "\n",
       "    if (server_id !== undefined) {\n",
       "      // Clean up Bokeh references\n",
       "      var cmd = \"from bokeh.io.state import curstate; print(curstate().uuid_to_server['\" + server_id + \"'].get_sessions()[0].document.roots[0]._id)\";\n",
       "      cell.notebook.kernel.execute(cmd, {\n",
       "        iopub: {\n",
       "          output: function(msg) {\n",
       "            var id = msg.content.text.trim();\n",
       "            if (id in Bokeh.index) {\n",
       "              Bokeh.index[id].model.document.clear();\n",
       "              delete Bokeh.index[id];\n",
       "            }\n",
       "          }\n",
       "        }\n",
       "      });\n",
       "      // Destroy server and session\n",
       "      var cmd = \"import bokeh.io.notebook as ion; ion.destroy_server('\" + server_id + \"')\";\n",
       "      cell.notebook.kernel.execute(cmd);\n",
       "    }\n",
       "  }\n",
       "\n",
       "  /**\n",
       "   * Handle when a new output is added\n",
       "   */\n",
       "  function handleAddOutput(event, handle) {\n",
       "    var output_area = handle.output_area;\n",
       "    var output = handle.output;\n",
       "\n",
       "    // limit handleAddOutput to display_data with EXEC_MIME_TYPE content only\n",
       "    if ((output.output_type != \"display_data\") || (!output.data.hasOwnProperty(EXEC_MIME_TYPE))) {\n",
       "      return\n",
       "    }\n",
       "\n",
       "    var toinsert = output_area.element.find(\".\" + CLASS_NAME.split(' ')[0]);\n",
       "\n",
       "    if (output.metadata[EXEC_MIME_TYPE][\"id\"] !== undefined) {\n",
       "      toinsert[toinsert.length - 1].firstChild.textContent = output.data[JS_MIME_TYPE];\n",
       "      // store reference to embed id on output_area\n",
       "      output_area._bokeh_element_id = output.metadata[EXEC_MIME_TYPE][\"id\"];\n",
       "    }\n",
       "    if (output.metadata[EXEC_MIME_TYPE][\"server_id\"] !== undefined) {\n",
       "      var bk_div = document.createElement(\"div\");\n",
       "      bk_div.innerHTML = output.data[HTML_MIME_TYPE];\n",
       "      var script_attrs = bk_div.children[0].attributes;\n",
       "      for (var i = 0; i < script_attrs.length; i++) {\n",
       "        toinsert[toinsert.length - 1].firstChild.setAttribute(script_attrs[i].name, script_attrs[i].value);\n",
       "      }\n",
       "      // store reference to server id on output_area\n",
       "      output_area._bokeh_server_id = output.metadata[EXEC_MIME_TYPE][\"server_id\"];\n",
       "    }\n",
       "  }\n",
       "\n",
       "  function register_renderer(events, OutputArea) {\n",
       "\n",
       "    function append_mime(data, metadata, element) {\n",
       "      // create a DOM node to render to\n",
       "      var toinsert = this.create_output_subarea(\n",
       "        metadata,\n",
       "        CLASS_NAME,\n",
       "        EXEC_MIME_TYPE\n",
       "      );\n",
       "      this.keyboard_manager.register_events(toinsert);\n",
       "      // Render to node\n",
       "      var props = {data: data, metadata: metadata[EXEC_MIME_TYPE]};\n",
       "      render(props, toinsert[toinsert.length - 1]);\n",
       "      element.append(toinsert);\n",
       "      return toinsert\n",
       "    }\n",
       "\n",
       "    /* Handle when an output is cleared or removed */\n",
       "    events.on('clear_output.CodeCell', handleClearOutput);\n",
       "    events.on('delete.Cell', handleClearOutput);\n",
       "\n",
       "    /* Handle when a new output is added */\n",
       "    events.on('output_added.OutputArea', handleAddOutput);\n",
       "\n",
       "    /**\n",
       "     * Register the mime type and append_mime function with output_area\n",
       "     */\n",
       "    OutputArea.prototype.register_mime_type(EXEC_MIME_TYPE, append_mime, {\n",
       "      /* Is output safe? */\n",
       "      safe: true,\n",
       "      /* Index of renderer in `output_area.display_order` */\n",
       "      index: 0\n",
       "    });\n",
       "  }\n",
       "\n",
       "  // register the mime type if in Jupyter Notebook environment and previously unregistered\n",
       "  if (root.Jupyter !== undefined) {\n",
       "    var events = require('base/js/events');\n",
       "    var OutputArea = require('notebook/js/outputarea').OutputArea;\n",
       "\n",
       "    if (OutputArea.prototype.mime_types().indexOf(EXEC_MIME_TYPE) == -1) {\n",
       "      register_renderer(events, OutputArea);\n",
       "    }\n",
       "  }\n",
       "\n",
       "  \n",
       "  if (typeof (root._bokeh_timeout) === \"undefined\" || force === true) {\n",
       "    root._bokeh_timeout = Date.now() + 5000;\n",
       "    root._bokeh_failed_load = false;\n",
       "  }\n",
       "\n",
       "  var NB_LOAD_WARNING = {'data': {'text/html':\n",
       "     \"<div style='background-color: #fdd'>\\n\"+\n",
       "     \"<p>\\n\"+\n",
       "     \"BokehJS does not appear to have successfully loaded. If loading BokehJS from CDN, this \\n\"+\n",
       "     \"may be due to a slow or bad network connection. Possible fixes:\\n\"+\n",
       "     \"</p>\\n\"+\n",
       "     \"<ul>\\n\"+\n",
       "     \"<li>re-rerun `output_notebook()` to attempt to load from CDN again, or</li>\\n\"+\n",
       "     \"<li>use INLINE resources instead, as so:</li>\\n\"+\n",
       "     \"</ul>\\n\"+\n",
       "     \"<code>\\n\"+\n",
       "     \"from bokeh.resources import INLINE\\n\"+\n",
       "     \"output_notebook(resources=INLINE)\\n\"+\n",
       "     \"</code>\\n\"+\n",
       "     \"</div>\"}};\n",
       "\n",
       "  function display_loaded() {\n",
       "    var el = document.getElementById(\"1001\");\n",
       "    if (el != null) {\n",
       "      el.textContent = \"BokehJS is loading...\";\n",
       "    }\n",
       "    if (root.Bokeh !== undefined) {\n",
       "      if (el != null) {\n",
       "        el.textContent = \"BokehJS \" + root.Bokeh.version + \" successfully loaded.\";\n",
       "      }\n",
       "    } else if (Date.now() < root._bokeh_timeout) {\n",
       "      setTimeout(display_loaded, 100)\n",
       "    }\n",
       "  }\n",
       "\n",
       "\n",
       "  function run_callbacks() {\n",
       "    try {\n",
       "      root._bokeh_onload_callbacks.forEach(function(callback) {\n",
       "        if (callback != null)\n",
       "          callback();\n",
       "      });\n",
       "    } finally {\n",
       "      delete root._bokeh_onload_callbacks\n",
       "    }\n",
       "    console.debug(\"Bokeh: all callbacks have finished\");\n",
       "  }\n",
       "\n",
       "  function load_libs(css_urls, js_urls, callback) {\n",
       "    if (css_urls == null) css_urls = [];\n",
       "    if (js_urls == null) js_urls = [];\n",
       "\n",
       "    root._bokeh_onload_callbacks.push(callback);\n",
       "    if (root._bokeh_is_loading > 0) {\n",
       "      console.debug(\"Bokeh: BokehJS is being loaded, scheduling callback at\", now());\n",
       "      return null;\n",
       "    }\n",
       "    if (js_urls == null || js_urls.length === 0) {\n",
       "      run_callbacks();\n",
       "      return null;\n",
       "    }\n",
       "    console.debug(\"Bokeh: BokehJS not loaded, scheduling load and callback at\", now());\n",
       "    root._bokeh_is_loading = css_urls.length + js_urls.length;\n",
       "\n",
       "    function on_load() {\n",
       "      root._bokeh_is_loading--;\n",
       "      if (root._bokeh_is_loading === 0) {\n",
       "        console.debug(\"Bokeh: all BokehJS libraries/stylesheets loaded\");\n",
       "        run_callbacks()\n",
       "      }\n",
       "    }\n",
       "\n",
       "    function on_error() {\n",
       "      console.error(\"failed to load \" + url);\n",
       "    }\n",
       "\n",
       "    for (var i = 0; i < css_urls.length; i++) {\n",
       "      var url = css_urls[i];\n",
       "      const element = document.createElement(\"link\");\n",
       "      element.onload = on_load;\n",
       "      element.onerror = on_error;\n",
       "      element.rel = \"stylesheet\";\n",
       "      element.type = \"text/css\";\n",
       "      element.href = url;\n",
       "      console.debug(\"Bokeh: injecting link tag for BokehJS stylesheet: \", url);\n",
       "      document.body.appendChild(element);\n",
       "    }\n",
       "\n",
       "    for (var i = 0; i < js_urls.length; i++) {\n",
       "      var url = js_urls[i];\n",
       "      var element = document.createElement('script');\n",
       "      element.onload = on_load;\n",
       "      element.onerror = on_error;\n",
       "      element.async = false;\n",
       "      element.src = url;\n",
       "      console.debug(\"Bokeh: injecting script tag for BokehJS library: \", url);\n",
       "      document.head.appendChild(element);\n",
       "    }\n",
       "  };var element = document.getElementById(\"1001\");\n",
       "  if (element == null) {\n",
       "    console.error(\"Bokeh: ERROR: autoload.js configured with elementid '1001' but no matching script tag was found. \")\n",
       "    return false;\n",
       "  }\n",
       "\n",
       "  function inject_raw_css(css) {\n",
       "    const element = document.createElement(\"style\");\n",
       "    element.appendChild(document.createTextNode(css));\n",
       "    document.body.appendChild(element);\n",
       "  }\n",
       "\n",
       "  \n",
       "  var js_urls = [\"https://cdn.pydata.org/bokeh/release/bokeh-1.4.0.min.js\", \"https://cdn.pydata.org/bokeh/release/bokeh-widgets-1.4.0.min.js\", \"https://cdn.pydata.org/bokeh/release/bokeh-tables-1.4.0.min.js\", \"https://cdn.pydata.org/bokeh/release/bokeh-gl-1.4.0.min.js\"];\n",
       "  var css_urls = [];\n",
       "  \n",
       "\n",
       "  var inline_js = [\n",
       "    function(Bokeh) {\n",
       "      Bokeh.set_log_level(\"info\");\n",
       "    },\n",
       "    function(Bokeh) {\n",
       "    \n",
       "    \n",
       "    }\n",
       "  ];\n",
       "\n",
       "  function run_inline_js() {\n",
       "    \n",
       "    if (root.Bokeh !== undefined || force === true) {\n",
       "      \n",
       "    for (var i = 0; i < inline_js.length; i++) {\n",
       "      inline_js[i].call(root, root.Bokeh);\n",
       "    }\n",
       "    if (force === true) {\n",
       "        display_loaded();\n",
       "      }} else if (Date.now() < root._bokeh_timeout) {\n",
       "      setTimeout(run_inline_js, 100);\n",
       "    } else if (!root._bokeh_failed_load) {\n",
       "      console.log(\"Bokeh: BokehJS failed to load within specified timeout.\");\n",
       "      root._bokeh_failed_load = true;\n",
       "    } else if (force !== true) {\n",
       "      var cell = $(document.getElementById(\"1001\")).parents('.cell').data().cell;\n",
       "      cell.output_area.append_execute_result(NB_LOAD_WARNING)\n",
       "    }\n",
       "\n",
       "  }\n",
       "\n",
       "  if (root._bokeh_is_loading === 0) {\n",
       "    console.debug(\"Bokeh: BokehJS loaded, going straight to plotting\");\n",
       "    run_inline_js();\n",
       "  } else {\n",
       "    load_libs(css_urls, js_urls, function() {\n",
       "      console.debug(\"Bokeh: BokehJS plotting callback run at\", now());\n",
       "      run_inline_js();\n",
       "    });\n",
       "  }\n",
       "}(window));"
      ],
      "application/vnd.bokehjs_load.v0+json": "\n(function(root) {\n  function now() {\n    return new Date();\n  }\n\n  var force = true;\n\n  if (typeof root._bokeh_onload_callbacks === \"undefined\" || force === true) {\n    root._bokeh_onload_callbacks = [];\n    root._bokeh_is_loading = undefined;\n  }\n\n  \n\n  \n  if (typeof (root._bokeh_timeout) === \"undefined\" || force === true) {\n    root._bokeh_timeout = Date.now() + 5000;\n    root._bokeh_failed_load = false;\n  }\n\n  var NB_LOAD_WARNING = {'data': {'text/html':\n     \"<div style='background-color: #fdd'>\\n\"+\n     \"<p>\\n\"+\n     \"BokehJS does not appear to have successfully loaded. If loading BokehJS from CDN, this \\n\"+\n     \"may be due to a slow or bad network connection. Possible fixes:\\n\"+\n     \"</p>\\n\"+\n     \"<ul>\\n\"+\n     \"<li>re-rerun `output_notebook()` to attempt to load from CDN again, or</li>\\n\"+\n     \"<li>use INLINE resources instead, as so:</li>\\n\"+\n     \"</ul>\\n\"+\n     \"<code>\\n\"+\n     \"from bokeh.resources import INLINE\\n\"+\n     \"output_notebook(resources=INLINE)\\n\"+\n     \"</code>\\n\"+\n     \"</div>\"}};\n\n  function display_loaded() {\n    var el = document.getElementById(\"1001\");\n    if (el != null) {\n      el.textContent = \"BokehJS is loading...\";\n    }\n    if (root.Bokeh !== undefined) {\n      if (el != null) {\n        el.textContent = \"BokehJS \" + root.Bokeh.version + \" successfully loaded.\";\n      }\n    } else if (Date.now() < root._bokeh_timeout) {\n      setTimeout(display_loaded, 100)\n    }\n  }\n\n\n  function run_callbacks() {\n    try {\n      root._bokeh_onload_callbacks.forEach(function(callback) {\n        if (callback != null)\n          callback();\n      });\n    } finally {\n      delete root._bokeh_onload_callbacks\n    }\n    console.debug(\"Bokeh: all callbacks have finished\");\n  }\n\n  function load_libs(css_urls, js_urls, callback) {\n    if (css_urls == null) css_urls = [];\n    if (js_urls == null) js_urls = [];\n\n    root._bokeh_onload_callbacks.push(callback);\n    if (root._bokeh_is_loading > 0) {\n      console.debug(\"Bokeh: BokehJS is being loaded, scheduling callback at\", now());\n      return null;\n    }\n    if (js_urls == null || js_urls.length === 0) {\n      run_callbacks();\n      return null;\n    }\n    console.debug(\"Bokeh: BokehJS not loaded, scheduling load and callback at\", now());\n    root._bokeh_is_loading = css_urls.length + js_urls.length;\n\n    function on_load() {\n      root._bokeh_is_loading--;\n      if (root._bokeh_is_loading === 0) {\n        console.debug(\"Bokeh: all BokehJS libraries/stylesheets loaded\");\n        run_callbacks()\n      }\n    }\n\n    function on_error() {\n      console.error(\"failed to load \" + url);\n    }\n\n    for (var i = 0; i < css_urls.length; i++) {\n      var url = css_urls[i];\n      const element = document.createElement(\"link\");\n      element.onload = on_load;\n      element.onerror = on_error;\n      element.rel = \"stylesheet\";\n      element.type = \"text/css\";\n      element.href = url;\n      console.debug(\"Bokeh: injecting link tag for BokehJS stylesheet: \", url);\n      document.body.appendChild(element);\n    }\n\n    for (var i = 0; i < js_urls.length; i++) {\n      var url = js_urls[i];\n      var element = document.createElement('script');\n      element.onload = on_load;\n      element.onerror = on_error;\n      element.async = false;\n      element.src = url;\n      console.debug(\"Bokeh: injecting script tag for BokehJS library: \", url);\n      document.head.appendChild(element);\n    }\n  };var element = document.getElementById(\"1001\");\n  if (element == null) {\n    console.error(\"Bokeh: ERROR: autoload.js configured with elementid '1001' but no matching script tag was found. \")\n    return false;\n  }\n\n  function inject_raw_css(css) {\n    const element = document.createElement(\"style\");\n    element.appendChild(document.createTextNode(css));\n    document.body.appendChild(element);\n  }\n\n  \n  var js_urls = [\"https://cdn.pydata.org/bokeh/release/bokeh-1.4.0.min.js\", \"https://cdn.pydata.org/bokeh/release/bokeh-widgets-1.4.0.min.js\", \"https://cdn.pydata.org/bokeh/release/bokeh-tables-1.4.0.min.js\", \"https://cdn.pydata.org/bokeh/release/bokeh-gl-1.4.0.min.js\"];\n  var css_urls = [];\n  \n\n  var inline_js = [\n    function(Bokeh) {\n      Bokeh.set_log_level(\"info\");\n    },\n    function(Bokeh) {\n    \n    \n    }\n  ];\n\n  function run_inline_js() {\n    \n    if (root.Bokeh !== undefined || force === true) {\n      \n    for (var i = 0; i < inline_js.length; i++) {\n      inline_js[i].call(root, root.Bokeh);\n    }\n    if (force === true) {\n        display_loaded();\n      }} else if (Date.now() < root._bokeh_timeout) {\n      setTimeout(run_inline_js, 100);\n    } else if (!root._bokeh_failed_load) {\n      console.log(\"Bokeh: BokehJS failed to load within specified timeout.\");\n      root._bokeh_failed_load = true;\n    } else if (force !== true) {\n      var cell = $(document.getElementById(\"1001\")).parents('.cell').data().cell;\n      cell.output_area.append_execute_result(NB_LOAD_WARNING)\n    }\n\n  }\n\n  if (root._bokeh_is_loading === 0) {\n    console.debug(\"Bokeh: BokehJS loaded, going straight to plotting\");\n    run_inline_js();\n  } else {\n    load_libs(css_urls, js_urls, function() {\n      console.debug(\"Bokeh: BokehJS plotting callback run at\", now());\n      run_inline_js();\n    });\n  }\n}(window));"
     },
     "metadata": {},
     "output_type": "display_data"
    }
   ],
   "source": [
    "# Imports\n",
    "import bokeh\n",
    "import bokeh.plotting as bkp\n",
    "import functools\n",
    "import numpy as np\n",
    "import pandas as pd   # for summary statistics\n",
    "#\n",
    "bkp.reset_output()\n",
    "bkp.output_notebook()"
   ]
  },
  {
   "cell_type": "markdown",
   "metadata": {},
   "source": [
    "The function to compute $y$ as a polynomial of $x$ is given below."
   ]
  },
  {
   "cell_type": "code",
   "execution_count": 2,
   "metadata": {},
   "outputs": [],
   "source": [
    "# Function to generate `y` given `x` and a set of weights.\n",
    "def polynomial_function(weights, x):\n",
    "    '''\n",
    "    weights = [a0, a1, a2, ...]\n",
    "    output = a0 + a1 * x + a2 * x ** 2 + ...\n",
    "    '''\n",
    "    if isinstance(x, list):\n",
    "        x = np.array(x)\n",
    "    out = weights[0]\n",
    "    xn = x\n",
    "    for w in weights[1:]:\n",
    "        out = out + w * xn\n",
    "        xn = xn * x\n",
    "    return out\n",
    "\n",
    "def test_polynomial_function():\n",
    "    x1 = 3.1415\n",
    "    tmp1 = 4 + 3.2 * x1 + 2.1 * x1 * x1 + 8.53 * x1 * x1 * x1\n",
    "    assert polynomial_function([6.24, 4.14], x1) == 6.24 + 4.14 * x1\n",
    "    assert polynomial_function([4, 3.2, 2.1, 8.53], x1) == tmp1\n",
    "    assert all(polynomial_function([4, 3.2, 2.1, 8.53], [x1, x1]) == np.array([tmp1, tmp1]))\n",
    "test_polynomial_function()"
   ]
  },
  {
   "cell_type": "markdown",
   "metadata": {},
   "source": [
    "A helper function to generate training data is given below.  Outliers are added using samples from a binomial distribution.  Gaussian noise is added to all data.  The function outputs $x$, $y$ with no outlier noise, and outlier noise.  In order to generate $y$ with outliers, the outlier noise vector is added."
   ]
  },
  {
   "cell_type": "code",
   "execution_count": 3,
   "metadata": {},
   "outputs": [],
   "source": [
    "def gen_training_data(wt_true, npoints=50, gauss_noise_sd=0.4, binomp={'p': 0.03, 'mag': 6.0}, seed=414243):\n",
    "    '''Generate (simulate) training data'''\n",
    "    np.random.seed(seed)\n",
    "    xtrain = np.random.random(npoints)\n",
    "    # e.g. 6 * binomial(1, 0.03, size=n) - 6 * binomial(1, 0.03, size=n)\n",
    "    binomial = np.random.binomial\n",
    "    ntrials = 1\n",
    "    outlier_noise = binomial(ntrials, binomp['p'], size=npoints) - binomial(ntrials, binomp['p'], size=npoints)\n",
    "    outlier_noise = outlier_noise * binomp['mag']\n",
    "    ytrain = polynomial_function(wt_true, xtrain) + gauss_noise_sd * np.random.randn(npoints)\n",
    "    return xtrain, ytrain, outlier_noise"
   ]
  },
  {
   "cell_type": "markdown",
   "metadata": {},
   "source": [
    "We define two update functions, one using an MSE loss function, and another using a Huber loss function.\n",
    "We will refer to the former as the MSE-loss model and the latter as the Huber-loss model."
   ]
  },
  {
   "cell_type": "code",
   "execution_count": 4,
   "metadata": {},
   "outputs": [],
   "source": [
    "def update_weights_mse(weights, x, y, learning_rate):\n",
    "    y_predicted = polynomial_function(weights, x)\n",
    "    derivative_of_loss = 2 * (y_predicted - y)\n",
    "    weights[0] -= learning_rate * derivative_of_loss.mean()\n",
    "    m1 = derivative_of_loss.mean()\n",
    "    for ii in range(1, len(weights)):\n",
    "        derivative_of_loss = x * derivative_of_loss\n",
    "        weights[ii] -= learning_rate * derivative_of_loss.mean()\n",
    "    return None\n",
    "\n",
    "def update_weights_huber(weights, x, y, learning_rate, gamma):\n",
    "    y_predicted = polynomial_function(weights, x)\n",
    "    err = y_predicted - y\n",
    "    derivative_of_loss = 2.0 * np.sign(err) * np.minimum(gamma, np.abs(err))\n",
    "    weights[0] -= learning_rate * derivative_of_loss.mean()\n",
    "    m1 = derivative_of_loss.mean()\n",
    "    for ii in range(1, len(weights)):\n",
    "        derivative_of_loss = x * derivative_of_loss\n",
    "        weights[ii] -= learning_rate * derivative_of_loss.mean()\n",
    "    return None"
   ]
  },
  {
   "cell_type": "markdown",
   "metadata": {},
   "source": [
    "We also define helper functions to compute the MSE loss and the Huber loss."
   ]
  },
  {
   "cell_type": "code",
   "execution_count": 5,
   "metadata": {},
   "outputs": [
    {
     "name": "stdout",
     "output_type": "stream",
     "text": [
      "MSE loss: 2.1804075712825233 2.1804075712825233\n",
      "Huber loss, gamma=np.inf: 2.1804075712825233 2.1804075712825233\n",
      "Huber loss, gamma=1.9832: 1.252087574809613, 1.252087574809613\n"
     ]
    }
   ],
   "source": [
    "def mse_loss(y, yhat):\n",
    "    return np.mean((y - yhat) ** 2)\n",
    "\n",
    "def huber_loss(y, yhat, gamma):\n",
    "    errabs = np.abs(y - yhat)\n",
    "    loss = np.where(errabs <= gamma, (errabs ** 2), gamma * (2.0 * errabs - gamma))\n",
    "    return np.mean(loss)\n",
    "\n",
    "# test\n",
    "def test():\n",
    "    wt_true = [3.0, 6.0]\n",
    "    xtrain, ytrain, outlier_noise = gen_training_data(wt_true, npoints=70)\n",
    "    _ytrue = polynomial_function(wt_true, xtrain)\n",
    "    ytrain = ytrain + outlier_noise\n",
    "    m1, m2 = mse_loss(_ytrue, ytrain), mse_loss(ytrain, _ytrue)\n",
    "    print('MSE loss:', m1, m2)\n",
    "    assert m1 == m2\n",
    "    h1, h2 = huber_loss(_ytrue, ytrain, np.inf), huber_loss(ytrain, _ytrue, np.inf)\n",
    "    print('Huber loss, gamma=np.inf:', h1, h2)\n",
    "    assert h1 == h2\n",
    "    assert h1 == m1\n",
    "    gamma = np.std(ytrain)\n",
    "    h1, h2 = huber_loss(_ytrue, ytrain, gamma), huber_loss(ytrain, _ytrue, gamma)\n",
    "    print(f'Huber loss, gamma={gamma:.4f}: {h1}, {h2}')\n",
    "    assert h1 == h2\n",
    "test()"
   ]
  },
  {
   "cell_type": "markdown",
   "metadata": {},
   "source": [
    "A helper function to do the training is defined below.  It takes as parameters the $x$ (`xtrain`) and $y$ (`ytrain`) data along with the learning rate and update functions and the number of iterations to run.  An optional loss function, if provided, results in the loss being computed and returned.  This is useful in checking if the training has progressed properly.  The iteration interval when the loss is sampled can also be provided as `loss_iter`.  Optional initial weights can also be provided.  This is useful in continuing a previous training run.  If not provided, random weights are generated."
   ]
  },
  {
   "cell_type": "code",
   "execution_count": 6,
   "metadata": {},
   "outputs": [],
   "source": [
    "# Train\n",
    "def train(xtrain, ytrain, nweights, update_func, niter, learning_rate=0.02,\n",
    "          loss_func=None, init_weights=None, loss_iter=20):\n",
    "    # initialize weights\n",
    "    weights = np.random.randn(nweights) if init_weights is None else init_weights\n",
    "    loss_values = []\n",
    "    for ii in range(niter):\n",
    "        update_func(weights, xtrain, ytrain, learning_rate)\n",
    "        if loss_func and ii % loss_iter == (loss_iter - 1):\n",
    "            loss_values.append(loss_func(polynomial_function(weights, xtrain), ytrain))\n",
    "    return weights, loss_values"
   ]
  },
  {
   "cell_type": "markdown",
   "metadata": {},
   "source": [
    "Training data is generated below using weights that define a linear relationship.  The number of outliers that were generated is shown below."
   ]
  },
  {
   "cell_type": "code",
   "execution_count": 7,
   "metadata": {},
   "outputs": [
    {
     "name": "stdout",
     "output_type": "stream",
     "text": [
      "Number of outliers: 4\n"
     ]
    }
   ],
   "source": [
    "wt_true = [3.0, 6.0]\n",
    "xtrain, ytrain, outlier_noise = gen_training_data(wt_true, npoints=70)\n",
    "print('Number of outliers:', sum(np.where(outlier_noise, 1, 0)))"
   ]
  },
  {
   "cell_type": "markdown",
   "metadata": {},
   "source": [
    "Let's look at the summary statistics of the generated data, with and without outliers."
   ]
  },
  {
   "cell_type": "code",
   "execution_count": 8,
   "metadata": {},
   "outputs": [
    {
     "data": {
      "text/html": [
       "<div>\n",
       "<style scoped>\n",
       "    .dataframe tbody tr th:only-of-type {\n",
       "        vertical-align: middle;\n",
       "    }\n",
       "\n",
       "    .dataframe tbody tr th {\n",
       "        vertical-align: top;\n",
       "    }\n",
       "\n",
       "    .dataframe thead th {\n",
       "        text-align: right;\n",
       "    }\n",
       "</style>\n",
       "<table border=\"1\" class=\"dataframe\">\n",
       "  <thead>\n",
       "    <tr style=\"text-align: right;\">\n",
       "      <th></th>\n",
       "      <th>y (no outliers)</th>\n",
       "    </tr>\n",
       "  </thead>\n",
       "  <tbody>\n",
       "    <tr>\n",
       "      <th>count</th>\n",
       "      <td>70.000000</td>\n",
       "    </tr>\n",
       "    <tr>\n",
       "      <th>mean</th>\n",
       "      <td>5.993224</td>\n",
       "    </tr>\n",
       "    <tr>\n",
       "      <th>std</th>\n",
       "      <td>1.806728</td>\n",
       "    </tr>\n",
       "    <tr>\n",
       "      <th>min</th>\n",
       "      <td>2.545869</td>\n",
       "    </tr>\n",
       "    <tr>\n",
       "      <th>25%</th>\n",
       "      <td>4.440494</td>\n",
       "    </tr>\n",
       "    <tr>\n",
       "      <th>50%</th>\n",
       "      <td>6.017799</td>\n",
       "    </tr>\n",
       "    <tr>\n",
       "      <th>75%</th>\n",
       "      <td>7.658137</td>\n",
       "    </tr>\n",
       "    <tr>\n",
       "      <th>max</th>\n",
       "      <td>8.887732</td>\n",
       "    </tr>\n",
       "  </tbody>\n",
       "</table>\n",
       "</div>"
      ],
      "text/plain": [
       "       y (no outliers)\n",
       "count        70.000000\n",
       "mean          5.993224\n",
       "std           1.806728\n",
       "min           2.545869\n",
       "25%           4.440494\n",
       "50%           6.017799\n",
       "75%           7.658137\n",
       "max           8.887732"
      ]
     },
     "metadata": {},
     "output_type": "display_data"
    },
    {
     "name": "stdout",
     "output_type": "stream",
     "text": [
      "\n"
     ]
    },
    {
     "data": {
      "text/html": [
       "<div>\n",
       "<style scoped>\n",
       "    .dataframe tbody tr th:only-of-type {\n",
       "        vertical-align: middle;\n",
       "    }\n",
       "\n",
       "    .dataframe tbody tr th {\n",
       "        vertical-align: top;\n",
       "    }\n",
       "\n",
       "    .dataframe thead th {\n",
       "        text-align: right;\n",
       "    }\n",
       "</style>\n",
       "<table border=\"1\" class=\"dataframe\">\n",
       "  <thead>\n",
       "    <tr style=\"text-align: right;\">\n",
       "      <th></th>\n",
       "      <th>y (with outliers)</th>\n",
       "    </tr>\n",
       "  </thead>\n",
       "  <tbody>\n",
       "    <tr>\n",
       "      <th>count</th>\n",
       "      <td>70.000000</td>\n",
       "    </tr>\n",
       "    <tr>\n",
       "      <th>mean</th>\n",
       "      <td>5.993224</td>\n",
       "    </tr>\n",
       "    <tr>\n",
       "      <th>std</th>\n",
       "      <td>1.997503</td>\n",
       "    </tr>\n",
       "    <tr>\n",
       "      <th>min</th>\n",
       "      <td>0.680286</td>\n",
       "    </tr>\n",
       "    <tr>\n",
       "      <th>25%</th>\n",
       "      <td>4.440494</td>\n",
       "    </tr>\n",
       "    <tr>\n",
       "      <th>50%</th>\n",
       "      <td>6.017799</td>\n",
       "    </tr>\n",
       "    <tr>\n",
       "      <th>75%</th>\n",
       "      <td>7.735788</td>\n",
       "    </tr>\n",
       "    <tr>\n",
       "      <th>max</th>\n",
       "      <td>9.859972</td>\n",
       "    </tr>\n",
       "  </tbody>\n",
       "</table>\n",
       "</div>"
      ],
      "text/plain": [
       "       y (with outliers)\n",
       "count          70.000000\n",
       "mean            5.993224\n",
       "std             1.997503\n",
       "min             0.680286\n",
       "25%             4.440494\n",
       "50%             6.017799\n",
       "75%             7.735788\n",
       "max             9.859972"
      ]
     },
     "metadata": {},
     "output_type": "display_data"
    }
   ],
   "source": [
    "display(pd.DataFrame({'y (no outliers)': ytrain}).describe())\n",
    "print()\n",
    "display(pd.DataFrame({'y (with outliers)': ytrain + outlier_noise}).describe())"
   ]
  },
  {
   "cell_type": "markdown",
   "metadata": {},
   "source": [
    "As expected, the standard deviation of the data with outliers is higher than the one without.  The minimum and maximum values are also wider.  Otherwise the mean and median are unchanged since the positive and negative outliers are balanced in the data that was produced."
   ]
  },
  {
   "cell_type": "markdown",
   "metadata": {},
   "source": [
    "We plot the data below.  The outliers are plotted in a different color.  The dashed line corresponds to the true weights that generated the data."
   ]
  },
  {
   "cell_type": "code",
   "execution_count": 9,
   "metadata": {},
   "outputs": [
    {
     "data": {
      "text/html": [
       "\n",
       "\n",
       "\n",
       "\n",
       "\n",
       "\n",
       "  <div class=\"bk-root\" id=\"3f634038-ae32-48fa-bb89-466412f6296f\" data-root-id=\"1002\"></div>\n"
      ]
     },
     "metadata": {},
     "output_type": "display_data"
    },
    {
     "data": {
      "application/javascript": [
       "(function(root) {\n",
       "  function embed_document(root) {\n",
       "    \n",
       "  var docs_json = {\"1c51cfbe-870d-4649-bd0b-dff4ee39860f\":{\"roots\":{\"references\":[{\"attributes\":{\"below\":[{\"id\":\"1013\",\"type\":\"LinearAxis\"}],\"center\":[{\"id\":\"1017\",\"type\":\"Grid\"},{\"id\":\"1022\",\"type\":\"Grid\"},{\"id\":\"1047\",\"type\":\"Legend\"},{\"id\":\"1063\",\"type\":\"Slope\"}],\"left\":[{\"id\":\"1018\",\"type\":\"LinearAxis\"}],\"plot_height\":400,\"renderers\":[{\"id\":\"1039\",\"type\":\"GlyphRenderer\"},{\"id\":\"1052\",\"type\":\"GlyphRenderer\"}],\"title\":{\"id\":\"1003\",\"type\":\"Title\"},\"toolbar\":{\"id\":\"1029\",\"type\":\"Toolbar\"},\"x_range\":{\"id\":\"1005\",\"type\":\"DataRange1d\"},\"x_scale\":{\"id\":\"1009\",\"type\":\"LinearScale\"},\"y_range\":{\"id\":\"1007\",\"type\":\"Range1d\"},\"y_scale\":{\"id\":\"1011\",\"type\":\"LinearScale\"}},\"id\":\"1002\",\"subtype\":\"Figure\",\"type\":\"Plot\"},{\"attributes\":{},\"id\":\"1045\",\"type\":\"BasicTickFormatter\"},{\"attributes\":{},\"id\":\"1043\",\"type\":\"BasicTickFormatter\"},{\"attributes\":{\"gradient\":6.0,\"line_color\":{\"value\":\"gray\"},\"line_dash\":[6],\"line_width\":{\"value\":3.5},\"y_intercept\":3.0},\"id\":\"1063\",\"type\":\"Slope\"},{\"attributes\":{\"callback\":null,\"data\":{\"x\":{\"__ndarray__\":\"GcKryYGD7z88rlgroD/oP4QZL9uewMo/u32AG4at5j/utv4yt4/mP1vj1pwIg+s/bpkK6Liv0D+xtICj4bvqP1R10GgGd9A/6hURloyr1z8RnSfrRn3rP7yrDlySWOA/HNZGzkyb1T8Q/9gNiuOsP3ACCOd2Y8k/6OVXvYxM2T+EFDweDNHDP0CQt/sZHYw/IHd3xz6srT+NQPrmBkHsP+hHy5J9fek/2A7tyMf83T+jiVCwSvHvP3hknh7lLOo/rAOMuR996D/oeSSQhRW0P67at8OYf9Y/K0+bTRjy6z8bPhnnif7pP35qWOQVQtI/tWCfaY157D/SiwZiZMfcP4jvusH17b4/HOAw9T/Y6z8p1dI5cfDmP+D+6Ngz3JM/0ApHLRC71z/0I1x2eljrP7B2eE8kUqo/dg1RYV8E1j/9fD3qWtDpP1qLbLk1t+Q/Kk6S4V9C3j/YpZFvwfrpP3/NmIiQXOE/JLiDFKMwxz+ch7SACsLdP5qO9s9G8dE/7BYhBZyM7T+oEx4Mr0rpP0+nmjAbvOk/gN7S++F9ez+paDdYWRPkP+WRbTjTZuw/VkAtD58Z0D/Y6Ifwje/MP3oI3OxhzdQ/m7H2YsGu6T9U7SENtFPCPw6Y3yocyeA/a4dHjpke4j+0TywrwcLEP4KfeqBJw9E/RNT92N7Kxz/wXDnAZvHqP1LRqdIWt+Q/\",\"dtype\":\"float64\",\"shape\":[66]},\"y\":{\"__ndarray__\":\"RkoRqnhzIUCe9aeudUkcQFwLm+DgKQ9AceZ/9/wvHEDiLzLlUEEbQDUAySSgZCBAoTOCKgW/EUCkA92mn50fQPMthXAHNBRAdHFgmNwUFUCeuGrK6wkfQLFsz12prRdAnq2R8tXpFEDGM/povrMIQPRR4hkSJBBAbX0kiWlHFkCUvCufp6gLQLZYv7vwXQRAP+CNuaUeCUChqTTvfjogQFIBaQMGqB5AIBqSpyVKFEBDPCe5KI8hQHGmIktVjhxA3sS2E5lqHUDsqtqrr5oMQIn/1kKsdxRAgw/Xd1YOIEDsTEAc9rwdQMUDgkB2RBNA+NoeDIp6H0Ci7ectJBQYQGZnKm1IWA1AyTi3afnoH0DaMouVvsQcQK7MUrG5MwxAWZPWU4yJFEC9zDcjNx4gQC6yQBSyqwpAu0fGCi/WE0DhR9cVSo8fQF6WiwiliB5AzwmeCYwuGEBKMjkqFKAfQKTIDydHdRdA6nkmPxPkEUBbVxZvTxAYQAWTeoRTGBJA/PD11YTGIUASOx/gH1weQI6JpM0QcB1Ai3u/um5BC0BivV6fAj8bQGQPpUxefB9ArIHvARmIEUCGcTrVyr0RQPPvU2x2qhNAbGz3aaHRIEAZS9tb2q4NQETKXoRNsRhA/cUe1KiPHkAq4S9Tz2USQCtdTPozzxFASjskl42vEUCF1LEozJogQEKKc9o1hRtA\",\"dtype\":\"float64\",\"shape\":[66]}},\"selected\":{\"id\":\"1060\",\"type\":\"Selection\"},\"selection_policy\":{\"id\":\"1061\",\"type\":\"UnionRenderers\"}},\"id\":\"1036\",\"type\":\"ColumnDataSource\"},{\"attributes\":{\"fill_alpha\":{\"value\":0.1},\"fill_color\":{\"value\":\"#1f77b4\"},\"line_alpha\":{\"value\":0.1},\"line_color\":{\"value\":\"#1f77b4\"},\"radius\":{\"units\":\"data\",\"value\":0.01},\"x\":{\"field\":\"x\"},\"y\":{\"field\":\"y\"}},\"id\":\"1051\",\"type\":\"Circle\"},{\"attributes\":{\"bottom_units\":\"screen\",\"fill_alpha\":{\"value\":0.5},\"fill_color\":{\"value\":\"lightgrey\"},\"left_units\":\"screen\",\"level\":\"overlay\",\"line_alpha\":{\"value\":1.0},\"line_color\":{\"value\":\"black\"},\"line_dash\":[4,4],\"line_width\":{\"value\":2},\"render_mode\":\"css\",\"right_units\":\"screen\",\"top_units\":\"screen\"},\"id\":\"1046\",\"type\":\"BoxAnnotation\"},{\"attributes\":{\"data_source\":{\"id\":\"1049\",\"type\":\"ColumnDataSource\"},\"glyph\":{\"id\":\"1050\",\"type\":\"Circle\"},\"hover_glyph\":null,\"muted_glyph\":null,\"nonselection_glyph\":{\"id\":\"1051\",\"type\":\"Circle\"},\"selection_glyph\":null,\"view\":{\"id\":\"1053\",\"type\":\"CDSView\"}},\"id\":\"1052\",\"type\":\"GlyphRenderer\"},{\"attributes\":{},\"id\":\"1023\",\"type\":\"PanTool\"},{\"attributes\":{\"overlay\":{\"id\":\"1046\",\"type\":\"BoxAnnotation\"}},\"id\":\"1025\",\"type\":\"BoxZoomTool\"},{\"attributes\":{\"callback\":null},\"id\":\"1005\",\"type\":\"DataRange1d\"},{\"attributes\":{\"source\":{\"id\":\"1049\",\"type\":\"ColumnDataSource\"}},\"id\":\"1053\",\"type\":\"CDSView\"},{\"attributes\":{\"border_line_alpha\":{\"value\":0.4},\"border_line_color\":{\"value\":\"black\"},\"items\":[{\"id\":\"1048\",\"type\":\"LegendItem\"},{\"id\":\"1062\",\"type\":\"LegendItem\"}],\"location\":\"bottom_left\"},\"id\":\"1047\",\"type\":\"Legend\"},{\"attributes\":{},\"id\":\"1026\",\"type\":\"SaveTool\"},{\"attributes\":{},\"id\":\"1073\",\"type\":\"UnionRenderers\"},{\"attributes\":{\"data_source\":{\"id\":\"1036\",\"type\":\"ColumnDataSource\"},\"glyph\":{\"id\":\"1037\",\"type\":\"Circle\"},\"hover_glyph\":null,\"muted_glyph\":null,\"nonselection_glyph\":{\"id\":\"1038\",\"type\":\"Circle\"},\"selection_glyph\":null,\"view\":{\"id\":\"1040\",\"type\":\"CDSView\"}},\"id\":\"1039\",\"type\":\"GlyphRenderer\"},{\"attributes\":{\"label\":{\"value\":\"outliers\"},\"renderers\":[{\"id\":\"1052\",\"type\":\"GlyphRenderer\"}]},\"id\":\"1062\",\"type\":\"LegendItem\"},{\"attributes\":{\"callback\":null,\"end\":11,\"start\":-1},\"id\":\"1007\",\"type\":\"Range1d\"},{\"attributes\":{\"fill_color\":{\"value\":\"darkorange\"},\"line_color\":{\"value\":\"darkorange\"},\"radius\":{\"units\":\"data\",\"value\":0.01},\"x\":{\"field\":\"x\"},\"y\":{\"field\":\"y\"}},\"id\":\"1050\",\"type\":\"Circle\"},{\"attributes\":{},\"id\":\"1072\",\"type\":\"Selection\"},{\"attributes\":{},\"id\":\"1011\",\"type\":\"LinearScale\"},{\"attributes\":{\"formatter\":{\"id\":\"1045\",\"type\":\"BasicTickFormatter\"},\"ticker\":{\"id\":\"1014\",\"type\":\"BasicTicker\"}},\"id\":\"1013\",\"type\":\"LinearAxis\"},{\"attributes\":{\"fill_color\":{\"value\":\"#1f77b4\"},\"line_color\":{\"value\":\"#1f77b4\"},\"radius\":{\"units\":\"data\",\"value\":0.01},\"x\":{\"field\":\"x\"},\"y\":{\"field\":\"y\"}},\"id\":\"1037\",\"type\":\"Circle\"},{\"attributes\":{},\"id\":\"1014\",\"type\":\"BasicTicker\"},{\"attributes\":{},\"id\":\"1060\",\"type\":\"Selection\"},{\"attributes\":{},\"id\":\"1019\",\"type\":\"BasicTicker\"},{\"attributes\":{\"fill_alpha\":{\"value\":0.1},\"fill_color\":{\"value\":\"#1f77b4\"},\"line_alpha\":{\"value\":0.1},\"line_color\":{\"value\":\"#1f77b4\"},\"radius\":{\"units\":\"data\",\"value\":0.01},\"x\":{\"field\":\"x\"},\"y\":{\"field\":\"y\"}},\"id\":\"1038\",\"type\":\"Circle\"},{\"attributes\":{\"ticker\":{\"id\":\"1014\",\"type\":\"BasicTicker\"}},\"id\":\"1017\",\"type\":\"Grid\"},{\"attributes\":{},\"id\":\"1061\",\"type\":\"UnionRenderers\"},{\"attributes\":{},\"id\":\"1024\",\"type\":\"WheelZoomTool\"},{\"attributes\":{},\"id\":\"1027\",\"type\":\"ResetTool\"},{\"attributes\":{\"active_drag\":\"auto\",\"active_inspect\":\"auto\",\"active_multi\":null,\"active_scroll\":\"auto\",\"active_tap\":\"auto\",\"tools\":[{\"id\":\"1023\",\"type\":\"PanTool\"},{\"id\":\"1024\",\"type\":\"WheelZoomTool\"},{\"id\":\"1025\",\"type\":\"BoxZoomTool\"},{\"id\":\"1026\",\"type\":\"SaveTool\"},{\"id\":\"1027\",\"type\":\"ResetTool\"},{\"id\":\"1028\",\"type\":\"HelpTool\"}]},\"id\":\"1029\",\"type\":\"Toolbar\"},{\"attributes\":{\"formatter\":{\"id\":\"1043\",\"type\":\"BasicTickFormatter\"},\"ticker\":{\"id\":\"1019\",\"type\":\"BasicTicker\"}},\"id\":\"1018\",\"type\":\"LinearAxis\"},{\"attributes\":{\"text\":\"Training Data With Outliers\"},\"id\":\"1003\",\"type\":\"Title\"},{\"attributes\":{\"source\":{\"id\":\"1036\",\"type\":\"ColumnDataSource\"}},\"id\":\"1040\",\"type\":\"CDSView\"},{\"attributes\":{\"dimension\":1,\"ticker\":{\"id\":\"1019\",\"type\":\"BasicTicker\"}},\"id\":\"1022\",\"type\":\"Grid\"},{\"attributes\":{},\"id\":\"1028\",\"type\":\"HelpTool\"},{\"attributes\":{\"callback\":null,\"data\":{\"x\":{\"__ndarray__\":\"x3M0x3Z25D8xky+Q/pXrP2B0AF7mQbU/uBVrK5fSvD8=\",\"dtype\":\"float64\",\"shape\":[4]},\"y\":{\"__ndarray__\":\"YPY/gObE5T8MwOQp0JkFQIdnhK4TYyNA5+AKNU64I0A=\",\"dtype\":\"float64\",\"shape\":[4]}},\"selected\":{\"id\":\"1072\",\"type\":\"Selection\"},\"selection_policy\":{\"id\":\"1073\",\"type\":\"UnionRenderers\"}},\"id\":\"1049\",\"type\":\"ColumnDataSource\"},{\"attributes\":{},\"id\":\"1009\",\"type\":\"LinearScale\"},{\"attributes\":{\"label\":{\"value\":\"unaffected data\"},\"renderers\":[{\"id\":\"1039\",\"type\":\"GlyphRenderer\"}]},\"id\":\"1048\",\"type\":\"LegendItem\"}],\"root_ids\":[\"1002\"]},\"title\":\"Bokeh Application\",\"version\":\"1.4.0\"}};\n",
       "  var render_items = [{\"docid\":\"1c51cfbe-870d-4649-bd0b-dff4ee39860f\",\"roots\":{\"1002\":\"3f634038-ae32-48fa-bb89-466412f6296f\"}}];\n",
       "  root.Bokeh.embed.embed_items_notebook(docs_json, render_items);\n",
       "\n",
       "  }\n",
       "  if (root.Bokeh !== undefined) {\n",
       "    embed_document(root);\n",
       "  } else {\n",
       "    var attempts = 0;\n",
       "    var timer = setInterval(function(root) {\n",
       "      if (root.Bokeh !== undefined) {\n",
       "        clearInterval(timer);\n",
       "        embed_document(root);\n",
       "      } else {\n",
       "        attempts++;\n",
       "        if (attempts > 100) {\n",
       "          clearInterval(timer);\n",
       "          console.log(\"Bokeh: ERROR: Unable to run BokehJS code because BokehJS library is missing\");\n",
       "        }\n",
       "      }\n",
       "    }, 10, root)\n",
       "  }\n",
       "})(window);"
      ],
      "application/vnd.bokehjs_exec.v0+json": ""
     },
     "metadata": {
      "application/vnd.bokehjs_exec.v0+json": {
       "id": "1002"
      }
     },
     "output_type": "display_data"
    }
   ],
   "source": [
    "p = bkp.figure(title='Training Data With Outliers', y_range=[-1, 11], width=600, height=400)\n",
    "xin, xout = xtrain[outlier_noise == 0], xtrain[outlier_noise != 0]\n",
    "yin, yout = ytrain[outlier_noise == 0], (ytrain + outlier_noise)[outlier_noise != 0]\n",
    "p.circle(xin, yin, radius=0.01, legend_label='unaffected data')\n",
    "p.circle(xout, yout, radius=0.01, color='darkorange', legend_label='outliers')\n",
    "line = bokeh.models.Slope(gradient=wt_true[1], y_intercept=wt_true[0], \n",
    "                          line_color='gray', line_dash='dashed', line_width=3.5)\n",
    "p.add_layout(line)\n",
    "p.legend.location = 'bottom_left'\n",
    "p.legend.border_line_alpha = 0.4\n",
    "p.legend.border_line_color = 'black'\n",
    "bkp.show(p)"
   ]
  },
  {
   "cell_type": "markdown",
   "metadata": {},
   "source": [
    "## Predictions Without Outliers\n",
    "First, we compare predictions using the MSE-loss and Huber-loss models using data without outliers i.e. we do not yet add the noise that will move some of the points and make them outliers.\n",
    "\n",
    "### MSE-loss Model\n",
    "First, we fit the MSE-loss model."
   ]
  },
  {
   "cell_type": "code",
   "execution_count": 10,
   "metadata": {},
   "outputs": [],
   "source": [
    "# No outliers - Predict using MSE Loss\n",
    "np.random.seed(424242)\n",
    "weights_mse, loss_values_mse = train(xtrain, ytrain, nweights=2, update_func=update_weights_mse,\n",
    "                                     loss_func=mse_loss, niter=250 * 20)"
   ]
  },
  {
   "cell_type": "code",
   "execution_count": 11,
   "metadata": {},
   "outputs": [
    {
     "name": "stdout",
     "output_type": "stream",
     "text": [
      "loss values (last few): [0.11702782079848476, 0.11702782079843213, 0.11702782079838533, 0.11702782079834366]\n",
      "True weights: [3.0, 6.0]\n",
      "Predicted weights: [3.07659014 5.79207763]\n",
      "MSE loss: 0.11702782079834366\n"
     ]
    }
   ],
   "source": [
    "print('loss values (last few):', loss_values_mse[-4:])\n",
    "print('True weights:', wt_true)\n",
    "print('Predicted weights:', weights_mse)\n",
    "yhat = polynomial_function(weights_mse, xtrain)\n",
    "print('MSE loss:', mse_loss(yhat, ytrain))"
   ]
  },
  {
   "cell_type": "markdown",
   "metadata": {},
   "source": [
    "Notice that the loss values have stabilized.  Later, we also plot the loss against the iteration steps to drive home this point.\n",
    "\n",
    "The predicted weights are close to the true weights.  And the MSE loss of the predictions is small compared to either the average value or the median value of $y$.\n",
    "\n",
    "The error distribution is plotted below.  The two dashed lines are plotted at $\\pm \\gamma$.  The axis limits are set so that we can later directly compare it to the error generated with the outliers added.\n",
    "\n",
    "In the Huber-loss model, $\\gamma$ will be set to twice the standard deviation of the error."
   ]
  },
  {
   "cell_type": "code",
   "execution_count": 12,
   "metadata": {},
   "outputs": [
    {
     "data": {
      "text/html": [
       "\n",
       "\n",
       "\n",
       "\n",
       "\n",
       "\n",
       "  <div class=\"bk-root\" id=\"252c45ef-9cd5-42f0-8f94-22792e3e93bc\" data-root-id=\"1134\"></div>\n"
      ]
     },
     "metadata": {},
     "output_type": "display_data"
    },
    {
     "data": {
      "application/javascript": [
       "(function(root) {\n",
       "  function embed_document(root) {\n",
       "    \n",
       "  var docs_json = {\"b27342da-2241-4633-8c67-4cb310b2e64d\":{\"roots\":{\"references\":[{\"attributes\":{\"below\":[{\"id\":\"1145\",\"type\":\"LinearAxis\"}],\"center\":[{\"id\":\"1149\",\"type\":\"Grid\"},{\"id\":\"1154\",\"type\":\"Grid\"}],\"left\":[{\"id\":\"1150\",\"type\":\"LinearAxis\"}],\"plot_height\":200,\"renderers\":[{\"id\":\"1171\",\"type\":\"GlyphRenderer\"},{\"id\":\"1176\",\"type\":\"GlyphRenderer\"},{\"id\":\"1181\",\"type\":\"GlyphRenderer\"}],\"title\":{\"id\":\"1135\",\"type\":\"Title\"},\"toolbar\":{\"id\":\"1161\",\"type\":\"Toolbar\"},\"x_range\":{\"id\":\"1137\",\"type\":\"Range1d\"},\"x_scale\":{\"id\":\"1141\",\"type\":\"LinearScale\"},\"y_range\":{\"id\":\"1139\",\"type\":\"Range1d\"},\"y_scale\":{\"id\":\"1143\",\"type\":\"LinearScale\"}},\"id\":\"1134\",\"subtype\":\"Figure\",\"type\":\"Plot\"},{\"attributes\":{\"dimension\":1,\"ticker\":{\"id\":\"1151\",\"type\":\"BasicTicker\"}},\"id\":\"1154\",\"type\":\"Grid\"},{\"attributes\":{\"data_source\":{\"id\":\"1168\",\"type\":\"ColumnDataSource\"},\"glyph\":{\"id\":\"1169\",\"type\":\"Circle\"},\"hover_glyph\":null,\"muted_glyph\":null,\"nonselection_glyph\":{\"id\":\"1170\",\"type\":\"Circle\"},\"selection_glyph\":null,\"view\":{\"id\":\"1172\",\"type\":\"CDSView\"}},\"id\":\"1171\",\"type\":\"GlyphRenderer\"},{\"attributes\":{\"callback\":null,\"data\":{\"x\":[0.6841865850726339,0.6841865850726339],\"y\":[0,1]},\"selected\":{\"id\":\"1203\",\"type\":\"Selection\"},\"selection_policy\":{\"id\":\"1204\",\"type\":\"UnionRenderers\"}},\"id\":\"1178\",\"type\":\"ColumnDataSource\"},{\"attributes\":{\"callback\":null,\"data\":{\"x\":{\"__ndarray__\":\"ABbDkS84rD8wnnPemDXZP4CCZ0OyEdk/oC7xpkM2wT9A2ilYlSzWP8D+S8wj88G/IADurVo5wz8AXJC0sq6HP8CF+KbtoLk/YAgVIdz73r8AUMUBcWyqvyBuC4wGudI/wH460PubvT/g8BB3mSHJvzDQfEJYM9Q/wG3Qh9hYyD9gvi7UIA7Kvzzy/qetguA/AK766gKH4z94epzibW3RP4DWZy/5jbM/AI212DQs5L8AiV99W+yaP4CMZfaA+uY/gA+0Yh4jtD9YSV1x3ZzlP2Bs7a+U18M/gDrNpujMpr8AMKNuc/hwv4A+8FfDWLs/4BYcIq421j+AAvymfH+2v+B55ROIGdc/AOApueaq1b9gLNUPzLe7P+CYkN8IzME/AJMt38uxoj/In+mrcYbVv8C/S61HBbc/APll2knLoL8Ahe3UJL6kPwBOpYrhKLw/gDI+lSELwr8I60evINXpv4DFD/uXfM2/gLnhOAtOwL9AhIOY7rDWP1BB12eeMda/4HfXTKeDz7/A+uPVfpzGPwAgBexCZ8G/AAtNKiSc3b/A6JQ5aYKwP2AD46RyA9g/4LYDpaun0r+A8jpbLem5v0Do62BTI9Y/ANazxRRMwz8AaDRhEkqpv4BQz9HX46U/6IdzDivl5b+gf7aoxAbJPwCgGFvR3K2/PDYMDlyL9L8grUxJL6viv6BmGrOxq80/8Fu9WinNwL9AWchhmSrRvyCwOEMZVta/ALhOpKOlq78=\",\"dtype\":\"float64\",\"shape\":[70]}},\"selected\":{\"id\":\"1199\",\"type\":\"Selection\"},\"selection_policy\":{\"id\":\"1200\",\"type\":\"UnionRenderers\"}},\"id\":\"1168\",\"type\":\"ColumnDataSource\"},{\"attributes\":{},\"id\":\"1143\",\"type\":\"LinearScale\"},{\"attributes\":{\"fill_alpha\":{\"value\":0.1},\"fill_color\":{\"value\":\"#1f77b4\"},\"line_alpha\":{\"value\":0.1},\"line_color\":{\"value\":\"#1f77b4\"},\"x\":{\"field\":\"x\"},\"y\":{\"value\":0.6}},\"id\":\"1170\",\"type\":\"Circle\"},{\"attributes\":{\"active_drag\":\"auto\",\"active_inspect\":\"auto\",\"active_multi\":null,\"active_scroll\":\"auto\",\"active_tap\":\"auto\",\"tools\":[{\"id\":\"1155\",\"type\":\"PanTool\"},{\"id\":\"1156\",\"type\":\"WheelZoomTool\"},{\"id\":\"1157\",\"type\":\"BoxZoomTool\"},{\"id\":\"1158\",\"type\":\"SaveTool\"},{\"id\":\"1159\",\"type\":\"ResetTool\"},{\"id\":\"1160\",\"type\":\"HelpTool\"}]},\"id\":\"1161\",\"type\":\"Toolbar\"},{\"attributes\":{\"source\":{\"id\":\"1178\",\"type\":\"ColumnDataSource\"}},\"id\":\"1182\",\"type\":\"CDSView\"},{\"attributes\":{},\"id\":\"1204\",\"type\":\"UnionRenderers\"},{\"attributes\":{},\"id\":\"1155\",\"type\":\"PanTool\"},{\"attributes\":{\"line_alpha\":0.1,\"line_color\":\"#1f77b4\",\"line_dash\":[6],\"line_width\":2,\"x\":{\"field\":\"x\"},\"y\":{\"field\":\"y\"}},\"id\":\"1180\",\"type\":\"Line\"},{\"attributes\":{},\"id\":\"1156\",\"type\":\"WheelZoomTool\"},{\"attributes\":{\"data_source\":{\"id\":\"1178\",\"type\":\"ColumnDataSource\"},\"glyph\":{\"id\":\"1179\",\"type\":\"Line\"},\"hover_glyph\":null,\"muted_glyph\":null,\"nonselection_glyph\":{\"id\":\"1180\",\"type\":\"Line\"},\"selection_glyph\":null,\"view\":{\"id\":\"1182\",\"type\":\"CDSView\"}},\"id\":\"1181\",\"type\":\"GlyphRenderer\"},{\"attributes\":{\"fill_color\":{\"value\":\"blue\"},\"line_color\":{\"value\":\"#1f77b4\"},\"x\":{\"field\":\"x\"},\"y\":{\"value\":0.6}},\"id\":\"1169\",\"type\":\"Circle\"},{\"attributes\":{\"overlay\":{\"id\":\"1198\",\"type\":\"BoxAnnotation\"}},\"id\":\"1157\",\"type\":\"BoxZoomTool\"},{\"attributes\":{\"source\":{\"id\":\"1168\",\"type\":\"ColumnDataSource\"}},\"id\":\"1172\",\"type\":\"CDSView\"},{\"attributes\":{},\"id\":\"1201\",\"type\":\"Selection\"},{\"attributes\":{},\"id\":\"1146\",\"type\":\"BasicTicker\"},{\"attributes\":{},\"id\":\"1158\",\"type\":\"SaveTool\"},{\"attributes\":{},\"id\":\"1159\",\"type\":\"ResetTool\"},{\"attributes\":{\"callback\":null,\"data\":{\"x\":[-0.6841865850726339,-0.6841865850726339],\"y\":[0,1]},\"selected\":{\"id\":\"1201\",\"type\":\"Selection\"},\"selection_policy\":{\"id\":\"1202\",\"type\":\"UnionRenderers\"}},\"id\":\"1173\",\"type\":\"ColumnDataSource\"},{\"attributes\":{\"text\":\"Error\"},\"id\":\"1135\",\"type\":\"Title\"},{\"attributes\":{\"data_source\":{\"id\":\"1173\",\"type\":\"ColumnDataSource\"},\"glyph\":{\"id\":\"1174\",\"type\":\"Line\"},\"hover_glyph\":null,\"muted_glyph\":null,\"nonselection_glyph\":{\"id\":\"1175\",\"type\":\"Line\"},\"selection_glyph\":null,\"view\":{\"id\":\"1177\",\"type\":\"CDSView\"}},\"id\":\"1176\",\"type\":\"GlyphRenderer\"},{\"attributes\":{},\"id\":\"1141\",\"type\":\"LinearScale\"},{\"attributes\":{\"callback\":null,\"end\":7,\"start\":-7},\"id\":\"1137\",\"type\":\"Range1d\"},{\"attributes\":{},\"id\":\"1160\",\"type\":\"HelpTool\"},{\"attributes\":{},\"id\":\"1200\",\"type\":\"UnionRenderers\"},{\"attributes\":{\"callback\":null,\"end\":0.8,\"start\":0.5},\"id\":\"1139\",\"type\":\"Range1d\"},{\"attributes\":{},\"id\":\"1195\",\"type\":\"BasicTickFormatter\"},{\"attributes\":{\"formatter\":{\"id\":\"1195\",\"type\":\"BasicTickFormatter\"},\"ticker\":{\"id\":\"1151\",\"type\":\"BasicTicker\"},\"visible\":false},\"id\":\"1150\",\"type\":\"LinearAxis\"},{\"attributes\":{\"source\":{\"id\":\"1173\",\"type\":\"ColumnDataSource\"}},\"id\":\"1177\",\"type\":\"CDSView\"},{\"attributes\":{\"line_alpha\":0.1,\"line_color\":\"#1f77b4\",\"line_dash\":[6],\"line_width\":2,\"x\":{\"field\":\"x\"},\"y\":{\"field\":\"y\"}},\"id\":\"1175\",\"type\":\"Line\"},{\"attributes\":{},\"id\":\"1203\",\"type\":\"Selection\"},{\"attributes\":{\"axis_label\":\"error=(yhat - y)\",\"formatter\":{\"id\":\"1197\",\"type\":\"BasicTickFormatter\"},\"ticker\":{\"id\":\"1146\",\"type\":\"BasicTicker\"}},\"id\":\"1145\",\"type\":\"LinearAxis\"},{\"attributes\":{},\"id\":\"1202\",\"type\":\"UnionRenderers\"},{\"attributes\":{\"line_color\":\"#1f77b4\",\"line_dash\":[6],\"line_width\":2,\"x\":{\"field\":\"x\"},\"y\":{\"field\":\"y\"}},\"id\":\"1174\",\"type\":\"Line\"},{\"attributes\":{\"line_color\":\"#1f77b4\",\"line_dash\":[6],\"line_width\":2,\"x\":{\"field\":\"x\"},\"y\":{\"field\":\"y\"}},\"id\":\"1179\",\"type\":\"Line\"},{\"attributes\":{\"bottom_units\":\"screen\",\"fill_alpha\":{\"value\":0.5},\"fill_color\":{\"value\":\"lightgrey\"},\"left_units\":\"screen\",\"level\":\"overlay\",\"line_alpha\":{\"value\":1.0},\"line_color\":{\"value\":\"black\"},\"line_dash\":[4,4],\"line_width\":{\"value\":2},\"render_mode\":\"css\",\"right_units\":\"screen\",\"top_units\":\"screen\"},\"id\":\"1198\",\"type\":\"BoxAnnotation\"},{\"attributes\":{},\"id\":\"1199\",\"type\":\"Selection\"},{\"attributes\":{},\"id\":\"1197\",\"type\":\"BasicTickFormatter\"},{\"attributes\":{},\"id\":\"1151\",\"type\":\"BasicTicker\"},{\"attributes\":{\"ticker\":{\"id\":\"1146\",\"type\":\"BasicTicker\"}},\"id\":\"1149\",\"type\":\"Grid\"}],\"root_ids\":[\"1134\"]},\"title\":\"Bokeh Application\",\"version\":\"1.4.0\"}};\n",
       "  var render_items = [{\"docid\":\"b27342da-2241-4633-8c67-4cb310b2e64d\",\"roots\":{\"1134\":\"252c45ef-9cd5-42f0-8f94-22792e3e93bc\"}}];\n",
       "  root.Bokeh.embed.embed_items_notebook(docs_json, render_items);\n",
       "\n",
       "  }\n",
       "  if (root.Bokeh !== undefined) {\n",
       "    embed_document(root);\n",
       "  } else {\n",
       "    var attempts = 0;\n",
       "    var timer = setInterval(function(root) {\n",
       "      if (root.Bokeh !== undefined) {\n",
       "        clearInterval(timer);\n",
       "        embed_document(root);\n",
       "      } else {\n",
       "        attempts++;\n",
       "        if (attempts > 100) {\n",
       "          clearInterval(timer);\n",
       "          console.log(\"Bokeh: ERROR: Unable to run BokehJS code because BokehJS library is missing\");\n",
       "        }\n",
       "      }\n",
       "    }, 10, root)\n",
       "  }\n",
       "})(window);"
      ],
      "application/vnd.bokehjs_exec.v0+json": ""
     },
     "metadata": {
      "application/vnd.bokehjs_exec.v0+json": {
       "id": "1134"
      }
     },
     "output_type": "display_data"
    }
   ],
   "source": [
    "# Plot the errors\n",
    "p = bkp.figure(title='Error', x_range=[-7, 7], y_range=[0.5, 0.8], width=600, height=200,\n",
    "               x_axis_label='error=(yhat - y)')\n",
    "err = polynomial_function(weights_mse, xtrain) - ytrain\n",
    "p.circle(err, 0.6, fill_color='blue')\n",
    "gamma = 2 * np.std(err)\n",
    "p.line([-gamma, -gamma], [0, 1], line_dash='dashed', line_width=2)\n",
    "p.line([gamma, gamma], [0, 1], line_dash='dashed', line_width=2)\n",
    "p.yaxis.visible = False\n",
    "bkp.show(p)"
   ]
  },
  {
   "cell_type": "markdown",
   "metadata": {},
   "source": [
    "The error data is bunched up near the origin (again, the x-axis scale is set to account for the outliers which come later).  The lines at $\\pm \\gamma$ are at the data edges and there are really no outliers to be separated here."
   ]
  },
  {
   "cell_type": "markdown",
   "metadata": {},
   "source": [
    "### Huber-loss Model\n",
    "Next we predict using the Huber-loss model.  We use twice the standard deviation of the error from the MSE-loss model as the $\\gamma$ value."
   ]
  },
  {
   "cell_type": "code",
   "execution_count": 13,
   "metadata": {},
   "outputs": [
    {
     "name": "stdout",
     "output_type": "stream",
     "text": [
      "gamma: 0.6841865850726339\n"
     ]
    }
   ],
   "source": [
    "# No outliers - Predict using Huber Loss\n",
    "np.random.seed(424242)\n",
    "# gamma = np.std(ytrain + outlier_noise)\n",
    "gamma = 2 * np.std(polynomial_function(weights_mse, xtrain) - ytrain)\n",
    "print('gamma:', gamma)\n",
    "update_func = functools.partial(update_weights_huber, gamma=gamma)\n",
    "loss_func = functools.partial(huber_loss, gamma=gamma)\n",
    "weights_huber, loss_values_huber = train(xtrain, ytrain, nweights=2, update_func=update_func,\n",
    "                                         loss_func=loss_func, niter=250 * 20)"
   ]
  },
  {
   "cell_type": "code",
   "execution_count": 14,
   "metadata": {},
   "outputs": [
    {
     "name": "stdout",
     "output_type": "stream",
     "text": [
      "gamma: 0.6841865850726339\n",
      "loss values (last few): [0.11154368969877192, 0.11154368969833425, 0.11154368969794404, 0.11154368969759612]\n",
      "True weights: [3.0, 6.0]\n",
      "Predicted weights: [3.07095171 5.78240498]\n",
      "MSE loss: 0.11714691181634618\n"
     ]
    }
   ],
   "source": [
    "print('gamma:', gamma)\n",
    "print('loss values (last few):', loss_values_huber[-4:])\n",
    "print('True weights:', wt_true)\n",
    "print('Predicted weights:', weights_huber)\n",
    "yhat = polynomial_function(weights_huber, xtrain)\n",
    "print('MSE loss:', mse_loss(yhat, ytrain))"
   ]
  },
  {
   "cell_type": "markdown",
   "metadata": {},
   "source": [
    "Again, the loss values have stabilized.\n",
    "\n",
    "The predicted weights are close to the true weights and are *practically the same as that from the MSE-loss model.*\n",
    "\n",
    "Next, we plot the predictions of both models against the data."
   ]
  },
  {
   "cell_type": "code",
   "execution_count": 15,
   "metadata": {},
   "outputs": [
    {
     "data": {
      "text/html": [
       "\n",
       "\n",
       "\n",
       "\n",
       "\n",
       "\n",
       "  <div class=\"bk-root\" id=\"42e74734-4fcc-4423-8de3-3fad3f2c02a8\" data-root-id=\"1277\"></div>\n"
      ]
     },
     "metadata": {},
     "output_type": "display_data"
    },
    {
     "data": {
      "application/javascript": [
       "(function(root) {\n",
       "  function embed_document(root) {\n",
       "    \n",
       "  var docs_json = {\"113a622b-e9cf-4f43-a4e7-b20a476a11cd\":{\"roots\":{\"references\":[{\"attributes\":{\"below\":[{\"id\":\"1288\",\"type\":\"LinearAxis\"}],\"center\":[{\"id\":\"1292\",\"type\":\"Grid\"},{\"id\":\"1297\",\"type\":\"Grid\"},{\"id\":\"1329\",\"type\":\"Legend\"}],\"left\":[{\"id\":\"1293\",\"type\":\"LinearAxis\"}],\"plot_height\":400,\"renderers\":[{\"id\":\"1314\",\"type\":\"GlyphRenderer\"},{\"id\":\"1319\",\"type\":\"GlyphRenderer\"},{\"id\":\"1334\",\"type\":\"GlyphRenderer\"},{\"id\":\"1350\",\"type\":\"GlyphRenderer\"}],\"title\":{\"id\":\"1278\",\"type\":\"Title\"},\"toolbar\":{\"id\":\"1304\",\"type\":\"Toolbar\"},\"x_range\":{\"id\":\"1280\",\"type\":\"DataRange1d\"},\"x_scale\":{\"id\":\"1284\",\"type\":\"LinearScale\"},\"y_range\":{\"id\":\"1282\",\"type\":\"Range1d\"},\"y_scale\":{\"id\":\"1286\",\"type\":\"LinearScale\"}},\"id\":\"1277\",\"subtype\":\"Figure\",\"type\":\"Plot\"},{\"attributes\":{},\"id\":\"1362\",\"type\":\"Selection\"},{\"attributes\":{\"data_source\":{\"id\":\"1316\",\"type\":\"ColumnDataSource\"},\"glyph\":{\"id\":\"1317\",\"type\":\"Line\"},\"hover_glyph\":null,\"muted_glyph\":null,\"nonselection_glyph\":{\"id\":\"1318\",\"type\":\"Line\"},\"selection_glyph\":null,\"view\":{\"id\":\"1320\",\"type\":\"CDSView\"}},\"id\":\"1319\",\"type\":\"GlyphRenderer\"},{\"attributes\":{},\"id\":\"1345\",\"type\":\"UnionRenderers\"},{\"attributes\":{\"callback\":null,\"data\":{\"x\":{\"__ndarray__\":\"GcKryYGD7z88rlgroD/oP4QZL9uewMo/u32AG4at5j/utv4yt4/mP1vj1pwIg+s/bpkK6Liv0D+xtICj4bvqP8dzNMd2duQ/VHXQaAZ30D/qFRGWjKvXPxGdJ+tGfes/vKsOXJJY4D8c1kbOTJvVPxD/2A2K46w/cAII53ZjyT/o5Ve9jEzZP4QUPB4M0cM/QJC3+xkdjD8gd3fHPqytP41A+uYGQew/MZMvkP6V6z/oR8uSfX3pP9gO7cjH/N0/o4lQsErx7z94ZJ4e5SzqP6wDjLkffeg/6HkkkIUVtD+u2rfDmH/WPytPm00Y8us/Gz4Z54n+6T9+aljkFULSP7Vgn2mNeew/0osGYmTH3D+I77rB9e2+PxzgMPU/2Os/KdXSOXHw5j/g/ujYM9yTP9AKRy0Qu9c/9CNcdnpY6z+wdnhPJFKqP3YNUWFfBNY//Xw96lrQ6T9ai2y5NbfkPypOkuFfQt4/2KWRb8H66T9/zZiIkFzhPyS4gxSjMMc/nIe0gArC3T+ajvbPRvHRP2B0AF7mQbU/7BYhBZyM7T+oEx4Mr0rpP0+nmjAbvOk/gN7S++F9ez+paDdYWRPkP+WRbTjTZuw/VkAtD58Z0D/Y6Ifwje/MP3oI3OxhzdQ/m7H2YsGu6T9U7SENtFPCPw6Y3yocyeA/a4dHjpke4j+0TywrwcLEP4KfeqBJw9E/uBVrK5fSvD9E1P3Y3srHP/BcOcBm8eo/UtGp0ha35D8=\",\"dtype\":\"float64\",\"shape\":[70]},\"y\":{\"__ndarray__\":\"RkoRqnhzIUCe9aeudUkcQFwLm+DgKQ9AceZ/9/wvHEDiLzLlUEEbQDUAySSgZCBAoTOCKgW/EUCkA92mn50fQMz+B9CcuBpA8y2FcAc0FEB0cWCY3BQVQJ64asrrCR9AsWzPXamtF0CerZHy1ekUQMYz+mi+swhA9FHiGRIkEEBtfSSJaUcWQJS8K5+nqAtAtli/u/BdBEA/4I25pR4JQKGpNO9+OiBAAzB5CnRmIUBSAWkDBqgeQCAakqclShRAQzwnuSiPIUBxpiJLVY4cQN7EthOZah1A7Kraq6+aDECJ/9ZCrHcUQIMP13dWDiBA7ExAHPa8HUDFA4JAdkQTQPjaHgyKeh9Aou3nLSQUGEBmZyptSFgNQMk4t2n56B9A2jKLlb7EHECuzFKxuTMMQFmT1lOMiRRAvcw3IzceIEAuskAUsqsKQLtHxgov1hNA4UfXFUqPH0BelosIpYgeQM8JngmMLhhASjI5KhSgH0CkyA8nR3UXQOp5Jj8T5BFAW1cWb08QGEAFk3qEUxgSQBueEbpOjA1A/PD11YTGIUASOx/gH1weQI6JpM0QcB1Ai3u/um5BC0BivV6fAj8bQGQPpUxefB9ArIHvARmIEUCGcTrVyr0RQPPvU2x2qhNAbGz3aaHRIEAZS9tb2q4NQETKXoRNsRhA/cUe1KiPHkAq4S9Tz2USQCtdTPozzxFAnIMr1DjhDkBKOySXja8RQIXUsSjMmiBAQopz2jWFG0A=\",\"dtype\":\"float64\",\"shape\":[70]}},\"selected\":{\"id\":\"1327\",\"type\":\"Selection\"},\"selection_policy\":{\"id\":\"1328\",\"type\":\"UnionRenderers\"}},\"id\":\"1311\",\"type\":\"ColumnDataSource\"},{\"attributes\":{\"label\":{\"value\":\"Huber\"},\"renderers\":[{\"id\":\"1350\",\"type\":\"GlyphRenderer\"}]},\"id\":\"1364\",\"type\":\"LegendItem\"},{\"attributes\":{\"bottom_units\":\"screen\",\"fill_alpha\":{\"value\":0.5},\"fill_color\":{\"value\":\"lightgrey\"},\"left_units\":\"screen\",\"level\":\"overlay\",\"line_alpha\":{\"value\":1.0},\"line_color\":{\"value\":\"black\"},\"line_dash\":[4,4],\"line_width\":{\"value\":2},\"render_mode\":\"css\",\"right_units\":\"screen\",\"top_units\":\"screen\"},\"id\":\"1326\",\"type\":\"BoxAnnotation\"},{\"attributes\":{\"active_drag\":\"auto\",\"active_inspect\":\"auto\",\"active_multi\":null,\"active_scroll\":\"auto\",\"active_tap\":\"auto\",\"tools\":[{\"id\":\"1298\",\"type\":\"PanTool\"},{\"id\":\"1299\",\"type\":\"WheelZoomTool\"},{\"id\":\"1300\",\"type\":\"BoxZoomTool\"},{\"id\":\"1301\",\"type\":\"SaveTool\"},{\"id\":\"1302\",\"type\":\"ResetTool\"},{\"id\":\"1303\",\"type\":\"HelpTool\"}]},\"id\":\"1304\",\"type\":\"Toolbar\"},{\"attributes\":{},\"id\":\"1363\",\"type\":\"UnionRenderers\"},{\"attributes\":{\"fill_color\":{\"value\":\"#1f77b4\"},\"line_color\":{\"value\":\"#1f77b4\"},\"radius\":{\"units\":\"data\",\"value\":0.01},\"x\":{\"field\":\"x\"},\"y\":{\"field\":\"y\"}},\"id\":\"1312\",\"type\":\"Circle\"},{\"attributes\":{\"source\":{\"id\":\"1311\",\"type\":\"ColumnDataSource\"}},\"id\":\"1315\",\"type\":\"CDSView\"},{\"attributes\":{},\"id\":\"1344\",\"type\":\"Selection\"},{\"attributes\":{\"line_color\":\"darkorange\",\"line_width\":3,\"x\":{\"field\":\"x\"},\"y\":{\"field\":\"y\"}},\"id\":\"1348\",\"type\":\"Line\"},{\"attributes\":{},\"id\":\"1298\",\"type\":\"PanTool\"},{\"attributes\":{\"text\":\"Predictions -- Data Without Outliers\"},\"id\":\"1278\",\"type\":\"Title\"},{\"attributes\":{\"source\":{\"id\":\"1331\",\"type\":\"ColumnDataSource\"}},\"id\":\"1335\",\"type\":\"CDSView\"},{\"attributes\":{\"callback\":null,\"data\":{\"x\":{\"__ndarray__\":\"AAAAAAAAAAA5BS+n4OWUPzkFL6fg5aQ/1ofG+tBYrz85BS+n4OW0P4fG+tBYH7o/1ofG+tBYvz+SJEmSJEnCPzkFL6fg5cQ/4OUUvJyCxz+HxvrQWB/KPy6n4OUUvMw/1ofG+tBYzz8+NNaHxvrQP5IkSZIkSdI/5RS8nIKX0z85BS+n4OXUP431obE+NNY/4OUUvJyC1z801ofG+tDYP4fG+tBYH9o/27Zt27Zt2z8up+DlFLzcP4KXU/ByCt4/1ofG+tBY3z8VvJyCl1PgPz401ofG+uA/aKwPjfWh4T+SJEmSJEniP7ycgpdT8OI/5RS8nIKX4z8PjfWhsT7kPzkFL6fg5eQ/Y31orA+N5T+N9aGxPjTmP7Zt27Zt2+Y/4OUUvJyC5z8KXk7ByynoPzTWh8b60Og/XU7Byyl46T+HxvrQWB/qP7E+NNaHxuo/27Zt27Zt6z8FL6fg5RTsPy6n4OUUvOw/WB8a60Nj7T+Cl1PwcgruP6wPjfWhse4/1ofG+tBY7z8AAAAAAADwPw==\",\"dtype\":\"float64\",\"shape\":[50]},\"y\":{\"__ndarray__\":\"ETmvIU+RCEAoduFy/YIJQECzE8SrdApAV/BFFVpmC0BuLXhmCFgMQIVqqre2SQ1AnKfcCGU7DkC05A5aEy0PQOaQoNVgDxBAca85/jeIEED9zdImDwERQIjsa0/meRFAFAsFeL3yEUCgKZ6glGsSQCtIN8lr5BJAt2bQ8UJdE0BChWkaGtYTQM6jAkPxThRAWsKba8jHFEDm4DSUn0AVQHH/zbx2uRVA/B1n5U0yFkCIPAAOJasWQBRbmTb8IxdAoHkyX9OcF0AsmMuHqhUYQLa2ZLCBjhhAQtX92FgHGUDO85YBMIAZQFoSMCoH+RlA5TDJUt5xGkBwT2J7teoaQPxt+6OMYxtAiIyUzGPcG0AUqy31OlUcQKDJxh0SzhxAKuhfRulGHUC2BvluwL8dQEIlkpeXOB5AzkMrwG6xHkBaYsToRSofQOSAXREdox9AuE/7HPoNIED+3kexZUogQERulEXRhiBAiv3g2TzDIEDQjC1uqP8gQBUcegIUPCFAW6vGln94IUChOhMr67QhQA==\",\"dtype\":\"float64\",\"shape\":[50]}},\"selected\":{\"id\":\"1399\",\"type\":\"Selection\"},\"selection_policy\":{\"id\":\"1400\",\"type\":\"UnionRenderers\"}},\"id\":\"1347\",\"type\":\"ColumnDataSource\"},{\"attributes\":{\"callback\":null},\"id\":\"1280\",\"type\":\"DataRange1d\"},{\"attributes\":{},\"id\":\"1299\",\"type\":\"WheelZoomTool\"},{\"attributes\":{\"source\":{\"id\":\"1316\",\"type\":\"ColumnDataSource\"}},\"id\":\"1320\",\"type\":\"CDSView\"},{\"attributes\":{},\"id\":\"1328\",\"type\":\"UnionRenderers\"},{\"attributes\":{\"data_source\":{\"id\":\"1331\",\"type\":\"ColumnDataSource\"},\"glyph\":{\"id\":\"1332\",\"type\":\"Line\"},\"hover_glyph\":null,\"muted_glyph\":null,\"nonselection_glyph\":{\"id\":\"1333\",\"type\":\"Line\"},\"selection_glyph\":null,\"view\":{\"id\":\"1335\",\"type\":\"CDSView\"}},\"id\":\"1334\",\"type\":\"GlyphRenderer\"},{\"attributes\":{},\"id\":\"1323\",\"type\":\"BasicTickFormatter\"},{\"attributes\":{\"overlay\":{\"id\":\"1326\",\"type\":\"BoxAnnotation\"}},\"id\":\"1300\",\"type\":\"BoxZoomTool\"},{\"attributes\":{\"fill_alpha\":{\"value\":0.1},\"fill_color\":{\"value\":\"#1f77b4\"},\"line_alpha\":{\"value\":0.1},\"line_color\":{\"value\":\"#1f77b4\"},\"radius\":{\"units\":\"data\",\"value\":0.01},\"x\":{\"field\":\"x\"},\"y\":{\"field\":\"y\"}},\"id\":\"1313\",\"type\":\"Circle\"},{\"attributes\":{},\"id\":\"1399\",\"type\":\"Selection\"},{\"attributes\":{\"callback\":null,\"end\":11,\"start\":-1},\"id\":\"1282\",\"type\":\"Range1d\"},{\"attributes\":{},\"id\":\"1301\",\"type\":\"SaveTool\"},{\"attributes\":{},\"id\":\"1284\",\"type\":\"LinearScale\"},{\"attributes\":{},\"id\":\"1327\",\"type\":\"Selection\"},{\"attributes\":{},\"id\":\"1302\",\"type\":\"ResetTool\"},{\"attributes\":{},\"id\":\"1303\",\"type\":\"HelpTool\"},{\"attributes\":{},\"id\":\"1286\",\"type\":\"LinearScale\"},{\"attributes\":{\"line_alpha\":0.1,\"line_color\":\"#1f77b4\",\"line_width\":3,\"x\":{\"field\":\"x\"},\"y\":{\"field\":\"y\"}},\"id\":\"1333\",\"type\":\"Line\"},{\"attributes\":{\"items\":[{\"id\":\"1330\",\"type\":\"LegendItem\"},{\"id\":\"1346\",\"type\":\"LegendItem\"},{\"id\":\"1364\",\"type\":\"LegendItem\"}],\"location\":\"bottom_right\"},\"id\":\"1329\",\"type\":\"Legend\"},{\"attributes\":{\"label\":{\"value\":\"MSE\"},\"renderers\":[{\"id\":\"1334\",\"type\":\"GlyphRenderer\"}]},\"id\":\"1346\",\"type\":\"LegendItem\"},{\"attributes\":{\"formatter\":{\"id\":\"1325\",\"type\":\"BasicTickFormatter\"},\"ticker\":{\"id\":\"1289\",\"type\":\"BasicTicker\"}},\"id\":\"1288\",\"type\":\"LinearAxis\"},{\"attributes\":{\"line_color\":\"blue\",\"line_width\":3,\"x\":{\"field\":\"x\"},\"y\":{\"field\":\"y\"}},\"id\":\"1332\",\"type\":\"Line\"},{\"attributes\":{\"callback\":null,\"data\":{\"x\":{\"__ndarray__\":\"AAAAAAAAAAA5BS+n4OWUPzkFL6fg5aQ/1ofG+tBYrz85BS+n4OW0P4fG+tBYH7o/1ofG+tBYvz+SJEmSJEnCPzkFL6fg5cQ/4OUUvJyCxz+HxvrQWB/KPy6n4OUUvMw/1ofG+tBYzz8+NNaHxvrQP5IkSZIkSdI/5RS8nIKX0z85BS+n4OXUP431obE+NNY/4OUUvJyC1z801ofG+tDYP4fG+tBYH9o/27Zt27Zt2z8up+DlFLzcP4KXU/ByCt4/1ofG+tBY3z8VvJyCl1PgPz401ofG+uA/aKwPjfWh4T+SJEmSJEniP7ycgpdT8OI/5RS8nIKX4z8PjfWhsT7kPzkFL6fg5eQ/Y31orA+N5T+N9aGxPjTmP7Zt27Zt2+Y/4OUUvJyC5z8KXk7ByynoPzTWh8b60Og/XU7Byyl46T+HxvrQWB/qP7E+NNaHxuo/27Zt27Zt6z8FL6fg5RTsPy6n4OUUvOw/WB8a60Nj7T+Cl1PwcgruP6wPjfWhse4/1ofG+tBY7z8AAAAAAADwPw==\",\"dtype\":\"float64\",\"shape\":[50]},\"y\":{\"__ndarray__\":\"AAAAAAAACEA/NNaHxvoIQH1orA+N9QlAvJyCl1PwCkD70FgfGusLQDkFL6fg5QxAeDkFL6fgDUC3bdu2bdsOQPahsT401g9AGutDY31oEEA5BS+n4OUQQFgfGutDYxFAeDkFL6fgEUCXU/ByCl4SQLdt27Zt2xJA1ofG+tBYE0D2obE+NNYTQBW8nIKXUxRANNaHxvrQFEBU8HIKXk4VQHIKXk7ByxVAkiRJkiRJFkCxPjTWh8YWQNFYHxrrQxdA8HIKXk7BF0AQjfWhsT4YQC6n4OUUvBhATsHLKXg5GUBu27Zt27YZQI31obE+NBpArA+N9aGxGkDLKXg5BS8bQOtDY31orBtACl5OwcspHEAqeDkFL6ccQEiSJEmSJB1AaKwPjfWhHUCIxvrQWB8eQKfg5RS8nB5AxvrQWB8aH0DlFLycgpcfQIKXU/ByCiBAkiRJkiRJIECisT401ocgQLE+NNaHxiBAwcspeDkFIUDRWB8a60MhQODlFLycgiFA8HIKXk7BIUAAAAAAAAAiQA==\",\"dtype\":\"float64\",\"shape\":[50]}},\"selected\":{\"id\":\"1344\",\"type\":\"Selection\"},\"selection_policy\":{\"id\":\"1345\",\"type\":\"UnionRenderers\"}},\"id\":\"1316\",\"type\":\"ColumnDataSource\"},{\"attributes\":{},\"id\":\"1325\",\"type\":\"BasicTickFormatter\"},{\"attributes\":{},\"id\":\"1400\",\"type\":\"UnionRenderers\"},{\"attributes\":{},\"id\":\"1289\",\"type\":\"BasicTicker\"},{\"attributes\":{\"ticker\":{\"id\":\"1289\",\"type\":\"BasicTicker\"}},\"id\":\"1292\",\"type\":\"Grid\"},{\"attributes\":{\"callback\":null,\"data\":{\"x\":{\"__ndarray__\":\"AAAAAAAAAAA5BS+n4OWUPzkFL6fg5aQ/1ofG+tBYrz85BS+n4OW0P4fG+tBYH7o/1ofG+tBYvz+SJEmSJEnCPzkFL6fg5cQ/4OUUvJyCxz+HxvrQWB/KPy6n4OUUvMw/1ofG+tBYzz8+NNaHxvrQP5IkSZIkSdI/5RS8nIKX0z85BS+n4OXUP431obE+NNY/4OUUvJyC1z801ofG+tDYP4fG+tBYH9o/27Zt27Zt2z8up+DlFLzcP4KXU/ByCt4/1ofG+tBY3z8VvJyCl1PgPz401ofG+uA/aKwPjfWh4T+SJEmSJEniP7ycgpdT8OI/5RS8nIKX4z8PjfWhsT7kPzkFL6fg5eQ/Y31orA+N5T+N9aGxPjTmP7Zt27Zt2+Y/4OUUvJyC5z8KXk7ByynoPzTWh8b60Og/XU7Byyl46T+HxvrQWB/qP7E+NNaHxuo/27Zt27Zt6z8FL6fg5RTsPy6n4OUUvOw/WB8a60Nj7T+Cl1PwcgruP6wPjfWhse4/1ofG+tBY7z8AAAAAAADwPw==\",\"dtype\":\"float64\",\"shape\":[50]},\"y\":{\"__ndarray__\":\"rujUStucCEAbO7wa8Y4JQIiNo+oGgQpA9d+KuhxzC0BiMnKKMmUMQM6EWVpIVw1AO9dAKl5JDkCoKSj6czsPQAq+B+XEFhBAQWf7zM+PEEB3EO+02ggRQK654pzlgRFA5GLWhPD6EUAaDMps+3MSQFG1vVQG7RJAiF6xPBFmE0C+B6UkHN8TQPSwmAwnWBRAK1qM9DHRFEBiA4DcPEoVQJisc8RHwxVAzlVnrFI8FkAE/1qUXbUWQDuoTnxoLhdAclFCZHOnF0Co+jVMfiAYQN6jKTSJmRhAFU0dHJQSGUBM9hAEn4sZQIKfBOypBBpAuEj407R9GkDu8eu7v/YaQCWb36PKbxtAXETTi9XoG0CS7cZz4GEcQMiWulvr2hxA/z+uQ/ZTHUA16aErAc0dQGySlRMMRh5AojuJ+xa/HkDY5HzjITgfQA+OcMsssR9Aoxuy2RsVIEA+8KtNoVEgQNnEpcEmjiBAdJmfNazKIEAQbpmpMQchQKtCkx23QyFARheNkTyAIUDi64YFwrwhQA==\",\"dtype\":\"float64\",\"shape\":[50]}},\"selected\":{\"id\":\"1362\",\"type\":\"Selection\"},\"selection_policy\":{\"id\":\"1363\",\"type\":\"UnionRenderers\"}},\"id\":\"1331\",\"type\":\"ColumnDataSource\"},{\"attributes\":{\"data_source\":{\"id\":\"1311\",\"type\":\"ColumnDataSource\"},\"glyph\":{\"id\":\"1312\",\"type\":\"Circle\"},\"hover_glyph\":null,\"muted_glyph\":null,\"nonselection_glyph\":{\"id\":\"1313\",\"type\":\"Circle\"},\"selection_glyph\":null,\"view\":{\"id\":\"1315\",\"type\":\"CDSView\"}},\"id\":\"1314\",\"type\":\"GlyphRenderer\"},{\"attributes\":{\"line_color\":\"gray\",\"line_dash\":[6],\"line_width\":3,\"x\":{\"field\":\"x\"},\"y\":{\"field\":\"y\"}},\"id\":\"1317\",\"type\":\"Line\"},{\"attributes\":{\"line_alpha\":0.1,\"line_color\":\"#1f77b4\",\"line_width\":3,\"x\":{\"field\":\"x\"},\"y\":{\"field\":\"y\"}},\"id\":\"1349\",\"type\":\"Line\"},{\"attributes\":{\"formatter\":{\"id\":\"1323\",\"type\":\"BasicTickFormatter\"},\"ticker\":{\"id\":\"1294\",\"type\":\"BasicTicker\"}},\"id\":\"1293\",\"type\":\"LinearAxis\"},{\"attributes\":{\"data_source\":{\"id\":\"1347\",\"type\":\"ColumnDataSource\"},\"glyph\":{\"id\":\"1348\",\"type\":\"Line\"},\"hover_glyph\":null,\"muted_glyph\":null,\"nonselection_glyph\":{\"id\":\"1349\",\"type\":\"Line\"},\"selection_glyph\":null,\"view\":{\"id\":\"1351\",\"type\":\"CDSView\"}},\"id\":\"1350\",\"type\":\"GlyphRenderer\"},{\"attributes\":{\"dimension\":1,\"ticker\":{\"id\":\"1294\",\"type\":\"BasicTicker\"}},\"id\":\"1297\",\"type\":\"Grid\"},{\"attributes\":{},\"id\":\"1294\",\"type\":\"BasicTicker\"},{\"attributes\":{\"line_alpha\":0.1,\"line_color\":\"#1f77b4\",\"line_dash\":[6],\"line_width\":3,\"x\":{\"field\":\"x\"},\"y\":{\"field\":\"y\"}},\"id\":\"1318\",\"type\":\"Line\"},{\"attributes\":{\"label\":{\"value\":\"true weight\"},\"renderers\":[{\"id\":\"1319\",\"type\":\"GlyphRenderer\"}]},\"id\":\"1330\",\"type\":\"LegendItem\"},{\"attributes\":{\"source\":{\"id\":\"1347\",\"type\":\"ColumnDataSource\"}},\"id\":\"1351\",\"type\":\"CDSView\"}],\"root_ids\":[\"1277\"]},\"title\":\"Bokeh Application\",\"version\":\"1.4.0\"}};\n",
       "  var render_items = [{\"docid\":\"113a622b-e9cf-4f43-a4e7-b20a476a11cd\",\"roots\":{\"1277\":\"42e74734-4fcc-4423-8de3-3fad3f2c02a8\"}}];\n",
       "  root.Bokeh.embed.embed_items_notebook(docs_json, render_items);\n",
       "\n",
       "  }\n",
       "  if (root.Bokeh !== undefined) {\n",
       "    embed_document(root);\n",
       "  } else {\n",
       "    var attempts = 0;\n",
       "    var timer = setInterval(function(root) {\n",
       "      if (root.Bokeh !== undefined) {\n",
       "        clearInterval(timer);\n",
       "        embed_document(root);\n",
       "      } else {\n",
       "        attempts++;\n",
       "        if (attempts > 100) {\n",
       "          clearInterval(timer);\n",
       "          console.log(\"Bokeh: ERROR: Unable to run BokehJS code because BokehJS library is missing\");\n",
       "        }\n",
       "      }\n",
       "    }, 10, root)\n",
       "  }\n",
       "})(window);"
      ],
      "application/vnd.bokehjs_exec.v0+json": ""
     },
     "metadata": {
      "application/vnd.bokehjs_exec.v0+json": {
       "id": "1277"
      }
     },
     "output_type": "display_data"
    }
   ],
   "source": [
    "p = bkp.figure(title='Predictions -- Data Without Outliers', y_range=[-1, 11], width=600, height=400)\n",
    "p.circle(xtrain, ytrain, radius=0.01)\n",
    "xtmp = np.linspace(0, 1)\n",
    "ytrue = polynomial_function(wt_true, xtmp)\n",
    "ymse = polynomial_function(weights_mse, xtmp)\n",
    "yhuber = polynomial_function(weights_huber, xtmp)\n",
    "p.line(xtmp, ytrue, color='gray', line_width=3, line_dash='dashed', legend_label='true weight')\n",
    "p.line(xtmp, ymse, color='blue', line_width=3, legend_label='MSE')\n",
    "p.line(xtmp, yhuber, color='darkorange', line_width=3, legend_label='Huber')\n",
    "p.legend.location = 'bottom_right'\n",
    "bkp.show(p)"
   ]
  },
  {
   "cell_type": "markdown",
   "metadata": {},
   "source": [
    "From the above figure, the three predictions are practically indistinguishable.\n",
    "\n",
    "Both the models yielded the same **MSE loss of 0.117**.\n",
    "\n",
    "The true weights and the weights from the predictions are below:"
   ]
  },
  {
   "cell_type": "code",
   "execution_count": 16,
   "metadata": {},
   "outputs": [
    {
     "name": "stdout",
     "output_type": "stream",
     "text": [
      "True weights      : [3.0, 6.0]\n",
      "MSE-loss weights  : [3.07659014 5.79207763]\n",
      "Huber-loss weights: [3.07095171 5.78240498]\n"
     ]
    }
   ],
   "source": [
    "print(f'True weights      : {wt_true}')\n",
    "print(f'MSE-loss weights  : {weights_mse}')\n",
    "print(f'Huber-loss weights: {weights_huber}')"
   ]
  },
  {
   "cell_type": "markdown",
   "metadata": {},
   "source": [
    "### Training Loss\n",
    "For completeness, we plot the training loss against the training iterations for both MSE and Huber losses.  The training loss decreases with the number of steps as expected.  The Huber-loss model converges a bit more slowly than the MSE-loss model."
   ]
  },
  {
   "cell_type": "code",
   "execution_count": 17,
   "metadata": {
    "scrolled": false
   },
   "outputs": [
    {
     "data": {
      "text/html": [
       "\n",
       "\n",
       "\n",
       "\n",
       "\n",
       "\n",
       "  <div class=\"bk-root\" id=\"720acb7d-90a3-4151-aeb7-30da0ce4c6bb\" data-root-id=\"1485\"></div>\n"
      ]
     },
     "metadata": {},
     "output_type": "display_data"
    },
    {
     "data": {
      "application/javascript": [
       "(function(root) {\n",
       "  function embed_document(root) {\n",
       "    \n",
       "  var docs_json = {\"a7434452-a4c6-46f5-a9cc-b54704bd7ded\":{\"roots\":{\"references\":[{\"attributes\":{\"below\":[{\"id\":\"1496\",\"type\":\"LinearAxis\"}],\"center\":[{\"id\":\"1500\",\"type\":\"Grid\"},{\"id\":\"1505\",\"type\":\"Grid\"},{\"id\":\"1530\",\"type\":\"Legend\"}],\"left\":[{\"id\":\"1501\",\"type\":\"LinearAxis\"}],\"plot_height\":400,\"renderers\":[{\"id\":\"1522\",\"type\":\"GlyphRenderer\"},{\"id\":\"1535\",\"type\":\"GlyphRenderer\"}],\"title\":{\"id\":\"1486\",\"type\":\"Title\"},\"toolbar\":{\"id\":\"1512\",\"type\":\"Toolbar\"},\"x_range\":{\"id\":\"1488\",\"type\":\"DataRange1d\"},\"x_scale\":{\"id\":\"1492\",\"type\":\"LinearScale\"},\"y_range\":{\"id\":\"1490\",\"type\":\"DataRange1d\"},\"y_scale\":{\"id\":\"1494\",\"type\":\"LinearScale\"}},\"id\":\"1485\",\"subtype\":\"Figure\",\"type\":\"Plot\"},{\"attributes\":{\"line_color\":\"darkorange\",\"line_width\":2,\"x\":{\"field\":\"x\"},\"y\":{\"field\":\"y\"}},\"id\":\"1533\",\"type\":\"Line\"},{\"attributes\":{},\"id\":\"1544\",\"type\":\"UnionRenderers\"},{\"attributes\":{},\"id\":\"1506\",\"type\":\"PanTool\"},{\"attributes\":{\"callback\":null,\"data\":{\"x\":[0,20,40,60,80,100,120,140,160,180,200,220,240,260,280,300,320,340,360,380,400,420,440,460,480,500,520,540,560,580,600,620,640,660,680,700,720,740,760,780,800,820,840,860,880,900,920,940,960,980,1000,1020,1040,1060,1080,1100,1120,1140,1160,1180,1200,1220,1240,1260,1280,1300,1320,1340,1360,1380,1400,1420,1440,1460,1480,1500,1520,1540,1560,1580,1600,1620,1640,1660,1680,1700,1720,1740,1760,1780,1800,1820,1840,1860,1880,1900,1920,1940,1960,1980,2000,2020,2040,2060,2080,2100,2120,2140,2160,2180,2200,2220,2240,2260,2280,2300,2320,2340,2360,2380,2400,2420,2440,2460,2480,2500,2520,2540,2560,2580,2600,2620,2640,2660,2680,2700,2720,2740,2760,2780,2800,2820,2840,2860,2880,2900,2920,2940,2960,2980,3000,3020,3040,3060,3080,3100,3120,3140,3160,3180,3200,3220,3240,3260,3280,3300,3320,3340,3360,3380,3400,3420,3440,3460,3480,3500,3520,3540,3560,3580,3600,3620,3640,3660,3680,3700,3720,3740,3760,3780,3800,3820,3840,3860,3880,3900,3920,3940,3960,3980,4000,4020,4040,4060,4080,4100,4120,4140,4160,4180,4200,4220,4240,4260,4280,4300,4320,4340,4360,4380,4400,4420,4440,4460,4480,4500,4520,4540,4560,4580,4600,4620,4640,4660,4680,4700,4720,4740,4760,4780,4800,4820,4840,4860,4880,4900,4920,4940,4960,4980],\"y\":[3.916966229026443,1.5625688407620395,1.1645419136373418,1.0199719465547792,0.9171876927019244,0.8288892364518409,0.75068031442053,0.681106581396435,0.6191771804975815,0.5640475723329212,0.5149705740249483,0.47128160657063084,0.43238912391521284,0.3977665328507423,0.366945054370755,0.33950737547222587,0.31508199873729004,0.2933382123602864,0.27398161241342534,0.2567501167113158,0.2414104163017942,0.22775481653716767,0.2155984249549756,0.20477664789305508,0.1951429619438913,0.18656693007444047,0.17893243555033578,0.17213610975236326,0.16608593259834853,0.16069998662061422,0.15590534782961243,0.1516370983463808,0.1478374474351801,0.14445494903537787,0.1414438051982064,0.13876324599715356,0.1363769775161707,0.1342526904416319,0.13236162260454004,0.13067816954993836,0.12917953786076225,0.1278454365422467,0.12665780228833406,0.12560055491027403,0.12465937961600121,0.12382153319241868,0.12307567146636027,0.1224116957081059,0.12182061589780473,0.12129442900347581,0.12082601062250868,0.12040901851952664,0.1200378067545434,0.11970734923873798,0.11941317168281566,0.11915129101655975,0.11891816145933168,0.11871062651133261,0.11852587621560406,0.11836140911210699,0.1182149983687518,0.1180846616308024,0.11796863418042527,0.1178653450429741,0.11777339571649371,0.11769154123645022,0.1176186733193089,0.11755380535672814,0.11749605905719804,0.11744465255425351,0.11739888982025161,0.11735815124237974,0.11732188523329563,0.1172896007628111,0.1172608607094997,0.1172352759422126,0.11721250005136602,0.11719222465866734,0.11717417524177055,0.11715810741733154,0.11714380363213556,0.11713107021749639,0.11711973476704383,0.11710964380239657,0.11710066069511395,0.11709266381679043,0.11708554489224586,0.1170792075335139,0.11707356593478,0.1170685437105979,0.11706407286165518,0.11706009285408389,0.11705654979985192,0.11705339572713573,0.11705058793079741,0.11704808839417066,0.11704586327432727,0.11704388244385491,0.11704211908294102,0.11704054931624176,0.11703915188961678,0.11703790788235595,0.11703680045099768,0.11703581460127498,0.11703493698509726,0.11703415571982156,0.11703346022736534,0.11703284109098273,0.11703228992776474,0.11703179927513742,0.11703136248982064,0.11703097365788062,0.11703062751465705,0.11703031937348113,0.11703004506221963,0.11702980086678576,0.11702958348085125,0.11702938996107971,0.11702921768727559,0.11702906432690628,0.11702892780352127,0.11702880626863778,0.1170286980767121,0.11702860176286004,0.11702851602302294,0.11702843969631065,0.11702837174928385,0.11702831126196152,0.11702825741536456,0.11702820948042744,0.11702816680812617,0.11702812882069158,0.11702809500378573,0.11702806489953867,0.11702803810034848,0.11702801424336262,0.11702799300556523,0.11702797409940306,0.11702795726889302,0.11702794228615528,0.11702792894832816,0.11702791707482199,0.11702790650487316,0.11702789709536798,0.11702788871890468,0.11702788126206869,0.11702787462389683,0.11702786871451039,0.11702786345389818,0.11702785877083302,0.11702785460190786,0.11702785089067673,0.11702784758689076,0.11702784464581775,0.11702784202763652,0.1170278396968977,0.11702783762204391,0.11702783577498216,0.11702783413070397,0.11702783266694615,0.1170278313638901,0.11702783020389264,0.11702782917124796,0.11702782825197432,0.11702782743362497,0.11702782670511987,0.11702782605659512,0.11702782547927001,0.11702782496532789,0.11702782450780974,0.11702782410052125,0.1170278237379478,0.11702782341518017,0.11702782312784828,0.1170278228720617,0.1170278226443572,0.11702782244165168,0.11702782226120062,0.11702782210056077,0.11702782195755707,0.11702782183025331,0.11702782171692586,0.11702782161604033,0.11702782152623073,0.11702782144628106,0.11702782137510877,0.11702782131175032,0.11702782125534777,0.11702782120513758,0.11702782116043979,0.1170278211206492,0.1170278210852271,0.11702782105369385,0.1170278210256226,0.11702782100063325,0.11702782097838735,0.11702782095858381,0.11702782094095439,0.11702782092526058,0.1170278209112895,0.11702782089885244,0.11702782088778074,0.11702782087792468,0.11702782086915059,0.11702782086133982,0.11702782085438655,0.11702782084819667,0.11702782084268638,0.11702782083778092,0.1170278208334142,0.11702782082952683,0.1170278208260662,0.11702782082298557,0.11702782082024307,0.11702782081780168,0.1170278208156283,0.11702782081369355,0.11702782081197129,0.11702782081043799,0.11702782080907312,0.11702782080785809,0.11702782080677644,0.11702782080581348,0.1170278208049563,0.11702782080419313,0.11702782080351393,0.11702782080290919,0.11702782080237087,0.11702782080189165,0.11702782080146498,0.11702782080108516,0.11702782080074718,0.11702782080044613,0.1170278208001782,0.11702782079993974,0.11702782079972734,0.11702782079953837,0.11702782079937009,0.11702782079922032,0.11702782079908697,0.1170278207989682,0.11702782079886256,0.11702782079876847,0.11702782079868472,0.11702782079861017,0.11702782079854383,0.11702782079848476,0.11702782079843213,0.11702782079838533,0.11702782079834366]},\"selected\":{\"id\":\"1543\",\"type\":\"Selection\"},\"selection_policy\":{\"id\":\"1544\",\"type\":\"UnionRenderers\"}},\"id\":\"1519\",\"type\":\"ColumnDataSource\"},{\"attributes\":{},\"id\":\"1543\",\"type\":\"Selection\"},{\"attributes\":{\"data_source\":{\"id\":\"1519\",\"type\":\"ColumnDataSource\"},\"glyph\":{\"id\":\"1520\",\"type\":\"Line\"},\"hover_glyph\":null,\"muted_glyph\":null,\"nonselection_glyph\":{\"id\":\"1521\",\"type\":\"Line\"},\"selection_glyph\":null,\"view\":{\"id\":\"1523\",\"type\":\"CDSView\"}},\"id\":\"1522\",\"type\":\"GlyphRenderer\"},{\"attributes\":{\"text\":\"Training Loss vs Iterations (no outliers)\"},\"id\":\"1486\",\"type\":\"Title\"},{\"attributes\":{},\"id\":\"1507\",\"type\":\"WheelZoomTool\"},{\"attributes\":{\"line_alpha\":0.1,\"line_color\":\"#1f77b4\",\"line_width\":2,\"x\":{\"field\":\"x\"},\"y\":{\"field\":\"y\"}},\"id\":\"1534\",\"type\":\"Line\"},{\"attributes\":{\"callback\":null},\"id\":\"1488\",\"type\":\"DataRange1d\"},{\"attributes\":{\"overlay\":{\"id\":\"1529\",\"type\":\"BoxAnnotation\"}},\"id\":\"1508\",\"type\":\"BoxZoomTool\"},{\"attributes\":{\"data_source\":{\"id\":\"1532\",\"type\":\"ColumnDataSource\"},\"glyph\":{\"id\":\"1533\",\"type\":\"Line\"},\"hover_glyph\":null,\"muted_glyph\":null,\"nonselection_glyph\":{\"id\":\"1534\",\"type\":\"Line\"},\"selection_glyph\":null,\"view\":{\"id\":\"1536\",\"type\":\"CDSView\"}},\"id\":\"1535\",\"type\":\"GlyphRenderer\"},{\"attributes\":{},\"id\":\"1509\",\"type\":\"SaveTool\"},{\"attributes\":{},\"id\":\"1492\",\"type\":\"LinearScale\"},{\"attributes\":{\"source\":{\"id\":\"1532\",\"type\":\"ColumnDataSource\"}},\"id\":\"1536\",\"type\":\"CDSView\"},{\"attributes\":{},\"id\":\"1510\",\"type\":\"ResetTool\"},{\"attributes\":{\"callback\":null},\"id\":\"1490\",\"type\":\"DataRange1d\"},{\"attributes\":{},\"id\":\"1511\",\"type\":\"HelpTool\"},{\"attributes\":{},\"id\":\"1494\",\"type\":\"LinearScale\"},{\"attributes\":{\"line_color\":\"#1f77b4\",\"line_width\":2,\"x\":{\"field\":\"x\"},\"y\":{\"field\":\"y\"}},\"id\":\"1520\",\"type\":\"Line\"},{\"attributes\":{\"axis_label\":\"Training Steps\",\"formatter\":{\"id\":\"1528\",\"type\":\"BasicTickFormatter\"},\"ticker\":{\"id\":\"1497\",\"type\":\"BasicTicker\"}},\"id\":\"1496\",\"type\":\"LinearAxis\"},{\"attributes\":{},\"id\":\"1502\",\"type\":\"BasicTicker\"},{\"attributes\":{},\"id\":\"1528\",\"type\":\"BasicTickFormatter\"},{\"attributes\":{},\"id\":\"1497\",\"type\":\"BasicTicker\"},{\"attributes\":{\"items\":[{\"id\":\"1531\",\"type\":\"LegendItem\"},{\"id\":\"1545\",\"type\":\"LegendItem\"}]},\"id\":\"1530\",\"type\":\"Legend\"},{\"attributes\":{\"ticker\":{\"id\":\"1497\",\"type\":\"BasicTicker\"}},\"id\":\"1500\",\"type\":\"Grid\"},{\"attributes\":{\"source\":{\"id\":\"1519\",\"type\":\"ColumnDataSource\"}},\"id\":\"1523\",\"type\":\"CDSView\"},{\"attributes\":{},\"id\":\"1526\",\"type\":\"BasicTickFormatter\"},{\"attributes\":{\"line_alpha\":0.1,\"line_color\":\"#1f77b4\",\"line_width\":2,\"x\":{\"field\":\"x\"},\"y\":{\"field\":\"y\"}},\"id\":\"1521\",\"type\":\"Line\"},{\"attributes\":{\"dimension\":1,\"ticker\":{\"id\":\"1502\",\"type\":\"BasicTicker\"}},\"id\":\"1505\",\"type\":\"Grid\"},{\"attributes\":{},\"id\":\"1590\",\"type\":\"Selection\"},{\"attributes\":{\"axis_label\":\"Loss\",\"formatter\":{\"id\":\"1526\",\"type\":\"BasicTickFormatter\"},\"ticker\":{\"id\":\"1502\",\"type\":\"BasicTicker\"}},\"id\":\"1501\",\"type\":\"LinearAxis\"},{\"attributes\":{\"bottom_units\":\"screen\",\"fill_alpha\":{\"value\":0.5},\"fill_color\":{\"value\":\"lightgrey\"},\"left_units\":\"screen\",\"level\":\"overlay\",\"line_alpha\":{\"value\":1.0},\"line_color\":{\"value\":\"black\"},\"line_dash\":[4,4],\"line_width\":{\"value\":2},\"render_mode\":\"css\",\"right_units\":\"screen\",\"top_units\":\"screen\"},\"id\":\"1529\",\"type\":\"BoxAnnotation\"},{\"attributes\":{},\"id\":\"1591\",\"type\":\"UnionRenderers\"},{\"attributes\":{\"callback\":null,\"data\":{\"x\":[0,20,40,60,80,100,120,140,160,180,200,220,240,260,280,300,320,340,360,380,400,420,440,460,480,500,520,540,560,580,600,620,640,660,680,700,720,740,760,780,800,820,840,860,880,900,920,940,960,980,1000,1020,1040,1060,1080,1100,1120,1140,1160,1180,1200,1220,1240,1260,1280,1300,1320,1340,1360,1380,1400,1420,1440,1460,1480,1500,1520,1540,1560,1580,1600,1620,1640,1660,1680,1700,1720,1740,1760,1780,1800,1820,1840,1860,1880,1900,1920,1940,1960,1980,2000,2020,2040,2060,2080,2100,2120,2140,2160,2180,2200,2220,2240,2260,2280,2300,2320,2340,2360,2380,2400,2420,2440,2460,2480,2500,2520,2540,2560,2580,2600,2620,2640,2660,2680,2700,2720,2740,2760,2780,2800,2820,2840,2860,2880,2900,2920,2940,2960,2980,3000,3020,3040,3060,3080,3100,3120,3140,3160,3180,3200,3220,3240,3260,3280,3300,3320,3340,3360,3380,3400,3420,3440,3460,3480,3500,3520,3540,3560,3580,3600,3620,3640,3660,3680,3700,3720,3740,3760,3780,3800,3820,3840,3860,3880,3900,3920,3940,3960,3980,4000,4020,4040,4060,4080,4100,4120,4140,4160,4180,4200,4220,4240,4260,4280,4300,4320,4340,4360,4380,4400,4420,4440,4460,4480,4500,4520,4540,4560,4580,4600,4620,4640,4660,4680,4700,4720,4740,4760,4780,4800,4820,4840,4860,4880,4900,4920,4940,4960,4980],\"y\":[4.52333402570534,3.611682796192047,2.799848032172902,2.164351241642687,1.7194264174025904,1.4304431760217098,1.2343866597273416,1.0968791094826718,0.9979796686697578,0.9221871625239842,0.8630113899515202,0.8147770744183755,0.7730098015197735,0.7347229746024154,0.6989063704987449,0.6646269840256824,0.6314439055916536,0.5992645760375432,0.5681232633910404,0.5380235693110796,0.5089510812533277,0.4808977675575278,0.4539220059310066,0.4279905992001879,0.4030719411848228,0.37928127044942234,0.35681432969571275,0.33578545579622526,0.31622538163343755,0.29809140414469565,0.28131463344441404,0.26582625217068956,0.25158284454681584,0.23853808175783736,0.22662065344135143,0.2157386123833315,0.20580380642758994,0.19674387971662957,0.18848321088588316,0.1809524257481179,0.174101942831054,0.16789240173108677,0.16226871378038304,0.1571914294720354,0.15261000033568498,0.14847597615983482,0.14474566120832058,0.14137963053327016,0.13834230981918821,0.13560300188684488,0.13313724950352415,0.1309181105621199,0.12892229117673584,0.1271306482288212,0.12552244403390755,0.12407889522663625,0.12278314335011518,0.12162005625755799,0.12057605113790039,0.11963893585399425,0.11879776655420873,0.11804271986670624,0.11736497817968033,0.11675662666720307,0.11621056085803393,0.11572040366794281,0.11528043092662882,0.11488550452952054,0.1145310124337897,0.11421281479783564,0.1139271956352475,0.11367082216605794,0.11344131832503333,0.11323630769009856,0.11305317477901032,0.11288959249264728,0.11274366259340805,0.11261355581128095,0.11249755591501392,0.11239413328337754,0.112301924218366,0.1122197128909997,0.112146415299639,0.11208106497537249,0.11202280023839054,0.11197085283623572,0.11192453781396987,0.11188324448266715,0.11184642836714667,0.11181360402676885,0.11178433865463462,0.11175824637078995,0.11173498313418702,0.11171424220631483,0.11169575010668378,0.11167926300683603,0.1116645635153337,0.11165145781133329,0.11163977308895238,0.11162935527872904,0.11162006701613188,0.11161178583033318,0.11160440252936452,0.1115978197603601,0.11159195072590673,0.11158671803957183,0.11158205270552136,0.11157789320877143,0.11157418470408022,0.11157087829278298,0.11156793037803656,0.11156530208997105,0.11156295877316925,0.11156086952971633,0.11155900681179334,0.1115573460584449,0.11155586537172864,0.11155454522797967,0.11155336822037978,0.1115523188294395,0.11155138321836461,0.11155054905061093,0.11154980532721989,0.11154914224179142,0.11154855105118104,0.11154802396021715,0.11154755401891656,0.11154713503084587,0.11154676147141818,0.11154642841504776,0.11154613147020413,0.11154586672150688,0.11154563067809961,0.11154542022762053,0.11154523259516505,0.11154506530669651,0.11154491615642478,0.1115447831777219,0.1115446646171909,0.1115445589115463,0.11154446466700114,0.11154438064088962,0.11154430572528151,0.11154423893237332,0.11154417938146415,0.11154412628734264,0.1115440789499336,0.11154403674506752,0.1115439991162501,0.11154396556732472,0.1115439356559305,0.11154390898766928,0.1115438852109055,0.11154386401212942,0.11154384511182361,0.11154382826077719,0.11154381323679997,0.11154379984179252,0.11154378789913418,0.11154377725135474,0.11154376775805726,0.1115437592940674,0.1115437517477828,0.11154374501970163,0.11154373902111046,0.11154373367291451,0.11154372890459498,0.11154372465327896,0.11154372086291041,0.11154371748351134,0.11154371447052244,0.11154371178421589,0.11154370938917128,0.11154370725380852,0.1115437053499718,0.11154370365255795,0.11154370213918567,0.1115437007899002,0.11154369958691059,0.11154369851435479,0.11154369755809042,0.11154369670550866,0.11154369594536793,0.11154369526764514,0.11154369466340423,0.11154369412467795,0.11154369364436284,0.11154369321612581,0.11154369283432015,0.11154369249391169,0.1115436921904119,0.1115436919198189,0.11154369167856501,0.11154369146346893,0.11154369127169458,0.11154369110071327,0.11154369094827052,0.11154369081235639,0.11154369069117867,0.11154369058313962,0.11154369048681466,0.11154369040093369,0.11154369032436437,0.11154369025609702,0.11154369019523148,0.11154369014096537,0.11154369009258297,0.11154369004944653,0.11154369001098702,0.1115436899766975,0.11154368994612585,0.11154368991886893,0.11154368989456731,0.11154368987290052,0.11154368985358294,0.11154368983635997,0.11154368982100438,0.11154368980731362,0.11154368979510734,0.11154368978422458,0.11154368977452173,0.1115436897658709,0.11154368975815798,0.11154368975128144,0.11154368974515039,0.11154368973968416,0.1115436897348106,0.11154368973046533,0.11154368972659129,0.11154368972313737,0.11154368972005786,0.1115436897173122,0.11154368971486428,0.11154368971268176,0.11154368971073596,0.11154368970900112,0.11154368970745435,0.11154368970607519,0.11154368970484563,0.11154368970374946,0.11154368970277208,0.11154368970190072,0.11154368970112373,0.11154368970043109,0.11154368969981346,0.11154368969926289,0.11154368969877192,0.11154368969833425,0.11154368969794404,0.11154368969759612]},\"selected\":{\"id\":\"1590\",\"type\":\"Selection\"},\"selection_policy\":{\"id\":\"1591\",\"type\":\"UnionRenderers\"}},\"id\":\"1532\",\"type\":\"ColumnDataSource\"},{\"attributes\":{\"label\":{\"value\":\"Huber\"},\"renderers\":[{\"id\":\"1535\",\"type\":\"GlyphRenderer\"}]},\"id\":\"1545\",\"type\":\"LegendItem\"},{\"attributes\":{\"label\":{\"value\":\"MSE\"},\"renderers\":[{\"id\":\"1522\",\"type\":\"GlyphRenderer\"}]},\"id\":\"1531\",\"type\":\"LegendItem\"},{\"attributes\":{\"active_drag\":\"auto\",\"active_inspect\":\"auto\",\"active_multi\":null,\"active_scroll\":\"auto\",\"active_tap\":\"auto\",\"tools\":[{\"id\":\"1506\",\"type\":\"PanTool\"},{\"id\":\"1507\",\"type\":\"WheelZoomTool\"},{\"id\":\"1508\",\"type\":\"BoxZoomTool\"},{\"id\":\"1509\",\"type\":\"SaveTool\"},{\"id\":\"1510\",\"type\":\"ResetTool\"},{\"id\":\"1511\",\"type\":\"HelpTool\"}]},\"id\":\"1512\",\"type\":\"Toolbar\"}],\"root_ids\":[\"1485\"]},\"title\":\"Bokeh Application\",\"version\":\"1.4.0\"}};\n",
       "  var render_items = [{\"docid\":\"a7434452-a4c6-46f5-a9cc-b54704bd7ded\",\"roots\":{\"1485\":\"720acb7d-90a3-4151-aeb7-30da0ce4c6bb\"}}];\n",
       "  root.Bokeh.embed.embed_items_notebook(docs_json, render_items);\n",
       "\n",
       "  }\n",
       "  if (root.Bokeh !== undefined) {\n",
       "    embed_document(root);\n",
       "  } else {\n",
       "    var attempts = 0;\n",
       "    var timer = setInterval(function(root) {\n",
       "      if (root.Bokeh !== undefined) {\n",
       "        clearInterval(timer);\n",
       "        embed_document(root);\n",
       "      } else {\n",
       "        attempts++;\n",
       "        if (attempts > 100) {\n",
       "          clearInterval(timer);\n",
       "          console.log(\"Bokeh: ERROR: Unable to run BokehJS code because BokehJS library is missing\");\n",
       "        }\n",
       "      }\n",
       "    }, 10, root)\n",
       "  }\n",
       "})(window);"
      ],
      "application/vnd.bokehjs_exec.v0+json": ""
     },
     "metadata": {
      "application/vnd.bokehjs_exec.v0+json": {
       "id": "1485"
      }
     },
     "output_type": "display_data"
    }
   ],
   "source": [
    "p = bkp.figure(title='Training Loss vs Iterations (no outliers)', width=600, height=400)\n",
    "p.line(np.arange(len(loss_values_mse)) * 20, loss_values_mse, line_width=2, legend_label='MSE')\n",
    "p.line(np.arange(len(loss_values_huber)) * 20, loss_values_huber, line_width=2,\n",
    "       color='darkorange', legend_label='Huber')\n",
    "p.xaxis.axis_label = 'Training Steps'\n",
    "p.yaxis.axis_label = 'Loss'\n",
    "bkp.show(p)"
   ]
  },
  {
   "cell_type": "markdown",
   "metadata": {},
   "source": [
    "## Predictions With Outliers\n",
    "We now add the outlier noise, thus creating the outliers, and then train the linear model using both the MSE-loss and Huber-loss models."
   ]
  },
  {
   "cell_type": "markdown",
   "metadata": {},
   "source": [
    "### MSE-loss Model\n",
    "We train the MSE-loss model."
   ]
  },
  {
   "cell_type": "code",
   "execution_count": 18,
   "metadata": {},
   "outputs": [],
   "source": [
    "# With outliers - Predict using MSE Loss\n",
    "np.random.seed(424242)\n",
    "weights_mse_ol, loss_values_mse_ol = train(xtrain, ytrain + outlier_noise, nweights=2,\n",
    "                                           update_func=update_weights_mse,\n",
    "                                           loss_func=mse_loss, niter=250 * 20)"
   ]
  },
  {
   "cell_type": "code",
   "execution_count": 19,
   "metadata": {},
   "outputs": [
    {
     "name": "stdout",
     "output_type": "stream",
     "text": [
      "loss values (last few): [1.9935106591383374, 1.993510659138311, 1.993510659138289, 1.9935106591382687]\n",
      "True weights: [3.0, 6.0]\n",
      "Predicted weights: [3.68645222 4.58096621]\n",
      "MSE loss (all data): 1.9935106591382687\n",
      "MSE loss (unaffected data): 0.24677995511981501\n"
     ]
    }
   ],
   "source": [
    "print('loss values (last few):', loss_values_mse_ol[-4:])\n",
    "print('True weights:', wt_true)\n",
    "print('Predicted weights:', weights_mse_ol)\n",
    "yhat = polynomial_function(weights_mse_ol, xtrain)\n",
    "print('MSE loss (all data):', mse_loss(yhat, ytrain + outlier_noise))\n",
    "print('MSE loss (unaffected data):', mse_loss(yhat[outlier_noise == 0], ytrain[outlier_noise == 0]))"
   ]
  },
  {
   "cell_type": "markdown",
   "metadata": {},
   "source": [
    "Notice that\n",
    " * the loss values have stabilized.\n",
    " * the predicted weights have diverged from the true weights, compared to the model build on the data without outliers.\n",
    " * the MSE loss for all of the data has increased to almost 2.0 from 0.117.\n",
    " * the MSE loss for the unaffected data has increased to 0.2468."
   ]
  },
  {
   "cell_type": "markdown",
   "metadata": {},
   "source": [
    "#### Error characteristics\n",
    "Let's look at the error characteristics.  Ideally, one may want to base the value of the Huber-loss parameter, $\\gamma$, based on the standard deviation of the error."
   ]
  },
  {
   "cell_type": "code",
   "execution_count": 20,
   "metadata": {},
   "outputs": [
    {
     "data": {
      "text/html": [
       "<div>\n",
       "<style scoped>\n",
       "    .dataframe tbody tr th:only-of-type {\n",
       "        vertical-align: middle;\n",
       "    }\n",
       "\n",
       "    .dataframe tbody tr th {\n",
       "        vertical-align: top;\n",
       "    }\n",
       "\n",
       "    .dataframe thead th {\n",
       "        text-align: right;\n",
       "    }\n",
       "</style>\n",
       "<table border=\"1\" class=\"dataframe\">\n",
       "  <thead>\n",
       "    <tr style=\"text-align: right;\">\n",
       "      <th></th>\n",
       "      <th>error</th>\n",
       "    </tr>\n",
       "  </thead>\n",
       "  <tbody>\n",
       "    <tr>\n",
       "      <th>count</th>\n",
       "      <td>7.000000e+01</td>\n",
       "    </tr>\n",
       "    <tr>\n",
       "      <th>mean</th>\n",
       "      <td>5.191414e-08</td>\n",
       "    </tr>\n",
       "    <tr>\n",
       "      <th>std</th>\n",
       "      <td>1.422112e+00</td>\n",
       "    </tr>\n",
       "    <tr>\n",
       "      <th>min</th>\n",
       "      <td>-5.657756e+00</td>\n",
       "    </tr>\n",
       "    <tr>\n",
       "      <th>25%</th>\n",
       "      <td>-2.994260e-01</td>\n",
       "    </tr>\n",
       "    <tr>\n",
       "      <th>50%</th>\n",
       "      <td>-1.110702e-02</td>\n",
       "    </tr>\n",
       "    <tr>\n",
       "      <th>75%</th>\n",
       "      <td>3.095180e-01</td>\n",
       "    </tr>\n",
       "    <tr>\n",
       "      <th>max</th>\n",
       "      <td>5.935515e+00</td>\n",
       "    </tr>\n",
       "  </tbody>\n",
       "</table>\n",
       "</div>"
      ],
      "text/plain": [
       "              error\n",
       "count  7.000000e+01\n",
       "mean   5.191414e-08\n",
       "std    1.422112e+00\n",
       "min   -5.657756e+00\n",
       "25%   -2.994260e-01\n",
       "50%   -1.110702e-02\n",
       "75%    3.095180e-01\n",
       "max    5.935515e+00"
      ]
     },
     "execution_count": 20,
     "metadata": {},
     "output_type": "execute_result"
    }
   ],
   "source": [
    "yhat = polynomial_function(weights_mse_ol, xtrain)\n",
    "err_mse_ol = yhat - ytrain - outlier_noise\n",
    "pd.DataFrame({'error': err_mse_ol}).describe()"
   ]
  },
  {
   "cell_type": "markdown",
   "metadata": {},
   "source": [
    "#### Choice of $\\gamma$\n",
    "For the Huber-loss function, we will choose $\\gamma$ to be twice the standard deviation of the error.\n",
    "\n",
    "The plot below shows the distribution of the error along with dashed lines at plus or minus one standard deviation of the error.  Observe that the lines at $\\pm \\gamma$ clearly separate the outliers from the unaffected data.  Compare this plot to the earlier plot of the error for when there were no outliers in the data."
   ]
  },
  {
   "cell_type": "code",
   "execution_count": 21,
   "metadata": {},
   "outputs": [
    {
     "data": {
      "text/html": [
       "\n",
       "\n",
       "\n",
       "\n",
       "\n",
       "\n",
       "  <div class=\"bk-root\" id=\"3b7187fd-2523-47b8-9ac1-77a6b7221ed8\" data-root-id=\"1652\"></div>\n"
      ]
     },
     "metadata": {},
     "output_type": "display_data"
    },
    {
     "data": {
      "application/javascript": [
       "(function(root) {\n",
       "  function embed_document(root) {\n",
       "    \n",
       "  var docs_json = {\"753ce132-c8e0-45b9-ba61-b73574ee2c67\":{\"roots\":{\"references\":[{\"attributes\":{\"below\":[{\"id\":\"1663\",\"type\":\"LinearAxis\"}],\"center\":[{\"id\":\"1667\",\"type\":\"Grid\"},{\"id\":\"1672\",\"type\":\"Grid\"},{\"id\":\"1697\",\"type\":\"Legend\"}],\"left\":[{\"id\":\"1668\",\"type\":\"LinearAxis\"}],\"plot_height\":200,\"renderers\":[{\"id\":\"1689\",\"type\":\"GlyphRenderer\"},{\"id\":\"1702\",\"type\":\"GlyphRenderer\"},{\"id\":\"1716\",\"type\":\"GlyphRenderer\"},{\"id\":\"1721\",\"type\":\"GlyphRenderer\"}],\"title\":{\"id\":\"1653\",\"type\":\"Title\"},\"toolbar\":{\"id\":\"1679\",\"type\":\"Toolbar\"},\"x_range\":{\"id\":\"1655\",\"type\":\"Range1d\"},\"x_scale\":{\"id\":\"1659\",\"type\":\"LinearScale\"},\"y_range\":{\"id\":\"1657\",\"type\":\"Range1d\"},\"y_scale\":{\"id\":\"1661\",\"type\":\"LinearScale\"}},\"id\":\"1652\",\"subtype\":\"Figure\",\"type\":\"Plot\"},{\"attributes\":{\"dimension\":1,\"ticker\":{\"id\":\"1669\",\"type\":\"BasicTicker\"}},\"id\":\"1672\",\"type\":\"Grid\"},{\"attributes\":{\"data_source\":{\"id\":\"1713\",\"type\":\"ColumnDataSource\"},\"glyph\":{\"id\":\"1714\",\"type\":\"Line\"},\"hover_glyph\":null,\"muted_glyph\":null,\"nonselection_glyph\":{\"id\":\"1715\",\"type\":\"Line\"},\"selection_glyph\":null,\"view\":{\"id\":\"1717\",\"type\":\"CDSView\"}},\"id\":\"1716\",\"type\":\"GlyphRenderer\"},{\"attributes\":{},\"id\":\"1695\",\"type\":\"BasicTickFormatter\"},{\"attributes\":{},\"id\":\"1669\",\"type\":\"BasicTicker\"},{\"attributes\":{\"line_color\":\"#1f77b4\",\"line_dash\":[6],\"line_width\":2,\"x\":{\"field\":\"x\"},\"y\":{\"field\":\"y\"}},\"id\":\"1719\",\"type\":\"Line\"},{\"attributes\":{\"formatter\":{\"id\":\"1693\",\"type\":\"BasicTickFormatter\"},\"ticker\":{\"id\":\"1669\",\"type\":\"BasicTicker\"},\"visible\":false},\"id\":\"1668\",\"type\":\"LinearAxis\"},{\"attributes\":{},\"id\":\"1693\",\"type\":\"BasicTickFormatter\"},{\"attributes\":{\"callback\":null,\"data\":{\"x\":[2.8238347395966823,2.8238347395966823],\"y\":[0,1]},\"selected\":{\"id\":\"1781\",\"type\":\"Selection\"},\"selection_policy\":{\"id\":\"1782\",\"type\":\"UnionRenderers\"}},\"id\":\"1718\",\"type\":\"ColumnDataSource\"},{\"attributes\":{\"bottom_units\":\"screen\",\"fill_alpha\":{\"value\":0.5},\"fill_color\":{\"value\":\"lightgrey\"},\"left_units\":\"screen\",\"level\":\"overlay\",\"line_alpha\":{\"value\":1.0},\"line_color\":{\"value\":\"black\"},\"line_dash\":[4,4],\"line_width\":{\"value\":2},\"render_mode\":\"css\",\"right_units\":\"screen\",\"top_units\":\"screen\"},\"id\":\"1696\",\"type\":\"BoxAnnotation\"},{\"attributes\":{\"callback\":null,\"data\":{\"x\":{\"__ndarray__\":\"oCbX5CXj4L8APIasTAW2P3BEr0s68+c/QN5FzaMsvb+AXuVP+Tm6P3Ca/HexSuK/4BkDNiBv3D/gu4VU9/vYv4Arfit9yce/gIIkQ4s+vD+AC3PAsanBv0ARGF4LXLs/ALCBkj0Kcz8o+kl23G3rPxi6QMdO6uE/QEcn5qCLsr8QFJeBqQbuP/zAxDdnQfM/MLfTCbb76T+gnYqEh4TYvyBr8n9wB9W/wEuplsZV6D+AnzY8O6fgv4Dz2kWm2tI/AGZHg+O6xL8AG8y5oBneP8AzmH0rCcc/ELmoF6TS1b8A3kj51oGbv0DAb2OKlsY/QMa8JaJdu7/gHq5Tp33Rv/gfIvpFTOI/8A2TOjaE079gUoxbUWTMv9AjDbqwANA/8PZl0rgL0D8A0ts1Jk7dv6gz8YnV0eI/MK7U6Oxn0z/wn5E5P0LgvxCSoV7qZ++/YNwhCBS4yL8oKDSrUwbgv2DeacEvq9M/gE+/VS1bpj+ge98lSYjJvxC4IiJCm9w/CBEsU6oT77+A7As1ixrSvwC+bfEjsoY/wF1MryDb0z+gPsZi9hLQv8BNdokCgb6/0HZUPUcu3T+gMJTUCFnSPzDNBUTUktA/MKj3PPi98L/UQJJrIznkP4DTuzi4cLW/sC8NjEvC9b8Aymu/icHFv+hANRpHLeA/wMlqRxTUvT+otnuplEjov+A/OvP5M82/\",\"dtype\":\"float64\",\"shape\":[66]}},\"selected\":{\"id\":\"1710\",\"type\":\"Selection\"},\"selection_policy\":{\"id\":\"1711\",\"type\":\"UnionRenderers\"}},\"id\":\"1686\",\"type\":\"ColumnDataSource\"},{\"attributes\":{\"source\":{\"id\":\"1718\",\"type\":\"ColumnDataSource\"}},\"id\":\"1722\",\"type\":\"CDSView\"},{\"attributes\":{\"fill_color\":{\"value\":\"darkorange\"},\"line_color\":{\"value\":\"darkorange\"},\"radius\":{\"units\":\"data\",\"value\":0.1},\"x\":{\"field\":\"x\"},\"y\":{\"field\":\"y\"}},\"id\":\"1700\",\"type\":\"Circle\"},{\"attributes\":{\"data_source\":{\"id\":\"1686\",\"type\":\"ColumnDataSource\"},\"glyph\":{\"id\":\"1687\",\"type\":\"Circle\"},\"hover_glyph\":null,\"muted_glyph\":null,\"nonselection_glyph\":{\"id\":\"1688\",\"type\":\"Circle\"},\"selection_glyph\":null,\"view\":{\"id\":\"1690\",\"type\":\"CDSView\"}},\"id\":\"1689\",\"type\":\"GlyphRenderer\"},{\"attributes\":{\"line_alpha\":0.1,\"line_color\":\"#1f77b4\",\"line_dash\":[6],\"line_width\":2,\"x\":{\"field\":\"x\"},\"y\":{\"field\":\"y\"}},\"id\":\"1720\",\"type\":\"Line\"},{\"attributes\":{\"label\":{\"value\":\"unaffected data\"},\"renderers\":[{\"id\":\"1689\",\"type\":\"GlyphRenderer\"}]},\"id\":\"1698\",\"type\":\"LegendItem\"},{\"attributes\":{\"active_drag\":\"auto\",\"active_inspect\":\"auto\",\"active_multi\":null,\"active_scroll\":\"auto\",\"active_tap\":\"auto\",\"tools\":[{\"id\":\"1673\",\"type\":\"PanTool\"},{\"id\":\"1674\",\"type\":\"WheelZoomTool\"},{\"id\":\"1675\",\"type\":\"BoxZoomTool\"},{\"id\":\"1676\",\"type\":\"SaveTool\"},{\"id\":\"1677\",\"type\":\"ResetTool\"},{\"id\":\"1678\",\"type\":\"HelpTool\"}]},\"id\":\"1679\",\"type\":\"Toolbar\"},{\"attributes\":{\"fill_color\":{\"value\":\"blue\"},\"line_color\":{\"value\":\"#1f77b4\"},\"x\":{\"field\":\"x\"},\"y\":{\"value\":0.6}},\"id\":\"1687\",\"type\":\"Circle\"},{\"attributes\":{\"line_color\":\"#1f77b4\",\"line_dash\":[6],\"line_width\":2,\"x\":{\"field\":\"x\"},\"y\":{\"field\":\"y\"}},\"id\":\"1714\",\"type\":\"Line\"},{\"attributes\":{\"callback\":null,\"data\":{\"x\":{\"__ndarray__\":\"N2wZxPe9F0DP4bJ+3b0TQD6K2WS1gRbAMmSayYqhFsA=\",\"dtype\":\"float64\",\"shape\":[4]},\"y\":{\"__ndarray__\":\"GlOp6zTz4j/HHDxd26HiP70XYenLAeM/gdIocMVX4z8=\",\"dtype\":\"float64\",\"shape\":[4]}},\"selected\":{\"id\":\"1777\",\"type\":\"Selection\"},\"selection_policy\":{\"id\":\"1778\",\"type\":\"UnionRenderers\"}},\"id\":\"1699\",\"type\":\"ColumnDataSource\"},{\"attributes\":{\"data_source\":{\"id\":\"1718\",\"type\":\"ColumnDataSource\"},\"glyph\":{\"id\":\"1719\",\"type\":\"Line\"},\"hover_glyph\":null,\"muted_glyph\":null,\"nonselection_glyph\":{\"id\":\"1720\",\"type\":\"Line\"},\"selection_glyph\":null,\"view\":{\"id\":\"1722\",\"type\":\"CDSView\"}},\"id\":\"1721\",\"type\":\"GlyphRenderer\"},{\"attributes\":{\"line_alpha\":0.1,\"line_color\":\"#1f77b4\",\"line_dash\":[6],\"line_width\":2,\"x\":{\"field\":\"x\"},\"y\":{\"field\":\"y\"}},\"id\":\"1715\",\"type\":\"Line\"},{\"attributes\":{},\"id\":\"1673\",\"type\":\"PanTool\"},{\"attributes\":{},\"id\":\"1778\",\"type\":\"UnionRenderers\"},{\"attributes\":{\"text\":\"Error\"},\"id\":\"1653\",\"type\":\"Title\"},{\"attributes\":{\"fill_alpha\":{\"value\":0.1},\"fill_color\":{\"value\":\"#1f77b4\"},\"line_alpha\":{\"value\":0.1},\"line_color\":{\"value\":\"#1f77b4\"},\"radius\":{\"units\":\"data\",\"value\":0.1},\"x\":{\"field\":\"x\"},\"y\":{\"field\":\"y\"}},\"id\":\"1701\",\"type\":\"Circle\"},{\"attributes\":{},\"id\":\"1674\",\"type\":\"WheelZoomTool\"},{\"attributes\":{},\"id\":\"1777\",\"type\":\"Selection\"},{\"attributes\":{},\"id\":\"1779\",\"type\":\"Selection\"},{\"attributes\":{\"callback\":null,\"end\":7,\"start\":-7},\"id\":\"1655\",\"type\":\"Range1d\"},{\"attributes\":{\"data_source\":{\"id\":\"1699\",\"type\":\"ColumnDataSource\"},\"glyph\":{\"id\":\"1700\",\"type\":\"Circle\"},\"hover_glyph\":null,\"muted_glyph\":null,\"nonselection_glyph\":{\"id\":\"1701\",\"type\":\"Circle\"},\"selection_glyph\":null,\"view\":{\"id\":\"1703\",\"type\":\"CDSView\"}},\"id\":\"1702\",\"type\":\"GlyphRenderer\"},{\"attributes\":{\"overlay\":{\"id\":\"1696\",\"type\":\"BoxAnnotation\"}},\"id\":\"1675\",\"type\":\"BoxZoomTool\"},{\"attributes\":{\"axis_label\":\"error=(yhat - y)\",\"formatter\":{\"id\":\"1695\",\"type\":\"BasicTickFormatter\"},\"ticker\":{\"id\":\"1664\",\"type\":\"BasicTicker\"}},\"id\":\"1663\",\"type\":\"LinearAxis\"},{\"attributes\":{},\"id\":\"1659\",\"type\":\"LinearScale\"},{\"attributes\":{},\"id\":\"1676\",\"type\":\"SaveTool\"},{\"attributes\":{\"source\":{\"id\":\"1699\",\"type\":\"ColumnDataSource\"}},\"id\":\"1703\",\"type\":\"CDSView\"},{\"attributes\":{},\"id\":\"1710\",\"type\":\"Selection\"},{\"attributes\":{},\"id\":\"1780\",\"type\":\"UnionRenderers\"},{\"attributes\":{},\"id\":\"1661\",\"type\":\"LinearScale\"},{\"attributes\":{},\"id\":\"1677\",\"type\":\"ResetTool\"},{\"attributes\":{\"label\":{\"value\":\"outlier\"},\"renderers\":[{\"id\":\"1702\",\"type\":\"GlyphRenderer\"}]},\"id\":\"1712\",\"type\":\"LegendItem\"},{\"attributes\":{},\"id\":\"1781\",\"type\":\"Selection\"},{\"attributes\":{\"callback\":null,\"start\":0.5},\"id\":\"1657\",\"type\":\"Range1d\"},{\"attributes\":{},\"id\":\"1711\",\"type\":\"UnionRenderers\"},{\"attributes\":{},\"id\":\"1678\",\"type\":\"HelpTool\"},{\"attributes\":{},\"id\":\"1782\",\"type\":\"UnionRenderers\"},{\"attributes\":{\"callback\":null,\"data\":{\"x\":[-2.8238347395966823,-2.8238347395966823],\"y\":[0,1]},\"selected\":{\"id\":\"1779\",\"type\":\"Selection\"},\"selection_policy\":{\"id\":\"1780\",\"type\":\"UnionRenderers\"}},\"id\":\"1713\",\"type\":\"ColumnDataSource\"},{\"attributes\":{\"source\":{\"id\":\"1686\",\"type\":\"ColumnDataSource\"}},\"id\":\"1690\",\"type\":\"CDSView\"},{\"attributes\":{\"source\":{\"id\":\"1713\",\"type\":\"ColumnDataSource\"}},\"id\":\"1717\",\"type\":\"CDSView\"},{\"attributes\":{\"ticker\":{\"id\":\"1664\",\"type\":\"BasicTicker\"}},\"id\":\"1667\",\"type\":\"Grid\"},{\"attributes\":{\"items\":[{\"id\":\"1698\",\"type\":\"LegendItem\"},{\"id\":\"1712\",\"type\":\"LegendItem\"}]},\"id\":\"1697\",\"type\":\"Legend\"},{\"attributes\":{},\"id\":\"1664\",\"type\":\"BasicTicker\"},{\"attributes\":{\"fill_alpha\":{\"value\":0.1},\"fill_color\":{\"value\":\"#1f77b4\"},\"line_alpha\":{\"value\":0.1},\"line_color\":{\"value\":\"#1f77b4\"},\"x\":{\"field\":\"x\"},\"y\":{\"value\":0.6}},\"id\":\"1688\",\"type\":\"Circle\"}],\"root_ids\":[\"1652\"]},\"title\":\"Bokeh Application\",\"version\":\"1.4.0\"}};\n",
       "  var render_items = [{\"docid\":\"753ce132-c8e0-45b9-ba61-b73574ee2c67\",\"roots\":{\"1652\":\"3b7187fd-2523-47b8-9ac1-77a6b7221ed8\"}}];\n",
       "  root.Bokeh.embed.embed_items_notebook(docs_json, render_items);\n",
       "\n",
       "  }\n",
       "  if (root.Bokeh !== undefined) {\n",
       "    embed_document(root);\n",
       "  } else {\n",
       "    var attempts = 0;\n",
       "    var timer = setInterval(function(root) {\n",
       "      if (root.Bokeh !== undefined) {\n",
       "        clearInterval(timer);\n",
       "        embed_document(root);\n",
       "      } else {\n",
       "        attempts++;\n",
       "        if (attempts > 100) {\n",
       "          clearInterval(timer);\n",
       "          console.log(\"Bokeh: ERROR: Unable to run BokehJS code because BokehJS library is missing\");\n",
       "        }\n",
       "      }\n",
       "    }, 10, root)\n",
       "  }\n",
       "})(window);"
      ],
      "application/vnd.bokehjs_exec.v0+json": ""
     },
     "metadata": {
      "application/vnd.bokehjs_exec.v0+json": {
       "id": "1652"
      }
     },
     "output_type": "display_data"
    }
   ],
   "source": [
    "# Plot the errors\n",
    "p = bkp.figure(title='Error', x_range=[-7, 7], y_range=[0.5, 1.0], width=600, height=200,\n",
    "               x_axis_label='error=(yhat - y)')\n",
    "p.circle(err_mse_ol[outlier_noise == 0], 0.6, fill_color='blue', legend_label='unaffected data')\n",
    "p.circle(err_mse_ol[outlier_noise != 0], 0.6 + 0.01 * np.random.randn(4), color='darkorange',\n",
    "         radius=0.1, legend_label='outlier')\n",
    "estd = 2 * np.std(err_mse_ol)\n",
    "p.line([-estd, -estd], [0, 1], line_dash='dashed', line_width=2)\n",
    "p.line([estd, estd], [0, 1], line_dash='dashed', line_width=2)\n",
    "p.legend.location = 'top_right'\n",
    "p.yaxis.visible = False\n",
    "bkp.show(p)"
   ]
  },
  {
   "cell_type": "markdown",
   "metadata": {},
   "source": [
    "### Huber-loss model\n",
    "Next, we fit the Huber-loss model."
   ]
  },
  {
   "cell_type": "code",
   "execution_count": 22,
   "metadata": {},
   "outputs": [],
   "source": [
    "# With outliers - Predict using Huber Loss\n",
    "np.random.seed(424242)\n",
    "gamma = 2 * np.std(err_mse_ol)\n",
    "update_func = functools.partial(update_weights_huber, gamma=gamma)\n",
    "loss_func = functools.partial(huber_loss, gamma=gamma)\n",
    "weights_huber_ol, loss_values_huber_ol = train(xtrain, ytrain + outlier_noise, nweights=2, update_func=update_func,\n",
    "                                               loss_func=loss_func, niter=250 * 20)"
   ]
  },
  {
   "cell_type": "code",
   "execution_count": 23,
   "metadata": {},
   "outputs": [
    {
     "name": "stdout",
     "output_type": "stream",
     "text": [
      "gamma: 2.8238347395966823\n",
      "loss values (last few): [1.5358121300535852, 1.5358121300532634, 1.5358121300529748, 1.5358121300527157]\n",
      "True weights: [3.0, 6.0]\n",
      "Predicted weights: [3.38589048 5.1598805 ]\n",
      "MSE loss (all data): 2.02456696435184\n",
      "MSE loss (unaffected data): 0.15162498018067325\n"
     ]
    }
   ],
   "source": [
    "print('gamma:', gamma)\n",
    "print('loss values (last few):', loss_values_huber_ol[-4:])\n",
    "print('True weights:', wt_true)\n",
    "print('Predicted weights:', weights_huber_ol)\n",
    "yhat = polynomial_function(weights_huber_ol, xtrain)\n",
    "print('MSE loss (all data):', mse_loss(yhat, ytrain + outlier_noise))\n",
    "yhat = polynomial_function(weights_huber_ol, xtrain[outlier_noise == 0])\n",
    "print('MSE loss (unaffected data):', mse_loss(yhat, ytrain[outlier_noise == 0]))"
   ]
  },
  {
   "cell_type": "markdown",
   "metadata": {},
   "source": [
    "Notice that\n",
    " * the loss values have stabilized.\n",
    " * the predicted weights have diverged from the true weights, but not as much as the MSE-loss model.\n",
    " * the MSE loss for all of the data has increased to over 2.0 from 0.117.\n",
    " * the MSE loss for the unaffected data has increased to 0.1516.  But this is lower than the loss for the MSE-loss model."
   ]
  },
  {
   "cell_type": "code",
   "execution_count": 24,
   "metadata": {},
   "outputs": [
    {
     "data": {
      "text/html": [
       "\n",
       "\n",
       "\n",
       "\n",
       "\n",
       "\n",
       "  <div class=\"bk-root\" id=\"817b475b-f17b-40d5-83a6-774623edd370\" data-root-id=\"1867\"></div>\n"
      ]
     },
     "metadata": {},
     "output_type": "display_data"
    },
    {
     "data": {
      "application/javascript": [
       "(function(root) {\n",
       "  function embed_document(root) {\n",
       "    \n",
       "  var docs_json = {\"206f9b93-b0ad-49e7-8516-28a3c2d13769\":{\"roots\":{\"references\":[{\"attributes\":{\"below\":[{\"id\":\"1878\",\"type\":\"LinearAxis\"}],\"center\":[{\"id\":\"1882\",\"type\":\"Grid\"},{\"id\":\"1887\",\"type\":\"Grid\"},{\"id\":\"1919\",\"type\":\"Legend\"}],\"left\":[{\"id\":\"1883\",\"type\":\"LinearAxis\"}],\"plot_height\":400,\"renderers\":[{\"id\":\"1904\",\"type\":\"GlyphRenderer\"},{\"id\":\"1909\",\"type\":\"GlyphRenderer\"},{\"id\":\"1924\",\"type\":\"GlyphRenderer\"},{\"id\":\"1940\",\"type\":\"GlyphRenderer\"}],\"title\":{\"id\":\"1868\",\"type\":\"Title\"},\"toolbar\":{\"id\":\"1894\",\"type\":\"Toolbar\"},\"x_range\":{\"id\":\"1870\",\"type\":\"DataRange1d\"},\"x_scale\":{\"id\":\"1874\",\"type\":\"LinearScale\"},\"y_range\":{\"id\":\"1872\",\"type\":\"Range1d\"},\"y_scale\":{\"id\":\"1876\",\"type\":\"LinearScale\"}},\"id\":\"1867\",\"subtype\":\"Figure\",\"type\":\"Plot\"},{\"attributes\":{\"data_source\":{\"id\":\"1906\",\"type\":\"ColumnDataSource\"},\"glyph\":{\"id\":\"1907\",\"type\":\"Line\"},\"hover_glyph\":null,\"muted_glyph\":null,\"nonselection_glyph\":{\"id\":\"1908\",\"type\":\"Line\"},\"selection_glyph\":null,\"view\":{\"id\":\"1910\",\"type\":\"CDSView\"}},\"id\":\"1909\",\"type\":\"GlyphRenderer\"},{\"attributes\":{\"dimension\":1,\"ticker\":{\"id\":\"1884\",\"type\":\"BasicTicker\"}},\"id\":\"1887\",\"type\":\"Grid\"},{\"attributes\":{\"source\":{\"id\":\"1901\",\"type\":\"ColumnDataSource\"}},\"id\":\"1905\",\"type\":\"CDSView\"},{\"attributes\":{\"source\":{\"id\":\"1921\",\"type\":\"ColumnDataSource\"}},\"id\":\"1925\",\"type\":\"CDSView\"},{\"attributes\":{},\"id\":\"1892\",\"type\":\"ResetTool\"},{\"attributes\":{\"label\":{\"value\":\"Huber\"},\"renderers\":[{\"id\":\"1940\",\"type\":\"GlyphRenderer\"}]},\"id\":\"1954\",\"type\":\"LegendItem\"},{\"attributes\":{},\"id\":\"1917\",\"type\":\"Selection\"},{\"attributes\":{\"source\":{\"id\":\"1906\",\"type\":\"ColumnDataSource\"}},\"id\":\"1910\",\"type\":\"CDSView\"},{\"attributes\":{},\"id\":\"1891\",\"type\":\"SaveTool\"},{\"attributes\":{\"bottom_units\":\"screen\",\"fill_alpha\":{\"value\":0.5},\"fill_color\":{\"value\":\"lightgrey\"},\"left_units\":\"screen\",\"level\":\"overlay\",\"line_alpha\":{\"value\":1.0},\"line_color\":{\"value\":\"black\"},\"line_dash\":[4,4],\"line_width\":{\"value\":2},\"render_mode\":\"css\",\"right_units\":\"screen\",\"top_units\":\"screen\"},\"id\":\"1916\",\"type\":\"BoxAnnotation\"},{\"attributes\":{},\"id\":\"1952\",\"type\":\"Selection\"},{\"attributes\":{\"data_source\":{\"id\":\"1937\",\"type\":\"ColumnDataSource\"},\"glyph\":{\"id\":\"1938\",\"type\":\"Line\"},\"hover_glyph\":null,\"muted_glyph\":null,\"nonselection_glyph\":{\"id\":\"1939\",\"type\":\"Line\"},\"selection_glyph\":null,\"view\":{\"id\":\"1941\",\"type\":\"CDSView\"}},\"id\":\"1940\",\"type\":\"GlyphRenderer\"},{\"attributes\":{},\"id\":\"1913\",\"type\":\"BasicTickFormatter\"},{\"attributes\":{},\"id\":\"1934\",\"type\":\"Selection\"},{\"attributes\":{},\"id\":\"1918\",\"type\":\"UnionRenderers\"},{\"attributes\":{},\"id\":\"1915\",\"type\":\"BasicTickFormatter\"},{\"attributes\":{\"fill_alpha\":{\"value\":0.1},\"fill_color\":{\"value\":\"#1f77b4\"},\"line_alpha\":{\"value\":0.1},\"line_color\":{\"value\":\"#1f77b4\"},\"radius\":{\"units\":\"data\",\"value\":0.01},\"x\":{\"field\":\"x\"},\"y\":{\"field\":\"y\"}},\"id\":\"1903\",\"type\":\"Circle\"},{\"attributes\":{\"label\":{\"value\":\"true weight\"},\"renderers\":[{\"id\":\"1909\",\"type\":\"GlyphRenderer\"}]},\"id\":\"1920\",\"type\":\"LegendItem\"},{\"attributes\":{},\"id\":\"2027\",\"type\":\"Selection\"},{\"attributes\":{\"callback\":null,\"end\":11,\"start\":-1},\"id\":\"1872\",\"type\":\"Range1d\"},{\"attributes\":{},\"id\":\"1889\",\"type\":\"WheelZoomTool\"},{\"attributes\":{},\"id\":\"1888\",\"type\":\"PanTool\"},{\"attributes\":{},\"id\":\"1884\",\"type\":\"BasicTicker\"},{\"attributes\":{\"items\":[{\"id\":\"1920\",\"type\":\"LegendItem\"},{\"id\":\"1936\",\"type\":\"LegendItem\"},{\"id\":\"1954\",\"type\":\"LegendItem\"}],\"location\":\"bottom_right\"},\"id\":\"1919\",\"type\":\"Legend\"},{\"attributes\":{\"callback\":null,\"data\":{\"x\":{\"__ndarray__\":\"AAAAAAAAAAA5BS+n4OWUPzkFL6fg5aQ/1ofG+tBYrz85BS+n4OW0P4fG+tBYH7o/1ofG+tBYvz+SJEmSJEnCPzkFL6fg5cQ/4OUUvJyCxz+HxvrQWB/KPy6n4OUUvMw/1ofG+tBYzz8+NNaHxvrQP5IkSZIkSdI/5RS8nIKX0z85BS+n4OXUP431obE+NNY/4OUUvJyC1z801ofG+tDYP4fG+tBYH9o/27Zt27Zt2z8up+DlFLzcP4KXU/ByCt4/1ofG+tBY3z8VvJyCl1PgPz401ofG+uA/aKwPjfWh4T+SJEmSJEniP7ycgpdT8OI/5RS8nIKX4z8PjfWhsT7kPzkFL6fg5eQ/Y31orA+N5T+N9aGxPjTmP7Zt27Zt2+Y/4OUUvJyC5z8KXk7ByynoPzTWh8b60Og/XU7Byyl46T+HxvrQWB/qP7E+NNaHxuo/27Zt27Zt6z8FL6fg5RTsPy6n4OUUvOw/WB8a60Nj7T+Cl1PwcgruP6wPjfWhse4/1ofG+tBY7z8AAAAAAADwPw==\",\"dtype\":\"float64\",\"shape\":[50]},\"y\":{\"__ndarray__\":\"SJveqdp9DUA9SE/hUT0OQDH1vxjJ/A5AJqIwUEC8D0CNp9DD2z0QQAf+iF+XnRBAglRB+1L9EED8qvmWDl0RQHYBsjLKvBFA8FdqzoUcEkBrriJqQXwSQOUE2wX92xJAYFuTobg7E0DasUs9dJsTQFQIBNkv+xNAzl68dOtaFEBItXQQp7oUQMMLLaxiGhVAPWLlRx56FUC3uJ3j2dkVQDIPVn+VORZArGUOG1GZFkAmvMa2DPkWQKASf1LIWBdAG2k37oO4F0CVv++JPxgYQA8WqCX7dxhAimxgwbbXGEAEwxhdcjcZQH4Z0fgtlxlA+G+JlOn2GUByxkEwpVYaQO0c+stgthpAaHOyZxwWG0DiyWoD2HUbQFwgI5+T1RtA1nbbOk81HEBQzZPWCpUcQMojTHLG9BxARHoEDoJUHUC/0LypPbQdQDondUX5Ex5AtH0t4bRzHkAu1OV8cNMeQKgqnhgsMx9AIoFWtOeSH0Cd1w5Qo/IfQAyX43UvKSBAScK/Qw1ZIECG7ZsR64ggQA==\",\"dtype\":\"float64\",\"shape\":[50]}},\"selected\":{\"id\":\"1952\",\"type\":\"Selection\"},\"selection_policy\":{\"id\":\"1953\",\"type\":\"UnionRenderers\"}},\"id\":\"1921\",\"type\":\"ColumnDataSource\"},{\"attributes\":{},\"id\":\"1879\",\"type\":\"BasicTicker\"},{\"attributes\":{\"fill_color\":{\"value\":\"#1f77b4\"},\"line_color\":{\"value\":\"#1f77b4\"},\"radius\":{\"units\":\"data\",\"value\":0.01},\"x\":{\"field\":\"x\"},\"y\":{\"field\":\"y\"}},\"id\":\"1902\",\"type\":\"Circle\"},{\"attributes\":{\"line_alpha\":0.1,\"line_color\":\"#1f77b4\",\"line_width\":3,\"x\":{\"field\":\"x\"},\"y\":{\"field\":\"y\"}},\"id\":\"1939\",\"type\":\"Line\"},{\"attributes\":{},\"id\":\"1953\",\"type\":\"UnionRenderers\"},{\"attributes\":{},\"id\":\"1876\",\"type\":\"LinearScale\"},{\"attributes\":{\"active_drag\":\"auto\",\"active_inspect\":\"auto\",\"active_multi\":null,\"active_scroll\":\"auto\",\"active_tap\":\"auto\",\"tools\":[{\"id\":\"1888\",\"type\":\"PanTool\"},{\"id\":\"1889\",\"type\":\"WheelZoomTool\"},{\"id\":\"1890\",\"type\":\"BoxZoomTool\"},{\"id\":\"1891\",\"type\":\"SaveTool\"},{\"id\":\"1892\",\"type\":\"ResetTool\"},{\"id\":\"1893\",\"type\":\"HelpTool\"}]},\"id\":\"1894\",\"type\":\"Toolbar\"},{\"attributes\":{},\"id\":\"1935\",\"type\":\"UnionRenderers\"},{\"attributes\":{},\"id\":\"2028\",\"type\":\"UnionRenderers\"},{\"attributes\":{},\"id\":\"1874\",\"type\":\"LinearScale\"},{\"attributes\":{\"overlay\":{\"id\":\"1916\",\"type\":\"BoxAnnotation\"}},\"id\":\"1890\",\"type\":\"BoxZoomTool\"},{\"attributes\":{\"line_alpha\":0.1,\"line_color\":\"#1f77b4\",\"line_width\":3,\"x\":{\"field\":\"x\"},\"y\":{\"field\":\"y\"}},\"id\":\"1923\",\"type\":\"Line\"},{\"attributes\":{\"source\":{\"id\":\"1937\",\"type\":\"ColumnDataSource\"}},\"id\":\"1941\",\"type\":\"CDSView\"},{\"attributes\":{\"line_alpha\":0.1,\"line_color\":\"#1f77b4\",\"line_dash\":[6],\"line_width\":3,\"x\":{\"field\":\"x\"},\"y\":{\"field\":\"y\"}},\"id\":\"1908\",\"type\":\"Line\"},{\"attributes\":{\"line_color\":\"darkorange\",\"line_width\":3,\"x\":{\"field\":\"x\"},\"y\":{\"field\":\"y\"}},\"id\":\"1938\",\"type\":\"Line\"},{\"attributes\":{\"label\":{\"value\":\"MSE\"},\"renderers\":[{\"id\":\"1924\",\"type\":\"GlyphRenderer\"}]},\"id\":\"1936\",\"type\":\"LegendItem\"},{\"attributes\":{},\"id\":\"1893\",\"type\":\"HelpTool\"},{\"attributes\":{\"text\":\"Predictions -- Huber-loss -- Data With Outliers\"},\"id\":\"1868\",\"type\":\"Title\"},{\"attributes\":{\"callback\":null,\"data\":{\"x\":{\"__ndarray__\":\"AAAAAAAAAAA5BS+n4OWUPzkFL6fg5aQ/1ofG+tBYrz85BS+n4OW0P4fG+tBYH7o/1ofG+tBYvz+SJEmSJEnCPzkFL6fg5cQ/4OUUvJyCxz+HxvrQWB/KPy6n4OUUvMw/1ofG+tBYzz8+NNaHxvrQP5IkSZIkSdI/5RS8nIKX0z85BS+n4OXUP431obE+NNY/4OUUvJyC1z801ofG+tDYP4fG+tBYH9o/27Zt27Zt2z8up+DlFLzcP4KXU/ByCt4/1ofG+tBY3z8VvJyCl1PgPz401ofG+uA/aKwPjfWh4T+SJEmSJEniP7ycgpdT8OI/5RS8nIKX4z8PjfWhsT7kPzkFL6fg5eQ/Y31orA+N5T+N9aGxPjTmP7Zt27Zt2+Y/4OUUvJyC5z8KXk7ByynoPzTWh8b60Og/XU7Byyl46T+HxvrQWB/qP7E+NNaHxuo/27Zt27Zt6z8FL6fg5RTsPy6n4OUUvOw/WB8a60Nj7T+Cl1PwcgruP6wPjfWhse4/1ofG+tBY7z8AAAAAAADwPw==\",\"dtype\":\"float64\",\"shape\":[50]},\"y\":{\"__ndarray__\":\"ZrmDv00WC0DlIK009+0LQGOI1qmgxQxA4u//HkqdDUBhVymU83QOQOC+UgmdTA9ALxM+PyMSEEDuxtL5930QQK56Z7TM6RBAbS78bqFVEUAs4pApdsERQOyVJeRKLRJArEm6nh+ZEkBq/U5Z9AQTQCqx4xPJcBNA6WR4zp3cE0CpGA2JckgUQGjMoUNHtBRAKIA2/hsgFUDnM8u48IsVQKbnX3PF9xVAZpv0LZpjFkAlT4nobs8WQOQCHqNDOxdApLayXRinF0BjakcY7RIYQCIe3NLBfhhA4tFwjZbqGEChhQVIa1YZQGA5mgJAwhlAIO0uvRQuGkDfoMN36ZkaQJ5UWDK+BRtAXgjt7JJxG0AevIGnZ90bQNxvFmI8SRxAnCOrHBG1HEBc1z/X5SAdQBuL1JG6jB1A2j5pTI/4HUCZ8v0GZGQeQFmmksE40B5AGFonfA08H0DYDbw24qcfQMxgqHjbCSBAq7ry1cU/IECLFD0zsHUgQGpuh5CaqyBASsjR7YThIEAqIhxLbxchQA==\",\"dtype\":\"float64\",\"shape\":[50]}},\"selected\":{\"id\":\"2027\",\"type\":\"Selection\"},\"selection_policy\":{\"id\":\"2028\",\"type\":\"UnionRenderers\"}},\"id\":\"1937\",\"type\":\"ColumnDataSource\"},{\"attributes\":{\"ticker\":{\"id\":\"1879\",\"type\":\"BasicTicker\"}},\"id\":\"1882\",\"type\":\"Grid\"},{\"attributes\":{\"formatter\":{\"id\":\"1915\",\"type\":\"BasicTickFormatter\"},\"ticker\":{\"id\":\"1879\",\"type\":\"BasicTicker\"}},\"id\":\"1878\",\"type\":\"LinearAxis\"},{\"attributes\":{\"line_color\":\"gray\",\"line_dash\":[6],\"line_width\":3,\"x\":{\"field\":\"x\"},\"y\":{\"field\":\"y\"}},\"id\":\"1907\",\"type\":\"Line\"},{\"attributes\":{\"callback\":null,\"data\":{\"x\":{\"__ndarray__\":\"AAAAAAAAAAA5BS+n4OWUPzkFL6fg5aQ/1ofG+tBYrz85BS+n4OW0P4fG+tBYH7o/1ofG+tBYvz+SJEmSJEnCPzkFL6fg5cQ/4OUUvJyCxz+HxvrQWB/KPy6n4OUUvMw/1ofG+tBYzz8+NNaHxvrQP5IkSZIkSdI/5RS8nIKX0z85BS+n4OXUP431obE+NNY/4OUUvJyC1z801ofG+tDYP4fG+tBYH9o/27Zt27Zt2z8up+DlFLzcP4KXU/ByCt4/1ofG+tBY3z8VvJyCl1PgPz401ofG+uA/aKwPjfWh4T+SJEmSJEniP7ycgpdT8OI/5RS8nIKX4z8PjfWhsT7kPzkFL6fg5eQ/Y31orA+N5T+N9aGxPjTmP7Zt27Zt2+Y/4OUUvJyC5z8KXk7ByynoPzTWh8b60Og/XU7Byyl46T+HxvrQWB/qP7E+NNaHxuo/27Zt27Zt6z8FL6fg5RTsPy6n4OUUvOw/WB8a60Nj7T+Cl1PwcgruP6wPjfWhse4/1ofG+tBY7z8AAAAAAADwPw==\",\"dtype\":\"float64\",\"shape\":[50]},\"y\":{\"__ndarray__\":\"AAAAAAAACEA/NNaHxvoIQH1orA+N9QlAvJyCl1PwCkD70FgfGusLQDkFL6fg5QxAeDkFL6fgDUC3bdu2bdsOQPahsT401g9AGutDY31oEEA5BS+n4OUQQFgfGutDYxFAeDkFL6fgEUCXU/ByCl4SQLdt27Zt2xJA1ofG+tBYE0D2obE+NNYTQBW8nIKXUxRANNaHxvrQFEBU8HIKXk4VQHIKXk7ByxVAkiRJkiRJFkCxPjTWh8YWQNFYHxrrQxdA8HIKXk7BF0AQjfWhsT4YQC6n4OUUvBhATsHLKXg5GUBu27Zt27YZQI31obE+NBpArA+N9aGxGkDLKXg5BS8bQOtDY31orBtACl5OwcspHEAqeDkFL6ccQEiSJEmSJB1AaKwPjfWhHUCIxvrQWB8eQKfg5RS8nB5AxvrQWB8aH0DlFLycgpcfQIKXU/ByCiBAkiRJkiRJIECisT401ocgQLE+NNaHxiBAwcspeDkFIUDRWB8a60MhQODlFLycgiFA8HIKXk7BIUAAAAAAAAAiQA==\",\"dtype\":\"float64\",\"shape\":[50]}},\"selected\":{\"id\":\"1934\",\"type\":\"Selection\"},\"selection_policy\":{\"id\":\"1935\",\"type\":\"UnionRenderers\"}},\"id\":\"1906\",\"type\":\"ColumnDataSource\"},{\"attributes\":{\"formatter\":{\"id\":\"1913\",\"type\":\"BasicTickFormatter\"},\"ticker\":{\"id\":\"1884\",\"type\":\"BasicTicker\"}},\"id\":\"1883\",\"type\":\"LinearAxis\"},{\"attributes\":{\"callback\":null},\"id\":\"1870\",\"type\":\"DataRange1d\"},{\"attributes\":{\"callback\":null,\"data\":{\"x\":{\"__ndarray__\":\"GcKryYGD7z88rlgroD/oP4QZL9uewMo/u32AG4at5j/utv4yt4/mP1vj1pwIg+s/bpkK6Liv0D+xtICj4bvqP8dzNMd2duQ/VHXQaAZ30D/qFRGWjKvXPxGdJ+tGfes/vKsOXJJY4D8c1kbOTJvVPxD/2A2K46w/cAII53ZjyT/o5Ve9jEzZP4QUPB4M0cM/QJC3+xkdjD8gd3fHPqytP41A+uYGQew/MZMvkP6V6z/oR8uSfX3pP9gO7cjH/N0/o4lQsErx7z94ZJ4e5SzqP6wDjLkffeg/6HkkkIUVtD+u2rfDmH/WPytPm00Y8us/Gz4Z54n+6T9+aljkFULSP7Vgn2mNeew/0osGYmTH3D+I77rB9e2+PxzgMPU/2Os/KdXSOXHw5j/g/ujYM9yTP9AKRy0Qu9c/9CNcdnpY6z+wdnhPJFKqP3YNUWFfBNY//Xw96lrQ6T9ai2y5NbfkPypOkuFfQt4/2KWRb8H66T9/zZiIkFzhPyS4gxSjMMc/nIe0gArC3T+ajvbPRvHRP2B0AF7mQbU/7BYhBZyM7T+oEx4Mr0rpP0+nmjAbvOk/gN7S++F9ez+paDdYWRPkP+WRbTjTZuw/VkAtD58Z0D/Y6Ifwje/MP3oI3OxhzdQ/m7H2YsGu6T9U7SENtFPCPw6Y3yocyeA/a4dHjpke4j+0TywrwcLEP4KfeqBJw9E/uBVrK5fSvD9E1P3Y3srHP/BcOcBm8eo/UtGp0ha35D8=\",\"dtype\":\"float64\",\"shape\":[70]},\"y\":{\"__ndarray__\":\"RkoRqnhzIUCe9aeudUkcQFwLm+DgKQ9AceZ/9/wvHEDiLzLlUEEbQDUAySSgZCBAoTOCKgW/EUCkA92mn50fQGD2P4DmxOU/8y2FcAc0FEB0cWCY3BQVQJ64asrrCR9AsWzPXamtF0CerZHy1ekUQMYz+mi+swhA9FHiGRIkEEBtfSSJaUcWQJS8K5+nqAtAtli/u/BdBEA/4I25pR4JQKGpNO9+OiBADMDkKdCZBUBSAWkDBqgeQCAakqclShRAQzwnuSiPIUBxpiJLVY4cQN7EthOZah1A7Kraq6+aDECJ/9ZCrHcUQIMP13dWDiBA7ExAHPa8HUDFA4JAdkQTQPjaHgyKeh9Aou3nLSQUGEBmZyptSFgNQMk4t2n56B9A2jKLlb7EHECuzFKxuTMMQFmT1lOMiRRAvcw3IzceIEAuskAUsqsKQLtHxgov1hNA4UfXFUqPH0BelosIpYgeQM8JngmMLhhASjI5KhSgH0CkyA8nR3UXQOp5Jj8T5BFAW1cWb08QGEAFk3qEUxgSQIdnhK4TYyNA/PD11YTGIUASOx/gH1weQI6JpM0QcB1Ai3u/um5BC0BivV6fAj8bQGQPpUxefB9ArIHvARmIEUCGcTrVyr0RQPPvU2x2qhNAbGz3aaHRIEAZS9tb2q4NQETKXoRNsRhA/cUe1KiPHkAq4S9Tz2USQCtdTPozzxFA5+AKNU64I0BKOySXja8RQIXUsSjMmiBAQopz2jWFG0A=\",\"dtype\":\"float64\",\"shape\":[70]}},\"selected\":{\"id\":\"1917\",\"type\":\"Selection\"},\"selection_policy\":{\"id\":\"1918\",\"type\":\"UnionRenderers\"}},\"id\":\"1901\",\"type\":\"ColumnDataSource\"},{\"attributes\":{\"line_color\":\"blue\",\"line_width\":3,\"x\":{\"field\":\"x\"},\"y\":{\"field\":\"y\"}},\"id\":\"1922\",\"type\":\"Line\"},{\"attributes\":{\"data_source\":{\"id\":\"1901\",\"type\":\"ColumnDataSource\"},\"glyph\":{\"id\":\"1902\",\"type\":\"Circle\"},\"hover_glyph\":null,\"muted_glyph\":null,\"nonselection_glyph\":{\"id\":\"1903\",\"type\":\"Circle\"},\"selection_glyph\":null,\"view\":{\"id\":\"1905\",\"type\":\"CDSView\"}},\"id\":\"1904\",\"type\":\"GlyphRenderer\"},{\"attributes\":{\"data_source\":{\"id\":\"1921\",\"type\":\"ColumnDataSource\"},\"glyph\":{\"id\":\"1922\",\"type\":\"Line\"},\"hover_glyph\":null,\"muted_glyph\":null,\"nonselection_glyph\":{\"id\":\"1923\",\"type\":\"Line\"},\"selection_glyph\":null,\"view\":{\"id\":\"1925\",\"type\":\"CDSView\"}},\"id\":\"1924\",\"type\":\"GlyphRenderer\"}],\"root_ids\":[\"1867\"]},\"title\":\"Bokeh Application\",\"version\":\"1.4.0\"}};\n",
       "  var render_items = [{\"docid\":\"206f9b93-b0ad-49e7-8516-28a3c2d13769\",\"roots\":{\"1867\":\"817b475b-f17b-40d5-83a6-774623edd370\"}}];\n",
       "  root.Bokeh.embed.embed_items_notebook(docs_json, render_items);\n",
       "\n",
       "  }\n",
       "  if (root.Bokeh !== undefined) {\n",
       "    embed_document(root);\n",
       "  } else {\n",
       "    var attempts = 0;\n",
       "    var timer = setInterval(function(root) {\n",
       "      if (root.Bokeh !== undefined) {\n",
       "        clearInterval(timer);\n",
       "        embed_document(root);\n",
       "      } else {\n",
       "        attempts++;\n",
       "        if (attempts > 100) {\n",
       "          clearInterval(timer);\n",
       "          console.log(\"Bokeh: ERROR: Unable to run BokehJS code because BokehJS library is missing\");\n",
       "        }\n",
       "      }\n",
       "    }, 10, root)\n",
       "  }\n",
       "})(window);"
      ],
      "application/vnd.bokehjs_exec.v0+json": ""
     },
     "metadata": {
      "application/vnd.bokehjs_exec.v0+json": {
       "id": "1867"
      }
     },
     "output_type": "display_data"
    }
   ],
   "source": [
    "p = bkp.figure(title='Predictions -- Huber-loss -- Data With Outliers', y_range=[-1, 11], width=600, height=400)\n",
    "p.circle(xtrain, ytrain + outlier_noise, radius=0.01)\n",
    "xtmp = np.linspace(0, 1)\n",
    "ytrue = polynomial_function(wt_true, xtmp)\n",
    "ymse = polynomial_function(weights_mse_ol, xtmp)\n",
    "yhuber = polynomial_function(weights_huber_ol, xtmp)\n",
    "p.line(xtmp, ytrue, color='gray', line_width=3, line_dash='dashed', legend_label='true weight')\n",
    "p.line(xtmp, ymse, color='blue', line_width=3, legend_label='MSE')\n",
    "p.line(xtmp, yhuber, color='darkorange', line_width=3, legend_label='Huber')\n",
    "p.legend.location = 'bottom_right'\n",
    "bkp.show(p)"
   ]
  },
  {
   "cell_type": "markdown",
   "metadata": {},
   "source": [
    "Observe that the Huber-loss model line is closer to the true line than the MSE-loss model line."
   ]
  },
  {
   "cell_type": "markdown",
   "metadata": {},
   "source": [
    "### Training Loss\n",
    "For completeness, we plot the training loss against the training iterations for both MSE and Huber losses.  The training loss decreases with the number of steps as expected.  We can also observe that the training loss for the MSE-loss model is higher than that of the Huber-loss model."
   ]
  },
  {
   "cell_type": "code",
   "execution_count": 25,
   "metadata": {},
   "outputs": [
    {
     "data": {
      "text/html": [
       "\n",
       "\n",
       "\n",
       "\n",
       "\n",
       "\n",
       "  <div class=\"bk-root\" id=\"1414fbad-b461-4b40-bc29-40fbb79abe91\" data-root-id=\"2113\"></div>\n"
      ]
     },
     "metadata": {},
     "output_type": "display_data"
    },
    {
     "data": {
      "application/javascript": [
       "(function(root) {\n",
       "  function embed_document(root) {\n",
       "    \n",
       "  var docs_json = {\"a57e4a4d-0930-4640-8375-a4a54aeaeaa9\":{\"roots\":{\"references\":[{\"attributes\":{\"below\":[{\"id\":\"2124\",\"type\":\"LinearAxis\"}],\"center\":[{\"id\":\"2128\",\"type\":\"Grid\"},{\"id\":\"2133\",\"type\":\"Grid\"},{\"id\":\"2158\",\"type\":\"Legend\"}],\"left\":[{\"id\":\"2129\",\"type\":\"LinearAxis\"}],\"plot_height\":400,\"renderers\":[{\"id\":\"2150\",\"type\":\"GlyphRenderer\"},{\"id\":\"2163\",\"type\":\"GlyphRenderer\"}],\"title\":{\"id\":\"2114\",\"type\":\"Title\"},\"toolbar\":{\"id\":\"2140\",\"type\":\"Toolbar\"},\"x_range\":{\"id\":\"2116\",\"type\":\"DataRange1d\"},\"x_scale\":{\"id\":\"2120\",\"type\":\"LinearScale\"},\"y_range\":{\"id\":\"2118\",\"type\":\"DataRange1d\"},\"y_scale\":{\"id\":\"2122\",\"type\":\"LinearScale\"}},\"id\":\"2113\",\"subtype\":\"Figure\",\"type\":\"Plot\"},{\"attributes\":{},\"id\":\"2122\",\"type\":\"LinearScale\"},{\"attributes\":{},\"id\":\"2125\",\"type\":\"BasicTicker\"},{\"attributes\":{},\"id\":\"2130\",\"type\":\"BasicTicker\"},{\"attributes\":{\"ticker\":{\"id\":\"2125\",\"type\":\"BasicTicker\"}},\"id\":\"2128\",\"type\":\"Grid\"},{\"attributes\":{\"callback\":null,\"data\":{\"x\":[0,20,40,60,80,100,120,140,160,180,200,220,240,260,280,300,320,340,360,380,400,420,440,460,480,500,520,540,560,580,600,620,640,660,680,700,720,740,760,780,800,820,840,860,880,900,920,940,960,980,1000,1020,1040,1060,1080,1100,1120,1140,1160,1180,1200,1220,1240,1260,1280,1300,1320,1340,1360,1380,1400,1420,1440,1460,1480,1500,1520,1540,1560,1580,1600,1620,1640,1660,1680,1700,1720,1740,1760,1780,1800,1820,1840,1860,1880,1900,1920,1940,1960,1980,2000,2020,2040,2060,2080,2100,2120,2140,2160,2180,2200,2220,2240,2260,2280,2300,2320,2340,2360,2380,2400,2420,2440,2460,2480,2500,2520,2540,2560,2580,2600,2620,2640,2660,2680,2700,2720,2740,2760,2780,2800,2820,2840,2860,2880,2900,2920,2940,2960,2980,3000,3020,3040,3060,3080,3100,3120,3140,3160,3180,3200,3220,3240,3260,3280,3300,3320,3340,3360,3380,3400,3420,3440,3460,3480,3500,3520,3540,3560,3580,3600,3620,3640,3660,3680,3700,3720,3740,3760,3780,3800,3820,3840,3860,3880,3900,3920,3940,3960,3980,4000,4020,4040,4060,4080,4100,4120,4140,4160,4180,4200,4220,4240,4260,4280,4300,4320,4340,4360,4380,4400,4420,4440,4460,4480,4500,4520,4540,4560,4580,4600,4620,4640,4660,4680,4700,4720,4740,4760,4780,4800,4820,4840,4860,4880,4900,4920,4940,4960,4980],\"y\":[5.082074141896499,2.8461127364572163,2.5181660099477092,2.431614794589538,2.3799400128132198,2.3370732106734877,2.2992998997722487,2.2657214535418566,2.2358353969543447,2.2092311729344503,2.185547838726025,2.16446463935113,2.1456961038768334,2.128988110946483,2.114114439498305,2.1008737047469945,2.0890866313673637,2.0785936261475246,2.069252617145729,2.0609371300813852,2.0535345759136314,2.046944726421651,2.0410783571465543,2.0358560393206804,2.0312070644274316,2.0270684868305318,2.0233842715101975,2.0201045353668525,2.0171848718198837,2.014585749556711,2.012271977291435,2.0102122272860496,2.0083786111828794,2.0067463024051055,2.0052932000128503,2.0039996294634963,2.002848076224666,2.001822948633036,2.0009103667881982,2.0000979746232366,1.9993747726075208,1.9987309688165782,1.9981578463525556,1.9976476453202106,1.9971934577604016,1.9967891341185273,1.9964291999815236,1.9961087819560517,1.9958235416843118,1.9955696171040627,1.9953435701575306,1.9951423402412063,1.9949632027662467,1.9948037322684156,1.9946617695680686,1.9945353925355518,1.994422890066181,1.9943227389124263,1.9942335830596303,1.9941542153660021,1.9940835612183008,1.9940206639819174,1.9939646720483437,1.993914827304671,1.9938704548689794,1.99383095395265,1.9937957897258831,1.993764486076272,1.9937366191623924,1.9937118116751231,1.9936897277290049,1.9936700683144555,1.9936525672492766,1.9936369875746318,1.993623118346697,1.9936107717805542,1.993599780707638,1.9935899963123294,1.9935812861170383,1.9935735321885009,1.9935666295409984,1.9935604847148876,1.9935550145111842,1.9935501448650752,1.9935458098431078,1.993541950750467,1.9935385153362708,1.9935354570861064,1.9935327345922442,1.993530310992984,1.9935281534735683,1.9935262328218701,1.99352452303288,1.9935230009566003,1.9935216459846044,1.9935204397710027,1.9935193659840496,1.9935184100850112,1.9935175591313201,1.9935168016013347,1.9935161272383422,1.99351552691168,1.9935149924931193,1.9935145167468027,1.993514093231276,1.9935137162122756,1.9935133805850824,1.993513081805414,1.9935128158278868,1.9935125790512518,1.9935123682696274,1.993512180629099,1.993512013589072,1.9935118648878796,1.9935117325121536,1.9935116146695704,1.9935115097645775,1.9935114163767966,1.9935113332417853,1.9935112592339226,1.9935111933511653,1.9935111347014831,1.9935110824907774,1.993511036012131,1.9935109946362384,1.993510957802884,1.993510925013356,1.993510895823693,1.993510869838678,1.993510846706481,1.9935108261138992,1.993510807782118,1.9935107914629286,1.9935107769353748,1.993510764002759,1.9935107524899767,1.9935107422411493,1.9935107331175097,1.9935107249955288,1.993510717765236,1.9935107113287351,1.9935107055988794,1.9935107004980872,1.9935106959572968,1.993510691915025,1.9935106883165445,1.9935106851131292,1.9935106822614075,1.9935106797227677,1.9935106774628386,1.9935106754510201,1.9935106736600736,1.993510672065749,1.9935106706464605,1.9935106693829916,1.9935106682582366,1.9935106672569642,1.9935106663656184,1.9935106655721309,1.9935106648657581,1.9935106642369367,1.9935106636771505,1.993510663178822,1.9935106627352037,1.993510662340289,1.9935106619887304,1.9935106616757683,1.993510661397166,1.9935106611491509,1.993510660928364,1.9935106607318172,1.9935106605568478,1.993510660401088,1.993510660262429,1.9935106601389931,1.9935106600291086,1.993510659931288,1.9935106598442067,1.9935106597666865,1.9935106596976757,1.9935106596362426,1.9935106595815533,1.9935106595328689,1.9935106594895287,1.9935106594509466,1.9935106594166012,1.9935106593860261,1.993510659358807,1.993510659334577,1.993510659313007,1.9935106592938052,1.9935106592767118,1.9935106592614946,1.9935106592479477,1.9935106592358889,1.9935106592251535,1.993510659215596,1.993510659207089,1.9935106591995155,1.9935106591927734,1.9935106591867715,1.9935106591814282,1.9935106591766723,1.993510659172438,1.9935106591686687,1.9935106591653136,1.9935106591623264,1.993510659159667,1.9935106591573,1.9935106591551925,1.9935106591533172,1.993510659151647,1.99351065915016,1.9935106591488372,1.9935106591476586,1.9935106591466096,1.9935106591456762,1.9935106591448455,1.9935106591441054,1.9935106591434464,1.9935106591428604,1.9935106591423384,1.9935106591418734,1.9935106591414602,1.9935106591410918,1.9935106591407639,1.9935106591404723,1.993510659140212,1.993510659139981,1.993510659139775,1.9935106591395915,1.9935106591394283,1.993510659139283,1.9935106591391538,1.993510659139039,1.9935106591389367,1.9935106591388454,1.9935106591387641,1.9935106591386922,1.993510659138628,1.99351065913857,1.9935106591385188,1.9935106591384735,1.993510659138434,1.993510659138397,1.9935106591383653,1.9935106591383374,1.993510659138311,1.993510659138289,1.9935106591382687]},\"selected\":{\"id\":\"2171\",\"type\":\"Selection\"},\"selection_policy\":{\"id\":\"2172\",\"type\":\"UnionRenderers\"}},\"id\":\"2147\",\"type\":\"ColumnDataSource\"},{\"attributes\":{\"dimension\":1,\"ticker\":{\"id\":\"2130\",\"type\":\"BasicTicker\"}},\"id\":\"2133\",\"type\":\"Grid\"},{\"attributes\":{\"line_alpha\":0.1,\"line_color\":\"#1f77b4\",\"line_width\":2,\"x\":{\"field\":\"x\"},\"y\":{\"field\":\"y\"}},\"id\":\"2149\",\"type\":\"Line\"},{\"attributes\":{\"callback\":null,\"data\":{\"x\":[0,20,40,60,80,100,120,140,160,180,200,220,240,260,280,300,320,340,360,380,400,420,440,460,480,500,520,540,560,580,600,620,640,660,680,700,720,740,760,780,800,820,840,860,880,900,920,940,960,980,1000,1020,1040,1060,1080,1100,1120,1140,1160,1180,1200,1220,1240,1260,1280,1300,1320,1340,1360,1380,1400,1420,1440,1460,1480,1500,1520,1540,1560,1580,1600,1620,1640,1660,1680,1700,1720,1740,1760,1780,1800,1820,1840,1860,1880,1900,1920,1940,1960,1980,2000,2020,2040,2060,2080,2100,2120,2140,2160,2180,2200,2220,2240,2260,2280,2300,2320,2340,2360,2380,2400,2420,2440,2460,2480,2500,2520,2540,2560,2580,2600,2620,2640,2660,2680,2700,2720,2740,2760,2780,2800,2820,2840,2860,2880,2900,2920,2940,2960,2980,3000,3020,3040,3060,3080,3100,3120,3140,3160,3180,3200,3220,3240,3260,3280,3300,3320,3340,3360,3380,3400,3420,3440,3460,3480,3500,3520,3540,3560,3580,3600,3620,3640,3660,3680,3700,3720,3740,3760,3780,3800,3820,3840,3860,3880,3900,3920,3940,3960,3980,4000,4020,4040,4060,4080,4100,4120,4140,4160,4180,4200,4220,4240,4260,4280,4300,4320,4340,4360,4380,4400,4420,4440,4460,4480,4500,4520,4540,4560,4580,4600,4620,4640,4660,4680,4700,4720,4740,4760,4780,4800,4820,4840,4860,4880,4900,4920,4940,4960,4980],\"y\":[6.901537642014959,3.0971095546106944,2.3765080747322105,2.2130802645782985,2.1333856412007997,2.071098527277166,2.0164367340632667,1.967514280818708,1.9235934403263772,1.8841440770283209,1.8487083544502598,1.816877557249738,1.7882849012959,1.762600964127999,1.739529842053937,1.7188057344648808,1.7001898806537799,1.683467808946707,1.6684468657753357,1.6549539961291095,1.642833749802824,1.63194649046797,1.6221667869344443,1.6133819680684636,1.6054908247180002,1.5984024436907358,1.592035160350898,1.5863156177679245,1.5811779215775001,1.5765628808181764,1.572417325997338,1.568693496529991,1.5653484904931207,1.5623437703562797,1.5596447189939737,1.557220240864698,1.5550424037618444,1.553086117009123,1.5513288423930098,1.5497503345019046,1.5483324074804616,1.5470587255118975,1.5459146146144314,1.5448868935835862,1.543963722132654,1.543134464481756,1.542389566823929,1.5417204472565236,1.5411193969098347,1.540579491133868,1.5400945097200338,1.5396588652386554,1.539267538666663,1.538916021563858,1.538600264131555,1.5383166285551937,1.5380618470933893,1.5378329844305605,1.5376274038594069,1.5374427369036285,1.5372768560309125,1.537127850141813,1.536994002552138,1.5368737712151737,1.5367657709559004,1.5366687575125024,1.5365816132013383,1.5365033340402008,1.5364330181815231,1.5363698555222698,1.5363131183708074,1.5362621530632339,1.5362163724325688,1.5361752490440541,1.5361383091186245,1.5361051270745356,1.5360753206242763,1.5360485463702644,1.5360244958485942,1.5360028919752473,1.5359834858538346,1.535966053908078,1.535950395306013,1.5359363296462138,1.5359236948794097,1.5359123454415236,1.5359021505766475,1.535892992830608,1.535884766697791,1.5358773774056187,1.535870739822684,1.5358647774779581,1.535859421679773,1.5358546107244329,1.5358502891853298,1.5358464072743787,1.5358429202684138,1.5358397879939354,1.5358369743642746,1.535834446963844,1.5358321766746776,1.5358301373409657,1.5358283054677193,1.5358266599500816,1.5358251818301838,1.535823854078732,1.5358226613988146,1.5358215900496677,1.5358206276883681,1.5358197632276336,1.5358189867080856,1.535818289183508,1.5358176626177795,1.5358170997922898,1.535816594222774,1.5358161400846082,1.535815732145706,1.535815365706238,1.535815036544485,1.5358147408682032,1.5358144752709313,1.5358142366927463,1.535814022385008,1.5358138298786959,1.535813656955961,1.535813501624575,1.5358133620949777,1.5358132367596617,1.5358131241746489,1.5358130230428566,1.535812932199154,1.5358128505969393,1.5358127772960792,1.5358127114520819,1.5358126523063629,1.535812599177511,1.5358125514534322,1.535812508584301,1.5358124700762272,1.5358124354855613,1.535812404413788,1.5358123765029315,1.535812351431433,1.535812328910447,1.5358123086805104,1.5358122905085556,1.5358122741852245,1.535812259522459,1.53581224635133,1.535812234520093,1.5358122238924425,1.5358122143459385,1.5358122057705956,1.5358121980676178,1.535812191148261,1.535812184932807,1.535812179349648,1.5358121743344613,1.535812169829467,1.5358121657827637,1.5358121621477294,1.5358121588824862,1.535812155949414,1.5358121533147224,1.5358121509480562,1.5358121488221503,1.5358121469125112,1.5358121451971396,1.5358121436562715,1.5358121422721553,1.5358121410288441,1.5358121399120155,1.5358121389088004,1.535812138007642,1.535812137198158,1.5358121364710229,1.5358121358178585,1.5358121352311405,1.5358121347041087,1.5358121342306916,1.5358121338054351,1.53581213342344,1.5358121330803047,1.535812132772077,1.5358121324952043,1.5358121322464984,1.5358121320230935,1.5358121318224145,1.535812131642151,1.5358121314802256,1.535812131334773,1.5358121312041169,1.5358121310867525,1.5358121309813275,1.5358121308866273,1.535812130801561,1.5358121307251487,1.5358121306565096,1.5358121305948527,1.5358121305394687,1.5358121304897185,1.5358121304450296,1.5358121304048866,1.5358121303688277,1.5358121303364372,1.5358121303073413,1.5358121302812056,1.5358121302577281,1.5358121302366392,1.5358121302176961,1.5358121302006797,1.5358121301853949,1.5358121301716645,1.5358121301593306,1.5358121301482521,1.5358121301383,1.535812130129361,1.5358121301213312,1.5358121301141177,1.5358121301076384,1.5358121301018184,1.5358121300965903,1.535812130091894,1.535812130087676,1.5358121300838865,1.5358121300804823,1.535812130077425,1.535812130074678,1.535812130072211,1.535812130069995,1.5358121300680043,1.535812130066216,1.5358121300646097,1.5358121300631669,1.5358121300618708,1.5358121300607066,1.5358121300596606,1.5358121300587213,1.5358121300578778,1.5358121300571195,1.535812130056439,1.5358121300558272,1.5358121300552776,1.5358121300547838,1.535812130054341,1.5358121300539425,1.5358121300535852,1.5358121300532634,1.5358121300529748,1.5358121300527157]},\"selected\":{\"id\":\"2256\",\"type\":\"Selection\"},\"selection_policy\":{\"id\":\"2257\",\"type\":\"UnionRenderers\"}},\"id\":\"2160\",\"type\":\"ColumnDataSource\"},{\"attributes\":{\"label\":{\"value\":\"Huber\"},\"renderers\":[{\"id\":\"2163\",\"type\":\"GlyphRenderer\"}]},\"id\":\"2173\",\"type\":\"LegendItem\"},{\"attributes\":{\"bottom_units\":\"screen\",\"fill_alpha\":{\"value\":0.5},\"fill_color\":{\"value\":\"lightgrey\"},\"left_units\":\"screen\",\"level\":\"overlay\",\"line_alpha\":{\"value\":1.0},\"line_color\":{\"value\":\"black\"},\"line_dash\":[4,4],\"line_width\":{\"value\":2},\"render_mode\":\"css\",\"right_units\":\"screen\",\"top_units\":\"screen\"},\"id\":\"2157\",\"type\":\"BoxAnnotation\"},{\"attributes\":{\"axis_label\":\"Loss\",\"formatter\":{\"id\":\"2154\",\"type\":\"BasicTickFormatter\"},\"ticker\":{\"id\":\"2130\",\"type\":\"BasicTicker\"}},\"id\":\"2129\",\"type\":\"LinearAxis\"},{\"attributes\":{\"axis_label\":\"Training Steps\",\"formatter\":{\"id\":\"2156\",\"type\":\"BasicTickFormatter\"},\"ticker\":{\"id\":\"2125\",\"type\":\"BasicTicker\"}},\"id\":\"2124\",\"type\":\"LinearAxis\"},{\"attributes\":{},\"id\":\"2172\",\"type\":\"UnionRenderers\"},{\"attributes\":{},\"id\":\"2156\",\"type\":\"BasicTickFormatter\"},{\"attributes\":{\"callback\":null},\"id\":\"2118\",\"type\":\"DataRange1d\"},{\"attributes\":{\"overlay\":{\"id\":\"2157\",\"type\":\"BoxAnnotation\"}},\"id\":\"2136\",\"type\":\"BoxZoomTool\"},{\"attributes\":{},\"id\":\"2257\",\"type\":\"UnionRenderers\"},{\"attributes\":{},\"id\":\"2120\",\"type\":\"LinearScale\"},{\"attributes\":{\"line_color\":\"darkorange\",\"line_width\":2,\"x\":{\"field\":\"x\"},\"y\":{\"field\":\"y\"}},\"id\":\"2161\",\"type\":\"Line\"},{\"attributes\":{\"data_source\":{\"id\":\"2160\",\"type\":\"ColumnDataSource\"},\"glyph\":{\"id\":\"2161\",\"type\":\"Line\"},\"hover_glyph\":null,\"muted_glyph\":null,\"nonselection_glyph\":{\"id\":\"2162\",\"type\":\"Line\"},\"selection_glyph\":null,\"view\":{\"id\":\"2164\",\"type\":\"CDSView\"}},\"id\":\"2163\",\"type\":\"GlyphRenderer\"},{\"attributes\":{},\"id\":\"2137\",\"type\":\"SaveTool\"},{\"attributes\":{\"source\":{\"id\":\"2147\",\"type\":\"ColumnDataSource\"}},\"id\":\"2151\",\"type\":\"CDSView\"},{\"attributes\":{},\"id\":\"2256\",\"type\":\"Selection\"},{\"attributes\":{\"active_drag\":\"auto\",\"active_inspect\":\"auto\",\"active_multi\":null,\"active_scroll\":\"auto\",\"active_tap\":\"auto\",\"tools\":[{\"id\":\"2134\",\"type\":\"PanTool\"},{\"id\":\"2135\",\"type\":\"WheelZoomTool\"},{\"id\":\"2136\",\"type\":\"BoxZoomTool\"},{\"id\":\"2137\",\"type\":\"SaveTool\"},{\"id\":\"2138\",\"type\":\"ResetTool\"},{\"id\":\"2139\",\"type\":\"HelpTool\"}]},\"id\":\"2140\",\"type\":\"Toolbar\"},{\"attributes\":{},\"id\":\"2139\",\"type\":\"HelpTool\"},{\"attributes\":{},\"id\":\"2134\",\"type\":\"PanTool\"},{\"attributes\":{},\"id\":\"2171\",\"type\":\"Selection\"},{\"attributes\":{\"line_alpha\":0.1,\"line_color\":\"#1f77b4\",\"line_width\":2,\"x\":{\"field\":\"x\"},\"y\":{\"field\":\"y\"}},\"id\":\"2162\",\"type\":\"Line\"},{\"attributes\":{\"source\":{\"id\":\"2160\",\"type\":\"ColumnDataSource\"}},\"id\":\"2164\",\"type\":\"CDSView\"},{\"attributes\":{},\"id\":\"2138\",\"type\":\"ResetTool\"},{\"attributes\":{\"label\":{\"value\":\"MSE\"},\"renderers\":[{\"id\":\"2150\",\"type\":\"GlyphRenderer\"}]},\"id\":\"2159\",\"type\":\"LegendItem\"},{\"attributes\":{\"data_source\":{\"id\":\"2147\",\"type\":\"ColumnDataSource\"},\"glyph\":{\"id\":\"2148\",\"type\":\"Line\"},\"hover_glyph\":null,\"muted_glyph\":null,\"nonselection_glyph\":{\"id\":\"2149\",\"type\":\"Line\"},\"selection_glyph\":null,\"view\":{\"id\":\"2151\",\"type\":\"CDSView\"}},\"id\":\"2150\",\"type\":\"GlyphRenderer\"},{\"attributes\":{},\"id\":\"2135\",\"type\":\"WheelZoomTool\"},{\"attributes\":{\"line_color\":\"#1f77b4\",\"line_width\":2,\"x\":{\"field\":\"x\"},\"y\":{\"field\":\"y\"}},\"id\":\"2148\",\"type\":\"Line\"},{\"attributes\":{\"callback\":null},\"id\":\"2116\",\"type\":\"DataRange1d\"},{\"attributes\":{},\"id\":\"2154\",\"type\":\"BasicTickFormatter\"},{\"attributes\":{\"text\":\"Training Loss vs Iterations (data with outliers)\"},\"id\":\"2114\",\"type\":\"Title\"},{\"attributes\":{\"items\":[{\"id\":\"2159\",\"type\":\"LegendItem\"},{\"id\":\"2173\",\"type\":\"LegendItem\"}]},\"id\":\"2158\",\"type\":\"Legend\"}],\"root_ids\":[\"2113\"]},\"title\":\"Bokeh Application\",\"version\":\"1.4.0\"}};\n",
       "  var render_items = [{\"docid\":\"a57e4a4d-0930-4640-8375-a4a54aeaeaa9\",\"roots\":{\"2113\":\"1414fbad-b461-4b40-bc29-40fbb79abe91\"}}];\n",
       "  root.Bokeh.embed.embed_items_notebook(docs_json, render_items);\n",
       "\n",
       "  }\n",
       "  if (root.Bokeh !== undefined) {\n",
       "    embed_document(root);\n",
       "  } else {\n",
       "    var attempts = 0;\n",
       "    var timer = setInterval(function(root) {\n",
       "      if (root.Bokeh !== undefined) {\n",
       "        clearInterval(timer);\n",
       "        embed_document(root);\n",
       "      } else {\n",
       "        attempts++;\n",
       "        if (attempts > 100) {\n",
       "          clearInterval(timer);\n",
       "          console.log(\"Bokeh: ERROR: Unable to run BokehJS code because BokehJS library is missing\");\n",
       "        }\n",
       "      }\n",
       "    }, 10, root)\n",
       "  }\n",
       "})(window);"
      ],
      "application/vnd.bokehjs_exec.v0+json": ""
     },
     "metadata": {
      "application/vnd.bokehjs_exec.v0+json": {
       "id": "2113"
      }
     },
     "output_type": "display_data"
    }
   ],
   "source": [
    "p = bkp.figure(title='Training Loss vs Iterations (data with outliers)', width=600, height=400)\n",
    "p.line(np.arange(len(loss_values_mse_ol)) * 20, loss_values_mse_ol, line_width=2, legend_label='MSE')\n",
    "p.line(np.arange(len(loss_values_huber_ol)) * 20, loss_values_huber_ol, line_width=2,\n",
    "       color='darkorange', legend_label='Huber')\n",
    "p.xaxis.axis_label = 'Training Steps'\n",
    "p.yaxis.axis_label = 'Loss'\n",
    "bkp.show(p)"
   ]
  },
  {
   "cell_type": "markdown",
   "metadata": {},
   "source": [
    "## Comparison of Error Characteristics"
   ]
  },
  {
   "cell_type": "markdown",
   "metadata": {},
   "source": [
    "We compare the characteristics of the error for the two models for all the data (including outliers) and for just the unaffected data."
   ]
  },
  {
   "cell_type": "code",
   "execution_count": 26,
   "metadata": {},
   "outputs": [
    {
     "data": {
      "text/html": [
       "<div>\n",
       "<style scoped>\n",
       "    .dataframe tbody tr th:only-of-type {\n",
       "        vertical-align: middle;\n",
       "    }\n",
       "\n",
       "    .dataframe tbody tr th {\n",
       "        vertical-align: top;\n",
       "    }\n",
       "\n",
       "    .dataframe thead tr th {\n",
       "        text-align: left;\n",
       "    }\n",
       "</style>\n",
       "<table border=\"1\" class=\"dataframe\">\n",
       "  <thead>\n",
       "    <tr>\n",
       "      <th></th>\n",
       "      <th colspan=\"2\" halign=\"left\">All Data</th>\n",
       "      <th colspan=\"2\" halign=\"left\">Unaffected Data</th>\n",
       "    </tr>\n",
       "    <tr>\n",
       "      <th></th>\n",
       "      <th>MSE-loss Model</th>\n",
       "      <th>Huber-loss Model</th>\n",
       "      <th>MSE-loss Model</th>\n",
       "      <th>Huber-loss Model</th>\n",
       "    </tr>\n",
       "  </thead>\n",
       "  <tbody>\n",
       "    <tr>\n",
       "      <th>count</th>\n",
       "      <td>7.000000e+01</td>\n",
       "      <td>70.000000</td>\n",
       "      <td>66.000000</td>\n",
       "      <td>6.600000e+01</td>\n",
       "    </tr>\n",
       "    <tr>\n",
       "      <th>mean</th>\n",
       "      <td>5.191414e-08</td>\n",
       "      <td>-0.009046</td>\n",
       "      <td>0.006265</td>\n",
       "      <td>1.993456e-07</td>\n",
       "    </tr>\n",
       "    <tr>\n",
       "      <th>std</th>\n",
       "      <td>1.422112e+00</td>\n",
       "      <td>1.433117</td>\n",
       "      <td>0.500536</td>\n",
       "      <td>3.923744e-01</td>\n",
       "    </tr>\n",
       "    <tr>\n",
       "      <th>min</th>\n",
       "      <td>-5.657756e+00</td>\n",
       "      <td>-5.893139</td>\n",
       "      <td>-1.359935</td>\n",
       "      <td>-1.332695e+00</td>\n",
       "    </tr>\n",
       "    <tr>\n",
       "      <th>25%</th>\n",
       "      <td>-2.994260e-01</td>\n",
       "      <td>-0.216800</td>\n",
       "      <td>-0.280476</td>\n",
       "      <td>-2.026042e-01</td>\n",
       "    </tr>\n",
       "    <tr>\n",
       "      <th>50%</th>\n",
       "      <td>-1.110702e-02</td>\n",
       "      <td>0.004658</td>\n",
       "      <td>-0.011107</td>\n",
       "      <td>4.657694e-03</td>\n",
       "    </tr>\n",
       "    <tr>\n",
       "      <th>75%</th>\n",
       "      <td>3.095180e-01</td>\n",
       "      <td>0.277028</td>\n",
       "      <td>0.306297</td>\n",
       "      <td>2.218965e-01</td>\n",
       "    </tr>\n",
       "    <tr>\n",
       "      <th>max</th>\n",
       "      <td>5.935515e+00</td>\n",
       "      <td>6.005147</td>\n",
       "      <td>1.203468</td>\n",
       "      <td>9.108528e-01</td>\n",
       "    </tr>\n",
       "  </tbody>\n",
       "</table>\n",
       "</div>"
      ],
      "text/plain": [
       "            All Data                  Unaffected Data                 \n",
       "      MSE-loss Model Huber-loss Model  MSE-loss Model Huber-loss Model\n",
       "count   7.000000e+01        70.000000       66.000000     6.600000e+01\n",
       "mean    5.191414e-08        -0.009046        0.006265     1.993456e-07\n",
       "std     1.422112e+00         1.433117        0.500536     3.923744e-01\n",
       "min    -5.657756e+00        -5.893139       -1.359935    -1.332695e+00\n",
       "25%    -2.994260e-01        -0.216800       -0.280476    -2.026042e-01\n",
       "50%    -1.110702e-02         0.004658       -0.011107     4.657694e-03\n",
       "75%     3.095180e-01         0.277028        0.306297     2.218965e-01\n",
       "max     5.935515e+00         6.005147        1.203468     9.108528e-01"
      ]
     },
     "metadata": {},
     "output_type": "display_data"
    }
   ],
   "source": [
    "# Compute error for both models, with and without outliers, and display their statistics\n",
    "y_mse_ol = polynomial_function(weights_mse_ol, xtrain)\n",
    "err_mse_ol = (y_mse_ol - ytrain - outlier_noise)\n",
    "#\n",
    "y_huber_ol = polynomial_function(weights_huber_ol, xtrain)\n",
    "err_huber_ol = (y_huber_ol - ytrain - outlier_noise)\n",
    "#\n",
    "tmp = pd.DataFrame({\n",
    "    ('All Data', 'MSE-loss Model'): err_mse_ol,\n",
    "    ('All Data', 'Huber-loss Model'): err_huber_ol,\n",
    "    ('Unaffected Data', 'MSE-loss Model'): np.concatenate((err_mse_ol[outlier_noise == 0], np.nan * np.ones(4))),\n",
    "    ('Unaffected Data', 'Huber-loss Model'): np.concatenate((err_huber_ol[outlier_noise == 0], np.nan * np.ones(4))),\n",
    "}).describe()\n",
    "display(tmp)"
   ]
  },
  {
   "cell_type": "markdown",
   "metadata": {},
   "source": [
    "**Observations**\n",
    " * \"All Data\" refers to all the data including outliers, and \"Unaffected Data\" refers to\n",
    "   data excluding the outliers.\n",
    " * *Mean*: Notice that the mean error is close to zero for both models, with and without outliers.\n",
    "   This is probably because we have two outliers on either side of the unaffected data.\n",
    " * *Standard deviation--All Data*: The standard deviation for all the data is slightly higher for the Huber-loss\n",
    "   model than for the MSE-loss model.  By this measure it would seem that both the models are similar,\n",
    "   with the MSE-model being slightly better.\n",
    " * *Standard deviation--Unaffected Data*: But, when we look at the standard deviation for the\n",
    "   unaffected data, then the Huber-loss model really shines.  It's error `std` is 0.037 compared to 0.5\n",
    "   for the MSE-loss and is an order of magnitude better.\n",
    " * *Min-Max All Data*: Again, the minimum and maximum error values are slightly worse for the\n",
    "   Huber-loss model--implying that it underperforms for the outliers themselves.  This makes sense\n",
    "   given the position of the outliers in our data.  The outliers cause the Huber-loss line to be closer\n",
    "   to the actual line which causes the errors at the outliers to be larger.\n",
    " * *Min-Max Unaffected Data*: For the unaffected data, the roles are reversed--the Huber-loss model\n",
    "   slightly outperforms the MSE-loss model.  For example, the maximum error is 0.82 compared to 1.2.\n",
    "   Again, for our data, this makes sense since the Huber-loss line is closer to the actual line.\n",
    "\n",
    "Plots of the errors for the two models are shown below.  Also, the outliers are shown in\n",
    "a different color than the unaffected data."
   ]
  },
  {
   "cell_type": "code",
   "execution_count": 27,
   "metadata": {},
   "outputs": [
    {
     "data": {
      "text/html": [
       "\n",
       "\n",
       "\n",
       "\n",
       "\n",
       "\n",
       "  <div class=\"bk-root\" id=\"74ac1640-5f8c-4f99-beb0-187a9981177d\" data-root-id=\"2318\"></div>\n"
      ]
     },
     "metadata": {},
     "output_type": "display_data"
    },
    {
     "data": {
      "application/javascript": [
       "(function(root) {\n",
       "  function embed_document(root) {\n",
       "    \n",
       "  var docs_json = {\"ca35836e-889a-4f02-a506-8ec5a6c85ac7\":{\"roots\":{\"references\":[{\"attributes\":{\"below\":[{\"id\":\"2329\",\"type\":\"LinearAxis\"}],\"center\":[{\"id\":\"2333\",\"type\":\"Grid\"},{\"id\":\"2338\",\"type\":\"Grid\"},{\"id\":\"2363\",\"type\":\"Legend\"},{\"id\":\"2379\",\"type\":\"Label\"},{\"id\":\"2412\",\"type\":\"Label\"}],\"left\":[{\"id\":\"2334\",\"type\":\"LinearAxis\"}],\"plot_height\":400,\"renderers\":[{\"id\":\"2355\",\"type\":\"GlyphRenderer\"},{\"id\":\"2368\",\"type\":\"GlyphRenderer\"},{\"id\":\"2383\",\"type\":\"GlyphRenderer\"},{\"id\":\"2398\",\"type\":\"GlyphRenderer\"}],\"title\":{\"id\":\"2319\",\"type\":\"Title\"},\"toolbar\":{\"id\":\"2345\",\"type\":\"Toolbar\"},\"x_range\":{\"id\":\"2321\",\"type\":\"Range1d\"},\"x_scale\":{\"id\":\"2325\",\"type\":\"LinearScale\"},\"y_range\":{\"id\":\"2323\",\"type\":\"Range1d\"},\"y_scale\":{\"id\":\"2327\",\"type\":\"LinearScale\"}},\"id\":\"2318\",\"subtype\":\"Figure\",\"type\":\"Plot\"},{\"attributes\":{\"fill_color\":{\"value\":\"blue\"},\"line_color\":{\"value\":\"#1f77b4\"},\"x\":{\"field\":\"x\"},\"y\":{\"value\":0.6}},\"id\":\"2353\",\"type\":\"Circle\"},{\"attributes\":{\"fill_alpha\":{\"value\":0.1},\"fill_color\":{\"value\":\"#1f77b4\"},\"line_alpha\":{\"value\":0.1},\"line_color\":{\"value\":\"#1f77b4\"},\"radius\":{\"units\":\"data\",\"value\":0.1},\"x\":{\"field\":\"x\"},\"y\":{\"field\":\"y\"}},\"id\":\"2397\",\"type\":\"Circle\"},{\"attributes\":{\"active_drag\":\"auto\",\"active_inspect\":\"auto\",\"active_multi\":null,\"active_scroll\":\"auto\",\"active_tap\":\"auto\",\"tools\":[{\"id\":\"2339\",\"type\":\"PanTool\"},{\"id\":\"2340\",\"type\":\"WheelZoomTool\"},{\"id\":\"2341\",\"type\":\"BoxZoomTool\"},{\"id\":\"2342\",\"type\":\"SaveTool\"},{\"id\":\"2343\",\"type\":\"ResetTool\"},{\"id\":\"2344\",\"type\":\"HelpTool\"}]},\"id\":\"2345\",\"type\":\"Toolbar\"},{\"attributes\":{\"formatter\":{\"id\":\"2361\",\"type\":\"BasicTickFormatter\"},\"ticker\":{\"id\":\"2330\",\"type\":\"BasicTicker\"}},\"id\":\"2329\",\"type\":\"LinearAxis\"},{\"attributes\":{\"source\":{\"id\":\"2365\",\"type\":\"ColumnDataSource\"}},\"id\":\"2369\",\"type\":\"CDSView\"},{\"attributes\":{},\"id\":\"2339\",\"type\":\"PanTool\"},{\"attributes\":{\"data_source\":{\"id\":\"2352\",\"type\":\"ColumnDataSource\"},\"glyph\":{\"id\":\"2353\",\"type\":\"Circle\"},\"hover_glyph\":null,\"muted_glyph\":null,\"nonselection_glyph\":{\"id\":\"2354\",\"type\":\"Circle\"},\"selection_glyph\":null,\"view\":{\"id\":\"2356\",\"type\":\"CDSView\"}},\"id\":\"2355\",\"type\":\"GlyphRenderer\"},{\"attributes\":{\"data_source\":{\"id\":\"2395\",\"type\":\"ColumnDataSource\"},\"glyph\":{\"id\":\"2396\",\"type\":\"Circle\"},\"hover_glyph\":null,\"muted_glyph\":null,\"nonselection_glyph\":{\"id\":\"2397\",\"type\":\"Circle\"},\"selection_glyph\":null,\"view\":{\"id\":\"2399\",\"type\":\"CDSView\"}},\"id\":\"2398\",\"type\":\"GlyphRenderer\"},{\"attributes\":{\"fill_alpha\":{\"value\":0.1},\"fill_color\":{\"value\":\"#1f77b4\"},\"line_alpha\":{\"value\":0.1},\"line_color\":{\"value\":\"#1f77b4\"},\"x\":{\"field\":\"x\"},\"y\":{\"value\":0.6}},\"id\":\"2354\",\"type\":\"Circle\"},{\"attributes\":{\"text\":\"Predictions -- Data Without Outliers\"},\"id\":\"2319\",\"type\":\"Title\"},{\"attributes\":{},\"id\":\"2340\",\"type\":\"WheelZoomTool\"},{\"attributes\":{\"callback\":null,\"data\":{\"x\":{\"__ndarray__\":\"TBdmM0UFGEDWna5MIIkUQASz/kZChBfA+8WZ9ZKSF8A=\",\"dtype\":\"float64\",\"shape\":[4]},\"y\":{\"__ndarray__\":\"tlnbGKRu0z9QxjbH5LrSP4SGERHPWdI/bwssJeH10j8=\",\"dtype\":\"float64\",\"shape\":[4]}},\"selected\":{\"id\":\"2509\",\"type\":\"Selection\"},\"selection_policy\":{\"id\":\"2510\",\"type\":\"UnionRenderers\"}},\"id\":\"2395\",\"type\":\"ColumnDataSource\"},{\"attributes\":{\"source\":{\"id\":\"2395\",\"type\":\"ColumnDataSource\"}},\"id\":\"2399\",\"type\":\"CDSView\"},{\"attributes\":{\"callback\":null,\"end\":7,\"start\":-7},\"id\":\"2321\",\"type\":\"Range1d\"},{\"attributes\":{},\"id\":\"2359\",\"type\":\"BasicTickFormatter\"},{\"attributes\":{\"overlay\":{\"id\":\"2362\",\"type\":\"BoxAnnotation\"}},\"id\":\"2341\",\"type\":\"BoxZoomTool\"},{\"attributes\":{\"label\":{\"value\":\"outlier\"},\"renderers\":[{\"id\":\"2368\",\"type\":\"GlyphRenderer\"},{\"id\":\"2398\",\"type\":\"GlyphRenderer\"}]},\"id\":\"2378\",\"type\":\"LegendItem\"},{\"attributes\":{},\"id\":\"2411\",\"type\":\"UnionRenderers\"},{\"attributes\":{\"ticker\":{\"id\":\"2330\",\"type\":\"BasicTicker\"}},\"id\":\"2333\",\"type\":\"Grid\"},{\"attributes\":{},\"id\":\"2342\",\"type\":\"SaveTool\"},{\"attributes\":{\"callback\":null,\"data\":{\"x\":{\"__ndarray__\":\"N2wZxPe9F0DP4bJ+3b0TQD6K2WS1gRbAMmSayYqhFsA=\",\"dtype\":\"float64\",\"shape\":[4]},\"y\":{\"__ndarray__\":\"GlOp6zTz4j/HHDxd26HiP70XYenLAeM/gdIocMVX4z8=\",\"dtype\":\"float64\",\"shape\":[4]}},\"selected\":{\"id\":\"2393\",\"type\":\"Selection\"},\"selection_policy\":{\"id\":\"2394\",\"type\":\"UnionRenderers\"}},\"id\":\"2365\",\"type\":\"ColumnDataSource\"},{\"attributes\":{\"fill_color\":{\"value\":\"darkorange\"},\"line_color\":{\"value\":\"darkorange\"},\"radius\":{\"units\":\"data\",\"value\":0.1},\"x\":{\"field\":\"x\"},\"y\":{\"field\":\"y\"}},\"id\":\"2396\",\"type\":\"Circle\"},{\"attributes\":{},\"id\":\"2325\",\"type\":\"LinearScale\"},{\"attributes\":{},\"id\":\"2377\",\"type\":\"UnionRenderers\"},{\"attributes\":{},\"id\":\"2343\",\"type\":\"ResetTool\"},{\"attributes\":{\"source\":{\"id\":\"2352\",\"type\":\"ColumnDataSource\"}},\"id\":\"2356\",\"type\":\"CDSView\"},{\"attributes\":{\"data_source\":{\"id\":\"2365\",\"type\":\"ColumnDataSource\"},\"glyph\":{\"id\":\"2366\",\"type\":\"Circle\"},\"hover_glyph\":null,\"muted_glyph\":null,\"nonselection_glyph\":{\"id\":\"2367\",\"type\":\"Circle\"},\"selection_glyph\":null,\"view\":{\"id\":\"2369\",\"type\":\"CDSView\"}},\"id\":\"2368\",\"type\":\"GlyphRenderer\"},{\"attributes\":{\"callback\":null},\"id\":\"2323\",\"type\":\"Range1d\"},{\"attributes\":{},\"id\":\"2344\",\"type\":\"HelpTool\"},{\"attributes\":{},\"id\":\"2330\",\"type\":\"BasicTicker\"},{\"attributes\":{},\"id\":\"2327\",\"type\":\"LinearScale\"},{\"attributes\":{},\"id\":\"2361\",\"type\":\"BasicTickFormatter\"},{\"attributes\":{\"bottom_units\":\"screen\",\"fill_alpha\":{\"value\":0.5},\"fill_color\":{\"value\":\"lightgrey\"},\"left_units\":\"screen\",\"level\":\"overlay\",\"line_alpha\":{\"value\":1.0},\"line_color\":{\"value\":\"black\"},\"line_dash\":[4,4],\"line_width\":{\"value\":2},\"render_mode\":\"css\",\"right_units\":\"screen\",\"top_units\":\"screen\"},\"id\":\"2362\",\"type\":\"BoxAnnotation\"},{\"attributes\":{},\"id\":\"2410\",\"type\":\"Selection\"},{\"attributes\":{},\"id\":\"2376\",\"type\":\"Selection\"},{\"attributes\":{},\"id\":\"2510\",\"type\":\"UnionRenderers\"},{\"attributes\":{\"data_source\":{\"id\":\"2380\",\"type\":\"ColumnDataSource\"},\"glyph\":{\"id\":\"2381\",\"type\":\"Circle\"},\"hover_glyph\":null,\"muted_glyph\":null,\"nonselection_glyph\":{\"id\":\"2382\",\"type\":\"Circle\"},\"selection_glyph\":null,\"view\":{\"id\":\"2384\",\"type\":\"CDSView\"}},\"id\":\"2383\",\"type\":\"GlyphRenderer\"},{\"attributes\":{\"text\":\"MSE-Loss Model\",\"text_align\":\"center\",\"text_baseline\":\"top\",\"x\":0,\"y\":0.7},\"id\":\"2379\",\"type\":\"Label\"},{\"attributes\":{},\"id\":\"2335\",\"type\":\"BasicTicker\"},{\"attributes\":{\"dimension\":1,\"ticker\":{\"id\":\"2335\",\"type\":\"BasicTicker\"}},\"id\":\"2338\",\"type\":\"Grid\"},{\"attributes\":{\"fill_color\":{\"value\":\"blue\"},\"line_color\":{\"value\":\"#1f77b4\"},\"x\":{\"field\":\"x\"},\"y\":{\"value\":0.3}},\"id\":\"2381\",\"type\":\"Circle\"},{\"attributes\":{\"source\":{\"id\":\"2380\",\"type\":\"ColumnDataSource\"}},\"id\":\"2384\",\"type\":\"CDSView\"},{\"attributes\":{\"callback\":null,\"data\":{\"x\":{\"__ndarray__\":\"AFO11+iF0L8g9rVFk7DMP6B7JIw3NOI/AFyNL8dwcb8AJuXDweLKP3ANKhsq99e/cAWU667b0j+gFQAWqIjKvwBaf4YCmdW/AB6VVhJzmD+Ak8FcrRWuP0AfcC5/Hro/gALGRGG4ub9cbRDvPtviPxBvfjyH8dc/AClAGONzwr+4OpbbrEbnPxxkHsu0Je0/nPgsk1tw4T+AARXFpxTGv+AnxijjgMW/AEK5QKxl5z+AKFC87R3Pv2BGSs277N0/AHKWNG/0k78AIafasorLP8DfBAn6ObU/QI+Seahnwb9A/N/Hl0jCP4D9rLAXBqU/QLCB3fWQuz9gCbH69xDUv2Bi/B4Z1tU/QGHK3ksNur+A28fEH327vwA7ASMMHqS/oI7duYQYxT9QTAjwMuHQv6iKjJDdTtQ/QBrVMv/UyT8A9dUdjt3Vv3DoG2sDCO2/IOGhY+knzL/Q0HdUnzTVv2D5KarTiNQ/YLyEfTV1w78gFewVtYzNv+DBvNr3wdM/EFwPTZuW57+AVq46vxzAv+AhxC4fisY/AArQ6FXMiz8gATQIwyHIv4BxohDaFrg/kLZJrfBD0z+AJlGmM/O9P8B8jy27wsI/CJl+2+s77L+YA1qP64PaPwCR8iERpbS/HPfQW7hS9b+gLZ1qxxrYvxBstEKkZtc/ADRU71mRs7+4R7Q/x03iv8Cev7OltMO/\",\"dtype\":\"float64\",\"shape\":[66]}},\"selected\":{\"id\":\"2410\",\"type\":\"Selection\"},\"selection_policy\":{\"id\":\"2411\",\"type\":\"UnionRenderers\"}},\"id\":\"2380\",\"type\":\"ColumnDataSource\"},{\"attributes\":{\"formatter\":{\"id\":\"2359\",\"type\":\"BasicTickFormatter\"},\"ticker\":{\"id\":\"2335\",\"type\":\"BasicTicker\"}},\"id\":\"2334\",\"type\":\"LinearAxis\"},{\"attributes\":{},\"id\":\"2509\",\"type\":\"Selection\"},{\"attributes\":{\"label\":{\"value\":\"unaffected data\"},\"renderers\":[{\"id\":\"2355\",\"type\":\"GlyphRenderer\"},{\"id\":\"2383\",\"type\":\"GlyphRenderer\"}]},\"id\":\"2364\",\"type\":\"LegendItem\"},{\"attributes\":{},\"id\":\"2393\",\"type\":\"Selection\"},{\"attributes\":{\"callback\":null,\"data\":{\"x\":{\"__ndarray__\":\"oCbX5CXj4L8APIasTAW2P3BEr0s68+c/QN5FzaMsvb+AXuVP+Tm6P3Ca/HexSuK/4BkDNiBv3D/gu4VU9/vYv4Arfit9yce/gIIkQ4s+vD+AC3PAsanBv0ARGF4LXLs/ALCBkj0Kcz8o+kl23G3rPxi6QMdO6uE/QEcn5qCLsr8QFJeBqQbuP/zAxDdnQfM/MLfTCbb76T+gnYqEh4TYvyBr8n9wB9W/wEuplsZV6D+AnzY8O6fgv4Dz2kWm2tI/AGZHg+O6xL8AG8y5oBneP8AzmH0rCcc/ELmoF6TS1b8A3kj51oGbv0DAb2OKlsY/QMa8JaJdu7/gHq5Tp33Rv/gfIvpFTOI/8A2TOjaE079gUoxbUWTMv9AjDbqwANA/8PZl0rgL0D8A0ts1Jk7dv6gz8YnV0eI/MK7U6Oxn0z/wn5E5P0LgvxCSoV7qZ++/YNwhCBS4yL8oKDSrUwbgv2DeacEvq9M/gE+/VS1bpj+ge98lSYjJvxC4IiJCm9w/CBEsU6oT77+A7As1ixrSvwC+bfEjsoY/wF1MryDb0z+gPsZi9hLQv8BNdokCgb6/0HZUPUcu3T+gMJTUCFnSPzDNBUTUktA/MKj3PPi98L/UQJJrIznkP4DTuzi4cLW/sC8NjEvC9b8Aymu/icHFv+hANRpHLeA/wMlqRxTUvT+otnuplEjov+A/OvP5M82/\",\"dtype\":\"float64\",\"shape\":[66]}},\"selected\":{\"id\":\"2376\",\"type\":\"Selection\"},\"selection_policy\":{\"id\":\"2377\",\"type\":\"UnionRenderers\"}},\"id\":\"2352\",\"type\":\"ColumnDataSource\"},{\"attributes\":{\"fill_alpha\":{\"value\":0.1},\"fill_color\":{\"value\":\"#1f77b4\"},\"line_alpha\":{\"value\":0.1},\"line_color\":{\"value\":\"#1f77b4\"},\"x\":{\"field\":\"x\"},\"y\":{\"value\":0.3}},\"id\":\"2382\",\"type\":\"Circle\"},{\"attributes\":{\"fill_alpha\":{\"value\":0.1},\"fill_color\":{\"value\":\"#1f77b4\"},\"line_alpha\":{\"value\":0.1},\"line_color\":{\"value\":\"#1f77b4\"},\"radius\":{\"units\":\"data\",\"value\":0.1},\"x\":{\"field\":\"x\"},\"y\":{\"field\":\"y\"}},\"id\":\"2367\",\"type\":\"Circle\"},{\"attributes\":{\"fill_color\":{\"value\":\"darkorange\"},\"line_color\":{\"value\":\"darkorange\"},\"radius\":{\"units\":\"data\",\"value\":0.1},\"x\":{\"field\":\"x\"},\"y\":{\"field\":\"y\"}},\"id\":\"2366\",\"type\":\"Circle\"},{\"attributes\":{},\"id\":\"2394\",\"type\":\"UnionRenderers\"},{\"attributes\":{\"text\":\"Huber-Loss Model\",\"text_align\":\"center\",\"x\":0,\"y\":0.2},\"id\":\"2412\",\"type\":\"Label\"},{\"attributes\":{\"items\":[{\"id\":\"2364\",\"type\":\"LegendItem\"},{\"id\":\"2378\",\"type\":\"LegendItem\"}]},\"id\":\"2363\",\"type\":\"Legend\"}],\"root_ids\":[\"2318\"]},\"title\":\"Bokeh Application\",\"version\":\"1.4.0\"}};\n",
       "  var render_items = [{\"docid\":\"ca35836e-889a-4f02-a506-8ec5a6c85ac7\",\"roots\":{\"2318\":\"74ac1640-5f8c-4f99-beb0-187a9981177d\"}}];\n",
       "  root.Bokeh.embed.embed_items_notebook(docs_json, render_items);\n",
       "\n",
       "  }\n",
       "  if (root.Bokeh !== undefined) {\n",
       "    embed_document(root);\n",
       "  } else {\n",
       "    var attempts = 0;\n",
       "    var timer = setInterval(function(root) {\n",
       "      if (root.Bokeh !== undefined) {\n",
       "        clearInterval(timer);\n",
       "        embed_document(root);\n",
       "      } else {\n",
       "        attempts++;\n",
       "        if (attempts > 100) {\n",
       "          clearInterval(timer);\n",
       "          console.log(\"Bokeh: ERROR: Unable to run BokehJS code because BokehJS library is missing\");\n",
       "        }\n",
       "      }\n",
       "    }, 10, root)\n",
       "  }\n",
       "})(window);"
      ],
      "application/vnd.bokehjs_exec.v0+json": ""
     },
     "metadata": {
      "application/vnd.bokehjs_exec.v0+json": {
       "id": "2318"
      }
     },
     "output_type": "display_data"
    }
   ],
   "source": [
    "# Plot the errors\n",
    "p = bkp.figure(title='Predictions -- Data Without Outliers', x_range=[-7, 7], y_range=[0, 1], width=600, height=400)\n",
    "p.circle(err_mse_ol[outlier_noise == 0], 0.6, fill_color='blue', legend_label='unaffected data')\n",
    "p.circle(err_mse_ol[outlier_noise != 0], 0.6 + 0.01 * np.random.randn(4), color='darkorange',\n",
    "         radius=0.1, legend_label='outlier')\n",
    "p.add_layout(bokeh.models.Label(x=0, y=0.7, text='MSE-Loss Model', text_align='center', text_baseline='top'))\n",
    "p.circle(err_huber_ol[outlier_noise == 0], 0.3, fill_color='blue', legend_label='unaffected data')\n",
    "p.circle(err_huber_ol[outlier_noise != 0], 0.3 + 0.01 * np.random.randn(4), color='darkorange',\n",
    "         radius=0.1, legend_label='outlier')\n",
    "p.add_layout(bokeh.models.Label(x=0, y=0.2, text='Huber-Loss Model', text_align='center'))\n",
    "bkp.show(p)"
   ]
  },
  {
   "cell_type": "markdown",
   "metadata": {},
   "source": [
    "## Comparison of MSE Loss\n",
    "The MSE loss using the weights of the following models is shown in the table below:\n",
    " 1. Model using MSE loss, and\n",
    " 2. Model using Huber loss\n",
    "\n",
    "| Model            | Loss (unaffected data) | Loss (all data) | Loss (no outliers) |\n",
    "|------------------|-----------------------:|----------------:|-------------------:|\n",
    "| MSE-loss Model   |                 0.2468 |          1.9935 |             0.1170 |\n",
    "| Huber-loss Model |                 0.1516 |          2.0246 |             0.1171 |\n",
    "\n",
    "Legend:\n",
    " * **Loss (unaffected data)**: The fitted data contains outliers, but the outliers\n",
    "   were left out when computing the MSE loss.\n",
    " * **Loss (all data)**: The fitted data contains outliers, and the MSE loss was\n",
    "   computed on all the data including the outliers.\n",
    " * **Loss (no outliers)**: The fitted data does not contain outliers i.e. the\n",
    "   outlier noise was not added to the data.  The MSE loss is for all of the data.\n",
    "\n",
    "Observations:\n",
    " * When there are no outliers, there is practically no difference between the two models.\n",
    " * When the model is fit on data with outliers, and when the MSE loss is computed on the\n",
    "   entire dataset, the MSE-loss model slightly outperforms the Huber-loss model.\n",
    " * When the model is fit on data with outliers, but the MSE loss is computed on the data\n",
    "   excluding the outliers, then the Huber-loss model significantly outperforms the\n",
    "   MSE-loss model.\n",
    " * Since the comparison is done using MSE-loss it is but natural that the MSE-loss model\n",
    "   outperforms the Huber-loss model when all of the data is considered."
   ]
  },
  {
   "cell_type": "markdown",
   "metadata": {},
   "source": [
    "# Appendix A -- Huber Loss Derivation"
   ]
  },
  {
   "cell_type": "markdown",
   "metadata": {},
   "source": [
    "Define the error, $e_i$, as\n",
    "$$\n",
    "e_i = \\hat{y}_i - y_i\n",
    "$$\n",
    "\n",
    "The total L2 loss for all the $M$ datapoints is\n",
    "$$\n",
    "L_2 = \\frac{1}{M} \\sum_{i=1}^{M} e_i^2\n",
    "$$\n",
    "\n",
    "The quadratic L2 loss for each data point is\n",
    "$$\n",
    "L_2^{(i)} = e_i^2\n",
    "$$\n",
    "\n",
    "For the Huber loss function, we wish to convert from a quadratic to a linear function.\n",
    "Hence, we define the L1 loss as\n",
    "$$\n",
    "L_1^{(i)} = c_1 + c_2 |e_i|\n",
    "$$\n",
    "for some constants $c_1$ and $c_2$.\n",
    "\n",
    "For clarity we temporarily drop the $i$ subscript.  And we require that the Huber loss function\n",
    "be continuous at the change point $\\gamma > 0$ and also that the first derivative be continuous.\n",
    "$$\n",
    "\\begin{align}\n",
    "L_2 & = L_1 \\\\\n",
    "\\frac{\\partial L_2}{\\partial e} & = \\frac{\\partial L_1}{\\partial e}\n",
    "\\end{align}\n",
    "$$\n",
    "\n",
    "Substituting for $L_1$ and $L_2$ at $e=\\gamma$, we get\n",
    "$$\n",
    "\\begin{align}\n",
    "\\gamma^2 & = c_1 + c_2 \\gamma \\\\\n",
    "2 \\gamma & = c_2\n",
    "\\end{align}\n",
    "$$\n",
    "\n",
    "Which yields, $c_2 = 2 \\gamma$ and $c_1 = -\\gamma^2$.\n",
    "\n",
    "Hence, the linear part of the Huber loss is\n",
    "$$\n",
    "\\begin{align}\n",
    "L_1^{(i)} & = c_1 + c_2 |e_i| \\\\\n",
    "  & = -\\gamma^2 + 2 \\gamma |e_i| \\\\\n",
    "  & = \\gamma (2|e_i| - \\gamma)\n",
    "\\end{align}\n",
    "$$\n",
    "\n",
    "And the point-wise Huber loss function is then\n",
    "$$\n",
    "L_\\gamma (e_i) = \n",
    "\\begin{cases}\n",
    " e_i^2                   & \\text{for } |e_i| \\le \\gamma, \\quad \\gamma > 0\\\\\n",
    " \\gamma (2 |e_i| - \\gamma), & \\text{otherwise.}\n",
    "\\end{cases}\n",
    "$$\n"
   ]
  },
  {
   "cell_type": "markdown",
   "metadata": {},
   "source": [
    "# Appendix B -- Gradient for Huber Loss"
   ]
  },
  {
   "cell_type": "markdown",
   "metadata": {},
   "source": [
    "Define the point-wise error, $e_i$, as $e_i = \\hat{y_i} - y_i$.\n",
    "\n",
    "Where, for an $N$-degree polynomial model, the prediction, $\\hat{y_i}$ for input $x_i$, is given by\n",
    "$$\n",
    "\\hat{y_i} = w_0 + w_1 x + w_2 x^2 + ... + w_N x^N = \\sum_{d=0}^{N} w_i x^i\n",
    "$$\n",
    "\n",
    "The point-wise Huber loss is defined as\n",
    "$$\n",
    "L_i = L_\\gamma (e_i) = \n",
    "\\begin{cases}\n",
    " e_i^2                   & \\text{for } |e_i| \\le \\gamma, \\quad \\gamma > 0\\\\\n",
    " \\gamma (2 |e_i| - \\gamma), & \\text{otherwise.}\n",
    "\\end{cases}\n",
    "$$\n",
    "\n",
    "To derive the gradient, we apply the following chain rule\n",
    "$$\n",
    "\\frac{\\partial L_i}{\\partial w_d} = \\frac{\\partial L_i}{\\partial e_i} \\frac{\\partial e_i}{\\partial w_d}\n",
    "$$\n",
    "\n",
    "And,\n",
    "$$\n",
    "\\frac{\\partial e_i}{\\partial w_d} = x^i\n",
    "$$\n",
    "\n",
    "Let's derive the gradients for the linear and quadratic terms separately.\n",
    "\n",
    "For the quadratic term,\n",
    "$$\n",
    "\\frac{\\partial L_i}{e_i} = \\frac{\\partial e_i^2}{e_i} = 2 e_i \\quad |e_i| \\le \\gamma\n",
    "$$\n",
    "\n",
    "For the linear term,\n",
    "$$\n",
    "\\frac{\\partial L_i}{e_i} = \\frac{\\partial \\gamma (2 |e_i| - \\gamma)}{e_i}\n",
    "= 2 \\gamma \\text{sgn}(e_i) \\quad |e_i| > \\gamma\n",
    "$$\n",
    "\n",
    "The above two can be combined into one expression\n",
    "$$\n",
    "\\frac{\\partial L_i}{\\partial e_i} = 2 \\text{sgn}(e_i) \\, \\min(|e_i|, \\gamma)\n",
    "$$\n",
    "\n",
    "By the chain rule and substituting for $\\frac{\\partial e_i}{w_i}$,\n",
    "$$\n",
    "\\frac{\\partial L_i}{\\partial w_d} = 2 \\text{sgn}(e_i) \\, \\min(|e_i|, \\gamma) x^i\n",
    "$$\n",
    "\n",
    "Which can be defined recursively as follows.  This definition is suitable to\n",
    "compute the gradients sequentially along each of the weights, $w_d$.\n",
    "$$\n",
    "\\begin{align}\n",
    "\\frac{\\partial L_i}{\\partial w_0} & = 2 \\, \\text{sgn}(e_i) \\, \\min(|e_i|, \\gamma) \\\\\n",
    "\\frac{\\partial L_i}{\\partial w_d} & = x \\frac{\\partial L_i}{\\partial w_{d - 1}} \\quad d = 1, 2, ..., N\n",
    "\\end{align}\n",
    "$$\n",
    "\n"
   ]
  },
  {
   "cell_type": "markdown",
   "metadata": {},
   "source": [
    "# Appendix C -- Variation of $\\gamma$"
   ]
  },
  {
   "cell_type": "code",
   "execution_count": 28,
   "metadata": {},
   "outputs": [
    {
     "name": "stdout",
     "output_type": "stream",
     "text": [
      "[1.9935106591385687, 1.993510659138518, 1.993510659138473, 1.9935106591384324, 1.993510659138397, 1.993510659138365, 1.9935106591383362, 1.993510659138311, 1.9935106591382883, 1.9935106591382683]\n",
      "[3.0, 6.0]\n",
      "[3.68645222 4.58096621]\n"
     ]
    }
   ],
   "source": [
    "# different gamma\n",
    "np.random.seed(424242)\n",
    "gamma = 6.0\n",
    "update_func = functools.partial(update_weights_huber, gamma=gamma)\n",
    "loss_func = functools.partial(huber_loss, gamma=gamma)\n",
    "weights, loss_values = train(xtrain, ytrain + outlier_noise, nweights=2, update_func=update_func,\n",
    "                             loss_func=loss_func, niter=250 * 20)\n",
    "print(loss_values[-10:])\n",
    "print(wt_true)\n",
    "print(weights)"
   ]
  },
  {
   "cell_type": "code",
   "execution_count": null,
   "metadata": {},
   "outputs": [],
   "source": []
  }
 ],
 "metadata": {
  "kernelspec": {
   "display_name": "Python 3",
   "language": "python",
   "name": "python3"
  },
  "language_info": {
   "codemirror_mode": {
    "name": "ipython",
    "version": 3
   },
   "file_extension": ".py",
   "mimetype": "text/x-python",
   "name": "python",
   "nbconvert_exporter": "python",
   "pygments_lexer": "ipython3",
   "version": "3.7.4"
  }
 },
 "nbformat": 4,
 "nbformat_minor": 2
}
